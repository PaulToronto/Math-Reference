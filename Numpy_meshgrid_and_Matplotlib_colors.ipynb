{
  "nbformat": 4,
  "nbformat_minor": 0,
  "metadata": {
    "colab": {
      "provenance": [],
      "authorship_tag": "ABX9TyNF9vWIMvf0+8Ga3dVSdP2o",
      "include_colab_link": true
    },
    "kernelspec": {
      "name": "python3",
      "display_name": "Python 3"
    },
    "language_info": {
      "name": "python"
    }
  },
  "cells": [
    {
      "cell_type": "markdown",
      "metadata": {
        "id": "view-in-github",
        "colab_type": "text"
      },
      "source": [
        "<a href=\"https://colab.research.google.com/github/PaulToronto/Math-and-Data-Science-Reference/blob/main/Numpy_meshgrid_and_Matplotlib_colors.ipynb\" target=\"_parent\"><img src=\"https://colab.research.google.com/assets/colab-badge.svg\" alt=\"Open In Colab\"/></a>"
      ]
    },
    {
      "cell_type": "markdown",
      "source": [
        "# `numpy.meshgrid` and `matplotlib.colors`"
      ],
      "metadata": {
        "id": "VMuDcI7n9tbs"
      }
    },
    {
      "cell_type": "code",
      "execution_count": 35,
      "metadata": {
        "id": "Xc5pVotU9o9x"
      },
      "outputs": [],
      "source": [
        "import numpy as np\n",
        "import matplotlib.pyplot as plt\n",
        "import matplotlib.colors as colors\n",
        "from matplotlib import cm"
      ]
    },
    {
      "cell_type": "code",
      "source": [
        "x = [-4, -3, -2, -1, 0, 1, 2, 3, 4]\n",
        "y = [-5, -4, -3, -2, -1, 0, 1, 2, 3, 4, 5]\n",
        "len(x), len(y), len(x) * len(y)"
      ],
      "metadata": {
        "colab": {
          "base_uri": "https://localhost:8080/"
        },
        "id": "83LcQ71p_E-U",
        "outputId": "5bd0d1f4-2244-46f9-b8dc-9defafc333f8"
      },
      "execution_count": 2,
      "outputs": [
        {
          "output_type": "execute_result",
          "data": {
            "text/plain": [
              "(9, 11, 99)"
            ]
          },
          "metadata": {},
          "execution_count": 2
        }
      ]
    },
    {
      "cell_type": "code",
      "source": [
        "X, Y = np.meshgrid(x, y)"
      ],
      "metadata": {
        "id": "OWivKcrA_YUA"
      },
      "execution_count": 3,
      "outputs": []
    },
    {
      "cell_type": "code",
      "source": [
        "X.shape, X"
      ],
      "metadata": {
        "colab": {
          "base_uri": "https://localhost:8080/"
        },
        "id": "2YZDlRFD_qrL",
        "outputId": "e57e61a0-db23-4862-d5f4-2ba42a59f110"
      },
      "execution_count": 4,
      "outputs": [
        {
          "output_type": "execute_result",
          "data": {
            "text/plain": [
              "((11, 9),\n",
              " array([[-4, -3, -2, -1,  0,  1,  2,  3,  4],\n",
              "        [-4, -3, -2, -1,  0,  1,  2,  3,  4],\n",
              "        [-4, -3, -2, -1,  0,  1,  2,  3,  4],\n",
              "        [-4, -3, -2, -1,  0,  1,  2,  3,  4],\n",
              "        [-4, -3, -2, -1,  0,  1,  2,  3,  4],\n",
              "        [-4, -3, -2, -1,  0,  1,  2,  3,  4],\n",
              "        [-4, -3, -2, -1,  0,  1,  2,  3,  4],\n",
              "        [-4, -3, -2, -1,  0,  1,  2,  3,  4],\n",
              "        [-4, -3, -2, -1,  0,  1,  2,  3,  4],\n",
              "        [-4, -3, -2, -1,  0,  1,  2,  3,  4],\n",
              "        [-4, -3, -2, -1,  0,  1,  2,  3,  4]]))"
            ]
          },
          "metadata": {},
          "execution_count": 4
        }
      ]
    },
    {
      "cell_type": "code",
      "source": [
        "Y.shape, Y"
      ],
      "metadata": {
        "colab": {
          "base_uri": "https://localhost:8080/"
        },
        "id": "uKDLFafY_0Qf",
        "outputId": "71be76aa-aaa7-4d9c-e096-82beee895031"
      },
      "execution_count": 5,
      "outputs": [
        {
          "output_type": "execute_result",
          "data": {
            "text/plain": [
              "((11, 9),\n",
              " array([[-5, -5, -5, -5, -5, -5, -5, -5, -5],\n",
              "        [-4, -4, -4, -4, -4, -4, -4, -4, -4],\n",
              "        [-3, -3, -3, -3, -3, -3, -3, -3, -3],\n",
              "        [-2, -2, -2, -2, -2, -2, -2, -2, -2],\n",
              "        [-1, -1, -1, -1, -1, -1, -1, -1, -1],\n",
              "        [ 0,  0,  0,  0,  0,  0,  0,  0,  0],\n",
              "        [ 1,  1,  1,  1,  1,  1,  1,  1,  1],\n",
              "        [ 2,  2,  2,  2,  2,  2,  2,  2,  2],\n",
              "        [ 3,  3,  3,  3,  3,  3,  3,  3,  3],\n",
              "        [ 4,  4,  4,  4,  4,  4,  4,  4,  4],\n",
              "        [ 5,  5,  5,  5,  5,  5,  5,  5,  5]]))"
            ]
          },
          "metadata": {},
          "execution_count": 5
        }
      ]
    },
    {
      "cell_type": "code",
      "source": [
        "count = 0\n",
        "for i in range(X.shape[0]):\n",
        "    for j in range(X.shape[1]):\n",
        "        count += 1\n",
        "count"
      ],
      "metadata": {
        "colab": {
          "base_uri": "https://localhost:8080/"
        },
        "id": "TYHbHZlrAIU_",
        "outputId": "b12c46d8-2f55-470b-afd5-e053ea0a39f6"
      },
      "execution_count": 6,
      "outputs": [
        {
          "output_type": "execute_result",
          "data": {
            "text/plain": [
              "99"
            ]
          },
          "metadata": {},
          "execution_count": 6
        }
      ]
    },
    {
      "cell_type": "code",
      "source": [
        "X.shape[0] * X.shape[1], Y.shape[0] * Y.shape[1]"
      ],
      "metadata": {
        "colab": {
          "base_uri": "https://localhost:8080/"
        },
        "id": "br6I_HcjHRbs",
        "outputId": "94235888-0c6e-426f-880f-d715b2dd9cf2"
      },
      "execution_count": 7,
      "outputs": [
        {
          "output_type": "execute_result",
          "data": {
            "text/plain": [
              "(99, 99)"
            ]
          },
          "metadata": {},
          "execution_count": 7
        }
      ]
    },
    {
      "cell_type": "code",
      "source": [
        "colours = plt.cm.jet(np.linspace(0, 1, X.shape[0] * Y.shape[1]))\n",
        "colours.shape, type(colours), type(plt.cm.jet)"
      ],
      "metadata": {
        "colab": {
          "base_uri": "https://localhost:8080/"
        },
        "id": "MuCamVmsHdz5",
        "outputId": "169865d1-9666-4e1d-e28d-e5710301e0da"
      },
      "execution_count": 8,
      "outputs": [
        {
          "output_type": "execute_result",
          "data": {
            "text/plain": [
              "((99, 4), numpy.ndarray, matplotlib.colors.LinearSegmentedColormap)"
            ]
          },
          "metadata": {},
          "execution_count": 8
        }
      ]
    },
    {
      "cell_type": "code",
      "source": [
        "color_index = 0\n",
        "for i in range(X.shape[0]):\n",
        "    for j in range(X.shape[1]):\n",
        "        plt.scatter(X[i, j], Y[i, j], color=colours[color_index])\n",
        "        color_index += 1"
      ],
      "metadata": {
        "colab": {
          "base_uri": "https://localhost:8080/",
          "height": 430
        },
        "id": "fcZLCVCSDN5Y",
        "outputId": "24d9a138-39c9-4e3b-ab42-9883b9345df1"
      },
      "execution_count": 9,
      "outputs": [
        {
          "output_type": "display_data",
          "data": {
            "text/plain": [
              "<Figure size 640x480 with 1 Axes>"
            ],
            "image/png": "[encoded data removed]"
          },
          "metadata": {}
        }
      ]
    },
    {
      "cell_type": "code",
      "source": [
        "cmap1 = plt.get_cmap('Blues')\n",
        "type(cmap1)"
      ],
      "metadata": {
        "colab": {
          "base_uri": "https://localhost:8080/"
        },
        "id": "OEiyvcyGS2UW",
        "outputId": "d7b08ded-223c-47b5-c535-e9279374aaea"
      },
      "execution_count": 10,
      "outputs": [
        {
          "output_type": "execute_result",
          "data": {
            "text/plain": [
              "matplotlib.colors.LinearSegmentedColormap"
            ]
          },
          "metadata": {},
          "execution_count": 10
        }
      ]
    },
    {
      "cell_type": "code",
      "source": [
        "cmap1"
      ],
      "metadata": {
        "colab": {
          "base_uri": "https://localhost:8080/",
          "height": 122
        },
        "id": "u7NUpHtZWgL2",
        "outputId": "82fa391f-037b-4816-c677-d5c6f785e9bd"
      },
      "execution_count": 11,
      "outputs": [
        {
          "output_type": "execute_result",
          "data": {
            "text/plain": [
              "<matplotlib.colors.LinearSegmentedColormap at 0x78afe8092ce0>"
            ],
            "text/html": [
              "<div style=\"vertical-align: middle;\"><strong>Blues</strong> </div><div class=\"cmap\"><img alt=\"Blues colormap\" title=\"Blues\" style=\"border: 1px solid #555;\" src=\"data:image/png;base64,iVBORw0KGgoAAAANSUhEUgAAAgAAAABACAYAAABsv8+/AAAAFHRFWHRUaXRsZQBCbHVlcyBjb2xvcm1hcIbbCAEAAAAadEVYdERlc2NyaXB0aW9uAEJsdWVzIGNvbG9ybWFweISh5wAAADB0RVh0QXV0aG9yAE1hdHBsb3RsaWIgdjMuNy4xLCBodHRwczovL21hdHBsb3RsaWIub3JnKq/4TQAAADJ0RVh0U29mdHdhcmUATWF0cGxvdGxpYiB2My43LjEsIGh0dHBzOi8vbWF0cGxvdGxpYi5vcmcECWdqAAAB00lEQVR4nO3WwU7rMAAAQcP//y8HpIQDJQi3Vopa3uHtzCVynDhxCdK+vL3v+xhj7J+HcTmMy+E4P47x7fnjqgfnp8ct57/Xe2z+3v397/Pz77ON+XvYfze/OP81vn/+9ntuV+89z6/2d1l/Hh/X397fdhwX+5zWOV3/5Pz8HqfXLe9fvN/8+yzuv/p7zPNX+zj5Ts6et1pvsY9717v6bk72cz4+2df2rOf87rmPr/vzH281f+91z1rnr5439u3rhp/jbRqvrnv6+F8953P8OgCAHAEAAEECAACCBAAABAkAAAgSAAAQJAAAIEgAAECQAACAIAEAAEECAACCBAAABAkAAAgSAAAQJAAAIEgAAECQAACAIAEAAEECAACCBAAABAkAAAgSAAAQJAAAIEgAAECQAACAIAEAAEECAACCBAAABAkAAAgSAAAQJAAAIEgAAECQAACAIAEAAEECAACCBAAABAkAAAgSAAAQJAAAIEgAAECQAACAIAEAAEECAACCBAAABAkAAAgSAAAQJAAAIEgAAECQAACAIAEAAEECAACCBAAABAkAAAgSAAAQJAAAIEgAAECQAACAIAEAAEECAACCBAAABAkAAAgSAAAQJAAAIOgDfCcYQIPsTRMAAAAASUVORK5CYII=\"></div><div style=\"vertical-align: middle; max-width: 514px; display: flex; justify-content: space-between;\"><div style=\"float: left;\"><div title=\"#f7fbffff\" style=\"display: inline-block; width: 1em; height: 1em; margin: 0; vertical-align: middle; border: 1px solid #555; background-color: #f7fbffff;\"></div> under</div><div style=\"margin: 0 auto; display: inline-block;\">bad <div title=\"#00000000\" style=\"display: inline-block; width: 1em; height: 1em; margin: 0; vertical-align: middle; border: 1px solid #555; background-color: #00000000;\"></div></div><div style=\"float: right;\">over <div title=\"#08306bff\" style=\"display: inline-block; width: 1em; height: 1em; margin: 0; vertical-align: middle; border: 1px solid #555; background-color: #08306bff;\"></div></div>"
            ],
            "image/png": "[encoded data removed]"
          },
          "metadata": {},
          "execution_count": 11
        }
      ]
    },
    {
      "cell_type": "code",
      "source": [
        "cmap2 = plt.cm.Blues\n",
        "type(cmap2)"
      ],
      "metadata": {
        "colab": {
          "base_uri": "https://localhost:8080/"
        },
        "id": "ieQYY2PcWksY",
        "outputId": "1a66abf9-71fc-4f47-a088-85422b31b74e"
      },
      "execution_count": 12,
      "outputs": [
        {
          "output_type": "execute_result",
          "data": {
            "text/plain": [
              "matplotlib.colors.LinearSegmentedColormap"
            ]
          },
          "metadata": {},
          "execution_count": 12
        }
      ]
    },
    {
      "cell_type": "code",
      "source": [
        "cmap2"
      ],
      "metadata": {
        "colab": {
          "base_uri": "https://localhost:8080/",
          "height": 122
        },
        "id": "T4DpG0wsgY3v",
        "outputId": "02291ac0-d8b8-4c22-b48d-a896f15c4a07"
      },
      "execution_count": 13,
      "outputs": [
        {
          "output_type": "execute_result",
          "data": {
            "text/plain": [
              "<matplotlib.colors.LinearSegmentedColormap at 0x78aff80ab670>"
            ],
            "text/html": [
              "<div style=\"vertical-align: middle;\"><strong>Blues</strong> </div><div class=\"cmap\"><img alt=\"Blues colormap\" title=\"Blues\" style=\"border: 1px solid #555;\" src=\"data:image/png;base64,iVBORw0KGgoAAAANSUhEUgAAAgAAAABACAYAAABsv8+/AAAAFHRFWHRUaXRsZQBCbHVlcyBjb2xvcm1hcIbbCAEAAAAadEVYdERlc2NyaXB0aW9uAEJsdWVzIGNvbG9ybWFweISh5wAAADB0RVh0QXV0aG9yAE1hdHBsb3RsaWIgdjMuNy4xLCBodHRwczovL21hdHBsb3RsaWIub3JnKq/4TQAAADJ0RVh0U29mdHdhcmUATWF0cGxvdGxpYiB2My43LjEsIGh0dHBzOi8vbWF0cGxvdGxpYi5vcmcECWdqAAAB00lEQVR4nO3WwU7rMAAAQcP//y8HpIQDJQi3Vopa3uHtzCVynDhxCdK+vL3v+xhj7J+HcTmMy+E4P47x7fnjqgfnp8ct57/Xe2z+3v397/Pz77ON+XvYfze/OP81vn/+9ntuV+89z6/2d1l/Hh/X397fdhwX+5zWOV3/5Pz8HqfXLe9fvN/8+yzuv/p7zPNX+zj5Ts6et1pvsY9717v6bk72cz4+2df2rOf87rmPr/vzH281f+91z1rnr5439u3rhp/jbRqvrnv6+F8953P8OgCAHAEAAEECAACCBAAABAkAAAgSAAAQJAAAIEgAAECQAACAIAEAAEECAACCBAAABAkAAAgSAAAQJAAAIEgAAECQAACAIAEAAEECAACCBAAABAkAAAgSAAAQJAAAIEgAAECQAACAIAEAAEECAACCBAAABAkAAAgSAAAQJAAAIEgAAECQAACAIAEAAEECAACCBAAABAkAAAgSAAAQJAAAIEgAAECQAACAIAEAAEECAACCBAAABAkAAAgSAAAQJAAAIEgAAECQAACAIAEAAEECAACCBAAABAkAAAgSAAAQJAAAIEgAAECQAACAIAEAAEECAACCBAAABAkAAAgSAAAQJAAAIOgDfCcYQIPsTRMAAAAASUVORK5CYII=\"></div><div style=\"vertical-align: middle; max-width: 514px; display: flex; justify-content: space-between;\"><div style=\"float: left;\"><div title=\"#f7fbffff\" style=\"display: inline-block; width: 1em; height: 1em; margin: 0; vertical-align: middle; border: 1px solid #555; background-color: #f7fbffff;\"></div> under</div><div style=\"margin: 0 auto; display: inline-block;\">bad <div title=\"#00000000\" style=\"display: inline-block; width: 1em; height: 1em; margin: 0; vertical-align: middle; border: 1px solid #555; background-color: #00000000;\"></div></div><div style=\"float: right;\">over <div title=\"#08306bff\" style=\"display: inline-block; width: 1em; height: 1em; margin: 0; vertical-align: middle; border: 1px solid #555; background-color: #08306bff;\"></div></div>"
            ],
            "image/png": "[encoded data removed]"
          },
          "metadata": {},
          "execution_count": 13
        }
      ]
    },
    {
      "cell_type": "code",
      "source": [
        "cmap3 = plt.cm.jet\n",
        "type(cmap3)"
      ],
      "metadata": {
        "colab": {
          "base_uri": "https://localhost:8080/"
        },
        "id": "fcc26OGiW6_p",
        "outputId": "b59369cb-056d-45b7-84d0-04429f63e020"
      },
      "execution_count": 14,
      "outputs": [
        {
          "output_type": "execute_result",
          "data": {
            "text/plain": [
              "matplotlib.colors.LinearSegmentedColormap"
            ]
          },
          "metadata": {},
          "execution_count": 14
        }
      ]
    },
    {
      "cell_type": "code",
      "source": [
        "cmap3"
      ],
      "metadata": {
        "colab": {
          "base_uri": "https://localhost:8080/",
          "height": 122
        },
        "id": "6y-gf0PYgckl",
        "outputId": "4da2e0ca-b3d8-45a6-8c07-34d852c6e66e"
      },
      "execution_count": 15,
      "outputs": [
        {
          "output_type": "execute_result",
          "data": {
            "text/plain": [
              "<matplotlib.colors.LinearSegmentedColormap at 0x78afeb654070>"
            ],
            "text/html": [
              "<div style=\"vertical-align: middle;\"><strong>jet</strong> </div><div class=\"cmap\"><img alt=\"jet colormap\" title=\"jet\" style=\"border: 1px solid #555;\" src=\"data:image/png;base64,iVBORw0KGgoAAAANSUhEUgAAAgAAAABACAYAAABsv8+/AAAAEnRFWHRUaXRsZQBqZXQgY29sb3JtYXBCuQ5RAAAAGHRFWHREZXNjcmlwdGlvbgBqZXQgY29sb3JtYXBOkXwLAAAAMHRFWHRBdXRob3IATWF0cGxvdGxpYiB2My43LjEsIGh0dHBzOi8vbWF0cGxvdGxpYi5vcmcqr/hNAAAAMnRFWHRTb2Z0d2FyZQBNYXRwbG90bGliIHYzLjcuMSwgaHR0cHM6Ly9tYXRwbG90bGliLm9yZwQJZ2oAAAGcSURBVHic7dbLTgJBEEDR4uF3++GCuqDHREx04RPvOZtKTUNnEljc3cz908zMzN1lzHG+dv8r9+7mXUfztub62x5Pa55nZma/5uFlXs6Pb56veVhz1udm26/nZ8//6z23+b7b/uE957Wftvm45qzzy9ytfbZ5vto/ev7T3/vr9/3yezytuX72edj209W+nc/refri/bvu3Q8AkCMAACBIAABAkAAAgCABAABBAgAAggQAAAQJAAAIEgAAECQAACBIAABAkAAAgCABAABBAgAAggQAAAQJAAAIEgAAECQAACBIAABAkAAAgCABAABBAgAAggQAAAQJAAAIEgAAECQAACBIAABAkAAAgCABAABBAgAAggQAAAQJAAAIEgAAECQAACBIAABAkAAAgCABAABBAgAAggQAAAQJAAAIEgAAECQAACBIAABAkAAAgCABAABBAgAAggQAAAQJAAAIEgAAECQAACBIAABAkAAAgCABAABBAgAAggQAAAQJAAAIEgAAECQAACBIAABAkAAAgCABAABBAgAAggQAAAQ9AzXZs/6J5AA/AAAAAElFTkSuQmCC\"></div><div style=\"vertical-align: middle; max-width: 514px; display: flex; justify-content: space-between;\"><div style=\"float: left;\"><div title=\"#000080ff\" style=\"display: inline-block; width: 1em; height: 1em; margin: 0; vertical-align: middle; border: 1px solid #555; background-color: #000080ff;\"></div> under</div><div style=\"margin: 0 auto; display: inline-block;\">bad <div title=\"#00000000\" style=\"display: inline-block; width: 1em; height: 1em; margin: 0; vertical-align: middle; border: 1px solid #555; background-color: #00000000;\"></div></div><div style=\"float: right;\">over <div title=\"#800000ff\" style=\"display: inline-block; width: 1em; height: 1em; margin: 0; vertical-align: middle; border: 1px solid #555; background-color: #800000ff;\"></div></div>"
            ],
            "image/png": "[encoded data removed]"
          },
          "metadata": {},
          "execution_count": 15
        }
      ]
    },
    {
      "cell_type": "code",
      "source": [],
      "metadata": {
        "id": "PolEunJcW_qE"
      },
      "execution_count": 15,
      "outputs": []
    },
    {
      "cell_type": "markdown",
      "source": [
        "`colors.LinearSegmentedColormap.from_list(name,colors, N=256, gamma=1.0)`\n",
        "\n",
        "- `name`: name of colormap\n",
        "- `colors`: array-like of colors"
      ],
      "metadata": {
        "id": "e3aDnYXNaHSI"
      }
    },
    {
      "cell_type": "code",
      "source": [
        "'trunc({n},{a:.2f},{b:.2f})'.format(n='cmap_name', a=10, b=20)"
      ],
      "metadata": {
        "colab": {
          "base_uri": "https://localhost:8080/",
          "height": 35
        },
        "id": "QFGMf_LrXswb",
        "outputId": "0fb5bac4-d1f9-4e1a-a54e-8cdf7342be15"
      },
      "execution_count": 16,
      "outputs": [
        {
          "output_type": "execute_result",
          "data": {
            "text/plain": [
              "'trunc(cmap_name,10.00,20.00)'"
            ],
            "application/vnd.google.colaboratory.intrinsic+json": {
              "type": "string"
            }
          },
          "metadata": {},
          "execution_count": 16
        }
      ]
    },
    {
      "cell_type": "code",
      "source": [
        "cmap1(np.linspace(0, 1, 4))"
      ],
      "metadata": {
        "colab": {
          "base_uri": "https://localhost:8080/"
        },
        "id": "R-9jzdxVeW-x",
        "outputId": "c026ae46-2b96-4819-f184-2050d4b8d59d"
      },
      "execution_count": 17,
      "outputs": [
        {
          "output_type": "execute_result",
          "data": {
            "text/plain": [
              "array([[0.96862745, 0.98431373, 1.        , 1.        ],\n",
              "       [0.67189542, 0.81437908, 0.90065359, 1.        ],\n",
              "       [0.21568627, 0.52941176, 0.75424837, 1.        ],\n",
              "       [0.03137255, 0.18823529, 0.41960784, 1.        ]])"
            ]
          },
          "metadata": {},
          "execution_count": 17
        }
      ]
    },
    {
      "cell_type": "code",
      "source": [
        "colors.LinearSegmentedColormap.from_list('',\n",
        "                                         cmap1(np.linspace(0, 1, 4)))"
      ],
      "metadata": {
        "colab": {
          "base_uri": "https://localhost:8080/",
          "height": 105
        },
        "id": "FtMyxb_Ce8SL",
        "outputId": "4af25234-57ff-476d-c7ef-66c411ae82a8"
      },
      "execution_count": 18,
      "outputs": [
        {
          "output_type": "execute_result",
          "data": {
            "text/plain": [
              "<matplotlib.colors.LinearSegmentedColormap at 0x78afe81208b0>"
            ],
            "text/html": [
              "<div style=\"vertical-align: middle;\"><strong></strong> </div><div class=\"cmap\"><img alt=\" colormap\" title=\"\" style=\"border: 1px solid #555;\" src=\"data:image/png;base64,iVBORw0KGgoAAAANSUhEUgAAAgAAAABACAYAAABsv8+/AAAAD3RFWHRUaXRsZQAgY29sb3JtYXCKlOmYAAAAFXRFWHREZXNjcmlwdGlvbgAgY29sb3JtYXAQltASAAAAMHRFWHRBdXRob3IATWF0cGxvdGxpYiB2My43LjEsIGh0dHBzOi8vbWF0cGxvdGxpYi5vcmcqr/hNAAAAMnRFWHRTb2Z0d2FyZQBNYXRwbG90bGliIHYzLjcuMSwgaHR0cHM6Ly9tYXRwbG90bGliLm9yZwQJZ2oAAAG8SURBVHic7dbBToNAFEDR0f//Xxcm4KKtpiCZUhMTvedsEJjOK9jFfXl7X9cxxlgvh3E9jOvh6/rn+e3+9+vH5P6j+43J/Uf3G7v1z+03Dtef22/+fg7u/9fn2uw3JuuX9X797VPL9ve7Hl2//LFs5u72PTnvcP7u/zibt50zWffwc03mHzzX0bzt9zz7Hrffc/pcB7+X3b5H8x+ct5s/nnuP67LeXR/rz87z+5x8n3/2OX9pn9v56wAAcgQAAAQJAAAIEgAAECQAACBIAABAkAAAgCABAABBAgAAggQAAAQJAAAIEgAAECQAACBIAABAkAAAgCABAABBAgAAggQAAAQJAAAIEgAAECQAACBIAABAkAAAgCABAABBAgAAggQAAAQJAAAIEgAAECQAACBIAABAkAAAgCABAABBAgAAggQAAAQJAAAIEgAAECQAACBIAABAkAAAgCABAABBAgAAggQAAAQJAAAIEgAAECQAACBIAABAkAAAgCABAABBAgAAggQAAAQJAAAIEgAAECQAACBIAABAkAAAgCABAABBAgAAggQAAAQJAAAIEgAAECQAACBIAABAkAAAgKAPftAvQK/pn5IAAAAASUVORK5CYII=\"></div><div style=\"vertical-align: middle; max-width: 514px; display: flex; justify-content: space-between;\"><div style=\"float: left;\"><div title=\"#f7fbffff\" style=\"display: inline-block; width: 1em; height: 1em; margin: 0; vertical-align: middle; border: 1px solid #555; background-color: #f7fbffff;\"></div> under</div><div style=\"margin: 0 auto; display: inline-block;\">bad <div title=\"#00000000\" style=\"display: inline-block; width: 1em; height: 1em; margin: 0; vertical-align: middle; border: 1px solid #555; background-color: #00000000;\"></div></div><div style=\"float: right;\">over <div title=\"#08306bff\" style=\"display: inline-block; width: 1em; height: 1em; margin: 0; vertical-align: middle; border: 1px solid #555; background-color: #08306bff;\"></div></div>"
            ],
            "image/png": "[encoded data removed]"
          },
          "metadata": {},
          "execution_count": 18
        }
      ]
    },
    {
      "cell_type": "code",
      "source": [
        "cmap1(np.linspace(0, 0.5, 4))"
      ],
      "metadata": {
        "colab": {
          "base_uri": "https://localhost:8080/"
        },
        "id": "2Z4jyjooegua",
        "outputId": "a84d0a4e-6037-4fbe-cb22-d9ea5343a588"
      },
      "execution_count": 19,
      "outputs": [
        {
          "output_type": "execute_result",
          "data": {
            "text/plain": [
              "array([[0.96862745, 0.98431373, 1.        , 1.        ],\n",
              "       [0.84069204, 0.90163783, 0.95866205, 1.        ],\n",
              "       [0.67189542, 0.81437908, 0.90065359, 1.        ],\n",
              "       [0.41708574, 0.68063053, 0.83823145, 1.        ]])"
            ]
          },
          "metadata": {},
          "execution_count": 19
        }
      ]
    },
    {
      "cell_type": "code",
      "source": [
        "colors.LinearSegmentedColormap.from_list('',\n",
        "                                         cmap1(np.linspace(0, 0.5, 4)))"
      ],
      "metadata": {
        "colab": {
          "base_uri": "https://localhost:8080/",
          "height": 105
        },
        "id": "CkE2DYdrfLjj",
        "outputId": "4b867d02-1787-4cab-e6a3-801090940c30"
      },
      "execution_count": 20,
      "outputs": [
        {
          "output_type": "execute_result",
          "data": {
            "text/plain": [
              "<matplotlib.colors.LinearSegmentedColormap at 0x78afe8120fa0>"
            ],
            "text/html": [
              "<div style=\"vertical-align: middle;\"><strong></strong> </div><div class=\"cmap\"><img alt=\" colormap\" title=\"\" style=\"border: 1px solid #555;\" src=\"data:image/png;base64,iVBORw0KGgoAAAANSUhEUgAAAgAAAABACAYAAABsv8+/AAAAD3RFWHRUaXRsZQAgY29sb3JtYXCKlOmYAAAAFXRFWHREZXNjcmlwdGlvbgAgY29sb3JtYXAQltASAAAAMHRFWHRBdXRob3IATWF0cGxvdGxpYiB2My43LjEsIGh0dHBzOi8vbWF0cGxvdGxpYi5vcmcqr/hNAAAAMnRFWHRTb2Z0d2FyZQBNYXRwbG90bGliIHYzLjcuMSwgaHR0cHM6Ly9tYXRwbG90bGliLm9yZwQJZ2oAAAHDSURBVHic7daxUoNAFEBR9P//18JiLZwJA2QlMVI495xGE/Yly4bivn18jrEsyzK+/9xsX61v7N+/vb54fhw+8Jr5ybI/nz+ezzXz4/DPNfP75+eq+eP+xsn1/fzkOZnNP/xcTc5vet/j5PqLn//g7/n0ebx63pP9/td9r9fv7+c4t/3dn1233/86f3+/Z+f723XH7/n5ed6vm9/Hc+vWfYy76w7z++fr5DzP120XzM9ze19/d57b/Z6t2/+u7wsAkCMAACBIAABAkAAAgCABAABBAgAAggQAAAQJAAAIEgAAECQAACBIAABAkAAAgCABAABBAgAAggQAAAQJAAAIEgAAECQAACBIAABAkAAAgCABAABBAgAAggQAAAQJAAAIEgAAECQAACBIAABAkAAAgCABAABBAgAAggQAAAQJAAAIEgAAECQAACBIAABAkAAAgCABAABBAgAAggQAAAQJAAAIEgAAECQAACBIAABAkAAAgCABAABBAgAAggQAAAQJAAAIEgAAECQAACBIAABAkAAAgCABAABBAgAAggQAAAQJAAAIEgAAECQAACBIAABAkAAAgCABAABBAgAAggQAAAR9AReLCHqMXkOxAAAAAElFTkSuQmCC\"></div><div style=\"vertical-align: middle; max-width: 514px; display: flex; justify-content: space-between;\"><div style=\"float: left;\"><div title=\"#f7fbffff\" style=\"display: inline-block; width: 1em; height: 1em; margin: 0; vertical-align: middle; border: 1px solid #555; background-color: #f7fbffff;\"></div> under</div><div style=\"margin: 0 auto; display: inline-block;\">bad <div title=\"#00000000\" style=\"display: inline-block; width: 1em; height: 1em; margin: 0; vertical-align: middle; border: 1px solid #555; background-color: #00000000;\"></div></div><div style=\"float: right;\">over <div title=\"#6aaed6ff\" style=\"display: inline-block; width: 1em; height: 1em; margin: 0; vertical-align: middle; border: 1px solid #555; background-color: #6aaed6ff;\"></div></div>"
            ],
            "image/png": "[encoded data removed]"
          },
          "metadata": {},
          "execution_count": 20
        }
      ]
    },
    {
      "cell_type": "code",
      "source": [
        "def truncate_colormap(cmap, minval=0.0, maxval=1.0, n=100):\n",
        "    \"\"\" truncates color map \"\"\"\n",
        "    new_cmap = colors.LinearSegmentedColormap.from_list(\n",
        "        'trunc({n},{a:.2f},{b:.2f})'.format(n=cmap.name, a=minval, b=maxval),\n",
        "        cmap(np.linspace(minval, maxval, n)))\n",
        "    return new_cmap"
      ],
      "metadata": {
        "id": "D5ZbuENmfWQ-"
      },
      "execution_count": 21,
      "outputs": []
    },
    {
      "cell_type": "code",
      "source": [
        "truncate_colormap(cmap1, 0, 0.5)"
      ],
      "metadata": {
        "colab": {
          "base_uri": "https://localhost:8080/",
          "height": 122
        },
        "id": "Rxqg-Ii_fYFf",
        "outputId": "eb5959c9-de84-4f03-b62e-8942a3518159"
      },
      "execution_count": 22,
      "outputs": [
        {
          "output_type": "execute_result",
          "data": {
            "text/plain": [
              "<matplotlib.colors.LinearSegmentedColormap at 0x78afe80d3760>"
            ],
            "text/html": [
              "<div style=\"vertical-align: middle;\"><strong>trunc(Blues,0.00,0.50)</strong> </div><div class=\"cmap\"><img alt=\"trunc(Blues,0.00,0.50) colormap\" title=\"trunc(Blues,0.00,0.50)\" style=\"border: 1px solid #555;\" src=\"data:image/png;base64,iVBORw0KGgoAAAANSUhEUgAAAgAAAABACAYAAABsv8+/AAAAJXRFWHRUaXRsZQB0cnVuYyhCbHVlcywwLjAwLDAuNTApIGNvbG9ybWFwQXDimAAAACt0RVh0RGVzY3JpcHRpb24AdHJ1bmMoQmx1ZXMsMC4wMCwwLjUwKSBjb2xvcm1hcMECf6kAAAAwdEVYdEF1dGhvcgBNYXRwbG90bGliIHYzLjcuMSwgaHR0cHM6Ly9tYXRwbG90bGliLm9yZyqv+E0AAAAydEVYdFNvZnR3YXJlAE1hdHBsb3RsaWIgdjMuNy4xLCBodHRwczovL21hdHBsb3RsaWIub3JnBAlnagAAAexJREFUeJzt1sFum0AUQFHa///fLiqZLqK06gxP4Ci7e87GFuQxE4yt++PX7/M8juM4P14229Hz+vg6/3RunZ/O387/u9Cwv5u5Yf7x3Jvr3607nL69f9vx5c2X54frTHNP13933en8dz1/2/zd57bMv7vv715/mp+/N9d/cK6vj5/r8/L8uZ6fnofl3fS9GfezvNn2s+1ruc64r2f72fax7Wv5fRn2+/Q+T79Tj+/zsO7f+/Pw89vn7vZ3ffx1N7ds/On1p/1M93n9vOe5u+fi/+OvYT/7+tfX/3x9LQvdPcf7//Hx7ucBAOQIAAAIEgAAECQAACBIAABAkAAAgCABAABBAgAAggQAAAQJAAAIEgAAECQAACBIAABAkAAAgCABAABBAgAAggQAAAQJAAAIEgAAECQAACBIAABAkAAAgCABAABBAgAAggQAAAQJAAAIEgAAECQAACBIAABAkAAAgCABAABBAgAAggQAAAQJAAAIEgAAECQAACBIAABAkAAAgCABAABBAgAAggQAAAQJAAAIEgAAECQAACBIAABAkAAAgCABAABBAgAAggQAAAQJAAAIEgAAECQAACBIAABAkAAAgCABAABBAgAAggQAAAQJAAAIEgAAECQAACBIAABAkAAAgCABAABBfwCbygV6oAonXAAAAABJRU5ErkJggg==\"></div><div style=\"vertical-align: middle; max-width: 514px; display: flex; justify-content: space-between;\"><div style=\"float: left;\"><div title=\"#f7fbffff\" style=\"display: inline-block; width: 1em; height: 1em; margin: 0; vertical-align: middle; border: 1px solid #555; background-color: #f7fbffff;\"></div> under</div><div style=\"margin: 0 auto; display: inline-block;\">bad <div title=\"#00000000\" style=\"display: inline-block; width: 1em; height: 1em; margin: 0; vertical-align: middle; border: 1px solid #555; background-color: #00000000;\"></div></div><div style=\"float: right;\">over <div title=\"#6aaed6ff\" style=\"display: inline-block; width: 1em; height: 1em; margin: 0; vertical-align: middle; border: 1px solid #555; background-color: #6aaed6ff;\"></div></div>"
            ],
            "image/png": "[encoded data removed]"
          },
          "metadata": {},
          "execution_count": 22
        }
      ]
    },
    {
      "cell_type": "code",
      "source": [
        "truncate_colormap(cmap2, 0, 0.5)"
      ],
      "metadata": {
        "colab": {
          "base_uri": "https://localhost:8080/",
          "height": 122
        },
        "id": "k6-0tbTVfgCg",
        "outputId": "a338957a-7678-4b77-b9e1-869340be5f09"
      },
      "execution_count": 23,
      "outputs": [
        {
          "output_type": "execute_result",
          "data": {
            "text/plain": [
              "<matplotlib.colors.LinearSegmentedColormap at 0x78afe8091d20>"
            ],
            "text/html": [
              "<div style=\"vertical-align: middle;\"><strong>trunc(Blues,0.00,0.50)</strong> </div><div class=\"cmap\"><img alt=\"trunc(Blues,0.00,0.50) colormap\" title=\"trunc(Blues,0.00,0.50)\" style=\"border: 1px solid #555;\" src=\"data:image/png;base64,iVBORw0KGgoAAAANSUhEUgAAAgAAAABACAYAAABsv8+/AAAAJXRFWHRUaXRsZQB0cnVuYyhCbHVlcywwLjAwLDAuNTApIGNvbG9ybWFwQXDimAAAACt0RVh0RGVzY3JpcHRpb24AdHJ1bmMoQmx1ZXMsMC4wMCwwLjUwKSBjb2xvcm1hcMECf6kAAAAwdEVYdEF1dGhvcgBNYXRwbG90bGliIHYzLjcuMSwgaHR0cHM6Ly9tYXRwbG90bGliLm9yZyqv+E0AAAAydEVYdFNvZnR3YXJlAE1hdHBsb3RsaWIgdjMuNy4xLCBodHRwczovL21hdHBsb3RsaWIub3JnBAlnagAAAexJREFUeJzt1sFum0AUQFHa///fLiqZLqK06gxP4Ci7e87GFuQxE4yt++PX7/M8juM4P14229Hz+vg6/3RunZ/O387/u9Cwv5u5Yf7x3Jvr3607nL69f9vx5c2X54frTHNP13933en8dz1/2/zd57bMv7vv715/mp+/N9d/cK6vj5/r8/L8uZ6fnofl3fS9GfezvNn2s+1ruc64r2f72fax7Wv5fRn2+/Q+T79Tj+/zsO7f+/Pw89vn7vZ3ffx1N7ds/On1p/1M93n9vOe5u+fi/+OvYT/7+tfX/3x9LQvdPcf7//Hx7ucBAOQIAAAIEgAAECQAACBIAABAkAAAgCABAABBAgAAggQAAAQJAAAIEgAAECQAACBIAABAkAAAgCABAABBAgAAggQAAAQJAAAIEgAAECQAACBIAABAkAAAgCABAABBAgAAggQAAAQJAAAIEgAAECQAACBIAABAkAAAgCABAABBAgAAggQAAAQJAAAIEgAAECQAACBIAABAkAAAgCABAABBAgAAggQAAAQJAAAIEgAAECQAACBIAABAkAAAgCABAABBAgAAggQAAAQJAAAIEgAAECQAACBIAABAkAAAgCABAABBAgAAggQAAAQJAAAIEgAAECQAACBIAABAkAAAgCABAABBfwCbygV6oAonXAAAAABJRU5ErkJggg==\"></div><div style=\"vertical-align: middle; max-width: 514px; display: flex; justify-content: space-between;\"><div style=\"float: left;\"><div title=\"#f7fbffff\" style=\"display: inline-block; width: 1em; height: 1em; margin: 0; vertical-align: middle; border: 1px solid #555; background-color: #f7fbffff;\"></div> under</div><div style=\"margin: 0 auto; display: inline-block;\">bad <div title=\"#00000000\" style=\"display: inline-block; width: 1em; height: 1em; margin: 0; vertical-align: middle; border: 1px solid #555; background-color: #00000000;\"></div></div><div style=\"float: right;\">over <div title=\"#6aaed6ff\" style=\"display: inline-block; width: 1em; height: 1em; margin: 0; vertical-align: middle; border: 1px solid #555; background-color: #6aaed6ff;\"></div></div>"
            ],
            "image/png": "[encoded data removed]"
          },
          "metadata": {},
          "execution_count": 23
        }
      ]
    },
    {
      "cell_type": "code",
      "source": [
        "truncate_colormap(cmap3, 0, 0.5)"
      ],
      "metadata": {
        "colab": {
          "base_uri": "https://localhost:8080/",
          "height": 122
        },
        "id": "wbhDmr7FfkZV",
        "outputId": "d429094a-9030-4f11-945f-31c9988db70b"
      },
      "execution_count": 24,
      "outputs": [
        {
          "output_type": "execute_result",
          "data": {
            "text/plain": [
              "<matplotlib.colors.LinearSegmentedColormap at 0x78afe80d38b0>"
            ],
            "text/html": [
              "<div style=\"vertical-align: middle;\"><strong>trunc(jet,0.00,0.50)</strong> </div><div class=\"cmap\"><img alt=\"trunc(jet,0.00,0.50) colormap\" title=\"trunc(jet,0.00,0.50)\" style=\"border: 1px solid #555;\" src=\"data:image/png;base64,iVBORw0KGgoAAAANSUhEUgAAAgAAAABACAYAAABsv8+/AAAAI3RFWHRUaXRsZQB0cnVuYyhqZXQsMC4wMCwwLjUwKSBjb2xvcm1hcEEWoXsAAAApdEVYdERlc2NyaXB0aW9uAHRydW5jKGpldCwwLjAwLDAuNTApIGNvbG9ybWFwDFJ35QAAADB0RVh0QXV0aG9yAE1hdHBsb3RsaWIgdjMuNy4xLCBodHRwczovL21hdHBsb3RsaWIub3JnKq/4TQAAADJ0RVh0U29mdHdhcmUATWF0cGxvdGxpYiB2My43LjEsIGh0dHBzOi8vbWF0cGxvdGxpYi5vcmcECWdqAAAB5UlEQVR4nO3WQW7CMBRFUTuw764c6CAGlF/cpEiog3fOxEpiO6YU6fbWvm6ttdba0rZjb6/v1+enMp535tf7e+uPnqPev+9T93/3PHvnePc8R/et62fvrWb3J9Nmx6n363Hq872PdfRrOXqeva/rU+ep647+PWbXs/2c5zPnOfozvl/Pfoa7/6e3yXkuY7yO++vYH+O6rvdbuV6fn8a65bzus4x1S51f1j2el3Hpl/Hxxrwx9sf1mP9jvJZ1l8385z6v1z3nzd7/+7r/P8+xff9+nu3z988zez8AEEcAAEAgAQAAgQQAAAQSAAAQSAAAQCABAACBBAAABBIAABBIAABAIAEAAIEEAAAEEgAAEEgAAEAgAQAAgQQAAAQSAAAQSAAAQCABAACBBAAABBIAABBIAABAIAEAAIEEAAAEEgAAEEgAAEAgAQAAgQQAAAQSAAAQSAAAQCABAACBBAAABBIAABBIAABAIAEAAIEEAAAEEgAAEEgAAEAgAQAAgQQAAAQSAAAQSAAAQCABAACBBAAABBIAABBIAABAIAEAAIEEAAAEEgAAEEgAAEAgAQAAgQQAAAQSAAAQSAAAQCABAACBBAAABBIAABBIAABAIAEAAIEEAAAEEgAAEEgAAEAgAQAAgb4Ban5Uc1yktR4AAAAASUVORK5CYII=\"></div><div style=\"vertical-align: middle; max-width: 514px; display: flex; justify-content: space-between;\"><div style=\"float: left;\"><div title=\"#000080ff\" style=\"display: inline-block; width: 1em; height: 1em; margin: 0; vertical-align: middle; border: 1px solid #555; background-color: #000080ff;\"></div> under</div><div style=\"margin: 0 auto; display: inline-block;\">bad <div title=\"#00000000\" style=\"display: inline-block; width: 1em; height: 1em; margin: 0; vertical-align: middle; border: 1px solid #555; background-color: #00000000;\"></div></div><div style=\"float: right;\">over <div title=\"#7dff7aff\" style=\"display: inline-block; width: 1em; height: 1em; margin: 0; vertical-align: middle; border: 1px solid #555; background-color: #7dff7aff;\"></div></div>"
            ],
            "image/png": "[encoded data removed]"
          },
          "metadata": {},
          "execution_count": 24
        }
      ]
    },
    {
      "cell_type": "code",
      "source": [
        "X, Y"
      ],
      "metadata": {
        "colab": {
          "base_uri": "https://localhost:8080/"
        },
        "id": "75Bow7bxhV5w",
        "outputId": "1be10e26-971b-4abc-d405-2dab65fa91a2"
      },
      "execution_count": 27,
      "outputs": [
        {
          "output_type": "execute_result",
          "data": {
            "text/plain": [
              "(array([[-4, -3, -2, -1,  0,  1,  2,  3,  4],\n",
              "        [-4, -3, -2, -1,  0,  1,  2,  3,  4],\n",
              "        [-4, -3, -2, -1,  0,  1,  2,  3,  4],\n",
              "        [-4, -3, -2, -1,  0,  1,  2,  3,  4],\n",
              "        [-4, -3, -2, -1,  0,  1,  2,  3,  4],\n",
              "        [-4, -3, -2, -1,  0,  1,  2,  3,  4],\n",
              "        [-4, -3, -2, -1,  0,  1,  2,  3,  4],\n",
              "        [-4, -3, -2, -1,  0,  1,  2,  3,  4],\n",
              "        [-4, -3, -2, -1,  0,  1,  2,  3,  4],\n",
              "        [-4, -3, -2, -1,  0,  1,  2,  3,  4],\n",
              "        [-4, -3, -2, -1,  0,  1,  2,  3,  4]]),\n",
              " array([[-5, -5, -5, -5, -5, -5, -5, -5, -5],\n",
              "        [-4, -4, -4, -4, -4, -4, -4, -4, -4],\n",
              "        [-3, -3, -3, -3, -3, -3, -3, -3, -3],\n",
              "        [-2, -2, -2, -2, -2, -2, -2, -2, -2],\n",
              "        [-1, -1, -1, -1, -1, -1, -1, -1, -1],\n",
              "        [ 0,  0,  0,  0,  0,  0,  0,  0,  0],\n",
              "        [ 1,  1,  1,  1,  1,  1,  1,  1,  1],\n",
              "        [ 2,  2,  2,  2,  2,  2,  2,  2,  2],\n",
              "        [ 3,  3,  3,  3,  3,  3,  3,  3,  3],\n",
              "        [ 4,  4,  4,  4,  4,  4,  4,  4,  4],\n",
              "        [ 5,  5,  5,  5,  5,  5,  5,  5,  5]]))"
            ]
          },
          "metadata": {},
          "execution_count": 27
        }
      ]
    },
    {
      "cell_type": "code",
      "source": [
        "Z = X**2 + Y**2\n",
        "Z"
      ],
      "metadata": {
        "colab": {
          "base_uri": "https://localhost:8080/"
        },
        "id": "SeNpuf6NhlOO",
        "outputId": "c8af0068-fd5c-4cd8-daf1-96d284832370"
      },
      "execution_count": 28,
      "outputs": [
        {
          "output_type": "execute_result",
          "data": {
            "text/plain": [
              "array([[41, 34, 29, 26, 25, 26, 29, 34, 41],\n",
              "       [32, 25, 20, 17, 16, 17, 20, 25, 32],\n",
              "       [25, 18, 13, 10,  9, 10, 13, 18, 25],\n",
              "       [20, 13,  8,  5,  4,  5,  8, 13, 20],\n",
              "       [17, 10,  5,  2,  1,  2,  5, 10, 17],\n",
              "       [16,  9,  4,  1,  0,  1,  4,  9, 16],\n",
              "       [17, 10,  5,  2,  1,  2,  5, 10, 17],\n",
              "       [20, 13,  8,  5,  4,  5,  8, 13, 20],\n",
              "       [25, 18, 13, 10,  9, 10, 13, 18, 25],\n",
              "       [32, 25, 20, 17, 16, 17, 20, 25, 32],\n",
              "       [41, 34, 29, 26, 25, 26, 29, 34, 41]])"
            ]
          },
          "metadata": {},
          "execution_count": 28
        }
      ]
    },
    {
      "cell_type": "code",
      "source": [
        "plt.pcolormesh(X, Y, Z, cmap=cmap1);"
      ],
      "metadata": {
        "colab": {
          "base_uri": "https://localhost:8080/",
          "height": 430
        },
        "id": "dFpl_sOAhshD",
        "outputId": "b510bbbe-4214-4785-824c-8897f7c12c8b"
      },
      "execution_count": 33,
      "outputs": [
        {
          "output_type": "display_data",
          "data": {
            "text/plain": [
              "<Figure size 640x480 with 1 Axes>"
            ],
            "image/png": "[encoded data removed]"
          },
          "metadata": {}
        }
      ]
    },
    {
      "cell_type": "code",
      "source": [
        "plt.pcolormesh(X, Y, Z, cmap=truncate_colormap(cmap1, 0, 0.5));"
      ],
      "metadata": {
        "colab": {
          "base_uri": "https://localhost:8080/",
          "height": 430
        },
        "id": "tkh0IRL_h4K-",
        "outputId": "123711d4-a75b-4d14-b737-476f90a7e948"
      },
      "execution_count": 34,
      "outputs": [
        {
          "output_type": "display_data",
          "data": {
            "text/plain": [
              "<Figure size 640x480 with 1 Axes>"
            ],
            "image/png": "[encoded data removed]"
          },
          "metadata": {}
        }
      ]
    },
    {
      "cell_type": "code",
      "source": [
        "plt.pcolormesh(X, Y, Z, cmap=truncate_colormap(cmap1, 0, 0.5),\n",
        "               shading='nearest', alpha=0.9);"
      ],
      "metadata": {
        "colab": {
          "base_uri": "https://localhost:8080/",
          "height": 430
        },
        "id": "FoXGBhO9kCxk",
        "outputId": "653e25cd-0318-447c-9c01-d06f6334d67c"
      },
      "execution_count": 51,
      "outputs": [
        {
          "output_type": "display_data",
          "data": {
            "text/plain": [
              "<Figure size 640x480 with 1 Axes>"
            ],
            "image/png": "[encoded data removed]"
          },
          "metadata": {}
        }
      ]
    },
    {
      "cell_type": "code",
      "source": [
        "norm_function = cm.colors.Normalize(vmin=0, vmax=1)\n",
        "type(norm_function)"
      ],
      "metadata": {
        "colab": {
          "base_uri": "https://localhost:8080/"
        },
        "id": "9ynkK2cEiA0w",
        "outputId": "f37cddea-a8b0-4c9b-ff97-110c5a766ee0"
      },
      "execution_count": 39,
      "outputs": [
        {
          "output_type": "execute_result",
          "data": {
            "text/plain": [
              "matplotlib.colors.Normalize"
            ]
          },
          "metadata": {},
          "execution_count": 39
        }
      ]
    },
    {
      "cell_type": "code",
      "source": [
        "plt.pcolormesh(X, Y, Z,\n",
        "               cmap=truncate_colormap(cmap1, 0, 0.5),\n",
        "               norm=norm_function, shading='nearest', alpha=0.9);"
      ],
      "metadata": {
        "colab": {
          "base_uri": "https://localhost:8080/",
          "height": 430
        },
        "id": "dhaOEqsDjJpt",
        "outputId": "e7a2b28f-0311-4836-f81b-5932d3859278"
      },
      "execution_count": 49,
      "outputs": [
        {
          "output_type": "display_data",
          "data": {
            "text/plain": [
              "<Figure size 640x480 with 1 Axes>"
            ],
            "image/png": "[encoded data removed]"
          },
          "metadata": {}
        }
      ]
    }
  ]
}