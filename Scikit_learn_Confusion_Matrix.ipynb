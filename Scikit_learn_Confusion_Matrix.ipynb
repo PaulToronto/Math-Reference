{
  "nbformat": 4,
  "nbformat_minor": 0,
  "metadata": {
    "colab": {
      "provenance": [],
      "toc_visible": true,
      "authorship_tag": "ABX9TyNogoG3wF/Z2dsMgwIEd7Yd",
      "include_colab_link": true
    },
    "kernelspec": {
      "name": "python3",
      "display_name": "Python 3"
    },
    "language_info": {
      "name": "python"
    }
  },
  "cells": [
    {
      "cell_type": "markdown",
      "metadata": {
        "id": "view-in-github",
        "colab_type": "text"
      },
      "source": [
        "<a href=\"https://colab.research.google.com/github/PaulToronto/Math-and-Data-Science-Reference/blob/main/Scikit_learn_Confusion_Matrix.ipynb\" target=\"_parent\"><img src=\"https://colab.research.google.com/assets/colab-badge.svg\" alt=\"Open In Colab\"/></a>"
      ]
    },
    {
      "cell_type": "markdown",
      "source": [
        "# Scikit-learn Confusion Matrix"
      ],
      "metadata": {
        "id": "Qfin5AN6Z8rR"
      }
    },
    {
      "cell_type": "markdown",
      "source": [
        "[sklearn.metrics.confusion_matrix](https://scikit-learn.org/stable/modules/generated/sklearn.metrics.confusion_matrix.html)\n",
        "\n",
        "[sklearn.metrics.ConfusionMatrixDisplay](https://scikit-learn.org/stable/modules/generated/sklearn.metrics.ConfusionMatrixDisplay.html)"
      ],
      "metadata": {
        "id": "cfCgzdgNy4qE"
      }
    },
    {
      "cell_type": "code",
      "execution_count": 1,
      "metadata": {
        "id": "t2P-KxRLY-6-"
      },
      "outputs": [],
      "source": [
        "import pandas as pd\n",
        "import numpy as np\n",
        "\n",
        "from sklearn.ensemble import RandomForestClassifier\n",
        "from sklearn.model_selection import train_test_split\n",
        "from sklearn.metrics import accuracy_score, r2_score\n",
        "from sklearn.metrics import confusion_matrix, classification_report\n",
        "from sklearn.metrics import precision_score, recall_score, f1_score\n",
        "from sklearn.metrics import ConfusionMatrixDisplay"
      ]
    },
    {
      "cell_type": "code",
      "source": [
        "titanic = pd.read_csv('https://raw.githubusercontent.com/PaulToronto/datasets/master/titanic.csv')\n",
        "\n",
        "titanic['age'] = titanic['age'].fillna(titanic['age'].mean())\n",
        "features = ['fare', 'age', 'sex', 'pclass', 'sibsp', 'parch']\n",
        "\n",
        "X = pd.get_dummies(titanic[features], drop_first=True)\n",
        "y = titanic['survived']\n",
        "\n",
        "X_train, X_test, y_train, y_test = train_test_split(X, y, test_size=0.33, random_state=42)\n",
        "\n",
        "model = RandomForestClassifier(n_estimators=100, random_state=42)\n",
        "model.fit(X_train, y_train)\n",
        "y_pred = model.predict(X_test)"
      ],
      "metadata": {
        "id": "18QldMiygLVu"
      },
      "execution_count": 2,
      "outputs": []
    },
    {
      "cell_type": "code",
      "source": [
        "conf_m = confusion_matrix(y_test, y_pred)\n",
        "conf_m"
      ],
      "metadata": {
        "colab": {
          "base_uri": "https://localhost:8080/"
        },
        "id": "ZvuQpuc9kUA2",
        "outputId": "1c309a19-7ada-4d38-ded4-d54aaf22e841"
      },
      "execution_count": 3,
      "outputs": [
        {
          "output_type": "execute_result",
          "data": {
            "text/plain": [
              "array([[227,  31],\n",
              "       [ 51, 123]])"
            ]
          },
          "metadata": {},
          "execution_count": 3
        }
      ]
    },
    {
      "cell_type": "code",
      "source": [
        "conf_m_disp = ConfusionMatrixDisplay(confusion_matrix = conf_m, \n",
        "                                     display_labels = model.classes_)\n",
        "\n",
        "conf_m_disp.plot();"
      ],
      "metadata": {
        "colab": {
          "base_uri": "https://localhost:8080/",
          "height": 281
        },
        "id": "F-ckcfVlkb6z",
        "outputId": "c49c681f-e896-49a4-eee7-f3b2ecb61959"
      },
      "execution_count": 4,
      "outputs": [
        {
          "output_type": "display_data",
          "data": {
            "text/plain": [
              "<Figure size 432x288 with 2 Axes>"
            ],
            "image/png": "[encoded data removed]"
          },
          "metadata": {
            "needs_background": "light"
          }
        }
      ]
    },
    {
      "cell_type": "markdown",
      "source": [
        "### Accuracy, Precision, Recall, F1\n",
        "\n",
        "- **True Positive**, **True Negative**, **False Positive** and **False Negative** all depend on which label is considered positive"
      ],
      "metadata": {
        "id": "J12vwwSvkxCK"
      }
    },
    {
      "cell_type": "code",
      "source": [
        "# Assumption: 1 is positive\n",
        "TN1 = conf_m[0, 0] # actual label is negative, predicted negative\n",
        "FP1 = conf_m[0, 1] # actual label is negative, predivited positive\n",
        "FN1 = conf_m[1, 0] # actual label is positive, predicted negative\n",
        "TP1 = conf_m[1, 1] # actual label is positive, predicted positive\n",
        "\n",
        "# Assumption: 0 is positive\n",
        "TP0 = conf_m[0, 0] # actual label is positive, predicted positive\n",
        "FN0 = conf_m[0, 1] # actual label is positive, predicted negative\n",
        "FP0 = conf_m[1, 0] # actual label is negative, predicted positive\n",
        "TN0 = conf_m[1, 1] # actual label is negative, predicted negative\n",
        "\n",
        "Total = conf_m.sum()\n",
        "Total"
      ],
      "metadata": {
        "colab": {
          "base_uri": "https://localhost:8080/"
        },
        "id": "Xl-A4_MXnSTx",
        "outputId": "2126d7e7-7f86-4a32-a88c-51c5bbfe19df"
      },
      "execution_count": 5,
      "outputs": [
        {
          "output_type": "execute_result",
          "data": {
            "text/plain": [
              "432"
            ]
          },
          "metadata": {},
          "execution_count": 5
        }
      ]
    },
    {
      "cell_type": "markdown",
      "source": [
        "#### Accuracy\n",
        "\n",
        "$$\n",
        "Accuracy = \\frac{TP + TN}{Total}\n",
        "$$"
      ],
      "metadata": {
        "id": "a7CYfWuLmktG"
      }
    },
    {
      "cell_type": "code",
      "source": [
        "accuracy = accuracy_score(y_test, y_pred)\n",
        "accuracy"
      ],
      "metadata": {
        "colab": {
          "base_uri": "https://localhost:8080/"
        },
        "id": "T0pDWN05k4Xc",
        "outputId": "b9004674-9840-4578-d3c5-3c8341af1226"
      },
      "execution_count": 6,
      "outputs": [
        {
          "output_type": "execute_result",
          "data": {
            "text/plain": [
              "0.8101851851851852"
            ]
          },
          "metadata": {},
          "execution_count": 6
        }
      ]
    },
    {
      "cell_type": "code",
      "source": [
        "(TP1 + TN1) / Total"
      ],
      "metadata": {
        "colab": {
          "base_uri": "https://localhost:8080/"
        },
        "id": "tcMYratOsFIQ",
        "outputId": "1790c9c4-679e-46e6-abf3-45fc70b20247"
      },
      "execution_count": 7,
      "outputs": [
        {
          "output_type": "execute_result",
          "data": {
            "text/plain": [
              "0.8101851851851852"
            ]
          },
          "metadata": {},
          "execution_count": 7
        }
      ]
    },
    {
      "cell_type": "code",
      "source": [
        "(TP0 + TN0) / Total"
      ],
      "metadata": {
        "colab": {
          "base_uri": "https://localhost:8080/"
        },
        "id": "Ec2XuPEvscu7",
        "outputId": "8f0645c6-45ee-421b-aeee-ddec9e84a005"
      },
      "execution_count": 8,
      "outputs": [
        {
          "output_type": "execute_result",
          "data": {
            "text/plain": [
              "0.8101851851851852"
            ]
          },
          "metadata": {},
          "execution_count": 8
        }
      ]
    },
    {
      "cell_type": "markdown",
      "source": [
        "#### Precision\n",
        "\n",
        "$$\n",
        "Precision = \\frac{TP}{TP + FP}\n",
        "$$\n",
        "\n",
        "- denominator is all predicted true"
      ],
      "metadata": {
        "id": "7yghp95Dv_6h"
      }
    },
    {
      "cell_type": "code",
      "source": [
        "# pos_label=1 is the default\n",
        "precision_1 = precision_score(y_test, y_pred)\n",
        "precision_1"
      ],
      "metadata": {
        "colab": {
          "base_uri": "https://localhost:8080/"
        },
        "id": "TfVQT4PPwWQ5",
        "outputId": "f5d1ba9e-93b0-4a72-e6e2-c3e50d668e45"
      },
      "execution_count": 9,
      "outputs": [
        {
          "output_type": "execute_result",
          "data": {
            "text/plain": [
              "0.7987012987012987"
            ]
          },
          "metadata": {},
          "execution_count": 9
        }
      ]
    },
    {
      "cell_type": "code",
      "source": [
        "TP1 / (TP1 + FP1) "
      ],
      "metadata": {
        "colab": {
          "base_uri": "https://localhost:8080/"
        },
        "id": "fY-yOyS_wfgl",
        "outputId": "d78fbb03-9833-4a3d-a48a-47c6d402d34f"
      },
      "execution_count": 10,
      "outputs": [
        {
          "output_type": "execute_result",
          "data": {
            "text/plain": [
              "0.7987012987012987"
            ]
          },
          "metadata": {},
          "execution_count": 10
        }
      ]
    },
    {
      "cell_type": "code",
      "source": [
        "precision_0 = precision_score(y_test, y_pred, pos_label=0)\n",
        "precision_0"
      ],
      "metadata": {
        "colab": {
          "base_uri": "https://localhost:8080/"
        },
        "id": "PyOxsoCbxKXF",
        "outputId": "f8c2b705-13a1-4985-a9a1-0d1d0dd068a8"
      },
      "execution_count": 11,
      "outputs": [
        {
          "output_type": "execute_result",
          "data": {
            "text/plain": [
              "0.8165467625899281"
            ]
          },
          "metadata": {},
          "execution_count": 11
        }
      ]
    },
    {
      "cell_type": "code",
      "source": [
        "TP0 / (TP0 + FP0)"
      ],
      "metadata": {
        "colab": {
          "base_uri": "https://localhost:8080/"
        },
        "id": "RwSK-OWuxTKz",
        "outputId": "65addc0a-59db-4b7c-a500-c3bd84b57712"
      },
      "execution_count": 12,
      "outputs": [
        {
          "output_type": "execute_result",
          "data": {
            "text/plain": [
              "0.8165467625899281"
            ]
          },
          "metadata": {},
          "execution_count": 12
        }
      ]
    },
    {
      "cell_type": "markdown",
      "source": [
        "#### Recall\n",
        "\n",
        "$$\n",
        "Recall = \\frac{TP}{TP + FN}\n",
        "$$\n",
        "\n",
        "- denominator is all the actual true"
      ],
      "metadata": {
        "id": "CQJQdn4jyHGX"
      }
    },
    {
      "cell_type": "code",
      "source": [
        "# pos_label=1 is the default\n",
        "recall_1 = recall_score(y_test, y_pred)\n",
        "recall_1"
      ],
      "metadata": {
        "colab": {
          "base_uri": "https://localhost:8080/"
        },
        "id": "ZjiDrXTe2Bkx",
        "outputId": "a656d4f0-175e-491d-949f-acdf06a67e6c"
      },
      "execution_count": 13,
      "outputs": [
        {
          "output_type": "execute_result",
          "data": {
            "text/plain": [
              "0.7068965517241379"
            ]
          },
          "metadata": {},
          "execution_count": 13
        }
      ]
    },
    {
      "cell_type": "code",
      "source": [
        "TP1 / (TP1 + FN1)"
      ],
      "metadata": {
        "colab": {
          "base_uri": "https://localhost:8080/"
        },
        "id": "XnTp-aLf2Byx",
        "outputId": "6dc40fe1-f310-44da-98db-445e7706fc07"
      },
      "execution_count": 14,
      "outputs": [
        {
          "output_type": "execute_result",
          "data": {
            "text/plain": [
              "0.7068965517241379"
            ]
          },
          "metadata": {},
          "execution_count": 14
        }
      ]
    },
    {
      "cell_type": "code",
      "source": [
        "recall_0 = recall_score(y_test, y_pred, pos_label=0)\n",
        "recall_0"
      ],
      "metadata": {
        "colab": {
          "base_uri": "https://localhost:8080/"
        },
        "id": "JLXE38sl2B8Z",
        "outputId": "7ac19bf7-8206-453f-c1ad-cd50a381e282"
      },
      "execution_count": 15,
      "outputs": [
        {
          "output_type": "execute_result",
          "data": {
            "text/plain": [
              "0.8798449612403101"
            ]
          },
          "metadata": {},
          "execution_count": 15
        }
      ]
    },
    {
      "cell_type": "code",
      "source": [
        "TP0 / (TP0 + FN0)"
      ],
      "metadata": {
        "colab": {
          "base_uri": "https://localhost:8080/"
        },
        "id": "IlzyPFXF2CEh",
        "outputId": "eb4897fc-5d88-43d6-aa97-daf7bd78ed4c"
      },
      "execution_count": 16,
      "outputs": [
        {
          "output_type": "execute_result",
          "data": {
            "text/plain": [
              "0.8798449612403101"
            ]
          },
          "metadata": {},
          "execution_count": 16
        }
      ]
    },
    {
      "cell_type": "markdown",
      "source": [
        "#### F1\n",
        "\n",
        "The harmonic mean of precision and recall. Ranges from 0 to 1, with 1 being the best score.\n",
        "\n",
        "$$\n",
        "F1 = 2\\times\\frac{precision \\times recall}{precision + recall}\n",
        "$$"
      ],
      "metadata": {
        "id": "4O50bd5O38Nw"
      }
    },
    {
      "cell_type": "code",
      "source": [
        "# pos_label=1 is the default\n",
        "f1_score_1 = f1_score(y_test, y_pred)\n",
        "f1_score_1"
      ],
      "metadata": {
        "colab": {
          "base_uri": "https://localhost:8080/"
        },
        "id": "lUZQqz7WIZpu",
        "outputId": "81f7f46b-7a5f-4c42-9d21-67405fc9c9e2"
      },
      "execution_count": 17,
      "outputs": [
        {
          "output_type": "execute_result",
          "data": {
            "text/plain": [
              "0.75"
            ]
          },
          "metadata": {},
          "execution_count": 17
        }
      ]
    },
    {
      "cell_type": "code",
      "source": [
        "2 * (precision_1 * recall_1) / (precision_1 + recall_1)"
      ],
      "metadata": {
        "colab": {
          "base_uri": "https://localhost:8080/"
        },
        "id": "gRR4dvz0Ipjc",
        "outputId": "4ef745b8-ae4a-4d03-e186-7670b88b5376"
      },
      "execution_count": 18,
      "outputs": [
        {
          "output_type": "execute_result",
          "data": {
            "text/plain": [
              "0.75"
            ]
          },
          "metadata": {},
          "execution_count": 18
        }
      ]
    },
    {
      "cell_type": "code",
      "source": [
        "f1_score_0 = f1_score(y_test, y_pred, pos_label=0)\n",
        "f1_score_0"
      ],
      "metadata": {
        "colab": {
          "base_uri": "https://localhost:8080/"
        },
        "id": "TKr48rezI8Bd",
        "outputId": "bc9154e6-fbf1-47cb-d7d8-6e78acf854e5"
      },
      "execution_count": 19,
      "outputs": [
        {
          "output_type": "execute_result",
          "data": {
            "text/plain": [
              "0.8470149253731343"
            ]
          },
          "metadata": {},
          "execution_count": 19
        }
      ]
    },
    {
      "cell_type": "code",
      "source": [],
      "metadata": {
        "id": "EeX7wROOJsBK"
      },
      "execution_count": 19,
      "outputs": []
    },
    {
      "cell_type": "code",
      "source": [
        "2 * (precision_0 * recall_0) / (precision_0 + recall_0)"
      ],
      "metadata": {
        "colab": {
          "base_uri": "https://localhost:8080/"
        },
        "id": "IJVRmm7SJOem",
        "outputId": "bf219649-b44b-4c80-9d09-877515e031f0"
      },
      "execution_count": 20,
      "outputs": [
        {
          "output_type": "execute_result",
          "data": {
            "text/plain": [
              "0.8470149253731343"
            ]
          },
          "metadata": {},
          "execution_count": 20
        }
      ]
    },
    {
      "cell_type": "markdown",
      "source": [
        "### Classification Report"
      ],
      "metadata": {
        "id": "T1xIsK6Iik9p"
      }
    },
    {
      "cell_type": "code",
      "source": [
        "print(classification_report(y_test, y_pred))"
      ],
      "metadata": {
        "colab": {
          "base_uri": "https://localhost:8080/"
        },
        "id": "5AYDG34pJhDQ",
        "outputId": "d5f73a7f-0a19-4d84-ebf7-855172172d62"
      },
      "execution_count": 21,
      "outputs": [
        {
          "output_type": "stream",
          "name": "stdout",
          "text": [
            "              precision    recall  f1-score   support\n",
            "\n",
            "           0       0.82      0.88      0.85       258\n",
            "           1       0.80      0.71      0.75       174\n",
            "\n",
            "    accuracy                           0.81       432\n",
            "   macro avg       0.81      0.79      0.80       432\n",
            "weighted avg       0.81      0.81      0.81       432\n",
            "\n"
          ]
        }
      ]
    },
    {
      "cell_type": "code",
      "source": [
        "print(np.round(precision_0, 2), \n",
        "      np.round(recall_0, 2), \n",
        "      np.round(f1_score_0, 2), \n",
        "      conf_m[0].sum())"
      ],
      "metadata": {
        "colab": {
          "base_uri": "https://localhost:8080/"
        },
        "id": "JodzfnBzJkbr",
        "outputId": "6e5ae2c2-144c-439f-85bb-6fd7bcf28404"
      },
      "execution_count": 22,
      "outputs": [
        {
          "output_type": "stream",
          "name": "stdout",
          "text": [
            "0.82 0.88 0.85 258\n"
          ]
        }
      ]
    },
    {
      "cell_type": "code",
      "source": [
        "print(np.round(precision_1, 2), \n",
        "      np.round(recall_1, 2), \n",
        "      np.round(f1_score_1, 2), \n",
        "      conf_m[1].sum())"
      ],
      "metadata": {
        "colab": {
          "base_uri": "https://localhost:8080/"
        },
        "id": "GpXSzt_9KA1t",
        "outputId": "6e89143b-7a23-403d-baef-93b0ffd760e7"
      },
      "execution_count": 23,
      "outputs": [
        {
          "output_type": "stream",
          "name": "stdout",
          "text": [
            "0.8 0.71 0.75 174\n"
          ]
        }
      ]
    },
    {
      "cell_type": "code",
      "source": [
        "print(np.round(accuracy, 2), conf_m.sum())"
      ],
      "metadata": {
        "colab": {
          "base_uri": "https://localhost:8080/"
        },
        "id": "Hd8D9ZkyKkIl",
        "outputId": "695f250b-2ee6-4cf9-80d0-55dd46253603"
      },
      "execution_count": 24,
      "outputs": [
        {
          "output_type": "stream",
          "name": "stdout",
          "text": [
            "0.81 432\n"
          ]
        }
      ]
    }
  ]
}