{
  "nbformat": 4,
  "nbformat_minor": 0,
  "metadata": {
    "colab": {
      "provenance": [],
      "toc_visible": true,
      "authorship_tag": "ABX9TyPIK8Niqg9XZGdJRRZc0yen",
      "include_colab_link": true
    },
    "kernelspec": {
      "name": "python3",
      "display_name": "Python 3"
    },
    "language_info": {
      "name": "python"
    },
    "widgets": {
      "application/vnd.jupyter.widget-state+json": {
        "06345a0b7e034823a20833c0cd429af7": {
          "model_module": "jupyter-matplotlib",
          "model_name": "MPLCanvasModel",
          "model_module_version": "^0.11",
          "state": {
            "_cursor": "default",
            "_data_url": "data:image/png;base64,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",
            "_dom_classes": [],
            "_figure_label": "Figure 1",
            "_image_mode": "full",
            "_message": "",
            "_model_module": "jupyter-matplotlib",
            "_model_module_version": "^0.11",
            "_model_name": "MPLCanvasModel",
            "_rubberband_height": 0,
            "_rubberband_width": 0,
            "_rubberband_x": 0,
            "_rubberband_y": 0,
            "_size": [
              576,
              576
            ],
            "_view_count": null,
            "_view_module": "jupyter-matplotlib",
            "_view_module_version": "^0.11",
            "_view_name": "MPLCanvasView",
            "capture_scroll": false,
            "footer_visible": true,
            "header_visible": true,
            "layout": "IPY_MODEL_ea59c2122d5647529aa1eb74165f1fcd",
            "pan_zoom_throttle": 33,
            "resizable": true,
            "toolbar": "IPY_MODEL_afc0efa055014f12985bde3fbdadce03",
            "toolbar_position": "left",
            "toolbar_visible": "fade-in-fade-out"
          }
        },
        "ea59c2122d5647529aa1eb74165f1fcd": {
          "model_module": "@jupyter-widgets/base",
          "model_name": "LayoutModel",
          "model_module_version": "1.2.0",
          "state": {
            "_model_module": "@jupyter-widgets/base",
            "_model_module_version": "1.2.0",
            "_model_name": "LayoutModel",
            "_view_count": null,
            "_view_module": "@jupyter-widgets/base",
            "_view_module_version": "1.2.0",
            "_view_name": "LayoutView",
            "align_content": null,
            "align_items": null,
            "align_self": null,
            "border": null,
            "bottom": null,
            "display": null,
            "flex": null,
            "flex_flow": null,
            "grid_area": null,
            "grid_auto_columns": null,
            "grid_auto_flow": null,
            "grid_auto_rows": null,
            "grid_column": null,
            "grid_gap": null,
            "grid_row": null,
            "grid_template_areas": null,
            "grid_template_columns": null,
            "grid_template_rows": null,
            "height": null,
            "justify_content": null,
            "justify_items": null,
            "left": null,
            "margin": null,
            "max_height": null,
            "max_width": null,
            "min_height": null,
            "min_width": null,
            "object_fit": null,
            "object_position": null,
            "order": null,
            "overflow": null,
            "overflow_x": null,
            "overflow_y": null,
            "padding": null,
            "right": null,
            "top": null,
            "visibility": null,
            "width": null
          }
        },
        "afc0efa055014f12985bde3fbdadce03": {
          "model_module": "jupyter-matplotlib",
          "model_name": "ToolbarModel",
          "model_module_version": "^0.11",
          "state": {
            "_current_action": "",
            "_dom_classes": [],
            "_model_module": "jupyter-matplotlib",
            "_model_module_version": "^0.11",
            "_model_name": "ToolbarModel",
            "_view_count": null,
            "_view_module": "jupyter-matplotlib",
            "_view_module_version": "^0.11",
            "_view_name": "ToolbarView",
            "button_style": "",
            "collapsed": true,
            "layout": "IPY_MODEL_ec43bfb6749d41038c197d56bee80c24",
            "orientation": "vertical",
            "toolitems": [
              [
                "Home",
                "Reset original view",
                "home",
                "home"
              ],
              [
                "Back",
                "Back to previous view",
                "arrow-left",
                "back"
              ],
              [
                "Forward",
                "Forward to next view",
                "arrow-right",
                "forward"
              ],
              [
                "Pan",
                "Left button pans, Right button zooms\nx/y fixes axis, CTRL fixes aspect",
                "arrows",
                "pan"
              ],
              [
                "Zoom",
                "Zoom to rectangle\nx/y fixes axis",
                "square-o",
                "zoom"
              ],
              [
                "Download",
                "Download plot",
                "floppy-o",
                "save_figure"
              ]
            ]
          }
        },
        "ec43bfb6749d41038c197d56bee80c24": {
          "model_module": "@jupyter-widgets/base",
          "model_name": "LayoutModel",
          "model_module_version": "1.2.0",
          "state": {
            "_model_module": "@jupyter-widgets/base",
            "_model_module_version": "1.2.0",
            "_model_name": "LayoutModel",
            "_view_count": null,
            "_view_module": "@jupyter-widgets/base",
            "_view_module_version": "1.2.0",
            "_view_name": "LayoutView",
            "align_content": null,
            "align_items": null,
            "align_self": null,
            "border": null,
            "bottom": null,
            "display": null,
            "flex": null,
            "flex_flow": null,
            "grid_area": null,
            "grid_auto_columns": null,
            "grid_auto_flow": null,
            "grid_auto_rows": null,
            "grid_column": null,
            "grid_gap": null,
            "grid_row": null,
            "grid_template_areas": null,
            "grid_template_columns": null,
            "grid_template_rows": null,
            "height": null,
            "justify_content": null,
            "justify_items": null,
            "left": null,
            "margin": null,
            "max_height": null,
            "max_width": null,
            "min_height": null,
            "min_width": null,
            "object_fit": null,
            "object_position": null,
            "order": null,
            "overflow": null,
            "overflow_x": null,
            "overflow_y": null,
            "padding": null,
            "right": null,
            "top": null,
            "visibility": null,
            "width": null
          }
        },
        "eba33631cd3c4efb914e5ef8444a887b": {
          "model_module": "jupyter-matplotlib",
          "model_name": "MPLCanvasModel",
          "model_module_version": "^0.11",
          "state": {
            "_cursor": "default",
            "_data_url": "data:image/png;base64,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",
            "_dom_classes": [],
            "_figure_label": "Figure 2",
            "_image_mode": "full",
            "_message": "",
            "_model_module": "jupyter-matplotlib",
            "_model_module_version": "^0.11",
            "_model_name": "MPLCanvasModel",
            "_rubberband_height": 0,
            "_rubberband_width": 0,
            "_rubberband_x": 0,
            "_rubberband_y": 0,
            "_size": [
              576,
              576
            ],
            "_view_count": null,
            "_view_module": "jupyter-matplotlib",
            "_view_module_version": "^0.11",
            "_view_name": "MPLCanvasView",
            "capture_scroll": false,
            "footer_visible": true,
            "header_visible": true,
            "layout": "IPY_MODEL_79964efc43274b569ce8171d02430678",
            "pan_zoom_throttle": 33,
            "resizable": true,
            "toolbar": "IPY_MODEL_41138462cd264fc6945a37895e445ad1",
            "toolbar_position": "left",
            "toolbar_visible": "fade-in-fade-out"
          }
        },
        "79964efc43274b569ce8171d02430678": {
          "model_module": "@jupyter-widgets/base",
          "model_name": "LayoutModel",
          "model_module_version": "1.2.0",
          "state": {
            "_model_module": "@jupyter-widgets/base",
            "_model_module_version": "1.2.0",
            "_model_name": "LayoutModel",
            "_view_count": null,
            "_view_module": "@jupyter-widgets/base",
            "_view_module_version": "1.2.0",
            "_view_name": "LayoutView",
            "align_content": null,
            "align_items": null,
            "align_self": null,
            "border": null,
            "bottom": null,
            "display": null,
            "flex": null,
            "flex_flow": null,
            "grid_area": null,
            "grid_auto_columns": null,
            "grid_auto_flow": null,
            "grid_auto_rows": null,
            "grid_column": null,
            "grid_gap": null,
            "grid_row": null,
            "grid_template_areas": null,
            "grid_template_columns": null,
            "grid_template_rows": null,
            "height": null,
            "justify_content": null,
            "justify_items": null,
            "left": null,
            "margin": null,
            "max_height": null,
            "max_width": null,
            "min_height": null,
            "min_width": null,
            "object_fit": null,
            "object_position": null,
            "order": null,
            "overflow": null,
            "overflow_x": null,
            "overflow_y": null,
            "padding": null,
            "right": null,
            "top": null,
            "visibility": null,
            "width": null
          }
        },
        "41138462cd264fc6945a37895e445ad1": {
          "model_module": "jupyter-matplotlib",
          "model_name": "ToolbarModel",
          "model_module_version": "^0.11",
          "state": {
            "_current_action": "",
            "_dom_classes": [],
            "_model_module": "jupyter-matplotlib",
            "_model_module_version": "^0.11",
            "_model_name": "ToolbarModel",
            "_view_count": null,
            "_view_module": "jupyter-matplotlib",
            "_view_module_version": "^0.11",
            "_view_name": "ToolbarView",
            "button_style": "",
            "collapsed": true,
            "layout": "IPY_MODEL_f0409fc7e0ad493cae8bbe79272d5fca",
            "orientation": "vertical",
            "toolitems": [
              [
                "Home",
                "Reset original view",
                "home",
                "home"
              ],
              [
                "Back",
                "Back to previous view",
                "arrow-left",
                "back"
              ],
              [
                "Forward",
                "Forward to next view",
                "arrow-right",
                "forward"
              ],
              [
                "Pan",
                "Left button pans, Right button zooms\nx/y fixes axis, CTRL fixes aspect",
                "arrows",
                "pan"
              ],
              [
                "Zoom",
                "Zoom to rectangle\nx/y fixes axis",
                "square-o",
                "zoom"
              ],
              [
                "Download",
                "Download plot",
                "floppy-o",
                "save_figure"
              ]
            ]
          }
        },
        "f0409fc7e0ad493cae8bbe79272d5fca": {
          "model_module": "@jupyter-widgets/base",
          "model_name": "LayoutModel",
          "model_module_version": "1.2.0",
          "state": {
            "_model_module": "@jupyter-widgets/base",
            "_model_module_version": "1.2.0",
            "_model_name": "LayoutModel",
            "_view_count": null,
            "_view_module": "@jupyter-widgets/base",
            "_view_module_version": "1.2.0",
            "_view_name": "LayoutView",
            "align_content": null,
            "align_items": null,
            "align_self": null,
            "border": null,
            "bottom": null,
            "display": null,
            "flex": null,
            "flex_flow": null,
            "grid_area": null,
            "grid_auto_columns": null,
            "grid_auto_flow": null,
            "grid_auto_rows": null,
            "grid_column": null,
            "grid_gap": null,
            "grid_row": null,
            "grid_template_areas": null,
            "grid_template_columns": null,
            "grid_template_rows": null,
            "height": null,
            "justify_content": null,
            "justify_items": null,
            "left": null,
            "margin": null,
            "max_height": null,
            "max_width": null,
            "min_height": null,
            "min_width": null,
            "object_fit": null,
            "object_position": null,
            "order": null,
            "overflow": null,
            "overflow_x": null,
            "overflow_y": null,
            "padding": null,
            "right": null,
            "top": null,
            "visibility": null,
            "width": null
          }
        },
        "3f6d94f615af4a2abc9f034b700dbf93": {
          "model_module": "jupyter-matplotlib",
          "model_name": "MPLCanvasModel",
          "model_module_version": "^0.11",
          "state": {
            "_cursor": "default",
            "_data_url": "data:image/png;base64,iVBORw0KGgoAAAANSUhEUgAAAkAAAAJACAYAAABlmtk2AAAAOXRFWHRTb2Z0d2FyZQBNYXRwbG90bGliIHZlcnNpb24zLjYuMywgaHR0cHM6Ly9tYXRwbG90bGliLm9yZy/P9b71AAAACXBIWXMAAAsTAAALEwEAmpwYAAAdSklEQVR4nO3de7Rmd13f8c+3CUQQSy6ESzIJoSSKoVqpxyBLrVQgCatiWIg2qBgVTWnFqmg1LC3BgBZYcpEKahRsSle5lKqEUsQA4qpWkQmyqkEwMYBJCJCQcIkoGPj2j2ePHoYzw2Qu55Lv67XWrHn23r+9n9+zZ8h5z977HKq7AwAwyT/a6gkAAGw2AQQAjCOAAIBxBBAAMI4AAgDGEUAAwDgCCAAYRwABAOMIIABgHAEEAIwjgACAcQQQADCOAAIAxhFAAMA4AggAGEcAAQDjCCAAYBwBBACMI4AAgHEEEAAwjgACAMYRQADAOAIIABhHAAEA4wggAGAcAQQAjCOAAIBxBBAAMI4AAgDGEUAAwDgCCAAYRwABAOMIIABgHAEEAIwjgACAcQQQADCOAAIAxhFAAMA4AggAGEcAAQDjCCAAYBwBBACMI4AAgHEEEAAwjgACAMYRQADAOAIIABhHAAEA4wggAGAcAQQAjCOAAIBxBBAAMI4Agk1WVc+oqv+2vD61qm6rqqO+wD4Pr6rrN3t+B7HvN1TVe9Ytv6+qHrmPsfv9TFXVVXX68vqXq+o/HsycADYigOAIqKrvqKrdS9zcWFVvqKqv33tcd/9Vd9+juz9zGN/7e6rq9w/X8e6I7v4/3f1lR+C4T+7uZx7u4+50mxnGcGcjgOAwq6qnJnlhkp9Lcp8kpyZ5SZLztnBaAKwjgOAwqqp7JrkkyQ929290919399919+u6+z9sMP605VbP0cvy8VX161X1gaq6tap+ax/v8++r6l1VtWuv9V+e5JeTPGy5+vTRPfOqqv9aVTdV1fur6qeran//+/+iqnpVVX2iqt5RVf9s3Xv8/a2pZfm/VNWzltf7vCJRVXdbxt5aVe9K8jX7ef+99/2896iqH6uqDy9X2L533dhjqurnq+qvqupDy+2zu+3juKdX1e9V1ceq6uaqetW6bQ+qqiuq6paqek9Vffu6bSdU1euq6uNV9faqetb6q27LOfp3VXX1cg6fWVUPrKr/u+zz6qq667rx31xV76yqjy5jvnLdtvdV1Y9X1f9b5vmqqvqiqvriJG9IctLyZ31bVZ1UVWctVx8/vnz+5x/oeYZJBBAcXg9L8kVJfvMg9395krsneXCSeyd5wd4DqurpSb4nyTd29+fERnf/eZInJ/nD5dbascum/5zknkn+SZJvTPLdSb43+3Zekv+R5Pgk/z3Jb1XVXQ7yM+1xcZIHLr/OSXLBIRzrvll9npOTPCnJi6vquGXbs5N8aZKvSnL6Mubp+zjOM5P8TpLjkuzK6jxliYsrsvrs905yfpKXVNWZy34vTvLXyzwu2MdnOSfJVyf52iQ/keTSJN+V5JQk/zTJE5b3ekiSlyX5N0lOSPIrSS6vqmPWHevbk5yb5AFJvjLJ93T3Xyd5dJIPLH/W9+juDyT5hSS/0N3/OKtz/ep9fHYYTQDB4XVCkpu7+/Y7umNV3S+rL2hP7u5blytHv/e5Q+r5Sc5O8i+7+6YDPO5RWX0Bf1p3f6K735fkeUmeuJ/druzu13T33yV5flZR97V39DPt5duT/Gx339Ld1yV50SEc6++SXLKco/+d5LYkX1ZVleTCJD+6vM8nsroVef5+jnP/JCd19992956rON+c5H3d/evdfXt3/0mS/5nk25bz+a1JLu7uT3b3u5JctsGxn9vdH+/uq5L8WZLf6e5ru/tjWV25ecgy7sIkv9Ldb+vuz3T3ZUk+lc893y/q7g909y1JXpdV3O3v3JxeVffq7tu6+4/2MxbGEkBweH0kyb323NK6g05Jckt337qP7cdm9cXyPy1fRA/UvZLcJcn71617f1ZXRvbluj0vuvuzSa5PctIdeM+NnLT+uHvN5476yF6R+ckk90hyYlZX0K5cbid9NMlvL+s38hNJKskfV9VVVfV9y/r7J3nonmMsx/nOrK74nJjk6L0+y/rXe3xo3eu/2WD5Huve68f2eq9T8rnn+4MbfNZ9eVJWV8Devdye++b9jIWxBBAcXn+Y1b/eH3sQ+16X5PiqOnYf22/N6srEr1fV1+3nOL3X8s35hysde5ya5Ib9HOOUPS+WZ4V2JfnAsuqTWUXGHvfdz3HWu3H9cZc5HG43ZxUXD+7uY5df9+zuDYOhuz/Y3T/Q3SdldQvqJcvzTdcl+b11xzh2ucX0b5PclOT2rM7JHqd8/tEP2HVZXRlb/1537+5XHMC+e/9Zp7uv7u4nZHXr7jlJXrPc0gPWEUBwGC1XZp6e1TMpj62qu1fVXarq0VX13C+w741Z3Rp5SVUdt+z3L/Ya89asrkT8RlWdtY9DfSjJrj0P2S7fYv/qJD9bVV9SVfdP8tQk+/tZP19dVY9brmT9SFZRt+dWyjuTfEdVHVVV52b1TNGBeHWSpy2fbVeSHzrA/Q7YcrXqV5O8oKrunSRVdXJVnbPR+Kr6tvqHB8lvzSooPpvkfyX50qp64vLncJeq+pqq+vLlfP5Gkmcsf74PyuqZqoP1q0meXFUPrZUvrqp/VVVfcgD7fijJCbV6+H7PZ/quqjpxORcfXVZ/9hDmB3dKAggOs+5+XlaB8dNZXS24LslTkvzWAez+xKyu1rw7yYezio+9j39Fku9L8rqq+ucbHOMtSa5K8sGqunlZ90NZPbR7bZLfz+rh3pftZx6vTfKvs4qCJyZ53PI8UJL8cJLHZPXF9TsP8HMlyc9kddvrvVk9ePzyA9zvjvrJJNck+aOq+niSNyXZ188m+pokb6uq25JcnuSHl+d0PpHVs1bnZ3Xl64NZXU3Z82DyU7J6CPuDy+d4RVaReId19+4kP5DkF7M639dk9ZD7gez77uW9r11un52U1cPSVy2f6ReSnN/df3Mwc4M7s+r+vCuoANwBVfWcJPft7kP5zjZgE7kCBHAHLT8j6CuXW1ZnZfXg8cH+6ANgCxzMd6oATPclWd16Oimr53Cel9VtQ2CHcAsMABjHLTAAYBwBBACM4xmgL+Be97pXn3baaVs9DQDYFFdeeeXN3b2vn55+pyGAvoDTTjstu3fv3uppAMCmqKpD+b+p2THcAgMAxhFAAMA4AggAGEcAAQDjCCAAYBwBBACMI4AAgHEEEAAwjgACAMYRQADAOAIIABhHAAEA4wggAGAcAQQAjCOAAIBxBBAAMI4AAgDGEUAAwDgCCAAYRwABAOMIIABgHAEEAIwjgACAcQQQADCOAAIAxhFAAMA4AggAGEcAAQDjCCAAYBwBBACMI4AAgHEEEAAwjgACAMYRQADAOAIIABhHAAEA4wggAGAcAQQAjCOAAIBxBBAAMI4AAgDGEUAAwDgCCAAYRwABAOMIIABgHAEEAIwjgACAcQQQADCOAAIAxhFAAMA4AggAGEcAAQDjCCAAYJwdGUBVdW5VvaeqrqmqizbYfkxVvWrZ/raqOm2v7adW1W1V9eObNmkAYNvYcQFUVUcleXGSRyc5M8kTqurMvYY9Kcmt3X16khckec5e25+f5A1Heq4AwPa04wIoyVlJrunua7v700lemeS8vcacl+Sy5fVrkjyiqipJquqxSd6b5KrNmS4AsN3sxAA6Ocl165avX9ZtOKa7b0/ysSQnVNU9kvxkkp/ZhHkCANvUTgygQ/GMJC/o7tv2N6iqLqyq3VW1+6abbtqcmQEAm+borZ7AQbghySnrlnct6zYac31VHZ3knkk+kuShSR5fVc9NcmySz1bV33b3L67fubsvTXJpkqytrfWR+BAAwNbZiQH09iRnVNUDsgqd85N8x15jLk9yQZI/TPL4JG/p7k7yDXsGVNUzkty2d/wAAHd+Oy6Auvv2qnpKkjcmOSrJy7r7qqq6JMnu7r48yUuTvLyqrklyS1aRBACQJKnVhRH2ZW1trXfv3r3V0wCATVFVV3b32lbP40ib9hA0AIAAAgDmEUAAwDgCCAAYRwABAOMIIABgHAEEAIwjgACAcQQQADCOAAIAxhFAAMA4AggAGEcAAQDjCCAAYBwBBACMI4AAgHEEEAAwjgACAMYRQADAOAIIABhHAAEA4wggAGAcAQQAjCOAAIBxBBAAMI4AAgDGEUAAwDgCCAAYRwABAOMIIABgHAEEAIwjgACAcQQQADCOAAIAxhFAAMA4AggAGEcAAQDjCCAAYBwBBACMI4AAgHEEEAAwjgACAMYRQADAOAIIABhHAAEA4wggAGAcAQQAjCOAAIBxBBAAMI4AAgDGEUAAwDgCCAAYRwABAOMIIABgHAEEAIwjgACAcQQQADCOAAIAxhFAAMA4AggAGEcAAQDjCCAAYBwBBACMI4AAgHEEEAAwjgACAMYRQADAOAIIABhHAAEA4wggAGCcHRlAVXVuVb2nqq6pqos22H5MVb1q2f62qjptWf+oqrqyqv50+f2bNn3yAMCW23EBVFVHJXlxkkcnOTPJE6rqzL2GPSnJrd19epIXJHnOsv7mJI/p7q9IckGSl2/OrAGA7WTHBVCSs5Jc093Xdvenk7wyyXl7jTkvyWXL69ckeURVVXf/SXd/YFl/VZK7VdUxmzJrAGDb2IkBdHKS69YtX7+s23BMd9+e5GNJTthrzLcmeUd3f+oIzRMA2KaO3uoJbIWqenBWt8XO3sf2C5NcmCSnnnrqJs4MANgMO/EK0A1JTlm3vGtZt+GYqjo6yT2TfGRZ3pXkN5N8d3f/5UZv0N2Xdvdad6+deOKJh3n6AMBW24kB9PYkZ1TVA6rqrknOT3L5XmMuz+oh5yR5fJK3dHdX1bFJXp/kou7+g82aMACwvey4AFqe6XlKkjcm+fMkr+7uq6rqkqr6lmXYS5OcUFXXJHlqkj3fKv+UJKcneXpVvXP5de9N/ggAwBar7t7qOWxra2trvXv37q2eBgBsiqq6srvXtnoeR9qOuwIEAHCoBBAAMI4AAgDGEUAAwDgCCAAYRwABAOMIIABgHAEEAIwjgACAcQQQADCOAAIAxhFAAMA4AggAGEcAAQDjCCAAYBwBBACMI4AAgHEEEAAwjgACAMYRQADAOAIIABhHAAEA4wggAGAcAQQAjCOAAIBxBBAAMI4AAgDGEUAAwDgCCAAYRwABAOMIIABgHAEEAIwjgACAcQQQADCOAAIAxhFAAMA4AggAGEcAAQDjCCAAYBwBBACMI4AAgHEEEAAwjgACAMYRQADAOAIIABhHAAEA4wggAGAcAQQAjCOAAIBxBBAAMI4AAgDGEUAAwDgCCAAYRwABAOMIIABgHAEEAIwjgACAcQQQADCOAAIAxhFAAMA4AggAGEcAAQDjCCAAYBwBBACMI4AAgHEEEAAwjgACAMYRQADAOAIIABhHAAEA4wggAGCcHRlAVXVuVb2nqq6pqos22H5MVb1q2f62qjpt3banLevfU1XnbOrEAYBtYccFUFUdleTFSR6d5MwkT6iqM/ca9qQkt3b36UlekOQ5y75nJjk/yYOTnJvkJcvxAIBBdlwAJTkryTXdfW13fzrJK5Oct9eY85Jctrx+TZJHVFUt61/Z3Z/q7vcmuWY5HgAwyE4MoJOTXLdu+fpl3YZjuvv2JB9LcsIB7gsA3MntxAA64qrqwqraXVW7b7rppq2eDgBwmO3EALohySnrlnct6zYcU1VHJ7lnko8c4L7p7ku7e62710488cTDOHUAYDvYiQH09iRnVNUDququWT3UfPleYy5PcsHy+vFJ3tLdvaw/f/kusQckOSPJH2/SvAGAbeLorZ7AHdXdt1fVU5K8MclRSV7W3VdV1SVJdnf35UlemuTlVXVNkluyiqQs416d5F1Jbk/yg939mS35IADAlqnVhRH2ZW1trXfv3r3V0wCATVFVV3b32lbP40jbibfAAAAOiQACAMYRQADAOAIIABhHAAEA4wggAGAcAQQAjCOAAIBxBBAAMI4AAgDGEUAAwDgCCAAYRwABAOMIIABgHAEEAIwjgACAcQQQADCOAAIAxhFAAMA4AggAGEcAAQDjCCAAYBwBBACMI4AAgHEEEAAwjgACAMYRQADAOAIIABhHAAEA4wggAGAcAQQAjCOAAIBxBBAAMI4AAgDGEUAAwDgCCAAYRwABAOMIIABgHAEEAIwjgACAcQQQADCOAAIAxhFAAMA4AggAGEcAAQDjCCAAYBwBBACMI4AAgHEEEAAwjgACAMYRQADAOAIIABhHAAEA4wggAGAcAQQAjCOAAIBxBBAAMI4AAgDGEUAAwDgCCAAYRwABAOMIIABgHAEEAIwjgACAcQQQADCOAAIAxhFAAMA4AggAGEcAAQDjCCAAYJwdFUBVdXxVXVFVVy+/H7ePcRcsY66uqguWdXevqtdX1bur6qqqevbmzh4A2C52VAAluSjJm7v7jCRvXpY/R1Udn+TiJA9NclaSi9eF0s9394OSPCTJ11XVozdn2gDAdrLTAui8JJctry9L8tgNxpyT5IruvqW7b01yRZJzu/uT3f27SdLdn07yjiS7jvyUAYDtZqcF0H26+8bl9QeT3GeDMScnuW7d8vXLur9XVccmeUxWV5EAgGGO3uoJ7K2q3pTkvhts+qn1C93dVdUHcfyjk7wiyYu6+9p9jLkwyYVJcuqpp97RtwAAtrltF0Dd/ch9bauqD1XV/br7xqq6X5IPbzDshiQPX7e8K8lb1y1fmuTq7n7hfuZw6TIua2trdziyAIDtbafdArs8yQXL6wuSvHaDMW9McnZVHbc8/Hz2si5V9awk90zyI0d+qgDAdrXTAujZSR5VVVcneeSynKpaq6pfS5LuviXJM5O8ffl1SXffUlW7srqNdmaSd1TVO6vq+7fiQwAAW6u63eHZn7W1td69e/dWTwMANkVVXdnda1s9jyNtp10BAgA4ZAIIABhHAAEA4wggAGAcAQQAjCOAAIBxBBAAMI4AAgDGEUAAwDgCCAAYRwABAOMIIABgHAEEAIwjgACAcQQQADCOAAIAxhFAAMA4AggAGEcAAQDjCCAAYBwBBACMI4AAgHEEEAAwjgACAMYRQADAOAIIABhHAAEA4wggAGAcAQQAjCOAAIBxBBAAMI4AAgDGEUAAwDgCCAAYRwABAOMIIABgHAEEAIwjgACAcQQQADCOAAIAxhFAAMA4AggAGEcAAQDjCCAAYBwBBACMI4AAgHEEEAAwjgACAMYRQADAOAIIABhHAAEA4wggAGAcAQQAjCOAAIBxBBAAMI4AAgDGEUAAwDgCCAAYRwABAOMIIABgHAEEAIwjgACAcQQQADCOAAIAxhFAAMA4AggAGEcAAQDjCCAAYBwBBACMI4AAgHF2VABV1fFVdUVVXb38ftw+xl2wjLm6qi7YYPvlVfVnR37GAMB2tKMCKMlFSd7c3WckefOy/Dmq6vgkFyd5aJKzkly8PpSq6nFJbtuc6QIA29FOC6Dzkly2vL4syWM3GHNOkiu6+5buvjXJFUnOTZKqukeSpyZ51pGfKgCwXe20ALpPd9+4vP5gkvtsMObkJNetW75+WZckz0zyvCSfPGIzBAC2vaO3egJ7q6o3JbnvBpt+av1Cd3dV9R047lcleWB3/2hVnfYFxl6Y5MIkOfXUUw/0LQCAHWLbBVB3P3Jf26rqQ1V1v+6+sarul+TDGwy7IcnD1y3vSvLWJA9LslZV78vqc9+7qt7a3Q/fa/9096VJLk2StbW1A44sAGBn2Gm3wC5Psue7ui5I8toNxrwxydlVddzy8PPZSd7Y3b/U3Sd192lJvj7JX2wUPwDAnd9OC6BnJ3lUVV2d5JHLcqpqrap+LUm6+5asnvV5+/LrkmUdAECSpLrd4dmftbW13r1791ZPAwA2RVVd2d1rWz2PI22nXQECADhkAggAGEcAAQDjCCAAYBwBBACMI4AAgHEEEAAwjgACAMYRQADAOAIIABhHAAEA4wggAGAcAQQAjCOAAIBxBBAAMI4AAgDGEUAAwDgCCAAYRwABAOMIIABgHAEEAIwjgACAcQQQADCOAAIAxhFAAMA4AggAGEcAAQDjCCAAYBwBBACMI4AAgHEEEAAwjgACAMYRQADAOAIIABhHAAEA4wggAGAcAQQAjCOAAIBxBBAAMI4AAgDGEUAAwDgCCAAYRwABAOMIIABgHAEEAIwjgACAcQQQADCOAAIAxhFAAMA4AggAGEcAAQDjCCAAYBwBBACMI4AAgHGqu7d6DttaVd2U5P1bPY9Ndq8kN2/1JHY45/DQOYeHzjk8PKadx/t394lbPYkjTQDxeapqd3evbfU8djLn8NA5h4fOOTw8nMc7J7fAAIBxBBAAMI4AYiOXbvUE7gScw0PnHB465/DwcB7vhDwDBACM4woQADCOABqqqo6vqiuq6url9+P2Me6CZczVVXXBBtsvr6o/O/Iz3n4O5RxW1d2r6vVV9e6quqqqnr25s99aVXVuVb2nqq6pqos22H5MVb1q2f62qjpt3banLevfU1XnbOrEt5GDPYdV9aiqurKq/nT5/Zs2ffLbxKH8PVy2n1pVt1XVj2/apDlsBNBcFyV5c3efkeTNy/LnqKrjk1yc5KFJzkpy8fov8lX1uCS3bc50t6VDPYc/390PSvKQJF9XVY/enGlvrao6KsmLkzw6yZlJnlBVZ+417ElJbu3u05O8IMlzln3PTHJ+kgcnOTfJS5bjjXIo5zCrn2fzmO7+iiQXJHn55sx6eznEc7jH85O84UjPlSNDAM11XpLLlteXJXnsBmPOSXJFd9/S3bcmuSKrLzqpqnskeWqSZx35qW5bB30Ou/uT3f27SdLdn07yjiS7jvyUt4WzklzT3dcun/2VWZ3L9daf29ckeURV1bL+ld39qe5+b5JrluNNc9DnsLv/pLs/sKy/KsndquqYTZn19nIofw9TVY9N8t6sziE7kACa6z7dfePy+oNJ7rPBmJOTXLdu+fplXZI8M8nzknzyiM1w+zvUc5gkqapjkzwmq6tIE3zBc7J+THffnuRjSU44wH0nOJRzuN63JnlHd3/qCM1zOzvoc7j8A/Ank/zMJsyTI+TorZ4AR05VvSnJfTfY9FPrF7q7q+qAvx2wqr4qyQO7+0f3vid+Z3OkzuG64x+d5BVJXtTd1x7cLOGOq6oHZ3VL5+ytnssO9IwkL+ju25YLQuxAAuhOrLsfua9tVfWhqrpfd99YVfdL8uENht2Q5OHrlncleWuShyVZq6r3ZfV36N5V9dbufnjuZI7gOdzj0iRXd/cLD322O8YNSU5Zt7xrWbfRmOuXSLxnko8c4L4THMo5TFXtSvKbSb67u//yyE93WzqUc/jQJI+vqucmOTbJZ6vqb7v7F4/4rDls3AKb6/KsHoDM8vtrNxjzxiRnV9Vxy4O7Zyd5Y3f/Unef1N2nJfn6JH9xZ4yfA3DQ5zBJqupZWf0H9UeO/FS3lbcnOaOqHlBVd83qoebL9xqz/tw+PslbevVDyy5Pcv7y3TkPSHJGkj/epHlvJwd9Dpdbrq9PclF3/8FmTXgbOuhz2N3f0N2nLf8NfGGSnxM/O48AmuvZSR5VVVcneeSynKpaq6pfS5LuviWrZ33evvy6ZFnHykGfw+Vf4D+V1XefvKOq3llV378VH2KzLc9SPCWrEPzzJK/u7quq6pKq+pZl2Euzetbimqwetr9o2feqJK9O8q4kv53kB7v7M5v9GbbaoZzDZb/Tkzx9+Xv3zqq69yZ/hC13iOeQOwE/CRoAGMcVIABgHAEEAIwjgACAcQQQADCOAAIAxhFAAMA4AggAGEcAAQDjCCAAYBwBBACMI4AAgHEEEAAwjgACAMYRQADAOAIIABhHAAEA4wggAGAcAQQAjCOAAIBxBBAAMI4AAgDGEUAAwDgCCAAYRwABAOMIIABgHAEEAIwjgACAcQQQADCOAAIAxhFAAMA4AggAGEcAAQDjCCAAYBwBBACMI4AAgHEEEAAwjgACAMYRQADAOAIIABhHAAEA4wggAGAcAQQAjCOAAIBxBBAAMI4AAgDGEUAAwDgCCAAYRwABAOMIIABgHAEEAIwjgACAcQQQADCOAAIAxhFAAMA4AggAGEcAAQDj/H8YHsPZXh6LBQAAAABJRU5ErkJggg==",
            "_dom_classes": [],
            "_figure_label": "Figure 3",
            "_image_mode": "full",
            "_message": "",
            "_model_module": "jupyter-matplotlib",
            "_model_module_version": "^0.11",
            "_model_name": "MPLCanvasModel",
            "_rubberband_height": 0,
            "_rubberband_width": 0,
            "_rubberband_x": 0,
            "_rubberband_y": 0,
            "_size": [
              576,
              576
            ],
            "_view_count": null,
            "_view_module": "jupyter-matplotlib",
            "_view_module_version": "^0.11",
            "_view_name": "MPLCanvasView",
            "capture_scroll": false,
            "footer_visible": true,
            "header_visible": true,
            "layout": "IPY_MODEL_a5392339c6c84e9fbc1947b13b033af3",
            "pan_zoom_throttle": 33,
            "resizable": true,
            "toolbar": "IPY_MODEL_5b8234112dd245b9a2ceab9ffe891173",
            "toolbar_position": "left",
            "toolbar_visible": "fade-in-fade-out"
          }
        },
        "a5392339c6c84e9fbc1947b13b033af3": {
          "model_module": "@jupyter-widgets/base",
          "model_name": "LayoutModel",
          "model_module_version": "1.2.0",
          "state": {
            "_model_module": "@jupyter-widgets/base",
            "_model_module_version": "1.2.0",
            "_model_name": "LayoutModel",
            "_view_count": null,
            "_view_module": "@jupyter-widgets/base",
            "_view_module_version": "1.2.0",
            "_view_name": "LayoutView",
            "align_content": null,
            "align_items": null,
            "align_self": null,
            "border": null,
            "bottom": null,
            "display": null,
            "flex": null,
            "flex_flow": null,
            "grid_area": null,
            "grid_auto_columns": null,
            "grid_auto_flow": null,
            "grid_auto_rows": null,
            "grid_column": null,
            "grid_gap": null,
            "grid_row": null,
            "grid_template_areas": null,
            "grid_template_columns": null,
            "grid_template_rows": null,
            "height": null,
            "justify_content": null,
            "justify_items": null,
            "left": null,
            "margin": null,
            "max_height": null,
            "max_width": null,
            "min_height": null,
            "min_width": null,
            "object_fit": null,
            "object_position": null,
            "order": null,
            "overflow": null,
            "overflow_x": null,
            "overflow_y": null,
            "padding": null,
            "right": null,
            "top": null,
            "visibility": null,
            "width": null
          }
        },
        "5b8234112dd245b9a2ceab9ffe891173": {
          "model_module": "jupyter-matplotlib",
          "model_name": "ToolbarModel",
          "model_module_version": "^0.11",
          "state": {
            "_current_action": "",
            "_dom_classes": [],
            "_model_module": "jupyter-matplotlib",
            "_model_module_version": "^0.11",
            "_model_name": "ToolbarModel",
            "_view_count": null,
            "_view_module": "jupyter-matplotlib",
            "_view_module_version": "^0.11",
            "_view_name": "ToolbarView",
            "button_style": "",
            "collapsed": true,
            "layout": "IPY_MODEL_28e075cd4b7342099e5a50f0a2cad565",
            "orientation": "vertical",
            "toolitems": [
              [
                "Home",
                "Reset original view",
                "home",
                "home"
              ],
              [
                "Back",
                "Back to previous view",
                "arrow-left",
                "back"
              ],
              [
                "Forward",
                "Forward to next view",
                "arrow-right",
                "forward"
              ],
              [
                "Pan",
                "Left button pans, Right button zooms\nx/y fixes axis, CTRL fixes aspect",
                "arrows",
                "pan"
              ],
              [
                "Zoom",
                "Zoom to rectangle\nx/y fixes axis",
                "square-o",
                "zoom"
              ],
              [
                "Download",
                "Download plot",
                "floppy-o",
                "save_figure"
              ]
            ]
          }
        },
        "28e075cd4b7342099e5a50f0a2cad565": {
          "model_module": "@jupyter-widgets/base",
          "model_name": "LayoutModel",
          "model_module_version": "1.2.0",
          "state": {
            "_model_module": "@jupyter-widgets/base",
            "_model_module_version": "1.2.0",
            "_model_name": "LayoutModel",
            "_view_count": null,
            "_view_module": "@jupyter-widgets/base",
            "_view_module_version": "1.2.0",
            "_view_name": "LayoutView",
            "align_content": null,
            "align_items": null,
            "align_self": null,
            "border": null,
            "bottom": null,
            "display": null,
            "flex": null,
            "flex_flow": null,
            "grid_area": null,
            "grid_auto_columns": null,
            "grid_auto_flow": null,
            "grid_auto_rows": null,
            "grid_column": null,
            "grid_gap": null,
            "grid_row": null,
            "grid_template_areas": null,
            "grid_template_columns": null,
            "grid_template_rows": null,
            "height": null,
            "justify_content": null,
            "justify_items": null,
            "left": null,
            "margin": null,
            "max_height": null,
            "max_width": null,
            "min_height": null,
            "min_width": null,
            "object_fit": null,
            "object_position": null,
            "order": null,
            "overflow": null,
            "overflow_x": null,
            "overflow_y": null,
            "padding": null,
            "right": null,
            "top": null,
            "visibility": null,
            "width": null
          }
        },
        "04f03b3105124585946352b7251b7f65": {
          "model_module": "jupyter-matplotlib",
          "model_name": "MPLCanvasModel",
          "model_module_version": "^0.11",
          "state": {
            "_cursor": "default",
            "_data_url": "data:image/png;base64,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",
            "_dom_classes": [],
            "_figure_label": "Figure 4",
            "_image_mode": "full",
            "_message": "",
            "_model_module": "jupyter-matplotlib",
            "_model_module_version": "^0.11",
            "_model_name": "MPLCanvasModel",
            "_rubberband_height": 0,
            "_rubberband_width": 0,
            "_rubberband_x": 0,
            "_rubberband_y": 0,
            "_size": [
              576,
              576
            ],
            "_view_count": null,
            "_view_module": "jupyter-matplotlib",
            "_view_module_version": "^0.11",
            "_view_name": "MPLCanvasView",
            "capture_scroll": false,
            "footer_visible": true,
            "header_visible": true,
            "layout": "IPY_MODEL_d57bb6c1035e4ae988ed4a8e298f8ce9",
            "pan_zoom_throttle": 33,
            "resizable": true,
            "toolbar": "IPY_MODEL_7a7d5f1ee98e4fb091643957b27568d4",
            "toolbar_position": "left",
            "toolbar_visible": "fade-in-fade-out"
          }
        },
        "d57bb6c1035e4ae988ed4a8e298f8ce9": {
          "model_module": "@jupyter-widgets/base",
          "model_name": "LayoutModel",
          "model_module_version": "1.2.0",
          "state": {
            "_model_module": "@jupyter-widgets/base",
            "_model_module_version": "1.2.0",
            "_model_name": "LayoutModel",
            "_view_count": null,
            "_view_module": "@jupyter-widgets/base",
            "_view_module_version": "1.2.0",
            "_view_name": "LayoutView",
            "align_content": null,
            "align_items": null,
            "align_self": null,
            "border": null,
            "bottom": null,
            "display": null,
            "flex": null,
            "flex_flow": null,
            "grid_area": null,
            "grid_auto_columns": null,
            "grid_auto_flow": null,
            "grid_auto_rows": null,
            "grid_column": null,
            "grid_gap": null,
            "grid_row": null,
            "grid_template_areas": null,
            "grid_template_columns": null,
            "grid_template_rows": null,
            "height": null,
            "justify_content": null,
            "justify_items": null,
            "left": null,
            "margin": null,
            "max_height": null,
            "max_width": null,
            "min_height": null,
            "min_width": null,
            "object_fit": null,
            "object_position": null,
            "order": null,
            "overflow": null,
            "overflow_x": null,
            "overflow_y": null,
            "padding": null,
            "right": null,
            "top": null,
            "visibility": null,
            "width": null
          }
        },
        "7a7d5f1ee98e4fb091643957b27568d4": {
          "model_module": "jupyter-matplotlib",
          "model_name": "ToolbarModel",
          "model_module_version": "^0.11",
          "state": {
            "_current_action": "",
            "_dom_classes": [],
            "_model_module": "jupyter-matplotlib",
            "_model_module_version": "^0.11",
            "_model_name": "ToolbarModel",
            "_view_count": null,
            "_view_module": "jupyter-matplotlib",
            "_view_module_version": "^0.11",
            "_view_name": "ToolbarView",
            "button_style": "",
            "collapsed": true,
            "layout": "IPY_MODEL_2becb61825ae4ce18ade8f5b7371ca54",
            "orientation": "vertical",
            "toolitems": [
              [
                "Home",
                "Reset original view",
                "home",
                "home"
              ],
              [
                "Back",
                "Back to previous view",
                "arrow-left",
                "back"
              ],
              [
                "Forward",
                "Forward to next view",
                "arrow-right",
                "forward"
              ],
              [
                "Pan",
                "Left button pans, Right button zooms\nx/y fixes axis, CTRL fixes aspect",
                "arrows",
                "pan"
              ],
              [
                "Zoom",
                "Zoom to rectangle\nx/y fixes axis",
                "square-o",
                "zoom"
              ],
              [
                "Download",
                "Download plot",
                "floppy-o",
                "save_figure"
              ]
            ]
          }
        },
        "2becb61825ae4ce18ade8f5b7371ca54": {
          "model_module": "@jupyter-widgets/base",
          "model_name": "LayoutModel",
          "model_module_version": "1.2.0",
          "state": {
            "_model_module": "@jupyter-widgets/base",
            "_model_module_version": "1.2.0",
            "_model_name": "LayoutModel",
            "_view_count": null,
            "_view_module": "@jupyter-widgets/base",
            "_view_module_version": "1.2.0",
            "_view_name": "LayoutView",
            "align_content": null,
            "align_items": null,
            "align_self": null,
            "border": null,
            "bottom": null,
            "display": null,
            "flex": null,
            "flex_flow": null,
            "grid_area": null,
            "grid_auto_columns": null,
            "grid_auto_flow": null,
            "grid_auto_rows": null,
            "grid_column": null,
            "grid_gap": null,
            "grid_row": null,
            "grid_template_areas": null,
            "grid_template_columns": null,
            "grid_template_rows": null,
            "height": null,
            "justify_content": null,
            "justify_items": null,
            "left": null,
            "margin": null,
            "max_height": null,
            "max_width": null,
            "min_height": null,
            "min_width": null,
            "object_fit": null,
            "object_position": null,
            "order": null,
            "overflow": null,
            "overflow_x": null,
            "overflow_y": null,
            "padding": null,
            "right": null,
            "top": null,
            "visibility": null,
            "width": null
          }
        },
        "1a6276dbd3cd46c0a354ad1f0da1e2db": {
          "model_module": "jupyter-matplotlib",
          "model_name": "MPLCanvasModel",
          "model_module_version": "^0.11",
          "state": {
            "_cursor": "default",
            "_data_url": "data:image/png;base64,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",
            "_dom_classes": [],
            "_figure_label": "Figure 6",
            "_image_mode": "full",
            "_message": "",
            "_model_module": "jupyter-matplotlib",
            "_model_module_version": "^0.11",
            "_model_name": "MPLCanvasModel",
            "_rubberband_height": 0,
            "_rubberband_width": 0,
            "_rubberband_x": 0,
            "_rubberband_y": 0,
            "_size": [
              432,
              288
            ],
            "_view_count": null,
            "_view_module": "jupyter-matplotlib",
            "_view_module_version": "^0.11",
            "_view_name": "MPLCanvasView",
            "capture_scroll": false,
            "footer_visible": true,
            "header_visible": true,
            "layout": "IPY_MODEL_48eb4b4a05e34d52a09a60f13b61d04f",
            "pan_zoom_throttle": 33,
            "resizable": true,
            "toolbar": "IPY_MODEL_4f3410d5b1d04587a42adfa13fcdec11",
            "toolbar_position": "left",
            "toolbar_visible": "fade-in-fade-out"
          }
        },
        "48eb4b4a05e34d52a09a60f13b61d04f": {
          "model_module": "@jupyter-widgets/base",
          "model_name": "LayoutModel",
          "model_module_version": "1.2.0",
          "state": {
            "_model_module": "@jupyter-widgets/base",
            "_model_module_version": "1.2.0",
            "_model_name": "LayoutModel",
            "_view_count": null,
            "_view_module": "@jupyter-widgets/base",
            "_view_module_version": "1.2.0",
            "_view_name": "LayoutView",
            "align_content": null,
            "align_items": null,
            "align_self": null,
            "border": null,
            "bottom": null,
            "display": null,
            "flex": null,
            "flex_flow": null,
            "grid_area": null,
            "grid_auto_columns": null,
            "grid_auto_flow": null,
            "grid_auto_rows": null,
            "grid_column": null,
            "grid_gap": null,
            "grid_row": null,
            "grid_template_areas": null,
            "grid_template_columns": null,
            "grid_template_rows": null,
            "height": null,
            "justify_content": null,
            "justify_items": null,
            "left": null,
            "margin": null,
            "max_height": null,
            "max_width": null,
            "min_height": null,
            "min_width": null,
            "object_fit": null,
            "object_position": null,
            "order": null,
            "overflow": null,
            "overflow_x": null,
            "overflow_y": null,
            "padding": null,
            "right": null,
            "top": null,
            "visibility": null,
            "width": null
          }
        },
        "4f3410d5b1d04587a42adfa13fcdec11": {
          "model_module": "jupyter-matplotlib",
          "model_name": "ToolbarModel",
          "model_module_version": "^0.11",
          "state": {
            "_current_action": "",
            "_dom_classes": [],
            "_model_module": "jupyter-matplotlib",
            "_model_module_version": "^0.11",
            "_model_name": "ToolbarModel",
            "_view_count": null,
            "_view_module": "jupyter-matplotlib",
            "_view_module_version": "^0.11",
            "_view_name": "ToolbarView",
            "button_style": "",
            "collapsed": true,
            "layout": "IPY_MODEL_4929da0390fe4b4cb1b0c46c8aea7498",
            "orientation": "vertical",
            "toolitems": [
              [
                "Home",
                "Reset original view",
                "home",
                "home"
              ],
              [
                "Back",
                "Back to previous view",
                "arrow-left",
                "back"
              ],
              [
                "Forward",
                "Forward to next view",
                "arrow-right",
                "forward"
              ],
              [
                "Pan",
                "Left button pans, Right button zooms\nx/y fixes axis, CTRL fixes aspect",
                "arrows",
                "pan"
              ],
              [
                "Zoom",
                "Zoom to rectangle\nx/y fixes axis",
                "square-o",
                "zoom"
              ],
              [
                "Download",
                "Download plot",
                "floppy-o",
                "save_figure"
              ]
            ]
          }
        },
        "4929da0390fe4b4cb1b0c46c8aea7498": {
          "model_module": "@jupyter-widgets/base",
          "model_name": "LayoutModel",
          "model_module_version": "1.2.0",
          "state": {
            "_model_module": "@jupyter-widgets/base",
            "_model_module_version": "1.2.0",
            "_model_name": "LayoutModel",
            "_view_count": null,
            "_view_module": "@jupyter-widgets/base",
            "_view_module_version": "1.2.0",
            "_view_name": "LayoutView",
            "align_content": null,
            "align_items": null,
            "align_self": null,
            "border": null,
            "bottom": null,
            "display": null,
            "flex": null,
            "flex_flow": null,
            "grid_area": null,
            "grid_auto_columns": null,
            "grid_auto_flow": null,
            "grid_auto_rows": null,
            "grid_column": null,
            "grid_gap": null,
            "grid_row": null,
            "grid_template_areas": null,
            "grid_template_columns": null,
            "grid_template_rows": null,
            "height": null,
            "justify_content": null,
            "justify_items": null,
            "left": null,
            "margin": null,
            "max_height": null,
            "max_width": null,
            "min_height": null,
            "min_width": null,
            "object_fit": null,
            "object_position": null,
            "order": null,
            "overflow": null,
            "overflow_x": null,
            "overflow_y": null,
            "padding": null,
            "right": null,
            "top": null,
            "visibility": null,
            "width": null
          }
        },
        "72ef641e79c64ce49a678462af0d16fb": {
          "model_module": "jupyter-matplotlib",
          "model_name": "MPLCanvasModel",
          "model_module_version": "^0.11",
          "state": {
            "_cursor": "default",
            "_data_url": "data:image/png;base64,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",
            "_dom_classes": [],
            "_figure_label": "Figure 5",
            "_image_mode": "full",
            "_message": "",
            "_model_module": "jupyter-matplotlib",
            "_model_module_version": "^0.11",
            "_model_name": "MPLCanvasModel",
            "_rubberband_height": 0,
            "_rubberband_width": 0,
            "_rubberband_x": 0,
            "_rubberband_y": 0,
            "_size": [
              432,
              288
            ],
            "_view_count": null,
            "_view_module": "jupyter-matplotlib",
            "_view_module_version": "^0.11",
            "_view_name": "MPLCanvasView",
            "capture_scroll": false,
            "footer_visible": true,
            "header_visible": true,
            "layout": "IPY_MODEL_3905ade5d8084ffba02571c55ba34a43",
            "pan_zoom_throttle": 33,
            "resizable": true,
            "toolbar": "IPY_MODEL_5401d1c9fef2407e900e61d6ba1e4055",
            "toolbar_position": "left",
            "toolbar_visible": "fade-in-fade-out"
          }
        },
        "3905ade5d8084ffba02571c55ba34a43": {
          "model_module": "@jupyter-widgets/base",
          "model_name": "LayoutModel",
          "model_module_version": "1.2.0",
          "state": {
            "_model_module": "@jupyter-widgets/base",
            "_model_module_version": "1.2.0",
            "_model_name": "LayoutModel",
            "_view_count": null,
            "_view_module": "@jupyter-widgets/base",
            "_view_module_version": "1.2.0",
            "_view_name": "LayoutView",
            "align_content": null,
            "align_items": null,
            "align_self": null,
            "border": null,
            "bottom": null,
            "display": null,
            "flex": null,
            "flex_flow": null,
            "grid_area": null,
            "grid_auto_columns": null,
            "grid_auto_flow": null,
            "grid_auto_rows": null,
            "grid_column": null,
            "grid_gap": null,
            "grid_row": null,
            "grid_template_areas": null,
            "grid_template_columns": null,
            "grid_template_rows": null,
            "height": null,
            "justify_content": null,
            "justify_items": null,
            "left": null,
            "margin": null,
            "max_height": null,
            "max_width": null,
            "min_height": null,
            "min_width": null,
            "object_fit": null,
            "object_position": null,
            "order": null,
            "overflow": null,
            "overflow_x": null,
            "overflow_y": null,
            "padding": null,
            "right": null,
            "top": null,
            "visibility": null,
            "width": null
          }
        },
        "5401d1c9fef2407e900e61d6ba1e4055": {
          "model_module": "jupyter-matplotlib",
          "model_name": "ToolbarModel",
          "model_module_version": "^0.11",
          "state": {
            "_current_action": "",
            "_dom_classes": [],
            "_model_module": "jupyter-matplotlib",
            "_model_module_version": "^0.11",
            "_model_name": "ToolbarModel",
            "_view_count": null,
            "_view_module": "jupyter-matplotlib",
            "_view_module_version": "^0.11",
            "_view_name": "ToolbarView",
            "button_style": "",
            "collapsed": true,
            "layout": "IPY_MODEL_aa40a39a485445869143ce2c31593d30",
            "orientation": "vertical",
            "toolitems": [
              [
                "Home",
                "Reset original view",
                "home",
                "home"
              ],
              [
                "Back",
                "Back to previous view",
                "arrow-left",
                "back"
              ],
              [
                "Forward",
                "Forward to next view",
                "arrow-right",
                "forward"
              ],
              [
                "Pan",
                "Left button pans, Right button zooms\nx/y fixes axis, CTRL fixes aspect",
                "arrows",
                "pan"
              ],
              [
                "Zoom",
                "Zoom to rectangle\nx/y fixes axis",
                "square-o",
                "zoom"
              ],
              [
                "Download",
                "Download plot",
                "floppy-o",
                "save_figure"
              ]
            ]
          }
        },
        "aa40a39a485445869143ce2c31593d30": {
          "model_module": "@jupyter-widgets/base",
          "model_name": "LayoutModel",
          "model_module_version": "1.2.0",
          "state": {
            "_model_module": "@jupyter-widgets/base",
            "_model_module_version": "1.2.0",
            "_model_name": "LayoutModel",
            "_view_count": null,
            "_view_module": "@jupyter-widgets/base",
            "_view_module_version": "1.2.0",
            "_view_name": "LayoutView",
            "align_content": null,
            "align_items": null,
            "align_self": null,
            "border": null,
            "bottom": null,
            "display": null,
            "flex": null,
            "flex_flow": null,
            "grid_area": null,
            "grid_auto_columns": null,
            "grid_auto_flow": null,
            "grid_auto_rows": null,
            "grid_column": null,
            "grid_gap": null,
            "grid_row": null,
            "grid_template_areas": null,
            "grid_template_columns": null,
            "grid_template_rows": null,
            "height": null,
            "justify_content": null,
            "justify_items": null,
            "left": null,
            "margin": null,
            "max_height": null,
            "max_width": null,
            "min_height": null,
            "min_width": null,
            "object_fit": null,
            "object_position": null,
            "order": null,
            "overflow": null,
            "overflow_x": null,
            "overflow_y": null,
            "padding": null,
            "right": null,
            "top": null,
            "visibility": null,
            "width": null
          }
        }
      }
    }
  },
  "cells": [
    {
      "cell_type": "markdown",
      "metadata": {
        "id": "view-in-github",
        "colab_type": "text"
      },
      "source": [
        "<a href=\"https://colab.research.google.com/github/PaulToronto/Math-and-Data-Science-Reference/blob/main/Interactive_Plotting_in_Matplotlib.ipynb\" target=\"_parent\"><img src=\"https://colab.research.google.com/assets/colab-badge.svg\" alt=\"Open In Colab\"/></a>"
      ]
    },
    {
      "cell_type": "markdown",
      "source": [
        "# Interactive Plotting in Matplotlib"
      ],
      "metadata": {
        "id": "O--D6EOc_U8n"
      }
    },
    {
      "cell_type": "code",
      "source": [
        "!pip install -q ipympl"
      ],
      "metadata": {
        "id": "6UqGd36a__84"
      },
      "execution_count": 1,
      "outputs": []
    },
    {
      "cell_type": "code",
      "source": [
        "import numpy as np\n",
        "import matplotlib.pyplot as plt\n",
        "from mpl_toolkits import mplot3d\n",
        "from google.colab import output\n",
        "output.enable_custom_widget_manager()\n",
        "\n",
        "%matplotlib widget"
      ],
      "metadata": {
        "id": "a1NFAHab_12E"
      },
      "execution_count": 2,
      "outputs": []
    },
    {
      "cell_type": "markdown",
      "source": [
        "## Event Handling\n",
        "\n",
        "[For more details](https://matplotlib.org/stable/users/explain/event_handling.html)"
      ],
      "metadata": {
        "id": "u2p8GfXL_f0W"
      }
    },
    {
      "cell_type": "markdown",
      "source": [
        "## Event connections\n",
        "\n",
        "To receive events:\n",
        "\n",
        "1. Write a callback function\n",
        "2. Connect your function to the event manager, which is part of the `FigureCanvasBase`\n",
        "\n",
        "`mpl_connect` returns a connection id (an integer), which can be used to disconnect the callback via `fig.canvas.mpl_disconnect(cid)`"
      ],
      "metadata": {
        "id": "IIWKinTG_mv3"
      }
    },
    {
      "cell_type": "code",
      "source": [
        "fig = plt.figure(figsize=(8, 8))\n",
        "ax = fig.add_subplot(111)\n",
        "ax.plot(np.random.rand(10))\n",
        "\n",
        "def onclick(event):\n",
        "    print('%s click: button=%d, x=%d, y=%d, xdata=%f, ydata=%f' %\n",
        "          ('double' if event.dblclick else 'single',\n",
        "           event.button,\n",
        "           event.x, \n",
        "           event.y,\n",
        "           event.xdata if event.xdata else -1,\n",
        "           event.ydata if event.ydata else -1))\n",
        "    \n",
        "cid = fig.canvas.mpl_connect('button_press_event', onclick)"
      ],
      "metadata": {
        "colab": {
          "base_uri": "https://localhost:8080/",
          "height": 665,
          "referenced_widgets": [
            "06345a0b7e034823a20833c0cd429af7",
            "ea59c2122d5647529aa1eb74165f1fcd",
            "afc0efa055014f12985bde3fbdadce03",
            "ec43bfb6749d41038c197d56bee80c24"
          ]
        },
        "id": "bk0Gjzaw_rjK",
        "outputId": "eb50704d-72fd-4400-d883-ac02dc6e94e0"
      },
      "execution_count": 3,
      "outputs": [
        {
          "output_type": "display_data",
          "data": {
            "text/plain": [
              "Canvas(toolbar=Toolbar(toolitems=[('Home', 'Reset original view', 'home', 'home'), ('Back', 'Back to previous …"
            ],
            "image/png": "[encoded data removed]",
            "text/html": [
              "\n",
              "            <div style=\"display: inline-block;\">\n",
              "                <div class=\"jupyter-widgets widget-label\" style=\"text-align: center;\">\n",
              "                    Figure\n",
              "                </div>\n",
              "                <img src='data:image/png;base64,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' width=576.0/>\n",
              "            </div>\n",
              "        "
            ],
            "application/vnd.jupyter.widget-view+json": {
              "version_major": 2,
              "version_minor": 0,
              "model_id": "06345a0b7e034823a20833c0cd429af7"
            }
          },
          "metadata": {
            "application/vnd.jupyter.widget-view+json": {
              "colab": {
                "custom_widget_manager": {
                  "url": "https://ssl.gstatic.com/colaboratory-static/widgets/colab-cdn-widget-manager/b3e629b1971e1542/manager.min.js"
                }
              }
            }
          }
        }
      ]
    },
    {
      "cell_type": "markdown",
      "source": [
        "## List of Events\n",
        "\n",
        "- 'Event name': `Class`: description\n",
        "---\n",
        "\n",
        "- 'button_press_event': `MouseEvent`: mouse button is pressed\n",
        "- 'button_release_event': `MouseEvent`: mouse button is released\n",
        "- 'close_event': `CloseEvent`: figure is closed\n",
        "- 'draw_event': `DrawEvent`: canvas has been drawn (but screen widget not updated yet)\n",
        "- 'key_press_event': `KeyEvent`: key is pressed\n",
        "- 'key_release_event': `KeyEvent`: key is released\n",
        "- 'motion_notify_event': `MouseEvent`: mouse moves\n",
        "- 'pick_event': `PickEvent`: artist in the canvas is selected\n",
        "- 'resize_event': `ResizeEvent`: figure canvas is resized\n",
        "- 'scroll_event': `MouseEvent`: mouse scroll wheel is rolled\n",
        "- 'figure_enter_event': `LocationEvent`: mouse enters a new figure\n",
        "- 'figure_leave_event': `LocationEvent`: mouse leaves a figure\n",
        "- 'axes_enter_event': `LocationEvent`: mouse enters a new axes\n",
        "- 'axes_leave_event': `LocationEvent`: mouse leaves an axes"
      ],
      "metadata": {
        "id": "v7DbAt_iAi1B"
      }
    },
    {
      "cell_type": "markdown",
      "source": [
        "## Event attributes\n",
        "\n",
        "- All `matplotlib` events inherit from the base class `matplotlib.backend_bases.Event`\n",
        "- as such they have these attributrs\n",
        "    1. `name`: the event name\n",
        "    2. `canvas`: the `FigureCanvas` instance generating the event\n",
        "    3. `guiEvent`: the GUI event that triggered the `matplotlib` event"
      ],
      "metadata": {
        "id": "eJcxoUJ5AnkL"
      }
    },
    {
      "cell_type": "code",
      "source": [
        "fig = plt.figure(figsize=(8, 8))\n",
        "ax = fig.add_subplot(111)\n",
        "ax.plot(np.random.rand(10))\n",
        "\n",
        "def onclick(event):\n",
        "    print(event.name)\n",
        "    print(type(event.name))\n",
        "    print('\\n--')\n",
        "    print(event.canvas, type(event.canvas))\n",
        "    print(type(event.canvas))\n",
        "    print('\\n--')\n",
        "    print(event.guiEvent)\n",
        "    print(type(event.guiEvent))\n",
        "    print('\\n--')\n",
        "    print(event.inaxes)\n",
        "\n",
        "cid2 = fig.canvas.mpl_connect('button_press_event', onclick)"
      ],
      "metadata": {
        "colab": {
          "base_uri": "https://localhost:8080/",
          "height": 665,
          "referenced_widgets": [
            "eba33631cd3c4efb914e5ef8444a887b",
            "79964efc43274b569ce8171d02430678",
            "41138462cd264fc6945a37895e445ad1",
            "f0409fc7e0ad493cae8bbe79272d5fca"
          ]
        },
        "id": "eBYPsCAxAtMk",
        "outputId": "2c464fbc-1e57-4355-8760-48d0f2475d3d"
      },
      "execution_count": 4,
      "outputs": [
        {
          "output_type": "display_data",
          "data": {
            "text/plain": [
              "Canvas(toolbar=Toolbar(toolitems=[('Home', 'Reset original view', 'home', 'home'), ('Back', 'Back to previous …"
            ],
            "image/png": "[encoded data removed]",
            "text/html": [
              "\n",
              "            <div style=\"display: inline-block;\">\n",
              "                <div class=\"jupyter-widgets widget-label\" style=\"text-align: center;\">\n",
              "                    Figure\n",
              "                </div>\n",
              "                <img src='data:image/png;base64,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' width=576.0/>\n",
              "            </div>\n",
              "        "
            ],
            "application/vnd.jupyter.widget-view+json": {
              "version_major": 2,
              "version_minor": 0,
              "model_id": "eba33631cd3c4efb914e5ef8444a887b"
            }
          },
          "metadata": {
            "application/vnd.jupyter.widget-view+json": {
              "colab": {
                "custom_widget_manager": {
                  "url": "https://ssl.gstatic.com/colaboratory-static/widgets/colab-cdn-widget-manager/b3e629b1971e1542/manager.min.js"
                }
              }
            }
          }
        }
      ]
    },
    {
      "cell_type": "markdown",
      "source": [
        "## Most Common Events\n",
        "\n",
        "1. `KeyEvent`\n",
        "    - key_press_event\n",
        "    - key_release_event\n",
        "2. `MouseEvent`\n",
        "    - button_press_event\n",
        "    - button_release_event\n",
        "    - motion_notify_event\n",
        "    - scroll_event\n",
        "\n",
        "Both of these events are derived from the `LocationEvent` which has the following attributes:\n",
        "\n",
        "- `x`: mouse x position in pixels from (left, bottom)\n",
        "- `y`: mouse y position in pixels from (left, bottom)\n",
        "- `inaxes`: the `Axes` instance over which the mouse is, if any, else `None`\n",
        "- `xdata`: mouse x position in data coordinates if the mouse is over an axes\n",
        "- `ydata`: mouse x position in data coordinates if the mouse is over an axes"
      ],
      "metadata": {
        "id": "4wKQAf7vAzyz"
      }
    },
    {
      "cell_type": "markdown",
      "source": [
        "## Example\n",
        "\n",
        "- In this canvas, a simple line segment is created every time a mouse is pressed"
      ],
      "metadata": {
        "id": "RFbJhMdzA4_k"
      }
    },
    {
      "cell_type": "code",
      "source": [
        "# this technique is used below\n",
        "#  to get the element from the list \n",
        "#  instead of the list itself\n",
        "test, = [0]\n",
        "test"
      ],
      "metadata": {
        "colab": {
          "base_uri": "https://localhost:8080/",
          "height": 35
        },
        "id": "6q81dO3kA8Ve",
        "outputId": "7c9f6e57-dfda-4794-e562-0f849351f4c6"
      },
      "execution_count": 5,
      "outputs": [
        {
          "output_type": "execute_result",
          "data": {
            "text/plain": [
              "0"
            ]
          },
          "metadata": {},
          "execution_count": 5
        }
      ]
    },
    {
      "cell_type": "code",
      "source": [
        "class LineBuilder:\n",
        "    def __init__(self, line):\n",
        "        self.line = line\n",
        "        self.xs = list(line.get_xdata())\n",
        "        self.ys = list(line.get_ydata())\n",
        "        self.cid = line.figure.canvas.mpl_connect('button_press_event', self)\n",
        "\n",
        "    def __call__(self, event):\n",
        "        #print('click', event)\n",
        "        if event.inaxes != self.line.axes:\n",
        "            return \n",
        "        self.xs.append(event.xdata)\n",
        "        self.ys.append(event.ydata)\n",
        "        self.line.set_data(self.xs, self.ys)\n",
        "        self.line.figure.canvas.draw()\n",
        "\n",
        "        # in addition to those Location event attributes,\n",
        "        #   the MouseEvent also has access to the button attribute\n",
        "        #   and key attribute\n",
        "        print(event.button, event.key)\n",
        "\n",
        "fig = plt.figure(figsize=(8, 8))\n",
        "ax = fig.add_subplot(111)\n",
        "ax.set_title('Click to build line segments')\n",
        "line, = ax.plot([0], [0])\n",
        "linebuilder = LineBuilder(line)"
      ],
      "metadata": {
        "colab": {
          "base_uri": "https://localhost:8080/",
          "height": 665,
          "referenced_widgets": [
            "3f6d94f615af4a2abc9f034b700dbf93",
            "a5392339c6c84e9fbc1947b13b033af3",
            "5b8234112dd245b9a2ceab9ffe891173",
            "28e075cd4b7342099e5a50f0a2cad565"
          ]
        },
        "id": "V5dEClmhBDZq",
        "outputId": "ede5504f-302a-470a-9550-6b6768543d6e"
      },
      "execution_count": 6,
      "outputs": [
        {
          "output_type": "display_data",
          "data": {
            "text/plain": [
              "Canvas(toolbar=Toolbar(toolitems=[('Home', 'Reset original view', 'home', 'home'), ('Back', 'Back to previous …"
            ],
            "image/png": "[encoded data removed]",
            "text/html": [
              "\n",
              "            <div style=\"display: inline-block;\">\n",
              "                <div class=\"jupyter-widgets widget-label\" style=\"text-align: center;\">\n",
              "                    Figure\n",
              "                </div>\n",
              "                <img src='data:image/png;base64,iVBORw0KGgoAAAANSUhEUgAAAkAAAAJACAYAAABlmtk2AAAAOXRFWHRTb2Z0d2FyZQBNYXRwbG90bGliIHZlcnNpb24zLjYuMywgaHR0cHM6Ly9tYXRwbG90bGliLm9yZy/P9b71AAAACXBIWXMAAAsTAAALEwEAmpwYAAAdSklEQVR4nO3de7Rmd13f8c+3CUQQSy6ESzIJoSSKoVqpxyBLrVQgCatiWIg2qBgVTWnFqmg1LC3BgBZYcpEKahRsSle5lKqEUsQA4qpWkQmyqkEwMYBJCJCQcIkoGPj2j2ePHoYzw2Qu55Lv67XWrHn23r+9n9+zZ8h5z977HKq7AwAwyT/a6gkAAGw2AQQAjCOAAIBxBBAAMI4AAgDGEUAAwDgCCAAYRwABAOMIIABgHAEEAIwjgACAcQQQADCOAAIAxhFAAMA4AggAGEcAAQDjCCAAYBwBBACMI4AAgHEEEAAwjgACAMYRQADAOAIIABhHAAEA4wggAGAcAQQAjCOAAIBxBBAAMI4AAgDGEUAAwDgCCAAYRwABAOMIIABgHAEEAIwjgACAcQQQADCOAAIAxhFAAMA4AggAGEcAAQDjCCAAYBwBBACMI4AAgHEEEAAwjgACAMYRQADAOAIIABhHAAEA4wggAGAcAQQAjCOAAIBxBBAAMI4Agk1WVc+oqv+2vD61qm6rqqO+wD4Pr6rrN3t+B7HvN1TVe9Ytv6+qHrmPsfv9TFXVVXX68vqXq+o/HsycADYigOAIqKrvqKrdS9zcWFVvqKqv33tcd/9Vd9+juz9zGN/7e6rq9w/X8e6I7v4/3f1lR+C4T+7uZx7u4+50mxnGcGcjgOAwq6qnJnlhkp9Lcp8kpyZ5SZLztnBaAKwjgOAwqqp7JrkkyQ929290919399919+u6+z9sMP605VbP0cvy8VX161X1gaq6tap+ax/v8++r6l1VtWuv9V+e5JeTPGy5+vTRPfOqqv9aVTdV1fur6qeran//+/+iqnpVVX2iqt5RVf9s3Xv8/a2pZfm/VNWzltf7vCJRVXdbxt5aVe9K8jX7ef+99/2896iqH6uqDy9X2L533dhjqurnq+qvqupDy+2zu+3juKdX1e9V1ceq6uaqetW6bQ+qqiuq6paqek9Vffu6bSdU1euq6uNV9faqetb6q27LOfp3VXX1cg6fWVUPrKr/u+zz6qq667rx31xV76yqjy5jvnLdtvdV1Y9X1f9b5vmqqvqiqvriJG9IctLyZ31bVZ1UVWctVx8/vnz+5x/oeYZJBBAcXg9L8kVJfvMg9395krsneXCSeyd5wd4DqurpSb4nyTd29+fERnf/eZInJ/nD5dbascum/5zknkn+SZJvTPLdSb43+3Zekv+R5Pgk/z3Jb1XVXQ7yM+1xcZIHLr/OSXLBIRzrvll9npOTPCnJi6vquGXbs5N8aZKvSnL6Mubp+zjOM5P8TpLjkuzK6jxliYsrsvrs905yfpKXVNWZy34vTvLXyzwu2MdnOSfJVyf52iQ/keTSJN+V5JQk/zTJE5b3ekiSlyX5N0lOSPIrSS6vqmPWHevbk5yb5AFJvjLJ93T3Xyd5dJIPLH/W9+juDyT5hSS/0N3/OKtz/ep9fHYYTQDB4XVCkpu7+/Y7umNV3S+rL2hP7u5blytHv/e5Q+r5Sc5O8i+7+6YDPO5RWX0Bf1p3f6K735fkeUmeuJ/druzu13T33yV5flZR97V39DPt5duT/Gx339Ld1yV50SEc6++SXLKco/+d5LYkX1ZVleTCJD+6vM8nsroVef5+jnP/JCd19992956rON+c5H3d/evdfXt3/0mS/5nk25bz+a1JLu7uT3b3u5JctsGxn9vdH+/uq5L8WZLf6e5ru/tjWV25ecgy7sIkv9Ldb+vuz3T3ZUk+lc893y/q7g909y1JXpdV3O3v3JxeVffq7tu6+4/2MxbGEkBweH0kyb323NK6g05Jckt337qP7cdm9cXyPy1fRA/UvZLcJcn71617f1ZXRvbluj0vuvuzSa5PctIdeM+NnLT+uHvN5476yF6R+ckk90hyYlZX0K5cbid9NMlvL+s38hNJKskfV9VVVfV9y/r7J3nonmMsx/nOrK74nJjk6L0+y/rXe3xo3eu/2WD5Huve68f2eq9T8rnn+4MbfNZ9eVJWV8Devdye++b9jIWxBBAcXn+Y1b/eH3sQ+16X5PiqOnYf22/N6srEr1fV1+3nOL3X8s35hysde5ya5Ib9HOOUPS+WZ4V2JfnAsuqTWUXGHvfdz3HWu3H9cZc5HG43ZxUXD+7uY5df9+zuDYOhuz/Y3T/Q3SdldQvqJcvzTdcl+b11xzh2ucX0b5PclOT2rM7JHqd8/tEP2HVZXRlb/1537+5XHMC+e/9Zp7uv7u4nZHXr7jlJXrPc0gPWEUBwGC1XZp6e1TMpj62qu1fVXarq0VX13C+w741Z3Rp5SVUdt+z3L/Ya89asrkT8RlWdtY9DfSjJrj0P2S7fYv/qJD9bVV9SVfdP8tQk+/tZP19dVY9brmT9SFZRt+dWyjuTfEdVHVVV52b1TNGBeHWSpy2fbVeSHzrA/Q7YcrXqV5O8oKrunSRVdXJVnbPR+Kr6tvqHB8lvzSooPpvkfyX50qp64vLncJeq+pqq+vLlfP5Gkmcsf74PyuqZqoP1q0meXFUPrZUvrqp/VVVfcgD7fijJCbV6+H7PZ/quqjpxORcfXVZ/9hDmB3dKAggOs+5+XlaB8dNZXS24LslTkvzWAez+xKyu1rw7yYezio+9j39Fku9L8rqq+ucbHOMtSa5K8sGqunlZ90NZPbR7bZLfz+rh3pftZx6vTfKvs4qCJyZ53PI8UJL8cJLHZPXF9TsP8HMlyc9kddvrvVk9ePzyA9zvjvrJJNck+aOq+niSNyXZ188m+pokb6uq25JcnuSHl+d0PpHVs1bnZ3Xl64NZXU3Z82DyU7J6CPuDy+d4RVaReId19+4kP5DkF7M639dk9ZD7gez77uW9r11un52U1cPSVy2f6ReSnN/df3Mwc4M7s+r+vCuoANwBVfWcJPft7kP5zjZgE7kCBHAHLT8j6CuXW1ZnZfXg8cH+6ANgCxzMd6oATPclWd16Oimr53Cel9VtQ2CHcAsMABjHLTAAYBwBBACM4xmgL+Be97pXn3baaVs9DQDYFFdeeeXN3b2vn55+pyGAvoDTTjstu3fv3uppAMCmqKpD+b+p2THcAgMAxhFAAMA4AggAGEcAAQDjCCAAYBwBBACMI4AAgHEEEAAwjgACAMYRQADAOAIIABhHAAEA4wggAGAcAQQAjCOAAIBxBBAAMI4AAgDGEUAAwDgCCAAYRwABAOMIIABgHAEEAIwjgACAcQQQADCOAAIAxhFAAMA4AggAGEcAAQDjCCAAYBwBBACMI4AAgHEEEAAwjgACAMYRQADAOAIIABhHAAEA4wggAGAcAQQAjCOAAIBxBBAAMI4AAgDGEUAAwDgCCAAYRwABAOMIIABgHAEEAIwjgACAcQQQADCOAAIAxhFAAMA4AggAGEcAAQDjCCAAYJwdGUBVdW5VvaeqrqmqizbYfkxVvWrZ/raqOm2v7adW1W1V9eObNmkAYNvYcQFUVUcleXGSRyc5M8kTqurMvYY9Kcmt3X16khckec5e25+f5A1Heq4AwPa04wIoyVlJrunua7v700lemeS8vcacl+Sy5fVrkjyiqipJquqxSd6b5KrNmS4AsN3sxAA6Ocl165avX9ZtOKa7b0/ysSQnVNU9kvxkkp/ZhHkCANvUTgygQ/GMJC/o7tv2N6iqLqyq3VW1+6abbtqcmQEAm+borZ7AQbghySnrlnct6zYac31VHZ3knkk+kuShSR5fVc9NcmySz1bV33b3L67fubsvTXJpkqytrfWR+BAAwNbZiQH09iRnVNUDsgqd85N8x15jLk9yQZI/TPL4JG/p7k7yDXsGVNUzkty2d/wAAHd+Oy6Auvv2qnpKkjcmOSrJy7r7qqq6JMnu7r48yUuTvLyqrklyS1aRBACQJKnVhRH2ZW1trXfv3r3V0wCATVFVV3b32lbP40ib9hA0AIAAAgDmEUAAwDgCCAAYRwABAOMIIABgHAEEAIwjgACAcQQQADCOAAIAxhFAAMA4AggAGEcAAQDjCCAAYBwBBACMI4AAgHEEEAAwjgACAMYRQADAOAIIABhHAAEA4wggAGAcAQQAjCOAAIBxBBAAMI4AAgDGEUAAwDgCCAAYRwABAOMIIABgHAEEAIwjgACAcQQQADCOAAIAxhFAAMA4AggAGEcAAQDjCCAAYBwBBACMI4AAgHEEEAAwjgACAMYRQADAOAIIABhHAAEA4wggAGAcAQQAjCOAAIBxBBAAMI4AAgDGEUAAwDgCCAAYRwABAOMIIABgHAEEAIwjgACAcQQQADCOAAIAxhFAAMA4AggAGEcAAQDjCCAAYBwBBACMI4AAgHEEEAAwjgACAMYRQADAOAIIABhHAAEA4wggAGCcHRlAVXVuVb2nqq6pqos22H5MVb1q2f62qjptWf+oqrqyqv50+f2bNn3yAMCW23EBVFVHJXlxkkcnOTPJE6rqzL2GPSnJrd19epIXJHnOsv7mJI/p7q9IckGSl2/OrAGA7WTHBVCSs5Jc093Xdvenk7wyyXl7jTkvyWXL69ckeURVVXf/SXd/YFl/VZK7VdUxmzJrAGDb2IkBdHKS69YtX7+s23BMd9+e5GNJTthrzLcmeUd3f+oIzRMA2KaO3uoJbIWqenBWt8XO3sf2C5NcmCSnnnrqJs4MANgMO/EK0A1JTlm3vGtZt+GYqjo6yT2TfGRZ3pXkN5N8d3f/5UZv0N2Xdvdad6+deOKJh3n6AMBW24kB9PYkZ1TVA6rqrknOT3L5XmMuz+oh5yR5fJK3dHdX1bFJXp/kou7+g82aMACwvey4AFqe6XlKkjcm+fMkr+7uq6rqkqr6lmXYS5OcUFXXJHlqkj3fKv+UJKcneXpVvXP5de9N/ggAwBar7t7qOWxra2trvXv37q2eBgBsiqq6srvXtnoeR9qOuwIEAHCoBBAAMI4AAgDGEUAAwDgCCAAYRwABAOMIIABgHAEEAIwjgACAcQQQADCOAAIAxhFAAMA4AggAGEcAAQDjCCAAYBwBBACMI4AAgHEEEAAwjgACAMYRQADAOAIIABhHAAEA4wggAGAcAQQAjCOAAIBxBBAAMI4AAgDGEUAAwDgCCAAYRwABAOMIIABgHAEEAIwjgACAcQQQADCOAAIAxhFAAMA4AggAGEcAAQDjCCAAYBwBBACMI4AAgHEEEAAwjgACAMYRQADAOAIIABhHAAEA4wggAGAcAQQAjCOAAIBxBBAAMI4AAgDGEUAAwDgCCAAYRwABAOMIIABgHAEEAIwjgACAcQQQADCOAAIAxhFAAMA4AggAGEcAAQDjCCAAYBwBBACMI4AAgHEEEAAwjgACAMYRQADAOAIIABhHAAEA4wggAGCcHRlAVXVuVb2nqq6pqos22H5MVb1q2f62qjpt3banLevfU1XnbOrEAYBtYccFUFUdleTFSR6d5MwkT6iqM/ca9qQkt3b36UlekOQ5y75nJjk/yYOTnJvkJcvxAIBBdlwAJTkryTXdfW13fzrJK5Oct9eY85Jctrx+TZJHVFUt61/Z3Z/q7vcmuWY5HgAwyE4MoJOTXLdu+fpl3YZjuvv2JB9LcsIB7gsA3MntxAA64qrqwqraXVW7b7rppq2eDgBwmO3EALohySnrlnct6zYcU1VHJ7lnko8c4L7p7ku7e62710488cTDOHUAYDvYiQH09iRnVNUDququWT3UfPleYy5PcsHy+vFJ3tLdvaw/f/kusQckOSPJH2/SvAGAbeLorZ7AHdXdt1fVU5K8MclRSV7W3VdV1SVJdnf35UlemuTlVXVNkluyiqQs416d5F1Jbk/yg939mS35IADAlqnVhRH2ZW1trXfv3r3V0wCATVFVV3b32lbP40jbibfAAAAOiQACAMYRQADAOAIIABhHAAEA4wggAGAcAQQAjCOAAIBxBBAAMI4AAgDGEUAAwDgCCAAYRwABAOMIIABgHAEEAIwjgACAcQQQADCOAAIAxhFAAMA4AggAGEcAAQDjCCAAYBwBBACMI4AAgHEEEAAwjgACAMYRQADAOAIIABhHAAEA4wggAGAcAQQAjCOAAIBxBBAAMI4AAgDGEUAAwDgCCAAYRwABAOMIIABgHAEEAIwjgACAcQQQADCOAAIAxhFAAMA4AggAGEcAAQDjCCAAYBwBBACMI4AAgHEEEAAwjgACAMYRQADAOAIIABhHAAEA4wggAGAcAQQAjCOAAIBxBBAAMI4AAgDGEUAAwDgCCAAYRwABAOMIIABgHAEEAIwjgACAcQQQADCOAAIAxhFAAMA4AggAGEcAAQDjCCAAYJwdFUBVdXxVXVFVVy+/H7ePcRcsY66uqguWdXevqtdX1bur6qqqevbmzh4A2C52VAAluSjJm7v7jCRvXpY/R1Udn+TiJA9NclaSi9eF0s9394OSPCTJ11XVozdn2gDAdrLTAui8JJctry9L8tgNxpyT5IruvqW7b01yRZJzu/uT3f27SdLdn07yjiS7jvyUAYDtZqcF0H26+8bl9QeT3GeDMScnuW7d8vXLur9XVccmeUxWV5EAgGGO3uoJ7K2q3pTkvhts+qn1C93dVdUHcfyjk7wiyYu6+9p9jLkwyYVJcuqpp97RtwAAtrltF0Dd/ch9bauqD1XV/br7xqq6X5IPbzDshiQPX7e8K8lb1y1fmuTq7n7hfuZw6TIua2trdziyAIDtbafdArs8yQXL6wuSvHaDMW9McnZVHbc8/Hz2si5V9awk90zyI0d+qgDAdrXTAujZSR5VVVcneeSynKpaq6pfS5LuviXJM5O8ffl1SXffUlW7srqNdmaSd1TVO6vq+7fiQwAAW6u63eHZn7W1td69e/dWTwMANkVVXdnda1s9jyNtp10BAgA4ZAIIABhHAAEA4wggAGAcAQQAjCOAAIBxBBAAMI4AAgDGEUAAwDgCCAAYRwABAOMIIABgHAEEAIwjgACAcQQQADCOAAIAxhFAAMA4AggAGEcAAQDjCCAAYBwBBACMI4AAgHEEEAAwjgACAMYRQADAOAIIABhHAAEA4wggAGAcAQQAjCOAAIBxBBAAMI4AAgDGEUAAwDgCCAAYRwABAOMIIABgHAEEAIwjgACAcQQQADCOAAIAxhFAAMA4AggAGEcAAQDjCCAAYBwBBACMI4AAgHEEEAAwjgACAMYRQADAOAIIABhHAAEA4wggAGAcAQQAjCOAAIBxBBAAMI4AAgDGEUAAwDgCCAAYRwABAOMIIABgHAEEAIwjgACAcQQQADCOAAIAxhFAAMA4AggAGEcAAQDjCCAAYBwBBACMI4AAgHF2VABV1fFVdUVVXb38ftw+xl2wjLm6qi7YYPvlVfVnR37GAMB2tKMCKMlFSd7c3WckefOy/Dmq6vgkFyd5aJKzkly8PpSq6nFJbtuc6QIA29FOC6Dzkly2vL4syWM3GHNOkiu6+5buvjXJFUnOTZKqukeSpyZ51pGfKgCwXe20ALpPd9+4vP5gkvtsMObkJNetW75+WZckz0zyvCSfPGIzBAC2vaO3egJ7q6o3JbnvBpt+av1Cd3dV9R047lcleWB3/2hVnfYFxl6Y5MIkOfXUUw/0LQCAHWLbBVB3P3Jf26rqQ1V1v+6+sarul+TDGwy7IcnD1y3vSvLWJA9LslZV78vqc9+7qt7a3Q/fa/9096VJLk2StbW1A44sAGBn2Gm3wC5Psue7ui5I8toNxrwxydlVddzy8PPZSd7Y3b/U3Sd192lJvj7JX2wUPwDAnd9OC6BnJ3lUVV2d5JHLcqpqrap+LUm6+5asnvV5+/LrkmUdAECSpLrd4dmftbW13r1791ZPAwA2RVVd2d1rWz2PI22nXQECADhkAggAGEcAAQDjCCAAYBwBBACMI4AAgHEEEAAwjgACAMYRQADAOAIIABhHAAEA4wggAGAcAQQAjCOAAIBxBBAAMI4AAgDGEUAAwDgCCAAYRwABAOMIIABgHAEEAIwjgACAcQQQADCOAAIAxhFAAMA4AggAGEcAAQDjCCAAYBwBBACMI4AAgHEEEAAwjgACAMYRQADAOAIIABhHAAEA4wggAGAcAQQAjCOAAIBxBBAAMI4AAgDGEUAAwDgCCAAYRwABAOMIIABgHAEEAIwjgACAcQQQADCOAAIAxhFAAMA4AggAGEcAAQDjCCAAYBwBBACMI4AAgHGqu7d6DttaVd2U5P1bPY9Ndq8kN2/1JHY45/DQOYeHzjk8PKadx/t394lbPYkjTQDxeapqd3evbfU8djLn8NA5h4fOOTw8nMc7J7fAAIBxBBAAMI4AYiOXbvUE7gScw0PnHB465/DwcB7vhDwDBACM4woQADCOABqqqo6vqiuq6url9+P2Me6CZczVVXXBBtsvr6o/O/Iz3n4O5RxW1d2r6vVV9e6quqqqnr25s99aVXVuVb2nqq6pqos22H5MVb1q2f62qjpt3banLevfU1XnbOrEt5GDPYdV9aiqurKq/nT5/Zs2ffLbxKH8PVy2n1pVt1XVj2/apDlsBNBcFyV5c3efkeTNy/LnqKrjk1yc5KFJzkpy8fov8lX1uCS3bc50t6VDPYc/390PSvKQJF9XVY/enGlvrao6KsmLkzw6yZlJnlBVZ+417ElJbu3u05O8IMlzln3PTHJ+kgcnOTfJS5bjjXIo5zCrn2fzmO7+iiQXJHn55sx6eznEc7jH85O84UjPlSNDAM11XpLLlteXJXnsBmPOSXJFd9/S3bcmuSKrLzqpqnskeWqSZx35qW5bB30Ou/uT3f27SdLdn07yjiS7jvyUt4WzklzT3dcun/2VWZ3L9daf29ckeURV1bL+ld39qe5+b5JrluNNc9DnsLv/pLs/sKy/KsndquqYTZn19nIofw9TVY9N8t6sziE7kACa6z7dfePy+oNJ7rPBmJOTXLdu+fplXZI8M8nzknzyiM1w+zvUc5gkqapjkzwmq6tIE3zBc7J+THffnuRjSU44wH0nOJRzuN63JnlHd3/qCM1zOzvoc7j8A/Ank/zMJsyTI+TorZ4AR05VvSnJfTfY9FPrF7q7q+qAvx2wqr4qyQO7+0f3vid+Z3OkzuG64x+d5BVJXtTd1x7cLOGOq6oHZ3VL5+ytnssO9IwkL+ju25YLQuxAAuhOrLsfua9tVfWhqrpfd99YVfdL8uENht2Q5OHrlncleWuShyVZq6r3ZfV36N5V9dbufnjuZI7gOdzj0iRXd/cLD322O8YNSU5Zt7xrWbfRmOuXSLxnko8c4L4THMo5TFXtSvKbSb67u//yyE93WzqUc/jQJI+vqucmOTbJZ6vqb7v7F4/4rDls3AKb6/KsHoDM8vtrNxjzxiRnV9Vxy4O7Zyd5Y3f/Unef1N2nJfn6JH9xZ4yfA3DQ5zBJqupZWf0H9UeO/FS3lbcnOaOqHlBVd83qoebL9xqz/tw+PslbevVDyy5Pcv7y3TkPSHJGkj/epHlvJwd9Dpdbrq9PclF3/8FmTXgbOuhz2N3f0N2nLf8NfGGSnxM/O48AmuvZSR5VVVcneeSynKpaq6pfS5LuviWrZ33evvy6ZFnHykGfw+Vf4D+V1XefvKOq3llV378VH2KzLc9SPCWrEPzzJK/u7quq6pKq+pZl2Euzetbimqwetr9o2feqJK9O8q4kv53kB7v7M5v9GbbaoZzDZb/Tkzx9+Xv3zqq69yZ/hC13iOeQOwE/CRoAGMcVIABgHAEEAIwjgACAcQQQADCOAAIAxhFAAMA4AggAGEcAAQDjCCAAYBwBBACMI4AAgHEEEAAwjgACAMYRQADAOAIIABhHAAEA4wggAGAcAQQAjCOAAIBxBBAAMI4AAgDGEUAAwDgCCAAYRwABAOMIIABgHAEEAIwjgACAcQQQADCOAAIAxhFAAMA4AggAGEcAAQDjCCAAYBwBBACMI4AAgHEEEAAwjgACAMYRQADAOAIIABhHAAEA4wggAGAcAQQAjCOAAIBxBBAAMI4AAgDGEUAAwDgCCAAYRwABAOMIIABgHAEEAIwjgACAcQQQADCOAAIAxhFAAMA4AggAGEcAAQDj/H8YHsPZXh6LBQAAAABJRU5ErkJggg==' width=576.0/>\n",
              "            </div>\n",
              "        "
            ],
            "application/vnd.jupyter.widget-view+json": {
              "version_major": 2,
              "version_minor": 0,
              "model_id": "3f6d94f615af4a2abc9f034b700dbf93"
            }
          },
          "metadata": {
            "application/vnd.jupyter.widget-view+json": {
              "colab": {
                "custom_widget_manager": {
                  "url": "https://ssl.gstatic.com/colaboratory-static/widgets/colab-cdn-widget-manager/b3e629b1971e1542/manager.min.js"
                }
              }
            }
          }
        }
      ]
    },
    {
      "cell_type": "markdown",
      "source": [
        "## Draggable Rectangle Exercise"
      ],
      "metadata": {
        "id": "8-KodGmpBLbH"
      }
    },
    {
      "cell_type": "code",
      "source": [
        "class DraggableRectangle:\n",
        "    def __init__(self, rect):\n",
        "        self.rect = rect\n",
        "        self.press = None\n",
        "\n",
        "    def connect(self):\n",
        "        \"\"\"Connect to all events we need\"\"\"\n",
        "        self.cidpress = self.rect.figure.canvas.mpl_connect(\n",
        "            'button_press_event', self.on_press)\n",
        "        self.cidrelease = self.rect.figure.canvas.mpl_connect(\n",
        "            'button_release_event', self.on_release)\n",
        "        self.cidmotion = self.rect.figure.canvas.mpl_connect(\n",
        "            'motion_notify_event', self.on_motion)\n",
        "\n",
        "    def on_press(self, event):\n",
        "        if event.inaxes != self.rect.axes:\n",
        "            return\n",
        "        contains, attrd = self.rect.contains(event)\n",
        "        if not contains:\n",
        "            return\n",
        "        #print('event contains', self.rect.xy)\n",
        "        self.press = self.rect.xy, (event.xdata, event.ydata)\n",
        "        #print(self.press)\n",
        "\n",
        "    def on_motion(self, event): \n",
        "        \"\"\"Move the rectangle if the mouse is over us\"\"\"\n",
        "        if self.press is None or event.inaxes != self.rect.axes:\n",
        "            return \n",
        "        (x0, y0), (xpress, ypress) = self.press \n",
        "        dx = event.xdata - xpress \n",
        "        dy = event.ydata - ypress\n",
        "        self.rect.set_x(x0 + dx)\n",
        "        self.rect.set_y(y0 + dy)\n",
        "        self.rect.figure.canvas.draw()\n",
        "\n",
        "    def on_release(self, event): \n",
        "        \"\"\"Clear button press information\"\"\"\n",
        "        self.press = None \n",
        "        self.rect.figure.canvas.draw()\n",
        "\n",
        "    def disconnect(self):\n",
        "        \"\"\"Disconnect all callbacks.\"\"\"\n",
        "        self.rect.figure.canvas.mpl_disconnect(self.cidpress)\n",
        "        self.rect.figure.canvas.mpl_disconnect(self.cidrelease)\n",
        "        self.rect.figure.canvas.mpl_disconnect(self.cidmotion)\n",
        "\n",
        "fig = plt.figure(figsize=(8, 8))\n",
        "ax = fig.add_subplot(111)\n",
        "rects = ax.bar(range(10), 20 * np.random.rand(10))\n",
        "\n",
        "# Reason for `drs` variable\n",
        "# The canvas retains only weak references to instance \n",
        "# methods used as callbacks. Therefore, you need to \n",
        "# retain a reference to instances owning such methods. \n",
        "# Otherwise the instance will be garbage-collected \n",
        "# and the callback will vanish.\n",
        "# This does not affect free functions used as callbacks.\n",
        "drs = []\n",
        "for rect in rects:\n",
        "    dr = DraggableRectangle(rect)\n",
        "    dr.connect()\n",
        "    drs.append(dr)\n",
        "\n",
        "plt.show()"
      ],
      "metadata": {
        "colab": {
          "base_uri": "https://localhost:8080/",
          "height": 665,
          "referenced_widgets": [
            "04f03b3105124585946352b7251b7f65",
            "d57bb6c1035e4ae988ed4a8e298f8ce9",
            "7a7d5f1ee98e4fb091643957b27568d4",
            "2becb61825ae4ce18ade8f5b7371ca54"
          ]
        },
        "id": "clCRf6mICfK1",
        "outputId": "72b8d4eb-b0fe-48cb-bb79-d34d7c436d94"
      },
      "execution_count": 7,
      "outputs": [
        {
          "output_type": "display_data",
          "data": {
            "text/plain": [
              "Canvas(toolbar=Toolbar(toolitems=[('Home', 'Reset original view', 'home', 'home'), ('Back', 'Back to previous …"
            ],
            "image/png": "[encoded data removed]",
            "text/html": [
              "\n",
              "            <div style=\"display: inline-block;\">\n",
              "                <div class=\"jupyter-widgets widget-label\" style=\"text-align: center;\">\n",
              "                    Figure\n",
              "                </div>\n",
              "                <img src='data:image/png;base64,iVBORw0KGgoAAAANSUhEUgAAAkAAAAJACAYAAABlmtk2AAAAOXRFWHRTb2Z0d2FyZQBNYXRwbG90bGliIHZlcnNpb24zLjYuMywgaHR0cHM6Ly9tYXRwbG90bGliLm9yZy/P9b71AAAACXBIWXMAAAsTAAALEwEAmpwYAAAUKUlEQVR4nO3da4jl913H8c/XjEVTxVYy3prGiaKRWpTKqNXirakS3WJ84IMGW6pWFkRrlULZ6oM+XbR4AUVZ2ljBEJEYLxgvLd6KUKObtNpc6oW6pltTM6V4QcEY+vXBjhKXTVPTnfObOd/XC0Lm/Of/4JNDQt77OzPnVHcHAGCST1o9AABg0wQQADCOAAIAxhFAAMA4AggAGEcAAQDjCCAAYBwBBACMI4AAgHEEEAAwjgACAMYRQADAOAIIABhHAAEA4wggAGAcAQQAjCOAAIBxBBAAMI4AAgDGEUAAwDgCCAAYRwABAOMIIABgHAEEAIwjgACAcQQQADCOAAIAxhFAAMA4AggAGEcAAQDjCCAAYBwBBACMI4AAgHEEEAAwjgACAMYRQADAOAIIABhHAAEA4wggAGAcAQQAjCOAAIBxBBAAMI4AAgDGEUAAwDgCCAAYRwABAOMIIABgHAEEAIwjgACAcQQQADCOAAIAxhFAAMA4AggAGEcAAQDjCCAAYBwBBACMI4AAgHEEEAAwjgACAMYRQADAOAIIABhHAAEA4wggAGAcAQQAjCOAAIBxBBAAMI4AAgDGEUAAwDg7qwccd9ddd13v7e2tngEAG3Hfffd9uLt3V+84agLoaezt7eX8+fOrZwDARlTVP6zesAleAgMAxhFAAMA4AggAGEcAAQDjCCAAYBwBBACMI4AAgHEEEAAwjgACAMYRQADAOAIIABhHAAEA4wggAGAcAQQAjCOAAIBxBBAAMI4AAgDGEUAAwDgCCAAYZ2f1AAA4qfbO3LN6Qi6cPbV6wonkBAgAGEcAAQDjCCAAYBwBBACMI4AAgHEEEAAwjgACAMYRQADAOAIIABhHAAEA4wggAGAcAQQAjCOAAIBxBBAAMI4AAgDGEUAAwDg7qwcAwJXsnbln9YRcOHtq9QSOiBMgAGAcAQQAjCOAAIBxBBAAMM5WBlBV3V5Vj1XVA5ddf21Vva+qHqyqH1+1DwBYaysDKMnbktzy5AtV9U1Jbk3y5d39pUnevGAXAHAMbGUAdfc7k3zkssvfn+Rsd//n4T2PbXwYAHAsbGUAPYUvTvJ1VXVvVf1JVX3l6kEAwBqT3ghxJ8lnJnlxkq9M8qtV9QXd3ZffWFWnk5xOkhtuuGGjIwGAozfpBOhikrv7kj9P8tEk113pxu4+19373b2/u7u70ZEAwNGbFEC/keSbkqSqvjjJs5J8eOUgAGCNrXwJrKruTPKNSa6rqotJ3pTk9iS3H/5q/ONJXn2ll78AgO23lQHU3bc9xbdeudEhAMCxNOklMACAJAIIABhIAAEA4wggAGAcAQQAjCOAAIBxBBAAMI4AAgDGEUAAwDgCCAAYRwABAOMIIABgHAEEAIwjgACAcQQQADCOAAIAxhFAAMA4AggAGEcAAQDjCCAAYJyd1QMAtsnemXtWT8iFs6dWT4BjzwkQADCOAAIAxhFAAMA4AggAGEcAAQDjCCAAYBwBBACMI4AAgHEEEAAwjgACAMYRQADAOAIIABhHAAEA4wggAGAcAQQAjCOAAIBxBBAAMI4AAgDG2doAqqrbq+qxqnrgCt97fVV1VV23YhsAsNbWBlCStyW55fKLVfX8JN+S5JFNDwIAjoetDaDufmeSj1zhWz+V5A1JerOLAIDjYmsD6Eqq6tYkH+zuv1y9BQBYZ2f1gE2pqmuT/Gguvfz1dPeeTnI6SW644YYjXgYAbNqkE6AvTHJjkr+sqgtJrk9yf1V9zuU3dve57t7v7v3d3d0NzwQAjtqYE6Dufm+Sz/qfx4cRtN/dH142CgBYYmtPgKrqziTvSnJTVV2sqtes3gQAHA9bewLU3bc9zff3NjQFADhmtvYECADgqWztCRCfmL0z96yekAtnT62eAMCWcgIEAIwjgACAcQQQADCOAAIAxhFAAMA4AggAGEcAAQDjeB8gTizvVQTAM+UECAAYRwABAOMIIABgHAEEAIwjgACAcQQQADCOAAIAxhFAAMA4AggAGEcAAQDjCCAAYBwBBACMI4AAgHEEEAAwjgACAMYRQADAOAIIABhHAAEA4wggAGAcAQQAjCOAAIBxBBAAMI4AAgDGEUAAwDgCCAAYRwABAOMIIABgHAEEAIwjgACAcQQQADDOVgZQVd1eVY9V1QNPuvYTVfW+qvqrqvr1qnrOwokAwEJbGUBJ3pbklsuuvSPJC7v7y5L8TZI3bnoUAHA8bGUAdfc7k3zksmtv7+4nDh/+WZLrNz4MADgWtjKAPg7fm+R3V48AANYYF0BV9WNJnkhyx8e453RVna+q8wcHB5sbBwBsxKgAqqrvTvLyJN/V3f1U93X3ue7e7+793d3dje0DADZjZ/WATamqW5K8Ick3dPd/rN4DAKyzlSdAVXVnkncluamqLlbVa5L8bJJPT/KOqnpPVf3C0pEAwDJbeQLU3bdd4fJbNz4EADiWtvIECADgYxFAAMA4AggAGEcAAQDjCCAAYBwBBACMI4AAgHEEEAAwjgACAMYRQADAOAIIABhHAAEA4wggAGAcAQQAjCOAAIBxBBAAMI4AAgDGEUAAwDgCCAAYRwABAOMIIABgHAEEAIwjgACAcQQQADCOAAIAxhFAAMA4AggAGEcAAQDjCCAAYBwBBACMI4AAgHEEEAAwjgACAMYRQADAOAIIABhHAAEA4wggAGAcAQQAjCOAAIBxtjaAqur2qnqsqh540rXPrKp3VNXfHv79uSs3AgBrbG0AJXlbklsuu3YmyR909xcl+YPDxwDAMFsbQN39ziQfuezyrUl+6fDrX0ryHZvcBAAcD1sbQE/hs7v70cOvP5Tks1eOAQDWmBZA/6u7O0lf6XtVdbqqzlfV+YODgw0vAwCO2rQA+qeq+twkOfz7Y1e6qbvPdfd+d+/v7u5udCAAcPSmBdBvJXn14devTvKbC7cAAItsbQBV1Z1J3pXkpqq6WFWvSXI2yTdX1d8mednhYwBgmJ3VA45Kd9/2FN+6eaNDAIBjZ2tPgAAAnooAAgDGEUAAwDgCCAAYRwABAOMIIABgHAEEAIwjgACAcQQQADDO1r4TNABXtnfmntUTcuHsqdUTGM4JEAAwjgACAMYRQADAOAIIABhHAAEA4wggAGAcAQQAjCOAAIBxBBAAMI4AAgDGEUAAwDgCCAAYRwABAOMIIABgHAEEAIwjgACAcQQQADCOAAIAxhFAAMA4AggAGEcAAQDjCCAAYBwBBACMI4AAgHEEEAAwjgACAMYRQADAOAIIABhHAAEA4wggAGCccQFUVT9SVQ9W1QNVdWdVfcrqTQDAZo0KoKp6XpIfSrLf3S9Mck2SV6xdBQBs2qgAOrST5FOraifJtUn+cfEeAGDDRgVQd38wyZuTPJLk0ST/0t1vX7sKANi0UQFUVc9NcmuSG5N8XpJnV9Urr3Df6ao6X1XnDw4ONj0TADhiowIoycuS/H13H3T3fyW5O8nXXn5Td5/r7v3u3t/d3d34SADgaE0LoEeSvLiqrq2qSnJzkocXbwIANmxUAHX3vUnuSnJ/kvfm0j//uaWjAICN21k9YNO6+01J3rR6BwCwzqgTIACARAABAAMJIABgHAEEAIwjgACAcQQQADCOAAIAxhFAAMA4AggAGEcAAQDjCCAAYBwBBACMI4AAgHEEEAAwzs7qAdPsnbln9YRcOHtq9QQAWMoJEAAwjgACAMYRQADAOAIIABhHAAEA4wggAGAcAQQAjCOAAIBxBBAAMI4AAgDGEUAAwDgCCAAYRwABAOMIIABgHAEEAIwjgACAcQQQADCOAAIAxhFAAMA4AggAGEcAAQDjCCAAYBwBBACMI4AAgHHGBVBVPaeq7qqq91XVw1X1Nas3AQCbtbN6wAI/k+T3uvs7q+pZSa5dPQgA2KxRAVRVn5Hk65N8d5J09+NJHl+5CQDYvGkvgd2Y5CDJL1bVu6vqLVX17NWjAIDNmhZAO0m+IsnPd/eLkvx7kjOX31RVp6vqfFWdPzg42PRGAOCITQugi0kudve9h4/vyqUg+j+6+1x373f3/u7u7kYHAgBHb1QAdfeHknygqm46vHRzkocWTgIAFhj1Q9CHXpvkjsPfAHt/ku9ZvAcA2LBxAdTd70myv3oHALDOqJfAAAASAQQADCSAAIBxBBAAMI4AAgDGEUAAwDgCCAAYRwABAOMIIABgHAEEAIwjgACAcQQQADCOAAIAxhFAAMA4AggAGEcAAQDjCCAAYBwBBACMI4AAgHF2Vg+Abbd35p7VE3Lh7KnVEwCOFSdAAMA4ToCAE8FJGnA1OQECAMYRQADAOF4CA7y8BIzjBAgAGEcAAQDjCCAAYBwBBACMI4AAgHEEEAAwjgACAMYRQADAOAIIABhHAAEA4wggAGAcAQQAjCOAAIBxBBAAMI4AAgDGGRlAVXVNVb27qn579RYAYPNGBlCS1yV5ePUIAGCNcQFUVdcnOZXkLau3AABrjAugJD+d5A1JPrp4BwCwyKgAqqqXJ3msu+97mvtOV9X5qjp/cHCwoXUAwKaMCqAkL0ny7VV1IcmvJHlpVf3y5Td197nu3u/u/d3d3U1vBACO2KgA6u43dvf13b2X5BVJ/rC7X7l4FgCwYaMCCAAgSXZWD1ilu/84yR8vngEALOAECAAYRwABAOMIIABgHAEEAIwjgACAcQQQADCOAAIAxhFAAMA4AggAGEcAAQDjCCAAYBwBBACMI4AAgHEEEAAwjgACAMYRQADAOAIIABhHAAEA4wggAGAcAQQAjCOAAIBxBBAAMI4AAgDGEUAAwDgCCAAYRwABAOMIIABgHAEEAIwjgACAcQQQADCOAAIAxhFAAMA4AggAGEcAAQDjCCAAYBwBBACMI4AAgHEEEAAwjgACAMYZFUBV9fyq+qOqeqiqHqyq163eBABs3s7qARv2RJLXd/f9VfXpSe6rqnd090OrhwEAmzPqBKi7H+3u+w+//rckDyd53tpVAMCmjQqgJ6uqvSQvSnLv4ikAwIaNDKCq+rQkv5bkh7v7X6/w/dNVdb6qzh8cHGx+IABwpMYFUFV9ci7Fzx3dffeV7unuc9293937u7u7mx0IABy5UQFUVZXkrUke7u6fXL0HAFhjVAAleUmSVyV5aVW95/Cvb1s9CgDYrFG/Bt/df5qkVu8AANaadgIEACCAAIB5BBAAMI4AAgDGEUAAwDgCCAAYRwABAOMIIABgHAEEAIwjgACAcQQQADCOAAIAxhFAAMA4AggAGEcAAQDjCCAAYBwBBACMI4AAgHEEEAAwjgACAMYRQADAOAIIABhHAAEA4wggAGAcAQQAjCOAAIBxBBAAMI4AAgDGEUAAwDgCCAAYRwABAOMIIABgHAEEAIwjgACAcQQQADCOAAIAxhFAAMA4AggAGEcAAQDjCCAAYJxxAVRVt1TVX1fV31XVmdV7AIDNGxVAVXVNkp9L8q1JXpDktqp6wdpVAMCmjQqgJF+V5O+6+/3d/XiSX0ly6+JNAMCGTQug5yX5wJMeXzy8BgAMUt29esPGVNV3Jrmlu7/v8PGrknx1d//gZfedTnL68OFNSf56o0Of3nVJPrx6xJbwXF4dnserx3N59Xgun5nP7+7d1SOO2s7qARv2wSTPf9Lj6w+v/R/dfS7JuU2N+v+qqvPdvb96xzbwXF4dnserx3N59Xgu+VimvQT2F0m+qKpurKpnJXlFkt9avAkA2LBRJ0Dd/URV/WCS309yTZLbu/vBxbMAgA0bFUBJ0t2/k+R3Vu/4BB3bl+dOIM/l1eF5vHo8l1eP55KnNOqHoAEAknk/AwQAIIBOEh/jcXVU1fOr6o+q6qGqerCqXrd600lXVddU1bur6rdXbznJquo5VXVXVb2vqh6uqq9ZvemkqqofOfzv+4GqurOqPmX1Jo4XAXRC+BiPq+qJJK/v7hckeXGSH/BcfsJel+Th1SO2wM8k+b3u/pIkXx7P6TNSVc9L8kNJ9rv7hbn0Sy+vWLuK40YAnRw+xuMq6e5Hu/v+w6//LZf+J+MdwZ+hqro+yakkb1m95SSrqs9I8vVJ3pok3f14d//z0lEn206ST62qnSTXJvnHxXs4ZgTQyeFjPI5AVe0leVGSexdPOcl+Oskbknx08Y6T7sYkB0l+8fDlxLdU1bNXjzqJuvuDSd6c5JEkjyb5l+5++9pVHDcCiLGq6tOS/FqSH+7uf1295ySqqpcneay771u9ZQvsJPmKJD/f3S9K8u9J/KzfM1BVz82lE/Ibk3xekmdX1SvXruK4EUAnx8f1MR58fKrqk3Mpfu7o7rtX7znBXpLk26vqQi69LPvSqvrltZNOrItJLnb3/5xG3pVLQcT/38uS/H13H3T3fyW5O8nXLt7EMSOATg4f43GVVFXl0s9ZPNzdP7l6z0nW3W/s7uu7ey+X/p38w+72J+1noLs/lOQDVXXT4aWbkzy0cNJJ9kiSF1fVtYf/vd8cP1DOZca9E/RJ5WM8rqqXJHlVkvdW1XsOr/3o4buEw0qvTXLH4R9y3p/kexbvOZG6+96quivJ/bn0W5/vjneF5jLeCRoAGMdLYADAOAIIABhHAAEA4wggAGAcAQQAjCOAAIBxBBAAMI4AAgDGEUAAwDgCCAAYRwABAOMIIABgHAEEAIwjgACAcQQQADCOAAIAxhFAAMA4AggAGEcAAQDjCCAAYBwBBACMI4AAgHEEEAAwjgACAMYRQADAOAIIABhHAAEA4wggAGAcAQQAjCOAAIBxBBAAMI4AAgDGEUAAwDgCCAAYRwABAOMIIABgHAEEAIwjgACAcQQQADCOAAIAxhFAAMA4AggAGEcAAQDjCCAAYBwBBACMI4AAgHEEEAAwjgACAMYRQADAOAIIABhHAAEA4wggAGAcAQQAjCOAAIBxBBAAMI4AAgDG+W9E/w7ksGCmygAAAABJRU5ErkJggg==' width=576.0/>\n",
              "            </div>\n",
              "        "
            ],
            "application/vnd.jupyter.widget-view+json": {
              "version_major": 2,
              "version_minor": 0,
              "model_id": "04f03b3105124585946352b7251b7f65"
            }
          },
          "metadata": {
            "application/vnd.jupyter.widget-view+json": {
              "colab": {
                "custom_widget_manager": {
                  "url": "https://ssl.gstatic.com/colaboratory-static/widgets/colab-cdn-widget-manager/b3e629b1971e1542/manager.min.js"
                }
              }
            }
          }
        }
      ]
    },
    {
      "cell_type": "markdown",
      "source": [
        "## Mouse enter and leave\n",
        "\n",
        "- If you want to be notified when the mouse enters or leaves a figure or axes\n",
        "    - connect to the figure/axes enter/leave events"
      ],
      "metadata": {
        "id": "rlaDyuU2ii91"
      }
    },
    {
      "cell_type": "code",
      "source": [
        "\"\"\"\n",
        "Illustrate the figure and axes enter and leave events by changing the\n",
        "frame colors on enter and leave\n",
        "\"\"\"\n",
        "\n",
        "def enter_axes(event):\n",
        "    print('enter_axes', event.inaxes)\n",
        "    event.inaxes.patch.set_facecolor('yellow')\n",
        "    event.canvas.draw()\n",
        "\n",
        "def leave_axes(event):\n",
        "    print('eave_axes', event.inaxes)\n",
        "    event.inaxes.patch.set_facecolor('white')\n",
        "    event.canvas.draw()\n",
        "\n",
        "fig1, axs = plt.subplots(2)\n",
        "fig1.suptitle(\"mouse hover over figure or axes to trigger events\")\n",
        "\n",
        "fig1.canvas.mpl_connect('axes_enter_event', enter_axes)\n",
        "fig1.canvas.mpl_connect('axes_leave_event', leave_axes)\n",
        "\n",
        "fig2, axs = plt.subplots(2)\n",
        "fig2.suptitle(\"mouse hover over figure or axes to trigger events\")\n",
        "\n",
        "fig2.canvas.mpl_connect('axes_enter_event', enter_axes)\n",
        "fig2.canvas.mpl_connect('axes_leave_event', leave_axes)\n",
        "\n",
        "plt.show()"
      ],
      "metadata": {
        "colab": {
          "base_uri": "https://localhost:8080/",
          "height": 737,
          "referenced_widgets": [
            "1a6276dbd3cd46c0a354ad1f0da1e2db",
            "48eb4b4a05e34d52a09a60f13b61d04f",
            "4f3410d5b1d04587a42adfa13fcdec11",
            "4929da0390fe4b4cb1b0c46c8aea7498",
            "72ef641e79c64ce49a678462af0d16fb",
            "3905ade5d8084ffba02571c55ba34a43",
            "5401d1c9fef2407e900e61d6ba1e4055",
            "aa40a39a485445869143ce2c31593d30"
          ]
        },
        "id": "tz0uk17YCf3X",
        "outputId": "7e214d28-0101-401f-f42d-78d91ebaf3f9"
      },
      "execution_count": 8,
      "outputs": [
        {
          "output_type": "display_data",
          "data": {
            "text/plain": [
              "Canvas(toolbar=Toolbar(toolitems=[('Home', 'Reset original view', 'home', 'home'), ('Back', 'Back to previous …"
            ],
            "image/png": "[encoded data removed]",
            "text/html": [
              "\n",
              "            <div style=\"display: inline-block;\">\n",
              "                <div class=\"jupyter-widgets widget-label\" style=\"text-align: center;\">\n",
              "                    Figure\n",
              "                </div>\n",
              "                <img src='data:image/png;base64,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' width=432.0/>\n",
              "            </div>\n",
              "        "
            ],
            "application/vnd.jupyter.widget-view+json": {
              "version_major": 2,
              "version_minor": 0,
              "model_id": "1a6276dbd3cd46c0a354ad1f0da1e2db"
            }
          },
          "metadata": {
            "application/vnd.jupyter.widget-view+json": {
              "colab": {
                "custom_widget_manager": {
                  "url": "https://ssl.gstatic.com/colaboratory-static/widgets/colab-cdn-widget-manager/b3e629b1971e1542/manager.min.js"
                }
              }
            }
          }
        },
        {
          "output_type": "display_data",
          "data": {
            "text/plain": [
              "Canvas(toolbar=Toolbar(toolitems=[('Home', 'Reset original view', 'home', 'home'), ('Back', 'Back to previous …"
            ],
            "image/png": "[encoded data removed]",
            "text/html": [
              "\n",
              "            <div style=\"display: inline-block;\">\n",
              "                <div class=\"jupyter-widgets widget-label\" style=\"text-align: center;\">\n",
              "                    Figure\n",
              "                </div>\n",
              "                <img src='data:image/png;base64,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' width=432.0/>\n",
              "            </div>\n",
              "        "
            ],
            "application/vnd.jupyter.widget-view+json": {
              "version_major": 2,
              "version_minor": 0,
              "model_id": "72ef641e79c64ce49a678462af0d16fb"
            }
          },
          "metadata": {
            "application/vnd.jupyter.widget-view+json": {
              "colab": {
                "custom_widget_manager": {
                  "url": "https://ssl.gstatic.com/colaboratory-static/widgets/colab-cdn-widget-manager/b3e629b1971e1542/manager.min.js"
                }
              }
            }
          }
        }
      ]
    }
  ]
}