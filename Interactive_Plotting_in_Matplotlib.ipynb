{
  "nbformat": 4,
  "nbformat_minor": 0,
  "metadata": {
    "colab": {
      "provenance": [],
      "toc_visible": true,
      "authorship_tag": "ABX9TyNjH6eKBjizE74GuUGNsJuh",
      "include_colab_link": true
    },
    "kernelspec": {
      "name": "python3",
      "display_name": "Python 3"
    },
    "language_info": {
      "name": "python"
    },
    "widgets": {
      "application/vnd.jupyter.widget-state+json": {
        "dde482ad83594857b8e0734a62bdc66b": {
          "model_module": "jupyter-matplotlib",
          "model_name": "MPLCanvasModel",
          "model_module_version": "^0.11",
          "state": {
            "_cursor": "default",
            "_data_url": "data:image/png;base64,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",
            "_dom_classes": [],
            "_figure_label": "Figure 1",
            "_image_mode": "full",
            "_message": "",
            "_model_module": "jupyter-matplotlib",
            "_model_module_version": "^0.11",
            "_model_name": "MPLCanvasModel",
            "_rubberband_height": 0,
            "_rubberband_width": 0,
            "_rubberband_x": 0,
            "_rubberband_y": 0,
            "_size": [
              576,
              576
            ],
            "_view_count": null,
            "_view_module": "jupyter-matplotlib",
            "_view_module_version": "^0.11",
            "_view_name": "MPLCanvasView",
            "capture_scroll": false,
            "footer_visible": true,
            "header_visible": true,
            "layout": "IPY_MODEL_568742ba4de647d1b517d9091bcde749",
            "pan_zoom_throttle": 33,
            "resizable": true,
            "toolbar": "IPY_MODEL_7d0fe9c17b0d46fb8dcb1916751b2a60",
            "toolbar_position": "left",
            "toolbar_visible": "fade-in-fade-out"
          }
        },
        "568742ba4de647d1b517d9091bcde749": {
          "model_module": "@jupyter-widgets/base",
          "model_name": "LayoutModel",
          "model_module_version": "1.2.0",
          "state": {
            "_model_module": "@jupyter-widgets/base",
            "_model_module_version": "1.2.0",
            "_model_name": "LayoutModel",
            "_view_count": null,
            "_view_module": "@jupyter-widgets/base",
            "_view_module_version": "1.2.0",
            "_view_name": "LayoutView",
            "align_content": null,
            "align_items": null,
            "align_self": null,
            "border": null,
            "bottom": null,
            "display": null,
            "flex": null,
            "flex_flow": null,
            "grid_area": null,
            "grid_auto_columns": null,
            "grid_auto_flow": null,
            "grid_auto_rows": null,
            "grid_column": null,
            "grid_gap": null,
            "grid_row": null,
            "grid_template_areas": null,
            "grid_template_columns": null,
            "grid_template_rows": null,
            "height": null,
            "justify_content": null,
            "justify_items": null,
            "left": null,
            "margin": null,
            "max_height": null,
            "max_width": null,
            "min_height": null,
            "min_width": null,
            "object_fit": null,
            "object_position": null,
            "order": null,
            "overflow": null,
            "overflow_x": null,
            "overflow_y": null,
            "padding": null,
            "right": null,
            "top": null,
            "visibility": null,
            "width": null
          }
        },
        "7d0fe9c17b0d46fb8dcb1916751b2a60": {
          "model_module": "jupyter-matplotlib",
          "model_name": "ToolbarModel",
          "model_module_version": "^0.11",
          "state": {
            "_current_action": "",
            "_dom_classes": [],
            "_model_module": "jupyter-matplotlib",
            "_model_module_version": "^0.11",
            "_model_name": "ToolbarModel",
            "_view_count": null,
            "_view_module": "jupyter-matplotlib",
            "_view_module_version": "^0.11",
            "_view_name": "ToolbarView",
            "button_style": "",
            "collapsed": true,
            "layout": "IPY_MODEL_58ccc33a05f6455c8eb0da6a7af0da37",
            "orientation": "vertical",
            "toolitems": [
              [
                "Home",
                "Reset original view",
                "home",
                "home"
              ],
              [
                "Back",
                "Back to previous view",
                "arrow-left",
                "back"
              ],
              [
                "Forward",
                "Forward to next view",
                "arrow-right",
                "forward"
              ],
              [
                "Pan",
                "Left button pans, Right button zooms\nx/y fixes axis, CTRL fixes aspect",
                "arrows",
                "pan"
              ],
              [
                "Zoom",
                "Zoom to rectangle\nx/y fixes axis",
                "square-o",
                "zoom"
              ],
              [
                "Download",
                "Download plot",
                "floppy-o",
                "save_figure"
              ]
            ]
          }
        },
        "58ccc33a05f6455c8eb0da6a7af0da37": {
          "model_module": "@jupyter-widgets/base",
          "model_name": "LayoutModel",
          "model_module_version": "1.2.0",
          "state": {
            "_model_module": "@jupyter-widgets/base",
            "_model_module_version": "1.2.0",
            "_model_name": "LayoutModel",
            "_view_count": null,
            "_view_module": "@jupyter-widgets/base",
            "_view_module_version": "1.2.0",
            "_view_name": "LayoutView",
            "align_content": null,
            "align_items": null,
            "align_self": null,
            "border": null,
            "bottom": null,
            "display": null,
            "flex": null,
            "flex_flow": null,
            "grid_area": null,
            "grid_auto_columns": null,
            "grid_auto_flow": null,
            "grid_auto_rows": null,
            "grid_column": null,
            "grid_gap": null,
            "grid_row": null,
            "grid_template_areas": null,
            "grid_template_columns": null,
            "grid_template_rows": null,
            "height": null,
            "justify_content": null,
            "justify_items": null,
            "left": null,
            "margin": null,
            "max_height": null,
            "max_width": null,
            "min_height": null,
            "min_width": null,
            "object_fit": null,
            "object_position": null,
            "order": null,
            "overflow": null,
            "overflow_x": null,
            "overflow_y": null,
            "padding": null,
            "right": null,
            "top": null,
            "visibility": null,
            "width": null
          }
        },
        "deac95be52c547e7a92bfd244b53a3fa": {
          "model_module": "jupyter-matplotlib",
          "model_name": "MPLCanvasModel",
          "model_module_version": "^0.11",
          "state": {
            "_cursor": "default",
            "_data_url": "data:image/png;base64,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",
            "_dom_classes": [],
            "_figure_label": "Figure 2",
            "_image_mode": "full",
            "_message": "",
            "_model_module": "jupyter-matplotlib",
            "_model_module_version": "^0.11",
            "_model_name": "MPLCanvasModel",
            "_rubberband_height": 0,
            "_rubberband_width": 0,
            "_rubberband_x": 0,
            "_rubberband_y": 0,
            "_size": [
              576,
              576
            ],
            "_view_count": null,
            "_view_module": "jupyter-matplotlib",
            "_view_module_version": "^0.11",
            "_view_name": "MPLCanvasView",
            "capture_scroll": false,
            "footer_visible": true,
            "header_visible": true,
            "layout": "IPY_MODEL_96f34be404a646f680f07578017bd5ab",
            "pan_zoom_throttle": 33,
            "resizable": true,
            "toolbar": "IPY_MODEL_160ac661314a4b45afe5802f0c93901a",
            "toolbar_position": "left",
            "toolbar_visible": "fade-in-fade-out"
          }
        },
        "96f34be404a646f680f07578017bd5ab": {
          "model_module": "@jupyter-widgets/base",
          "model_name": "LayoutModel",
          "model_module_version": "1.2.0",
          "state": {
            "_model_module": "@jupyter-widgets/base",
            "_model_module_version": "1.2.0",
            "_model_name": "LayoutModel",
            "_view_count": null,
            "_view_module": "@jupyter-widgets/base",
            "_view_module_version": "1.2.0",
            "_view_name": "LayoutView",
            "align_content": null,
            "align_items": null,
            "align_self": null,
            "border": null,
            "bottom": null,
            "display": null,
            "flex": null,
            "flex_flow": null,
            "grid_area": null,
            "grid_auto_columns": null,
            "grid_auto_flow": null,
            "grid_auto_rows": null,
            "grid_column": null,
            "grid_gap": null,
            "grid_row": null,
            "grid_template_areas": null,
            "grid_template_columns": null,
            "grid_template_rows": null,
            "height": null,
            "justify_content": null,
            "justify_items": null,
            "left": null,
            "margin": null,
            "max_height": null,
            "max_width": null,
            "min_height": null,
            "min_width": null,
            "object_fit": null,
            "object_position": null,
            "order": null,
            "overflow": null,
            "overflow_x": null,
            "overflow_y": null,
            "padding": null,
            "right": null,
            "top": null,
            "visibility": null,
            "width": null
          }
        },
        "160ac661314a4b45afe5802f0c93901a": {
          "model_module": "jupyter-matplotlib",
          "model_name": "ToolbarModel",
          "model_module_version": "^0.11",
          "state": {
            "_current_action": "",
            "_dom_classes": [],
            "_model_module": "jupyter-matplotlib",
            "_model_module_version": "^0.11",
            "_model_name": "ToolbarModel",
            "_view_count": null,
            "_view_module": "jupyter-matplotlib",
            "_view_module_version": "^0.11",
            "_view_name": "ToolbarView",
            "button_style": "",
            "collapsed": true,
            "layout": "IPY_MODEL_95b17858550e421d9aaa6ef93bfecef4",
            "orientation": "vertical",
            "toolitems": [
              [
                "Home",
                "Reset original view",
                "home",
                "home"
              ],
              [
                "Back",
                "Back to previous view",
                "arrow-left",
                "back"
              ],
              [
                "Forward",
                "Forward to next view",
                "arrow-right",
                "forward"
              ],
              [
                "Pan",
                "Left button pans, Right button zooms\nx/y fixes axis, CTRL fixes aspect",
                "arrows",
                "pan"
              ],
              [
                "Zoom",
                "Zoom to rectangle\nx/y fixes axis",
                "square-o",
                "zoom"
              ],
              [
                "Download",
                "Download plot",
                "floppy-o",
                "save_figure"
              ]
            ]
          }
        },
        "95b17858550e421d9aaa6ef93bfecef4": {
          "model_module": "@jupyter-widgets/base",
          "model_name": "LayoutModel",
          "model_module_version": "1.2.0",
          "state": {
            "_model_module": "@jupyter-widgets/base",
            "_model_module_version": "1.2.0",
            "_model_name": "LayoutModel",
            "_view_count": null,
            "_view_module": "@jupyter-widgets/base",
            "_view_module_version": "1.2.0",
            "_view_name": "LayoutView",
            "align_content": null,
            "align_items": null,
            "align_self": null,
            "border": null,
            "bottom": null,
            "display": null,
            "flex": null,
            "flex_flow": null,
            "grid_area": null,
            "grid_auto_columns": null,
            "grid_auto_flow": null,
            "grid_auto_rows": null,
            "grid_column": null,
            "grid_gap": null,
            "grid_row": null,
            "grid_template_areas": null,
            "grid_template_columns": null,
            "grid_template_rows": null,
            "height": null,
            "justify_content": null,
            "justify_items": null,
            "left": null,
            "margin": null,
            "max_height": null,
            "max_width": null,
            "min_height": null,
            "min_width": null,
            "object_fit": null,
            "object_position": null,
            "order": null,
            "overflow": null,
            "overflow_x": null,
            "overflow_y": null,
            "padding": null,
            "right": null,
            "top": null,
            "visibility": null,
            "width": null
          }
        },
        "32c392c22b584313b9c0626db089e6b4": {
          "model_module": "jupyter-matplotlib",
          "model_name": "MPLCanvasModel",
          "model_module_version": "^0.11",
          "state": {
            "_cursor": "default",
            "_data_url": "data:image/png;base64,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",
            "_dom_classes": [],
            "_figure_label": "Figure 3",
            "_image_mode": "full",
            "_message": "",
            "_model_module": "jupyter-matplotlib",
            "_model_module_version": "^0.11",
            "_model_name": "MPLCanvasModel",
            "_rubberband_height": 0,
            "_rubberband_width": 0,
            "_rubberband_x": 0,
            "_rubberband_y": 0,
            "_size": [
              576,
              576
            ],
            "_view_count": null,
            "_view_module": "jupyter-matplotlib",
            "_view_module_version": "^0.11",
            "_view_name": "MPLCanvasView",
            "capture_scroll": false,
            "footer_visible": true,
            "header_visible": true,
            "layout": "IPY_MODEL_420effce78ac4efd83a1343b126b8d34",
            "pan_zoom_throttle": 33,
            "resizable": true,
            "toolbar": "IPY_MODEL_e9d387f608ad429abbe2dc9b2cc73bc1",
            "toolbar_position": "left",
            "toolbar_visible": "fade-in-fade-out"
          }
        },
        "420effce78ac4efd83a1343b126b8d34": {
          "model_module": "@jupyter-widgets/base",
          "model_name": "LayoutModel",
          "model_module_version": "1.2.0",
          "state": {
            "_model_module": "@jupyter-widgets/base",
            "_model_module_version": "1.2.0",
            "_model_name": "LayoutModel",
            "_view_count": null,
            "_view_module": "@jupyter-widgets/base",
            "_view_module_version": "1.2.0",
            "_view_name": "LayoutView",
            "align_content": null,
            "align_items": null,
            "align_self": null,
            "border": null,
            "bottom": null,
            "display": null,
            "flex": null,
            "flex_flow": null,
            "grid_area": null,
            "grid_auto_columns": null,
            "grid_auto_flow": null,
            "grid_auto_rows": null,
            "grid_column": null,
            "grid_gap": null,
            "grid_row": null,
            "grid_template_areas": null,
            "grid_template_columns": null,
            "grid_template_rows": null,
            "height": null,
            "justify_content": null,
            "justify_items": null,
            "left": null,
            "margin": null,
            "max_height": null,
            "max_width": null,
            "min_height": null,
            "min_width": null,
            "object_fit": null,
            "object_position": null,
            "order": null,
            "overflow": null,
            "overflow_x": null,
            "overflow_y": null,
            "padding": null,
            "right": null,
            "top": null,
            "visibility": null,
            "width": null
          }
        },
        "e9d387f608ad429abbe2dc9b2cc73bc1": {
          "model_module": "jupyter-matplotlib",
          "model_name": "ToolbarModel",
          "model_module_version": "^0.11",
          "state": {
            "_current_action": "",
            "_dom_classes": [],
            "_model_module": "jupyter-matplotlib",
            "_model_module_version": "^0.11",
            "_model_name": "ToolbarModel",
            "_view_count": null,
            "_view_module": "jupyter-matplotlib",
            "_view_module_version": "^0.11",
            "_view_name": "ToolbarView",
            "button_style": "",
            "collapsed": true,
            "layout": "IPY_MODEL_9df883062e894de3b246d28c5f7c3c24",
            "orientation": "vertical",
            "toolitems": [
              [
                "Home",
                "Reset original view",
                "home",
                "home"
              ],
              [
                "Back",
                "Back to previous view",
                "arrow-left",
                "back"
              ],
              [
                "Forward",
                "Forward to next view",
                "arrow-right",
                "forward"
              ],
              [
                "Pan",
                "Left button pans, Right button zooms\nx/y fixes axis, CTRL fixes aspect",
                "arrows",
                "pan"
              ],
              [
                "Zoom",
                "Zoom to rectangle\nx/y fixes axis",
                "square-o",
                "zoom"
              ],
              [
                "Download",
                "Download plot",
                "floppy-o",
                "save_figure"
              ]
            ]
          }
        },
        "9df883062e894de3b246d28c5f7c3c24": {
          "model_module": "@jupyter-widgets/base",
          "model_name": "LayoutModel",
          "model_module_version": "1.2.0",
          "state": {
            "_model_module": "@jupyter-widgets/base",
            "_model_module_version": "1.2.0",
            "_model_name": "LayoutModel",
            "_view_count": null,
            "_view_module": "@jupyter-widgets/base",
            "_view_module_version": "1.2.0",
            "_view_name": "LayoutView",
            "align_content": null,
            "align_items": null,
            "align_self": null,
            "border": null,
            "bottom": null,
            "display": null,
            "flex": null,
            "flex_flow": null,
            "grid_area": null,
            "grid_auto_columns": null,
            "grid_auto_flow": null,
            "grid_auto_rows": null,
            "grid_column": null,
            "grid_gap": null,
            "grid_row": null,
            "grid_template_areas": null,
            "grid_template_columns": null,
            "grid_template_rows": null,
            "height": null,
            "justify_content": null,
            "justify_items": null,
            "left": null,
            "margin": null,
            "max_height": null,
            "max_width": null,
            "min_height": null,
            "min_width": null,
            "object_fit": null,
            "object_position": null,
            "order": null,
            "overflow": null,
            "overflow_x": null,
            "overflow_y": null,
            "padding": null,
            "right": null,
            "top": null,
            "visibility": null,
            "width": null
          }
        },
        "68e2db14713a4a3085f9bb21c9050e99": {
          "model_module": "jupyter-matplotlib",
          "model_name": "MPLCanvasModel",
          "model_module_version": "^0.11",
          "state": {
            "_cursor": "default",
            "_data_url": "data:image/png;base64,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",
            "_dom_classes": [],
            "_figure_label": "Figure 4",
            "_image_mode": "full",
            "_message": "",
            "_model_module": "jupyter-matplotlib",
            "_model_module_version": "^0.11",
            "_model_name": "MPLCanvasModel",
            "_rubberband_height": 0,
            "_rubberband_width": 0,
            "_rubberband_x": 0,
            "_rubberband_y": 0,
            "_size": [
              576,
              576
            ],
            "_view_count": null,
            "_view_module": "jupyter-matplotlib",
            "_view_module_version": "^0.11",
            "_view_name": "MPLCanvasView",
            "capture_scroll": false,
            "footer_visible": true,
            "header_visible": true,
            "layout": "IPY_MODEL_003acd28a4504731bfc09d49074947fd",
            "pan_zoom_throttle": 33,
            "resizable": true,
            "toolbar": "IPY_MODEL_a64c64e0129148b6908adad76e509363",
            "toolbar_position": "left",
            "toolbar_visible": "fade-in-fade-out"
          }
        },
        "003acd28a4504731bfc09d49074947fd": {
          "model_module": "@jupyter-widgets/base",
          "model_name": "LayoutModel",
          "model_module_version": "1.2.0",
          "state": {
            "_model_module": "@jupyter-widgets/base",
            "_model_module_version": "1.2.0",
            "_model_name": "LayoutModel",
            "_view_count": null,
            "_view_module": "@jupyter-widgets/base",
            "_view_module_version": "1.2.0",
            "_view_name": "LayoutView",
            "align_content": null,
            "align_items": null,
            "align_self": null,
            "border": null,
            "bottom": null,
            "display": null,
            "flex": null,
            "flex_flow": null,
            "grid_area": null,
            "grid_auto_columns": null,
            "grid_auto_flow": null,
            "grid_auto_rows": null,
            "grid_column": null,
            "grid_gap": null,
            "grid_row": null,
            "grid_template_areas": null,
            "grid_template_columns": null,
            "grid_template_rows": null,
            "height": null,
            "justify_content": null,
            "justify_items": null,
            "left": null,
            "margin": null,
            "max_height": null,
            "max_width": null,
            "min_height": null,
            "min_width": null,
            "object_fit": null,
            "object_position": null,
            "order": null,
            "overflow": null,
            "overflow_x": null,
            "overflow_y": null,
            "padding": null,
            "right": null,
            "top": null,
            "visibility": null,
            "width": null
          }
        },
        "a64c64e0129148b6908adad76e509363": {
          "model_module": "jupyter-matplotlib",
          "model_name": "ToolbarModel",
          "model_module_version": "^0.11",
          "state": {
            "_current_action": "",
            "_dom_classes": [],
            "_model_module": "jupyter-matplotlib",
            "_model_module_version": "^0.11",
            "_model_name": "ToolbarModel",
            "_view_count": null,
            "_view_module": "jupyter-matplotlib",
            "_view_module_version": "^0.11",
            "_view_name": "ToolbarView",
            "button_style": "",
            "collapsed": true,
            "layout": "IPY_MODEL_802db232d38d48da9f31110d3b656131",
            "orientation": "vertical",
            "toolitems": [
              [
                "Home",
                "Reset original view",
                "home",
                "home"
              ],
              [
                "Back",
                "Back to previous view",
                "arrow-left",
                "back"
              ],
              [
                "Forward",
                "Forward to next view",
                "arrow-right",
                "forward"
              ],
              [
                "Pan",
                "Left button pans, Right button zooms\nx/y fixes axis, CTRL fixes aspect",
                "arrows",
                "pan"
              ],
              [
                "Zoom",
                "Zoom to rectangle\nx/y fixes axis",
                "square-o",
                "zoom"
              ],
              [
                "Download",
                "Download plot",
                "floppy-o",
                "save_figure"
              ]
            ]
          }
        },
        "802db232d38d48da9f31110d3b656131": {
          "model_module": "@jupyter-widgets/base",
          "model_name": "LayoutModel",
          "model_module_version": "1.2.0",
          "state": {
            "_model_module": "@jupyter-widgets/base",
            "_model_module_version": "1.2.0",
            "_model_name": "LayoutModel",
            "_view_count": null,
            "_view_module": "@jupyter-widgets/base",
            "_view_module_version": "1.2.0",
            "_view_name": "LayoutView",
            "align_content": null,
            "align_items": null,
            "align_self": null,
            "border": null,
            "bottom": null,
            "display": null,
            "flex": null,
            "flex_flow": null,
            "grid_area": null,
            "grid_auto_columns": null,
            "grid_auto_flow": null,
            "grid_auto_rows": null,
            "grid_column": null,
            "grid_gap": null,
            "grid_row": null,
            "grid_template_areas": null,
            "grid_template_columns": null,
            "grid_template_rows": null,
            "height": null,
            "justify_content": null,
            "justify_items": null,
            "left": null,
            "margin": null,
            "max_height": null,
            "max_width": null,
            "min_height": null,
            "min_width": null,
            "object_fit": null,
            "object_position": null,
            "order": null,
            "overflow": null,
            "overflow_x": null,
            "overflow_y": null,
            "padding": null,
            "right": null,
            "top": null,
            "visibility": null,
            "width": null
          }
        },
        "e112b8ae820046ce90dd45abe58968a4": {
          "model_module": "jupyter-matplotlib",
          "model_name": "MPLCanvasModel",
          "model_module_version": "^0.11",
          "state": {
            "_cursor": "default",
            "_data_url": "data:image/png;base64,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",
            "_dom_classes": [],
            "_figure_label": "Figure 6",
            "_image_mode": "full",
            "_message": "",
            "_model_module": "jupyter-matplotlib",
            "_model_module_version": "^0.11",
            "_model_name": "MPLCanvasModel",
            "_rubberband_height": 0,
            "_rubberband_width": 0,
            "_rubberband_x": 0,
            "_rubberband_y": 0,
            "_size": [
              432,
              288
            ],
            "_view_count": null,
            "_view_module": "jupyter-matplotlib",
            "_view_module_version": "^0.11",
            "_view_name": "MPLCanvasView",
            "capture_scroll": false,
            "footer_visible": true,
            "header_visible": true,
            "layout": "IPY_MODEL_1ed310201a7945c09865b894794e0ae7",
            "pan_zoom_throttle": 33,
            "resizable": true,
            "toolbar": "IPY_MODEL_c60b9761d4024432b34ef07f23df49f9",
            "toolbar_position": "left",
            "toolbar_visible": "fade-in-fade-out"
          }
        },
        "1ed310201a7945c09865b894794e0ae7": {
          "model_module": "@jupyter-widgets/base",
          "model_name": "LayoutModel",
          "model_module_version": "1.2.0",
          "state": {
            "_model_module": "@jupyter-widgets/base",
            "_model_module_version": "1.2.0",
            "_model_name": "LayoutModel",
            "_view_count": null,
            "_view_module": "@jupyter-widgets/base",
            "_view_module_version": "1.2.0",
            "_view_name": "LayoutView",
            "align_content": null,
            "align_items": null,
            "align_self": null,
            "border": null,
            "bottom": null,
            "display": null,
            "flex": null,
            "flex_flow": null,
            "grid_area": null,
            "grid_auto_columns": null,
            "grid_auto_flow": null,
            "grid_auto_rows": null,
            "grid_column": null,
            "grid_gap": null,
            "grid_row": null,
            "grid_template_areas": null,
            "grid_template_columns": null,
            "grid_template_rows": null,
            "height": null,
            "justify_content": null,
            "justify_items": null,
            "left": null,
            "margin": null,
            "max_height": null,
            "max_width": null,
            "min_height": null,
            "min_width": null,
            "object_fit": null,
            "object_position": null,
            "order": null,
            "overflow": null,
            "overflow_x": null,
            "overflow_y": null,
            "padding": null,
            "right": null,
            "top": null,
            "visibility": null,
            "width": null
          }
        },
        "c60b9761d4024432b34ef07f23df49f9": {
          "model_module": "jupyter-matplotlib",
          "model_name": "ToolbarModel",
          "model_module_version": "^0.11",
          "state": {
            "_current_action": "",
            "_dom_classes": [],
            "_model_module": "jupyter-matplotlib",
            "_model_module_version": "^0.11",
            "_model_name": "ToolbarModel",
            "_view_count": null,
            "_view_module": "jupyter-matplotlib",
            "_view_module_version": "^0.11",
            "_view_name": "ToolbarView",
            "button_style": "",
            "collapsed": true,
            "layout": "IPY_MODEL_84d727c70139432796020a43db33fed9",
            "orientation": "vertical",
            "toolitems": [
              [
                "Home",
                "Reset original view",
                "home",
                "home"
              ],
              [
                "Back",
                "Back to previous view",
                "arrow-left",
                "back"
              ],
              [
                "Forward",
                "Forward to next view",
                "arrow-right",
                "forward"
              ],
              [
                "Pan",
                "Left button pans, Right button zooms\nx/y fixes axis, CTRL fixes aspect",
                "arrows",
                "pan"
              ],
              [
                "Zoom",
                "Zoom to rectangle\nx/y fixes axis",
                "square-o",
                "zoom"
              ],
              [
                "Download",
                "Download plot",
                "floppy-o",
                "save_figure"
              ]
            ]
          }
        },
        "84d727c70139432796020a43db33fed9": {
          "model_module": "@jupyter-widgets/base",
          "model_name": "LayoutModel",
          "model_module_version": "1.2.0",
          "state": {
            "_model_module": "@jupyter-widgets/base",
            "_model_module_version": "1.2.0",
            "_model_name": "LayoutModel",
            "_view_count": null,
            "_view_module": "@jupyter-widgets/base",
            "_view_module_version": "1.2.0",
            "_view_name": "LayoutView",
            "align_content": null,
            "align_items": null,
            "align_self": null,
            "border": null,
            "bottom": null,
            "display": null,
            "flex": null,
            "flex_flow": null,
            "grid_area": null,
            "grid_auto_columns": null,
            "grid_auto_flow": null,
            "grid_auto_rows": null,
            "grid_column": null,
            "grid_gap": null,
            "grid_row": null,
            "grid_template_areas": null,
            "grid_template_columns": null,
            "grid_template_rows": null,
            "height": null,
            "justify_content": null,
            "justify_items": null,
            "left": null,
            "margin": null,
            "max_height": null,
            "max_width": null,
            "min_height": null,
            "min_width": null,
            "object_fit": null,
            "object_position": null,
            "order": null,
            "overflow": null,
            "overflow_x": null,
            "overflow_y": null,
            "padding": null,
            "right": null,
            "top": null,
            "visibility": null,
            "width": null
          }
        },
        "975ad10227554491ba60da569c43f3ff": {
          "model_module": "jupyter-matplotlib",
          "model_name": "MPLCanvasModel",
          "model_module_version": "^0.11",
          "state": {
            "_cursor": "default",
            "_data_url": "data:image/png;base64,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",
            "_dom_classes": [],
            "_figure_label": "Figure 5",
            "_image_mode": "full",
            "_message": "",
            "_model_module": "jupyter-matplotlib",
            "_model_module_version": "^0.11",
            "_model_name": "MPLCanvasModel",
            "_rubberband_height": 0,
            "_rubberband_width": 0,
            "_rubberband_x": 0,
            "_rubberband_y": 0,
            "_size": [
              432,
              288
            ],
            "_view_count": null,
            "_view_module": "jupyter-matplotlib",
            "_view_module_version": "^0.11",
            "_view_name": "MPLCanvasView",
            "capture_scroll": false,
            "footer_visible": true,
            "header_visible": true,
            "layout": "IPY_MODEL_8d1c9b7a491f43a4aec16c71ab85565f",
            "pan_zoom_throttle": 33,
            "resizable": true,
            "toolbar": "IPY_MODEL_c842a77bfa224dab9ff03ace59cc54ae",
            "toolbar_position": "left",
            "toolbar_visible": "fade-in-fade-out"
          }
        },
        "8d1c9b7a491f43a4aec16c71ab85565f": {
          "model_module": "@jupyter-widgets/base",
          "model_name": "LayoutModel",
          "model_module_version": "1.2.0",
          "state": {
            "_model_module": "@jupyter-widgets/base",
            "_model_module_version": "1.2.0",
            "_model_name": "LayoutModel",
            "_view_count": null,
            "_view_module": "@jupyter-widgets/base",
            "_view_module_version": "1.2.0",
            "_view_name": "LayoutView",
            "align_content": null,
            "align_items": null,
            "align_self": null,
            "border": null,
            "bottom": null,
            "display": null,
            "flex": null,
            "flex_flow": null,
            "grid_area": null,
            "grid_auto_columns": null,
            "grid_auto_flow": null,
            "grid_auto_rows": null,
            "grid_column": null,
            "grid_gap": null,
            "grid_row": null,
            "grid_template_areas": null,
            "grid_template_columns": null,
            "grid_template_rows": null,
            "height": null,
            "justify_content": null,
            "justify_items": null,
            "left": null,
            "margin": null,
            "max_height": null,
            "max_width": null,
            "min_height": null,
            "min_width": null,
            "object_fit": null,
            "object_position": null,
            "order": null,
            "overflow": null,
            "overflow_x": null,
            "overflow_y": null,
            "padding": null,
            "right": null,
            "top": null,
            "visibility": null,
            "width": null
          }
        },
        "c842a77bfa224dab9ff03ace59cc54ae": {
          "model_module": "jupyter-matplotlib",
          "model_name": "ToolbarModel",
          "model_module_version": "^0.11",
          "state": {
            "_current_action": "",
            "_dom_classes": [],
            "_model_module": "jupyter-matplotlib",
            "_model_module_version": "^0.11",
            "_model_name": "ToolbarModel",
            "_view_count": null,
            "_view_module": "jupyter-matplotlib",
            "_view_module_version": "^0.11",
            "_view_name": "ToolbarView",
            "button_style": "",
            "collapsed": true,
            "layout": "IPY_MODEL_bb6617a93d6f4001b9bf940284deaf83",
            "orientation": "vertical",
            "toolitems": [
              [
                "Home",
                "Reset original view",
                "home",
                "home"
              ],
              [
                "Back",
                "Back to previous view",
                "arrow-left",
                "back"
              ],
              [
                "Forward",
                "Forward to next view",
                "arrow-right",
                "forward"
              ],
              [
                "Pan",
                "Left button pans, Right button zooms\nx/y fixes axis, CTRL fixes aspect",
                "arrows",
                "pan"
              ],
              [
                "Zoom",
                "Zoom to rectangle\nx/y fixes axis",
                "square-o",
                "zoom"
              ],
              [
                "Download",
                "Download plot",
                "floppy-o",
                "save_figure"
              ]
            ]
          }
        },
        "bb6617a93d6f4001b9bf940284deaf83": {
          "model_module": "@jupyter-widgets/base",
          "model_name": "LayoutModel",
          "model_module_version": "1.2.0",
          "state": {
            "_model_module": "@jupyter-widgets/base",
            "_model_module_version": "1.2.0",
            "_model_name": "LayoutModel",
            "_view_count": null,
            "_view_module": "@jupyter-widgets/base",
            "_view_module_version": "1.2.0",
            "_view_name": "LayoutView",
            "align_content": null,
            "align_items": null,
            "align_self": null,
            "border": null,
            "bottom": null,
            "display": null,
            "flex": null,
            "flex_flow": null,
            "grid_area": null,
            "grid_auto_columns": null,
            "grid_auto_flow": null,
            "grid_auto_rows": null,
            "grid_column": null,
            "grid_gap": null,
            "grid_row": null,
            "grid_template_areas": null,
            "grid_template_columns": null,
            "grid_template_rows": null,
            "height": null,
            "justify_content": null,
            "justify_items": null,
            "left": null,
            "margin": null,
            "max_height": null,
            "max_width": null,
            "min_height": null,
            "min_width": null,
            "object_fit": null,
            "object_position": null,
            "order": null,
            "overflow": null,
            "overflow_x": null,
            "overflow_y": null,
            "padding": null,
            "right": null,
            "top": null,
            "visibility": null,
            "width": null
          }
        },
        "db63227cea404abfb29f6d87d5aeaa67": {
          "model_module": "jupyter-matplotlib",
          "model_name": "MPLCanvasModel",
          "model_module_version": "^0.11",
          "state": {
            "_cursor": "default",
            "_data_url": "data:image/png;base64,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",
            "_dom_classes": [],
            "_figure_label": "Figure 7",
            "_image_mode": "full",
            "_message": "",
            "_model_module": "jupyter-matplotlib",
            "_model_module_version": "^0.11",
            "_model_name": "MPLCanvasModel",
            "_rubberband_height": 0,
            "_rubberband_width": 0,
            "_rubberband_x": 0,
            "_rubberband_y": 0,
            "_size": [
              432,
              288
            ],
            "_view_count": null,
            "_view_module": "jupyter-matplotlib",
            "_view_module_version": "^0.11",
            "_view_name": "MPLCanvasView",
            "capture_scroll": false,
            "footer_visible": true,
            "header_visible": true,
            "layout": "IPY_MODEL_d043c30ff8294a9f947c6ee20d650195",
            "pan_zoom_throttle": 33,
            "resizable": true,
            "toolbar": "IPY_MODEL_d4f402c6035e42de8bbc0d872e6be8ed",
            "toolbar_position": "left",
            "toolbar_visible": "fade-in-fade-out"
          }
        },
        "d043c30ff8294a9f947c6ee20d650195": {
          "model_module": "@jupyter-widgets/base",
          "model_name": "LayoutModel",
          "model_module_version": "1.2.0",
          "state": {
            "_model_module": "@jupyter-widgets/base",
            "_model_module_version": "1.2.0",
            "_model_name": "LayoutModel",
            "_view_count": null,
            "_view_module": "@jupyter-widgets/base",
            "_view_module_version": "1.2.0",
            "_view_name": "LayoutView",
            "align_content": null,
            "align_items": null,
            "align_self": null,
            "border": null,
            "bottom": null,
            "display": null,
            "flex": null,
            "flex_flow": null,
            "grid_area": null,
            "grid_auto_columns": null,
            "grid_auto_flow": null,
            "grid_auto_rows": null,
            "grid_column": null,
            "grid_gap": null,
            "grid_row": null,
            "grid_template_areas": null,
            "grid_template_columns": null,
            "grid_template_rows": null,
            "height": null,
            "justify_content": null,
            "justify_items": null,
            "left": null,
            "margin": null,
            "max_height": null,
            "max_width": null,
            "min_height": null,
            "min_width": null,
            "object_fit": null,
            "object_position": null,
            "order": null,
            "overflow": null,
            "overflow_x": null,
            "overflow_y": null,
            "padding": null,
            "right": null,
            "top": null,
            "visibility": null,
            "width": null
          }
        },
        "d4f402c6035e42de8bbc0d872e6be8ed": {
          "model_module": "jupyter-matplotlib",
          "model_name": "ToolbarModel",
          "model_module_version": "^0.11",
          "state": {
            "_current_action": "",
            "_dom_classes": [],
            "_model_module": "jupyter-matplotlib",
            "_model_module_version": "^0.11",
            "_model_name": "ToolbarModel",
            "_view_count": null,
            "_view_module": "jupyter-matplotlib",
            "_view_module_version": "^0.11",
            "_view_name": "ToolbarView",
            "button_style": "",
            "collapsed": true,
            "layout": "IPY_MODEL_4323572f7f4f42c08b69d8bffe20c56a",
            "orientation": "vertical",
            "toolitems": [
              [
                "Home",
                "Reset original view",
                "home",
                "home"
              ],
              [
                "Back",
                "Back to previous view",
                "arrow-left",
                "back"
              ],
              [
                "Forward",
                "Forward to next view",
                "arrow-right",
                "forward"
              ],
              [
                "Pan",
                "Left button pans, Right button zooms\nx/y fixes axis, CTRL fixes aspect",
                "arrows",
                "pan"
              ],
              [
                "Zoom",
                "Zoom to rectangle\nx/y fixes axis",
                "square-o",
                "zoom"
              ],
              [
                "Download",
                "Download plot",
                "floppy-o",
                "save_figure"
              ]
            ]
          }
        },
        "4323572f7f4f42c08b69d8bffe20c56a": {
          "model_module": "@jupyter-widgets/base",
          "model_name": "LayoutModel",
          "model_module_version": "1.2.0",
          "state": {
            "_model_module": "@jupyter-widgets/base",
            "_model_module_version": "1.2.0",
            "_model_name": "LayoutModel",
            "_view_count": null,
            "_view_module": "@jupyter-widgets/base",
            "_view_module_version": "1.2.0",
            "_view_name": "LayoutView",
            "align_content": null,
            "align_items": null,
            "align_self": null,
            "border": null,
            "bottom": null,
            "display": null,
            "flex": null,
            "flex_flow": null,
            "grid_area": null,
            "grid_auto_columns": null,
            "grid_auto_flow": null,
            "grid_auto_rows": null,
            "grid_column": null,
            "grid_gap": null,
            "grid_row": null,
            "grid_template_areas": null,
            "grid_template_columns": null,
            "grid_template_rows": null,
            "height": null,
            "justify_content": null,
            "justify_items": null,
            "left": null,
            "margin": null,
            "max_height": null,
            "max_width": null,
            "min_height": null,
            "min_width": null,
            "object_fit": null,
            "object_position": null,
            "order": null,
            "overflow": null,
            "overflow_x": null,
            "overflow_y": null,
            "padding": null,
            "right": null,
            "top": null,
            "visibility": null,
            "width": null
          }
        }
      }
    }
  },
  "cells": [
    {
      "cell_type": "markdown",
      "metadata": {
        "id": "view-in-github",
        "colab_type": "text"
      },
      "source": [
        "<a href=\"https://colab.research.google.com/github/PaulToronto/Math-and-Data-Science-Reference/blob/main/Interactive_Plotting_in_Matplotlib.ipynb\" target=\"_parent\"><img src=\"https://colab.research.google.com/assets/colab-badge.svg\" alt=\"Open In Colab\"/></a>"
      ]
    },
    {
      "cell_type": "markdown",
      "source": [
        "# Interactive Plotting in Matplotlib"
      ],
      "metadata": {
        "id": "O--D6EOc_U8n"
      }
    },
    {
      "cell_type": "code",
      "source": [
        "!pip install -q ipympl"
      ],
      "metadata": {
        "id": "6UqGd36a__84"
      },
      "execution_count": 1,
      "outputs": []
    },
    {
      "cell_type": "code",
      "source": [
        "import numpy as np\n",
        "import matplotlib.pyplot as plt\n",
        "from mpl_toolkits import mplot3d\n",
        "from google.colab import output\n",
        "output.enable_custom_widget_manager()\n",
        "\n",
        "%matplotlib widget"
      ],
      "metadata": {
        "id": "a1NFAHab_12E"
      },
      "execution_count": 2,
      "outputs": []
    },
    {
      "cell_type": "markdown",
      "source": [
        "## Event Handling\n",
        "\n",
        "[For more details](https://matplotlib.org/stable/users/explain/event_handling.html)"
      ],
      "metadata": {
        "id": "u2p8GfXL_f0W"
      }
    },
    {
      "cell_type": "markdown",
      "source": [
        "## Event connections\n",
        "\n",
        "To receive events:\n",
        "\n",
        "1. Write a callback function\n",
        "2. Connect your function to the event manager, which is part of the `FigureCanvasBase`\n",
        "\n",
        "`mpl_connect` returns a connection id (an integer), which can be used to disconnect the callback via `fig.canvas.mpl_disconnect(cid)`"
      ],
      "metadata": {
        "id": "IIWKinTG_mv3"
      }
    },
    {
      "cell_type": "code",
      "source": [
        "fig = plt.figure(figsize=(8, 8))\n",
        "ax = fig.add_subplot(111)\n",
        "ax.plot(np.random.rand(10))\n",
        "\n",
        "def onclick(event):\n",
        "    print('%s click: button=%d, x=%d, y=%d, xdata=%f, ydata=%f' %\n",
        "          ('double' if event.dblclick else 'single',\n",
        "           event.button,\n",
        "           event.x, \n",
        "           event.y,\n",
        "           event.xdata if event.xdata else -1,\n",
        "           event.ydata if event.ydata else -1))\n",
        "    \n",
        "cid = fig.canvas.mpl_connect('button_press_event', onclick)"
      ],
      "metadata": {
        "colab": {
          "base_uri": "https://localhost:8080/",
          "height": 665,
          "referenced_widgets": [
            "dde482ad83594857b8e0734a62bdc66b",
            "568742ba4de647d1b517d9091bcde749",
            "7d0fe9c17b0d46fb8dcb1916751b2a60",
            "58ccc33a05f6455c8eb0da6a7af0da37"
          ]
        },
        "id": "bk0Gjzaw_rjK",
        "outputId": "e91d8a99-4264-457b-b538-b8f907980bfe"
      },
      "execution_count": 3,
      "outputs": [
        {
          "output_type": "display_data",
          "data": {
            "text/plain": [
              "Canvas(toolbar=Toolbar(toolitems=[('Home', 'Reset original view', 'home', 'home'), ('Back', 'Back to previous …"
            ],
            "image/png": "[encoded data removed]",
            "text/html": [
              "\n",
              "            <div style=\"display: inline-block;\">\n",
              "                <div class=\"jupyter-widgets widget-label\" style=\"text-align: center;\">\n",
              "                    Figure\n",
              "                </div>\n",
              "                <img src='data:image/png;base64,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' width=576.0/>\n",
              "            </div>\n",
              "        "
            ],
            "application/vnd.jupyter.widget-view+json": {
              "version_major": 2,
              "version_minor": 0,
              "model_id": "dde482ad83594857b8e0734a62bdc66b"
            }
          },
          "metadata": {
            "application/vnd.jupyter.widget-view+json": {
              "colab": {
                "custom_widget_manager": {
                  "url": "https://ssl.gstatic.com/colaboratory-static/widgets/colab-cdn-widget-manager/b3e629b1971e1542/manager.min.js"
                }
              }
            }
          }
        }
      ]
    },
    {
      "cell_type": "markdown",
      "source": [
        "## List of Events\n",
        "\n",
        "- 'Event name': `Class`: description\n",
        "---\n",
        "\n",
        "- 'button_press_event': `MouseEvent`: mouse button is pressed\n",
        "- 'button_release_event': `MouseEvent`: mouse button is released\n",
        "- 'close_event': `CloseEvent`: figure is closed\n",
        "- 'draw_event': `DrawEvent`: canvas has been drawn (but screen widget not updated yet)\n",
        "- 'key_press_event': `KeyEvent`: key is pressed\n",
        "- 'key_release_event': `KeyEvent`: key is released\n",
        "- 'motion_notify_event': `MouseEvent`: mouse moves\n",
        "- 'pick_event': `PickEvent`: artist in the canvas is selected\n",
        "- 'resize_event': `ResizeEvent`: figure canvas is resized\n",
        "- 'scroll_event': `MouseEvent`: mouse scroll wheel is rolled\n",
        "- 'figure_enter_event': `LocationEvent`: mouse enters a new figure\n",
        "- 'figure_leave_event': `LocationEvent`: mouse leaves a figure\n",
        "- 'axes_enter_event': `LocationEvent`: mouse enters a new axes\n",
        "- 'axes_leave_event': `LocationEvent`: mouse leaves an axes"
      ],
      "metadata": {
        "id": "v7DbAt_iAi1B"
      }
    },
    {
      "cell_type": "markdown",
      "source": [
        "## Event attributes\n",
        "\n",
        "- All `matplotlib` events inherit from the base class `matplotlib.backend_bases.Event`\n",
        "- as such they have these attributrs\n",
        "    1. `name`: the event name\n",
        "    2. `canvas`: the `FigureCanvas` instance generating the event\n",
        "    3. `guiEvent`: the GUI event that triggered the `matplotlib` event"
      ],
      "metadata": {
        "id": "eJcxoUJ5AnkL"
      }
    },
    {
      "cell_type": "code",
      "source": [
        "fig = plt.figure(figsize=(8, 8))\n",
        "ax = fig.add_subplot(111)\n",
        "ax.plot(np.random.rand(10))\n",
        "\n",
        "def onclick(event):\n",
        "    print(event.name)\n",
        "    print(type(event.name))\n",
        "    print('\\n--')\n",
        "    print(event.canvas, type(event.canvas))\n",
        "    print(type(event.canvas))\n",
        "    print('\\n--')\n",
        "    print(event.guiEvent)\n",
        "    print(type(event.guiEvent))\n",
        "    print('\\n--')\n",
        "    print(event.inaxes)\n",
        "\n",
        "cid2 = fig.canvas.mpl_connect('button_press_event', onclick)"
      ],
      "metadata": {
        "colab": {
          "base_uri": "https://localhost:8080/",
          "height": 665,
          "referenced_widgets": [
            "deac95be52c547e7a92bfd244b53a3fa",
            "96f34be404a646f680f07578017bd5ab",
            "160ac661314a4b45afe5802f0c93901a",
            "95b17858550e421d9aaa6ef93bfecef4"
          ]
        },
        "id": "eBYPsCAxAtMk",
        "outputId": "5adf7bd8-6b1d-4066-c42d-e28daae3d8ad"
      },
      "execution_count": 4,
      "outputs": [
        {
          "output_type": "display_data",
          "data": {
            "text/plain": [
              "Canvas(toolbar=Toolbar(toolitems=[('Home', 'Reset original view', 'home', 'home'), ('Back', 'Back to previous …"
            ],
            "image/png": "[encoded data removed]",
            "text/html": [
              "\n",
              "            <div style=\"display: inline-block;\">\n",
              "                <div class=\"jupyter-widgets widget-label\" style=\"text-align: center;\">\n",
              "                    Figure\n",
              "                </div>\n",
              "                <img src='data:image/png;base64,iVBORw0KGgoAAAANSUhEUgAAAkAAAAJACAYAAABlmtk2AAAAOXRFWHRTb2Z0d2FyZQBNYXRwbG90bGliIHZlcnNpb24zLjYuMywgaHR0cHM6Ly9tYXRwbG90bGliLm9yZy/P9b71AAAACXBIWXMAAAsTAAALEwEAmpwYAABkvElEQVR4nO3deXjj13kf+u+LHSRIgBwCHILkkDPkSBpKXqShFaeOLS8jR3Zj2bXbXCs3aZPmxs3ixFma1k4T1XbcNnUbp03i9FbJbdIkbRTHTRw5UaJIlvctGi22JY0kkiNyAJJDkAC4YN/O/QP4kRgOZ4YLgN/2/TyPn2eIwZDHoyH4xTnnfV9RSoGIiIjIThx6L4CIiIio0xiAiIiIyHYYgIiIiMh2GICIiIjIdhiAiIiIyHYYgIiIiMh2GICIiIjIdhiAiIiIyHYYgIiIiMh2GICIiIjIdhiAiIiIyHYYgIiIiMh2GICIiIjIdhiAiIiIyHYYgIiIiMh2GICIiIjIdhiAiIiIyHYYgIiIiMh2GICIiIjIdhiAiIiIyHYYgIiIiMh2GICIiIjIdhiAiIiIyHYYgIiIiMh2GICIiIjIdhiAiIiIyHYYgIiIiMh2GICIiIjIdhiAiIiIyHYYgIiIiMh2GICIiIjIdhiAiIiIyHYYgIiIiMh2GICIiIjIdhiAiIiIyHYYgIiIiMh2GICIiIjIdhiAiIiIyHYYgIiIiMh2GICIiIjIdhiAiIiIyHYYgIiIiMh2GICIiIjIdhiAiIiIyHYYgIiIiMh2GICIiIjIdhiAiIiIyHYYgIiIiMh2GICIiIjIdhiAiIiIyHYYgIiIiMh2GICIiIjIdhiAiIiIyHYYgIiIiMh2GICIiIjIdhiAiIiIyHYYgIiIiMh2GICIiIjIdhiAiIiIyHYYgIiIiMh2GICIiIjIdhiAiIiIyHYYgIiIiMh2GICIiIjIdhiAiIiIyHYYgIiIiMh2GICIiIjIdhiAiIiIyHZcei/A6AYGBtT4+LjeyyAiIuqIJ598ck0pFdZ7He3GAHQD4+PjOH/+vN7LICIi6ggRWdB7DZ3AIzAiIiKyHQYgIiIish0GICIiIrIdBiAiIiKyHQYgIiIish0GICIiIrIdBiAiIiKyHQYgIiIish0GICIiIrIdBiAiIiKyHQYgIiIish0GICIiIrIdBiAiIiKyHQYgIiIish0GICIiIrIdBiAiIiKyHQYgIiIish0GICI6lHS2hB/43W/gd74wi3K1pvdyiIgOxFIBSETuEZEXRWRWRD64x++PicjnROTbIvIFERnRY51EVvDxR17E1+aS+Pjfvoh3/NZX8NSltN5LIiLaN8sEIBFxAvgkgLcBmAJwn4hM7Xrafwbwh0qpVwL4KID/0NlVElnDU5fSePCJS/ix15/E7/7TaWzky3jPf/sa7v/LZ7FVKOu9PCKiG7JMAAJwJ4BZpdRFpVQJwIMA3rnrOVMAHm/8+vN7/D4R3UClWsOvfOZZDPb48IFzN+HuqUE8+vN34Z999zj+6BsLOPeJL+Jvn12GUkrvpRIRXZOVAtAwgFjTx/HGY82+BeDdjV//IwA9InKsA2sjsow//sYCnlvaxP3vmELA6wIABLwufPjeW/GZn3wd+ru9+PE/fgo/9odPYmk9r/NqiYj2ZqUAtB//EsBdIvI0gLsALAKo7n6SiLxPRM6LyPnV1dVOr5HIsBKbBfz6372EN9wUxttuO37V779qNITPvv91+KW334Kvzq7h7k98Eb//1ZdRrXE3iIiMxUoBaBHAaNPHI43HtimllpRS71ZK3Q7g3zQeW9/9iZRSDyilppVS0+FwuI1LNr5SpYavza7pvQwyiH//8AUUKzV85N5bISJ7PsfldOB9b5jA3/3cGzA93o+PfPZ5vPt3vornljY6vFoiomuzUgB6AsBpETkpIh4A7wXwUPMTRGRARLT/zx8C8D86vEbT+Yun4/iB3/smLiVzei+FdPa1uTV85pkl/PgbJ3ByoPuGzx/t78If/Mhr8Jv33Y7F9Tzu/e2v4t8/fAG5UqUDqyUiuj7LBCClVAXA+wE8AuACgE8ppZ4TkY+KyL2Np70RwIsi8hKAQQD/TpfFmsiF5S0AwKUUA5CdlSr1i88n+rvwk2+c2PefExHc+6ooPvfzb8T3T4/ggS9dxFt/40v4wouJNq6WiOjGXHovoJWUUg8DeHjXY/c3/frTAD7d6XWZ2WwiAwC8zGpzv/eVi5hbzeL3f+Q18LmdB/7zwS43/sO7X4l/dPsIPvTn38YP//4TeMerorj/+6YQ7vG2YcVERNdnmR0gao/tALTBAGRX8XQOv/m5Gdxz63G86ebIkT7XnSf78fAHXo+fO3cTHnn2Mt7y61/An/z9JdR4SZqIOowBiK5ps1DG5c0CAO4A2dlHPvs8HCK4/x27+4oejtflxAfOncbf/OzrcWaoFx/68+/g/3rg65hNbLXk8xMR7QcDEF3TXGP3BwCW1gs6roT08tjzK3j0+RV84C2nEQ35W/q5J8IBPPi+1+Lj//iVeGklg7f91y/jE4++hEL5qs4UREQtxwBE1zTTCEBTQ708ArOhfKmKD3/2OZyOBPDPv+dkW76GiOD7p0fxuV+4C//wFUP4zc/N4O3/9cv4+lyyLV+PiEjDAETXNJfIwONy4LtO9WNpPc/RBjbzyc/PIp7O41ffdRvczva+VAwEvPgv770df/jP70SlpnDf734Dv/hn30I6W2rr1yUi+2IAomuaSWRwaqAbo31dKJRrSOc45NIu5lYzeOBLF/Hu24fx2lOdmxbzhpvCeORn34CfeOME/vzpRZz7xBfxF0/HGb6JqOUYgOiaZhMZTEYC23c/eBHaHpRS+Ld/+Ry8bgc+9PYzHf/6fo8T//qeW/BXP/09GO3vws/96bfwT//H32Mhme34WojIuhiAaE+FchWxdA6TkQCGGYBs5a++vYyvzK7hX33vzbr26Dkz1Iv/8xP/AB995614+tI63vobX8LvfGEW5WpNtzWRtdVqinPrbIQBiPY0t5qBUsDpSA+GQj4ADEB2sFUo41f/6nm8YjiIH/iuMb2XA6dD8E+/exyP/fxdeOPNYXz8b1/EO37rK3jqUlrvpZEF/cKffQs/9b+e0nsZ1CEMQLQnrQHiZCSAY90eeFwOLG2wFN7qfuPRGaxmivjYu26D07H3sFM9HA/68N9/aBoP/NBZrOfKeM9/+xru/8tnsVXgvTRqnWdi63hiPqX3MqhDGIBoT7OJDJwOwfhAF0QEwyE/d4As7rmlDfzB117G//1dJ/Cq0ZDey9nTW289jsd+4S78s+8exx99YwHnPvFF/O2zl/VeFllAraawmM4jmS2x+tAmGIBoTzMrGYz1d8Hrqs99Ggr6GIAsrFZT+JXPPIu+Lg9+8a236L2c6wp4XfjwvbfiL37ydejv9uLH//hJ/Ngfnue/TzqSxFYRpcb9srnVzA2eTVbAAER7mklsYTIS2P44GvKzG7SF/dmTMTx1aR0fevsZBLvcei9nX149GsJD738dPvS2W/DlmVXc/Ykv4ve/+jIvsdKhxNK57V/PJhiA7IABiK5SqtSwkMxdFYASWwVW4FhQOlvCr/3NC7hzvB/vuWNY7+UciNvpwL+4awKP/txdmB7vx0c++zze/TtfxXNLG3ovjUwmzgBkOwxAdJWFZBaVmsLpwaYAFPShpoCVTe4CWc3HH3kBm4UKfvVdt0HEOBefD2K0vwt/8COvwW/edzsW1/O497e/in//8AXkShW9l0YmEUvVj1BPhbt5BGYTDEB0Fe3dz+lIz/ZjO80QGYCs5KlLafzJ38fwo99zEjcf77nxHzAwEcG9r4risZ+/C//k7Age+NJFvPU3voQvvJjQe2lkArFUDuEeL26NBjHLAGQLDEB0FW0I6qlw9/ZjWgBa5lBUy6hUa/jlv3gWx3t9+MBbTuu9nJYJdXnwa+95JT71L74bXpcDP/z7T+Cn/+RprG4V9V4aGVg8ncdonx+T4QDi6TwK5areS6I2YwCiq8wmMhjp86PL49p+LNpohrjIShvL+KNvLOD55U3823dModvruvEfMJk7T/bj4Q+8Hj937iY88uxlvOXXv4AH//4SarwkTXuIpXMY7e/CZCQApVgJZgcMQHSVmcYMsGZdHhdCXW6WGltEYrOAX/+7l3DXTWHcc9txvZfTNl6XEx84dxp/87Ovx5mhXnzwz7+D9z7wDVxmU09qUqnWsLxRwEifHxOR+s733Cpnz1kdAxBdoVpTuLiaweldAQgAokE/lnkHyBI+9tcXUKrW8JF7bzXtxeeDmAgH8OD7XouPv+eV+FZ8Hb/5+IzeSyIDWd4ooFpTGO3rwsmBbjiElWB2wABEV4incyhWalftAAH1e0A8AjO/r86u4aFvLeEn7prA+ED3jf+ARYgIvv81o3jLmQg+d2GFR2G0TesBNNpo/nqivwtzDECWxwBEV9iZAXZ1RVA0xG7QZlesVPErf/ksxo514SfeOKH3cnRx7swgVjaL+M4iewVRXTxdf10b6asXe0xGAtwBsgEGILrCTNMQ1N2iIT82CxVkiuytYla/9+WXcXE1iw/feyt8bqfey9HFm2+JwOkQPHZhRe+lkEHEUzk4ZKfadSIcwMtrWXYVtzgGILrCbCKDSI8XQf/V4xC2S+G5C2RKsVQOv/X4DN5223G86eaI3svRTajLg+mxPjz6PAMQ1cXSeQwF/XA76z8SJyIBlKo1xFK5G/xJMjMGILrCXhVgmmiQpfBm9pHPPg+HCH7l+6b0Xoru7p4axAuXt/gDjgDU7z4ON46/gJ0dcB6DWRsDEG1TSmEusXcFGMBu0Gb26PMreOzCCn723Ont/452dvfUIADwGIwA1MdgjPZ1bX88EW4EIPYCsjQGINp2ebOATLFyzR2gSI8XToewG7TJ5EtVfPih53DTYAA/8rqTei/HEMaOdeN0JMBjMEKxUsXKVmH7AjQABP1uhHu8rASzOAYg2na9CjAAcDkdGOzx8gjMZH778zNYXM/jV9952/YdB6rvAn3z5RQ2cmW9l0I6WlovQKl6CXyzyXCAO0AWx1dD2jazcu0KME005GcpvInMJjJ44EsX8e47hvFdp47pvRxDOTc1iGpN4QsvcViqnWn3wEb7rjwa1krhlWIlmFUxANG2mUQGoS43BgKeaz4nGvJjmWMETEEphfv/8ln43U586G1n9F6O4bx6JISBgJfHYDanNUEc2b0DFAlgq1DhEF0LYwCibXOJDCbDgeuORhgK+bC8XmAXXRN46FtL+NpcEr94zy0I93j1Xo7hOByCc2ci+OKLqyhVanovh3QST+fhdgqO9/queJwXoa2PAYi2zSS2cHrw2sdfADAc8qNUrWEty3dFRrZZKONjf30BrxwJ4gfuPKH3cgzr3JlBbBUr+ObLSb2XQjqJpXKIhvxwOq5846ddBeBFaOtiACIAQDJTRDpXvuYFaE00qDVD5DGYkf3Goy9hLVPEx95121Uv7LTjdZMD8LkdeIzHYLYVT+evqADTDPZ6EfC62AvIwhiACMD1R2A0GwrVt4l5Edq4nlvawP/82jx+8LvG8MqRkN7LMTS/x4nXnw7jsQsJXna1qXg6d0UPII2IYCLCSjArYwAiADsl8NdqgqgZbjTRYym8MdVqCr/8mWfR1+XBv3zrzXovxxTuPjOIxfU8nl/e1Hsp1GG5UgVrmdJVJfCayXAAc4lsh1dFncIARADqAajb48RQ0Hfd5wX9bnR5nKwEM6hPnY/h6Uvr+KW3n0Gw6+p5bnS1N5+JQAR47HmWw9vN4q4p8LtNRLpxebOArQJ7RVkRAxABqAegycj1K8CA+rYwewEZUypbwq/97Qu4c7wf775jWO/lmMZAwIs7TvRxLIYNbZfA73EEBtR3gABgbpW7QFbEAEQA6hVgEzc4/tIMBX0MQAb0H//mBWQKFfzqu267YZClK507M4jvLG5wzIvNxFL1/967myBqOBTV2hiACJuFMlY2izh9gwowzXDIjyUegRnKkwsp/On5GH70e07i5uP7++9IO3aGo/IYzE7i6Ry8Lsc1+2Sd6O+C2ykMQBbFAERNM8D2twMUDfmxulVEsVJt57JonyrVGv7NXzyLoaAPP/OW03ovx5Qmwt04OdDNrtA2E0vVS+CvtWPqcjowfqwbc6wEsyQGINp3BZhGuyh9mbtAhvCHX1/AC5e38G/fMYVur0vv5ZiSSL0r9Nfn1njh1UZi6dw17/9oJiMBNkO0KEsFIBG5R0ReFJFZEfngHr9/QkQ+LyJPi8i3ReTteqzTaGYTGXhcjmuWgu7GUnjjWNks4BOPvoS7bgrje289rvdyTO3uqeMoVxW+PLOm91KoQ+LpPEb7977/o5mMBLCQynFcigVZJgCJiBPAJwG8DcAUgPtEZGrX034ZwKeUUrcDeC+A3+nsKo1pNpHBqYHufXcMjobYDdooPvbXF1Cq1vCRe2/lxecjuuNECH1dbh6D2cRmoYyNfHnPJojNJiMBVGsK80lWglmNZQIQgDsBzCqlLiqlSgAeBPDOXc9RAHobvw4CWOrg+gxrJrG17/s/AHA8yG7QRvCVmTV89ltL+Mk3TmB8oFvv5Ziey+nAm28ZxOMvJFCp8t2+1cVTWg+g6wcgbSgqj8Gsx0oBaBhArOnjeOOxZh8G8IMiEgfwMICf7szSjCtfqiKezu+7AgwAfG4nBgIeLLFkWDfFShX3/+WzGDvWhR+/a0Lv5VjG3VMRbOTLOL+Q1nsp1GZaD6AbHYGdCtffXLASzHqsFID24z4Af6CUGgHwdgB/JCJX/R2IyPtE5LyInF9dXe34IjtpbjUDpfZfAaapN0PkEZhefvdLF3FxLYuP3HsrfG6n3suxjNefDsPjcvAYzAZiqUYAusEOUJfHheGQnzPBLMhKAWgRwGjTxyONx5r9KIBPAYBS6usAfAAGdn8ipdQDSqlppdR0OBxu03KNYbsCbPBgAYjNEPUTS+XwW4/P4u2vOI433hzRezmW0u114XUTx/DYhRUOR7W4eDqPbo8ToX2MjJmMBLgDZEFWCkBPADgtIidFxIP6JeeHdj3nEoC3AICInEE9AFl7i+cGZhMZOB2C8WMHu0OijcPgD4nO+/BDz8HpEPzK9+2+40+tcG5qEAvJHGb4A8/S4ukcRvu79lU8MBEO4OJqFrUaX++sxDIBSClVAfB+AI8AuIB6tddzIvJREbm38bRfAPBjIvItAH8C4IeVzX+CzyS2MHasCx7Xwf4pDIf8yJaq2CxU2rQy2sujz6/gcy8k8HPnbsJQ8Pp3F+hwzp2pd4XmMZi1aU0Q92MyEkC+XOW9R4uxVNc0pdTDqF9ubn7s/qZfPw/gdZ1el5HNJjL7boDYTPvhu7SeR9DPqeOdkCtV8OGHnsNNgwH88OvG9V6OZQ32+vCqkSAeu7CCn3rTpN7LoTZQSiGezuG7J47t6/nNM8FuVDVG5mGZHSA6uFKlhvlk7sAXoAEgGmIpfKf99uOzWFzP42PvegXcTn7rttO5M4N4JraOxBYv+ltROldGtlTdd/NXDkW1Jr6K2thCMotqTR2oBF6jdYPmUNTOmE1s4Xe/fBHvuWMEd57s13s5lnf3rYNQCnicw1EtSasA2+8RWH+3B31dbsytshmilTAA2djMAYegNhsIeOF2CneAOkAphV/5zHPwu5340Ntv0Xs5tnDzYA9G+vx47ALvAVlRPF1/3bpRCXwzzgSzHgYgG5tNZCCy0+n0IBwOwXGWwnfEQ99awtcvJvGv7rkFAwGv3suxhfpw1EF8eWYNuRIv+luN1gRx5AZNEJtNRgLsBWQxDEA2NpPIYDjkh99zuEZ60aCf88DabLNQxq/+1QW8aiSI++48ofdybOWtU4MoVmr4CoejWk48nUPQ70avb/8FHBPhAFLZElLZUhtXRp3EAGRjh60A0wyH/JwI32af+LuXkMwW8bF3vWLfw2qpNV5zsh89PhfL4S0olrrxFPjdJhqvlXPcBbIMBiCbqtYU5lYzh7r/oxkK+XB5s4Aqm4O1xbOLG/jDr8/jh147hleMBPVeju24nQ686eYIHn8hwX/jFhNL5w50/wcAJsOsBLMaBiCbiqdzKFVqh6oA00RDflRrCqtbxRaujACgVlP45c88i/5uD37hrTfrvRzbuntqEMlsCc/EOBzVKpRSWEzvvwmiZjjkh9/tZACyEAYgm5pZqX8TTxxhByjaKIXnMVjr/en5GJ6JreOX3n6GjSZ1dNfNYbidgr/jMZhlrG4VUazU9t0DSONwCE6FuxmALIQByKa0aoajHIFFm7pBU+skM0X82t+8gDtP9uMf3T6s93JsrdfnxmtPHcNjDECWoVWAHfQIDKhfhOYdIOtgALKpmZUMIj3eI+0usBt0e/zHv30B2WIFH3vXbfsa1Ejtde7MIOZWs7jIH3yWoPUAOugRGFB/w7i4nke+VG31skgHDEA2NZvYwunBw+/+AECPz40enwvL7AbdMufnU/jU+Th+9PUncdPg4e9nUeu85UwEANgU0SJ2ukAffAdoMhKAUqwEswoGIBtSSmE2kdmuajiKaJCl8K1Sqdbwy595FtGgDz/z5tN6L4caRvq6MDXUi8ee51gMK4il8hgIeA7V/2ySpfCWwgBkQ8sbBWRLVUy2YIchGmI36Fb5g6/N44XLW7j/Hbei2+vSeznU5NzUIM4vpNgEzwLi67lDT3QfO9YFh4AjMSyCAciGtCqGozRB1ERDfh6BtUA6W8JvPPoS3nhzGN9766Dey6Fd7j4ziJoCHn+Bu0BmV2+CeLgA5HU5MXasmyMxLIIByIaOMgR1t2jIj1S2xEuBR/SdxQ1kS1W87w2nePHZgG4b7sXxXh+rwUyuWlNYWj94D6BmE+EAS+EtggHIhmYTGfR1uXGs23Pkz7VdCbbBY7CjWEhmARxuMC21n4jg3FQEX5pZRaHMsG9WlzcLqNTUoUrgNZORAF5ey6JSrbVwZaQHBiAbmk1sYTISaMlOg9YLiENRj2Y+mYPP7UCkh9PejeruqePIlar4+lxS76XQIWkVYAedA9ZsMhJAuapwqfG5yLwYgGxGKYWZRAaTRxiB0UzrBs2L0EezkMxi/Fg3j78M7LWn+tHtceJRlsOb1k4PoMPvAE2EuwEAc6vZlqyJ9MMAZDPJbAnruXJL7v8AwGCvDyIch3FU88kcxo4d/kWZ2s/rcuKum8N47PkV1Dgc1ZRiqRxEdo7uD0MbH8R7QObHAGQzrawAAwCPq35ss8w7QIdWrSlcSuYwfqxb76XQDdw9NYjEVhHfWdzQeyl0CLF0Dsd7ffC6Dt4DSNPrc2Ow18sAZAEMQDbTygowzVDQjyXeATq0y5sFlKo1jDEAGd6bbo7A6RA8ymowU4ofYgr8XiYjAZbCWwADkM3MJTLo9jgxFDz8FvBuwyE/7wAdwcJa/S7BOI/ADC/U5cH0WB/HYphUPJU7UgWYZiIcwMVEBkrxKNTMGIBsZqaFFWCaaMiHpY08XwwOaT5ZryYZG+AOkBncPTWIFy5vbVcUkTmUKjUsbxZatgO0VawgsVVswcpILwxANjPbwgowzVDQj0K5hnSu3NLPaxcLySw8LgeGelu3K0ftc/dUvVM3j8HMZXkjD6WAkUN2gW6mzVHkPSBzYwCykc1CGSubxZbe/wFYCn9U88ksTvR3weFgCbwZjB3rxk2DAR6DmUwsVX99asUR2CQrwSyBAchGWl0BphlmADqShWQOYy14V0qdc+7MIL75cgob3PU0jXi6fmTZiiOwcI8XPV4Xp8KbHAOQjcyutL4CDGgah8EAdGBKqXoAYgWYqZybGkS1pvCFlzgc1Sxi6RycDmlJAYiIYCLCmWBmxwBkIzOJLXhcjkNPQr6W/m4PvC4HljgV/sBWt4rIl6sYH+AOkJm8eiSEgYCX94BMJJbKIxryweVszY+9SQYg02MAspHZRAanBrrhbPFdExFBNORnN+hD2K4A4w6QqTgcgnNnIvjii6soVTgU0wzi6RxGQq17ozEZCSCxVcRmgcegZsUAZCMziQxOD7a2AkwTDfmwzAB0YPNJ9gAyq3NnBrFVrOCbL3M4qhnE0vkjDUHdbaJRCTbHXSDTYgCyiVypgsX1fMsvQGvYDfpwFpJZuByyfZGczON7Tg/A53bgMR6DGV6hXMXqVrElFWAaVoKZHwOQTVxczUKp1l+A1kRDfqxsFVCu8jjgIOaTOYz0+Vt2L4E6x+d24vWnw3j0+RU2ATW47SnwLdwBGu3zw+N0cCSGifFV1ybaVQKvGQ75oBSwssldoINYSGZ5/8fE7p4axNJGAc8vb+q9FLqOWKMEvpU7QC6nAycHunkEZmIMQDYxk9iC0yFt+2E7FNR6ATEA7ZdSCgtrOd7/MbE33xKBCLtCG108pfUAau332kSkG3Or2ZZ+TuocBiCbmE1kMH6sCx5Xe/6Tsxv0waWyJWwVK9wBMrGBgBd3nOBwVKOLp/PwuByI9Hhb+nknwwEsJLMoVqot/bzUGQxANjGTyLTt/g/Q1AxxgwFov7QSePYAMre7pwbx7OImlvlv37Bi6RxGQv6Wj5uZiARQU8D8GgfjmhEDkA2UKjUsJHM43eIhqM26PC6EutzcATqAhUYJPHeAzO3cmfpwVFaDGVcslcdwC0Zg7MZKMHNjALKB+WQW1Zpq6w4QAERZCn8g88kcHNKa2USkn4lwN04OdOPRCxyLYVTxdK7lHfAB4NRAACLgTDCTYgCyAe3dSdsDUMjPHaADWEhmEQ354XU59V4KHYGI4O6pQXx9bg1b7ApsOJliBelcuaUVYBq/x4nhkJ87QCbFAGQDMysZiOx0Lm2XaMjHAHQA88kcxlgBZgnnzgyiXFX40ktrei+FdmnlFPi9cCaYeVkqAInIPSLyoojMisgH9/j93xCRZxr/e0lE1nVYZsfNrmYw0ueH39PenYZoyI/NQgWZYqWtX8cq2APIOs6O9aGvy81qMAOKpepvytpxBAbUK8EurmVQq7EZptlYJgCJiBPAJwG8DcAUgPtEZKr5OUqpn1NKvVop9WoAvwXgzzu+UB3MrGxhss27P8BOKTxngt3YRq6M9VyZPYAswukQvPmWQTz+QoLd0A0mltKaILZnB2giEkChXOMwaBOyTAACcCeAWaXURaVUCcCDAN55neffB+BPOrIyHVVrChfXsm0bgtosGqyXwvOF4MYWUqwAs5q7pyLYyJdxfj6t91KoSTydh9/tRH+3py2ff7sSjBehTcdKAWgYQKzp43jjsauIyBiAkwAe78C6dBVL5VCq1Dq6A8RKsBvb7gHEAGQZrz8dhsfl4DGYwcTSOYz2+yHS2h5AmklOhTctKwWgg3gvgE8rpfZs3yki7xOR8yJyfnV1tcNLa60ZrQJssP0BKNLjhdMhbAi3Dwtr9R2gE226l0Cd1+114XUTxzgc1WBiqVzLR2A06+v24Fi3hxehTchKAWgRwGjTxyONx/byXlzn+Esp9YBSalopNR0Oh1u4xM7rVAk8UB8OeLzXxyOwfZhP5nC819f2i+nUWeemBnEpldt+40H6UkphMZ1v2/0fzUSYlWBmZKUA9ASA0yJyUkQ8qIech3Y/SURuAdAH4OsdXp8uZhJbGOz1otfn7sjXGwqyFH4/6hVg3P2xGq0rNIejGsNGvoytYqVtFWCaiUiAzRBNyDIBSClVAfB+AI8AuADgU0qp50TkoyJyb9NT3wvgQWWTPeq5RKatIzB2qzdD5B2gG5lP5nj/x4IGe3141UiQAcggtBL4dndbn4wEkM6VkcwU2/p1qLUsE4AAQCn1sFLqJqXUhFLq3zUeu18p9VDTcz6slLqqR5AVKaUw2+YhqLtFQ35c3iiwJ8Z1ZIoVrGWKGOMQVEu6e2oQz8TWkdjiGwG97TRBbO/3GmeCmZOlAhBdaXmjgGyp2uEA5EOpWsNalu+ErkUbgsodIGs6N1U/BvscZ4PpLtYIQG0/AgvXv5dZCm8uDEAWNtPBC9CaaJCl8Dey0CiB5x0ga7p5sAcjfX5OhzeAeDqPHp8LQX9770BGg3743U7MJbJt/TrUWgxAFqZtx57u8BEYwG7Q1zOfZBNEK9OGo35ldg25EsfC6CmWyrVlCOpuDodgItLNHSCTYQCysNnEFvq63DgW8Hbsa0ZD7AZ9IwtrOQwEvAh4XXovhdrk7jODKFZq+PIMh6PqKZbOY7S/vRegNZPhAJshmgwDkIXNdrgCDACCfje6PE4egV3HPEvgLe81J/vR63PxGExHSinE0+1tgthsMhLA4noeWQ6DNg0GIItSSmEmkcFEB4+/gPr2fzTkZzfo67iUyjEAWZzb6cCbbong8RcSqLIiUhdrmRIK5VrbmyBqJhojMV5e4z0gs2AAsqhktoT1XLmj9380bIZ4bYVyFcsbBVaA2cC5M4NIZkt4+hKHo+qhUxVgGpbCmw8DkEXNrHS+AkwzHPJjkUdge7qUYgWYXdx1cxhup+BRDkfVRTytNUHszPfa2LFuOB3CAGQiDEAWpVUjnO7AENTdoiE/1jJFFCt7zpq1tfk19gCyi16fG689dYxdoXUSS2lNEDtzBOZxOTB2rIsByEQYgCxqdmULAa8Lx3t9Hf/aQ8H617y8wV2g3bQeQAxA9nDuzCAurmY5J0oH8XQO/d0edHew2nIizJlgZsIAZFGzq/UL0CLS8a893OgFxFL4q80nswh1uRHs6sxwWtLXTldo7gJ1WrwDU+B3m4wEMJ/MolKtdfTr0uEwAFnUzEoGk+HOH38Bzc0QuQO020IyxwaINjIc8mNqqJfHYDqIpXIY6dAFaM1kOIByVWGhcfxGxsYAZEEb+TISW0Vd7v8AwPHGERgrwa42n8xinBegbeXc1CCeXEhzUngH1WoKi+v5jt3/0bASzFwYgCxIjxEYzXxuJwYCHiyxF9AVipUqltbz3AGymbdODaKmgM+/uKr3UmxjZauAclV1ZAxGs1ONoai8B2QODEAWNJvYAqBPCbwmGvKzG/Qu8XQeNQXuANnMrdFeDAV9ePT5y3ovxTZiqfqbr071ANL0+Nw43uvjDpBJMABZ0GwiA6/L0bH+F3uJBv08AttlgUNQbUlEcO7MIL700hoKZbaG6IR4urMl8M0mI5wJZhYMQBY0k8jgVDgAp6PzFWCaoVC9G7RSHAOgmV/TSuC5A2Q356YGkS9X8bU5DkftBG0HSKtI7aTJSABzq1m+9pkAA5AF1Yeg6nf8BdRfeLKlKjbzHAyoWUhm0eN1ob/bo/dSqMNee6ofAa8Ljz6f0HspthBL5zDY64XP7ez4154IdyNTrGBlk5fejY4ByGJypQri6byu93+AnVJ4XoTeMZ/M4cSxLl16M5G+vC4n7ropjM9dWEGNw1HbrpNT4HebYCWYaTAAWczF1fo9E713gIZYCn+VS6kcO0Db2LmpCBJbRXx7cUPvpVheLNX5JoianVL4LV2+Pu0fA5DFzBigAgzYOXtnAKqrVGuIpXIcgmpjb7o5AqdD8BibIrZVuVrD8kZetx2gcMCLXp9rex4jGRcDkMXMJjJwOUT3SqOBgBdup2CJ88AAAEvrBVRqijtANhbq8uA14314jGMx2uryRgE1BYz267MDJCKYiAQwl8jq8vVp/xiALGZmJYOxY13wuPT9T+twCI4HfdwBapjfLoHnDpCdnTsziBcub21PKqfW0/5uO90EsdlkOMAdIBNgALKY2dUMTkd69F4GAPYCaqb1ABof4A6Qnd3dGI7K2WDtE0/XX3P07IM2GQlgdauIjXxZtzXQjTEAWUipUsNCMqf7/R/NMLtBb5tP5uBzOxDp8eq9FNLR2LFu3DQYYABqo1g6B4fUe5HphTPBzIEByELmk1lUa0q3Iai7DYV8uLxZQJVlv1hIZjF+rJsl8IRzZwbx9/MpbOS4O9AOsVQOQ0E/3E79frxNhOuvwewIbWwMQBYys1L/ZtO++fQWDflRrSkktrgLNJ9kBRjV3T01iGpN4QsvsSliO8TTnZ8Cv9tof/0eJoeiGhsDkIXMJjIQMVYAAmD7Y7BqTeFSkj2AqO5VIyGEe7z4Ox6DtUUsnev4ENTdnA7BqYFuHoEZHAOQhcwktjDS54ff0/n273uJBtkLCAAubxZQqtZ0b01AxuBwCM6dieCLL66iVKnpvRxLKZSrWNks6loBppmIsBLM6BiALKQ+A8wYFWAAEA2xGzQALKw1KsB4BEYN584MIlOs4BsXk3ovxVK01xq9j8CA+k58LJVDoVzVeyl0DQxAFlGp1nBxLav7CIxmPT43enwuLNu8GeJ8st6XZIwl8NTwuskB+N1ONkVssVijBF7vIzCgXglWUzs9wMh4GIAsIpbOo1SpbQ/iM4po0I9Fu+8AJbPwuBwY6tWvLJeMxed24vWnB/DY8ytQilWSraI1QTTCDtBkmKXwRscAZBHaN5mRdoCA+jGY3Y/A5pNZjPb54XCwBJ52nJsaxNJGAc8tbeq9FMuIp/NwOwWDBnizcSrcDREGICNjALIIbQiq4XaAQuwGvcAKMNrDm2+JQAQ8BmuhWDqH4ZAfTgO82fC5nRjp8zMAGRgDkEXMJjI43utDr8+t91KuEA35kc6VkS/Z8yKgUgoLyRwrwOgqAwEvzp7gcNRWqvcA0v/+j2YyHMDcKu8AGRUDkEXMJjKGGYHRbLsSbMOeu0CrW0Xky1WMDxjnRZmM49zUIJ5d3LT9LmmrxFM53abA72UyEsDF1Qy74RsUA5AFKKWMG4Bs3gtouwKMO0C0B2046ue4C3Rk2WIFyWzJWDtAkQCKlRoW0/Z8/TM6BiALWNooIFeqGjMANbpBL9u0G7RWAsseQLSXiXAApwa62RW6BRYN1ANIsz0UdXVL55XQXhiALMCoFWAAcDzogwhsWwq/kMzC5RAMh4zzokzGcm5qEN+4mMRWgcNRj0IrgTdCDyDNzlBU3gMyIgYgC5hZqb+7MOIOkNvpQKTHa+sjsJE+P1w6TqYmY7t7ahDlqsKXXlrTeymmth2ADHQEFuryYCDgYSWYQfFV2QLmVjPo7/bgWMCr91L2FA35bdsNeiGZ5f0fuq47TvShr8uNR5+/rPdSTC2ezsPndmAg4NF7KVeYCHMmmFExAFnAzEpmu+uoEUWD9uwFpJTCwlqO93/oupwOwZtvGcTjLyRQrnI46mHF0jmM9HVBRP8eQM0mIwHMJjLs+G1AlgpAInKPiLwoIrMi8sFrPOf7ReR5EXlORP53p9fYakopzCQymBw0cAAK+bC4nrfdC0AqW8JWscIdILqhu6cGsVmo4Px8Wu+lmFYslTfUBWjNRDiAjXwZyWxJ76XQLpYJQCLiBPBJAG8DMAXgPhGZ2vWc0wA+BOB1SqlbAfxsp9fZamuZEjbyZWPvAIX8KFZqSOfsdclTK4FnDyC6kdefHoDH5cCjrAY7tHg6Z6j7P5rtSjDeAzIcywQgAHcCmFVKXVRKlQA8COCdu57zYwA+qZRKA4BSKtHhNbbcdgWYgXeAhmzaC2ihUQLPHSC6kW6vC98zOYBHL1y23U5pK2zky9gsVAzVBFHDAGRcVgpAwwBiTR/HG481uwnATSLyVRH5hojc07HVtclsYwbY6UiPziu5Nq0E3G6l8PPJHBxirL4kZFznzgwilsrjpRX+oDyoeFqbAm+8HaChoA9dHicDkAFZKQDthwvAaQBvBHAfgN8VkdDuJ4nI+0TkvIicX11d7ewKD2gmkUHA68JgrzErwICdcRjLNgtAC8kshoJ+eF1OvZdCJvCWMxEAHI56GLFU/bXFiEdgIoKJcABzrAQzHCsFoEUAo00fjzQeaxYH8JBSqqyUehnAS6gHoisopR5QSk0rpabD4XDbFtwK2ggMo1U+NOvv9sDrcmDJZqXwC8kc7//Qvg32+vCq0RDvAR2CtgNkxCMwoH4MNscdIMOxUgB6AsBpETkpIh4A7wXw0K7nfAb13R+IyADqR2IXO7jGlpsx6AywZiKCaMhvuyMw9gCig7r7TATPxNaR2LTXm4WjiqfzCHhdCPrdei9lT5ORAJY2CsgWK3ovhZpYJgAppSoA3g/gEQAXAHxKKfWciHxURO5tPO0RAEkReR7A5wH8olIqqc+Kj24jV8bqVtGQIzB2i4Z8tjoC28iVkc6V2QOIDuScNhz1BdPXZ3RULFXvuG7UnfDtkRg8BjMUywQgAFBKPayUukkpNaGU+neNx+5XSj3U+LVSSv28UmpKKfUKpdSD+q74aLQBe0bfAQLqlWBLNhqIupBiBRgd3M2DPRjt9+MxHoMdSCydM9QMsN0mI/XXAQYgY7FUALKbnSGoxq0A00RDfqxsFWzT6Xa7BxADEB2AiODcmUF8ZXYNuRKPS/ZDKYV42phNEDVjx7rhcggrwQyGAcjEZlYy8LocGDbwN75mOOSDUsBlm1yEXlir7wCdMPC7UjKmu6cGUazU8OUZDkfdj1S2hFypasgKMI3b6cDYsS4GIINhADKx2dUMJsIBOB3GPPdupjVDtMtQ1PlkDsd7ffB7WAJPB/Oa8X70+lysBtunWLp+t9DIO0DAzkwwMg4GIBObWTF+BZgmGrJXN+h6BZhx35GScbmdDrzplggefyGBao1doW9kpwTe2N9vE+EAFpI521wDMAMGIJPKlSpYXM+bogIM2GmGaJdS+Plkjvd/6NDunhpEKlvC05c4HPVGtCaIZtgBqtQUFhr3A0l/DEAmNZeo3zExyw5Ql8eFvi43ljesH4AyxQrWMkWMsQkiHdIbbgrD7RQeg+1DPJ1DqMuNHp8xewBpOBPMeBiATEorgTfyENTd7FIKrw1B5Q4QHVavz43XnjqGRzkW44Zi6byhL0Br2AvIeBiATGpmJQOXQ0zVZyYa8tviDpC2xc07QHQUd08N4uJqlj8wbyCeyhl2BEazbq8LQ0Efd4AMhAHIpGYTGYwPdMPtNM9/wuGQzxYBaD7JJoh0dG85U+8KzaaI11arKcTX84acAr+XyQiHohqJeX560hVmExlMhs1z/AUAQyE/NgsVbBXKei+lrRbWchgIeBDwuvReCpnYcMiPW6O9nA5/HauZIkqVGkYNfgFaMxGuD0VVitV9RsAAZELFShULqZyp7v8AO6XwVu8FtJDiEFRqjXNnBvHkQhrJTFHvpRhSLFU/bh4xeAm8ZjISQLZUtfxroFkwAJnQ/FoO1ZoyTQWYZrhRCm/1Y7CFZI73f6gl7p4aRE0Bj3M46p7ijSaIZtoBAlgJZhQMQCY0kzDPENRmWjdoK1eCFcr1d3esAKNWuDXai6Ggj8dg17C9A2SiO0AAK8GMggHIhGYTGYjsvJswi0iPF06HWHoH6FKKFWDUOtpw1C+9tIZCuar3cgwnls4h3OOFz22OkTMDAQ+Cfjd3gAyCAciEZhIZjPZ1meabXuNyOnC814clCzdDnF9jDyBqrXNTg8iXq/jaHIej7mb0KfC7iQhnghkIA5AJzSUyphmBsdtQ0Nql8FoPIAYgapXXnupHt8fJe0B7iKVzpmiC2Gwi3M0jMINgADKZSrWGi6tZ093/0dSbIVr3DtB8MotQlxvBLmO35Sfz8LqcODvej/PznAvWrFKtYXm9YKodIKB+D2gtU8J6rqT3UmyPAchkYuk8StWaqQPQ5Y0Cahadcl2vAOPuD7XW9FgfXlzZwkbe2j20DuLyZgGVmjL8FPjdeBHaOBiATGZmxZwVYJpoyIdStYa1rDX7mswnsxjnBWhqsbNjfVAKnA7fRJsCb7YjsMlwDwCWwhsBA5DJzDbeNZg2AFm4FL5YqWJpPc8dIGq5V4+G4HQInlxgANLE01oJvLmOwIb7/PC6HAxABsAAZDKzKxkc7/Whx2fOOyZaN2grXoSOp/OoKXAHiFqu2+vCmaEe3gNqEkvnIbLzmmIWTofg5EA35lazei/F9hiATGZ2NWO6ERjNohbuBr3AIajURtNj/Xgmto5ytab3UgwhnsphqNcHj8t8P8ZYCm8M5vuXY2O1msJsImO6BojNgn43ujxOSx6Bza9pJfDcAaLWOzvWh3y5igvLm3ovxRDqPYDM+b02GQkgls6xuaXOGIBMZHmzgFypauodIBFplMJbbwfoUiqHgNeF/m6P3kshC5oe7wMAHoM1xNI5jPSb6/hLMxkJQCngIo/BdMUAZCLbFWAm3gEC6mf2yxbsBj2fzGLsWBdERO+lkAUNBf0YDvl5ERr1goPLmwXTVYBptF18lsLriwHIRLQz49ODPTqv5GiiQR8WLXgEtpDMsQM0tdXZsT6cX0hBKWv20dqv5fUClDJfBZjm5EA3HMJSeL0xAJnIbCKDY90e0x+xREN+rGWKKFasc/5dqdYQS+U4BJXaanq8DyubRcTT1ttBPYhYowTebE0QNT63E6P9XdttTUgfDEAmMpvIYMKk/X+aaWWrlzesswu0tF7vSssdIGqns2P1e0B2PwbTmiCadQcIqF9lmOMOkK4YgExCKYUZEw9BbRYN1kvhFy10EXp+uwTenO9IyRxuOd6LgNeF8wspvZeiq3g6B5dDMBQ0bwCaiARwcS2LqkXHApkBA5BJrGaK2MiXTdsButlOM0Tr7ABpPYDGB7gDRO3jdAhuPxGyfSVYLJ1HNOSH02HegoPJcAClSm27ozV1HgOQSWxfgI6Y+wI0ABxv7AAtW2oHKAef24FIj1fvpZDFnW0MRt0s2HcwajydM/XxF4Dt6wy8CK0fBiCT0L5JrLAD5HM7MRDwYMlCpfALySzGj3WzBJ7abnqsvzEYdV3vpegmlsqbtgReo7UzYQDSDwOQScwmMujxujDYa40dhmjIb6lS+PkkK8CoM159IgSHAE/O2/MeUL5UxVqmiFGTNkHUBLvcGAh4GYB0xABkEjMr9Qowq+wwRIN+yxyBVWsKl9gDiDok4HXhzFAvztu0EmxxXZsCb/43HJORbjZD1BEDkEnMrlqjAkwzFPJhaT1viYZulzcLKFVrHIJKHTM91odnYuuo2HAwqlYCb/YdIGBnKKoVXgfNiAHIBDZyZaxuFS1x/0czHPIjW6piM1/ReylHtrDWqADjERh1yNnxfuRKVVxY3tJ7KR233QTRCjtA4QA2CxWsZop6L8WWGIBMYHa1/iJn5iGou22XwlvgIvR8sv6CPMYSeOqQ6UZDRDv2A4qn8/C4HBgImP8+JCvB9MUAZAIzK40KsLD5S+A1Q41SeCtMhV9IZeFxOnC816f3UsgmoiE/okGfLe8BxVL1EniHiXsAabRd/TlOhdcFA5AJzCYy8LkdGDZ534tmw9vNEC0QgNZyGO03d1M2Mp+z4/14cj5tu/sjsXTOEhegAeB4rw8Br4sjMXTCAGQCM4kMTg0ELPUDdiDghdspliiFn2/0ACLqpOmxPlzeLFhqpMx+xNN5jFrkzaCIYCLczSMwnTAAmcBsImOp+z8A4HAIjgd9WDb5HSClFBaSOVaAUcfZcTDqVqGM9VzZtFPg9zIRDjAA6cRSAUhE7hGRF0VkVkQ+uMfv/7CIrIrIM43//T96rPMgssUKFtfz211DrSQa9Jv+CGx1q4h8uYrxAeu8IJM53HK8B90ep60CUDxt/inwu01EAri8WUCmaP6KWLOxTAASESeATwJ4G4ApAPeJyNQeT/1TpdSrG//7vY4u8hAuNi7HWW0HCKjfAzL7QNTtCjDuAFGHuZwO3H6iz1aDUWMp65TAa7YvQnMXqOMsE4AA3AlgVil1USlVAvAggHfqvKYjm0nUS+AnLTAEdbehkA+XNwuo1sx7iXM+yR5ApJ+zY3144fKmbXYPYmmtCaJ1vt8mWQqvGysFoGEAsaaP443HdnuPiHxbRD4tIqOdWdrhzSQycDnEknOmoiE/qjWFxJZ5d4EWklm4HLJd1UbUSdPjfagp4OlL9tgFiqdz6PI40dfl1nspLXOivwsuh2CWIzE6zkoBaD8+C2BcKfVKAI8C+J97PUlE3ici50Xk/OrqakcXuNtsIoOTA91wO633nypqgVL4+WS9J4nLgv99yPhePVofjGqXYzBtCrxVZiICgNvpwPhAN4/AdGClV+1FAM07OiONx7YppZJKKa3n+O8BOLvXJ1JKPaCUmlZKTYfD4bYsdr9mExlLjcBottMLyNw7QLz/Q3rp8blx8/Fe21yEjqdzlpgBtttkOMAdIB1YKQA9AeC0iJwUEQ+A9wJ4qPkJIjLU9OG9AC50cH0HVqxUsZDMWmoIajOzd4NWSmFhLcf7P6Sr6bE+PH0pbfnBqEopxNN5yzRBbDYZCWAhmUOpYu3/hkZjmQCklKoAeD+AR1APNp9SSj0nIh8VkXsbT/sZEXlORL4F4GcA/LA+q92fl9eyqKmdeTFW0+Nzo8fnMm0ASmVL2CpWuANEupoe70O2VMULl609GHU9V0amWLFUCbxmItKNak1hIcmRGJ3k0nsBraSUehjAw7seu7/p1x8C8KFOr+uwtKqA0xasANMMh/xY2jDnEZhWAs8eQKSn5oaItw0HdV5N+2hT4C25A9SY8zi3msHpQeu+3huNZXaArGhmJQMR4FTYujsMQ0GfaXeAtHdr3AEiPQ2H/Djea/3BqPHtEnhr7gABLIXvNAYgA5tdzeBEfxd8bqfeS2mbaMi83aAXkjmIWKsrLZmPiODseB+enE/pvZS20pogWnEHqMvjwnDIzwDUYQxABja7krHkCIxm0ZAf6VwZ+VJV76Uc2EIyi2jQD6/LugGVzGF6rA9LGwXTvpnYj3g6j16fC0G/dXoANTsV7mYlWIcxABlUpVrDy2tZTFpwBEazaKhRCWbCoajzyRzv/5AhTI/1A4Clj8Fi6ZylOkDvNhkJYC6RRc3EnfHNhgHIoC6lcihVa9bfAQqatxkiewCRUZwZ6kGXx2npY7BYKmepGWC7TUYCyJerWN40Z1GIGTEAGdR2BZjFKwK0btDLJmuGuJErI50rswcQGYLL6cCrR0OW3QHa6QFk3ft22ptd3gPqHAYgg5ppfBNMWLgCDACOB30QARZNtgO0kGIFGBnL9FgfLixbczDqaqaIYqVm+SMwgAGokxiADGoukcFQ0IcenzUv/GncTgciPV7THYFt9wBiACKDODvej5oCnrm0rvdSWi6Wsm4JvKa/24NQlxtzvAjdMQxABjVj4Rlgu0VDftNdgl5Yq+8AnbDwO1Iyl9tPhCACnF+w3j2guIWbIGpEpD4TjDtAHcMAZEC1msLcqo0CUNBvujtA88kcjvf64PewBJ6Modfnxs2DPZYcjKo1QbTyHSBAqwRjAOoUBiADWtrII1eqWnoERrNoyIfF9TyUMk/5Z70CzLrvRsmcpsf78PSldVQtVkodS+UwEPCgy2Op6U1XmYwEkMyWkM6W9F6KLTAAGZB2Ado2O0AhP4qVGlIm+qafT+Z4/4cMZ3qsH5liBS9c3tR7KS0VT+cxbOHjL82EVgnGe0AdwQBkQHPbQ1DtEYCGGr2Alk0yFDVTrGAtU8QYmyCSwTQPRrWSWDqHUYsffwE7b3p5DNYZDEAGNLOSwbFuD/q6PXovpSOGG72AzFIKrw1B5Q4QGc1Inx+DvV6cn7dOAKrWFJbW85a+AK0ZDvnhczt4EbpDGIAMaNZGF6CBpnEYpglA9YoU3gEioxERTI/1W2oHaGWzgHJVWboEXuNwCE4NBHgE1iEMQAajlMLMypatAlB/twdel8M0R2A7AYg7QGQ8Z8f6sLiex7LJWktcizYF3spjMJpNRFgK3ykMQAazmilis1Cxzf0foP6uNRrym+oIbCDgQcBr7YoUMqfp8fo9IKscg9mlBF4zGQ5gcT2PfKmq91IsjwHIYGZXtAowe5TAa6Ihn2mOwOY5BJUM7MxQL/xup2WOwWLpHESAYbsEoEgASgEX17gL1G4MQAajnf2eHrTPDhBgrmaIC8kc7/+QYbm3B6NaoyN0LJXHYI8PXpc9mo5yJljnMAAZzMxKBj1eFyI9Xr2X0lFDIT9WtgooV2t6L+W6CuUqljcKrAAjQ5se78OF5S1kLTAYNZ7O2eb4CwDGB7rgEJbCdwIDkMHMJjKYHAxARPReSkcNh3xQCrhs8IvQl1KsACPjOzvWh2pN4ZnYut5LObJ4Om/pKfC7eV1OnOjvwtxqVu+lWB4DkMHMJDKYDNvr+Auod4MGjN8McX6NPYDI+O4Y66sPRjX5RehytYbljbwtmiA2m2QlWEcwABnIeq6EtUzRdvd/gJ1u0Ea/CK2VwDMAkZFtD0a9ZO4AtLxeQE1Zewr8XiYiAby8lkXF4FcCzI4ByEBmbTYDrJnWDNHopfDzySxCXW4Eu9x6L4Xouu4Y68PTC2lTD0aNpetvOEZs0ASx2UQ4gFK1hlja2K+HZscAZCCz2zPA7FUCDwBdHhf6utym2AFiCTyZwfRYH7aKFby0sqX3Ug4tnrZXE0QNZ4J1BgOQgcwkMvC5HduzsexmKOg3/h2gZBbjvABNJjA91g8AOG/ifkCxVB5Oh2Ao6NN7KR21XQrPkRhtxQBkILOJDCbCATgc9qoA00RDfkPvABUrVSyt57kDRKYw2u9HuMeLJ+fN2w8ols5hKOiDy2mvH1W9PjciPV5ehG4ze/2rMrjZRMZWIzB2Gw75DH0HKJ7Oo6bAHSAyhfpg1D5T7wDF03lb9QBqNhFmJVi7MQAZRLZYweJ63pYXoDVDIT+2ChVsFcp6L2VPC8l6CTx3gMgszo71IZ7OY2XT2EfL1xJL5Wx3/0czGQlgbjUDpcx7id3oGIAMYm7VnjPAmhm9F9DOFHh7viCT+UyPN+4BmbAfUKFcRWKraKsmiM0mIwFsFSpY3SrqvRTLYgAyiJkV+5bAa4YNXgq/kMwh4HXhWLdH76UQ7cut0V743A5TzgXTXgfsegTGmWDtxwBkELOrGbidYuvdBa0ZolGHotanwHfZbkwJmZfb6cCrRkKmnAwfa4ydsesO0ESYlWDtxgBkEDMrGYwf64bbZtUOzSI9XjgdYthKsIVkjh2gyXSmx/vw3NImciVzDUbVmgDa9Q7QYK8XAa+LvYDayL4/bQ1mbjVjyxEYzVxOB473+gwZgCrVGmKpnK136Micpsf6TTkYNZ7OweN0INLj1XspuhARTEQC3AFqIwYgAyiUq1hIZm05BHW3aMiHpQ3jBaCl9QIqNcUdIDKdO070AQCeNNlF6Hgqj+E+v237ogHAJEvh24oByADmk1nUFDA5aN8KMM1Q0I8lA94Bmt8ugecOEJlLsMuNmwYDpusHFE/nbHsBWjMR6cbKZhGbBm0NYnYMQAawXQHGHSBEQ34sb+RRM9gAR60H0PgAd4DIfM6O9eOpS2nDfV9dTyydt90U+N20nwkXV7M6r8SaGIAMYDaRgUOAU2H+cB0O+VCuKqxljdX7Yj6Zg89t3/sIZG7TY33YKlTwUsIcg1GzxQpS2RJGbTYFfjeWwrcXA5ABzCYyGO3vgs/t1HsputNK4Y12DLaQzGL8WDdL4MmUpsfr94DM0hAxntZ6ANl7B+hEfxc8TgcDUJswABmA3WeANdO6QRutEmw+yQowMq8T/V0YCHhN0w9ouweQze8AuZwOjA90MQC1CQOQzirVGi6uZTDBAAQAGDZgAKrWFC6xBxCZ2M5gVHN0hI6l7d0EsdlEOLA9Kolay1IBSETuEZEXRWRWRD54nee9R0SUiEx3cn17uZTKoVxVOG3jGWDNev0udHmchjoCu7xZQKla4xBUMrXp8T7EUnkkTDAYNZ7Ow+92cuwM6veALqVyKFaqei/FciwTgETECeCTAN4GYArAfSIytcfzegB8AMA3O7vCvc00tjZ5BFYnIoiG/IbaAdquAOMRGJnY2bHGPSATHIPFUvUSeN65qwegak1tD2Om1rFMAAJwJ4BZpdRFpVQJwIMA3rnH834VwH8EYIi3QdrZLo/AdkRDfkM1Q9ReeE4wAJGJ3RoNwutymOIidCyd5/FXw/ZMMN4DajkrBaBhALGmj+ONx7aJyB0ARpVSf93JhV3PbCKDaNCHgNel91IMIxr0GeoIbD6Zhcfp2K5QIzIjj8uBV42G8KQJ7gGxCeIOrT0KA1DrWSkAXZeIOAB8AsAv7OO57xOR8yJyfnV1ta3rmklscfdnl2jIj7VMEYWyMc68F9ZyGO33w2njlvxkDdNj9cGo+ZIxvrf2spErY6tQse0Q1N26PC4Mh/y8CN0GVgpAiwBGmz4eaTym6QFwG4AviMg8gNcCeGivi9BKqQeUUtNKqelwONy2BddqCnOJLC9A76KVwl/eMMYu0HyjBxCR2U2P96Fi8MGoWgUYd4B2TEY4E6wdrBSAngBwWkROiogHwHsBPKT9plJqQyk1oJQaV0qNA/gGgHuVUuf1WS6wuJ5Hvlzd7vZJddGgDwAMcQ9IqfrlQ1aAkRVsD0Y18DFYnCXwV5mM1EvhzTTKxAwsE4CUUhUA7wfwCIALAD6llHpORD4qIvfqu7q9zTa2NE8PMgA122mGqP8O0OpWEflyFeMDfDEm8wt1eXA6YuzBqLFU/Y0Pj8B2TIQDKJRrWDRQdawVWOrmrVLqYQAP73rs/ms8942dWNP1zHII6p6OaztABvhmn29UgHEHiKxierwPf/3tZdRqCg4D3muLp3Po8brQ67fUj6cj0U4J5lYz3BlrIcvsAJnRbCKDgYAHfWz2dQWf24mBgAfLBjgCm2cPILKYs2P92CxUtnuQGU0sncdIfxd7ADXhUNT2YADS0Uxia7vHA10pGvJj0QBHYAvJLFwO2R7RQWR2Ow0RjXkPKJbK2X4G2G793R70d3tYCdZiDEA6UUrVh6Dy/s+eokFjdIOeT9b7kbic/FYhaxg/1oVj3R5DDkZVSiGeztt+CvxeJsLd3AFqMb6q62R1q4jNQoX3f65hKOTD8noeSulb9bCQzPL+D1mKiODsWJ8hA1AyW0K+XMVoP3eAdqtXgmX1XoalMADpREvypwfZA2gvwyE/sqUqNvMV3daglMLCWo73f8hypsf7sJDMYXWrqPdSrhBLNUrguQN0lYlwAKlsCalsSe+lWAYDkE60C4jsAbQ3rRRez7LPVLaErWKFO0BkOWfH+gEYrx9QPF3/fh/hDtBVeBG69RiAdDKbyKDH50Kkx6v3UgxJC0B6VoItNN6NsgcQWc1tw73wGHAw6k4XaH7P7cahqK3HAKSTmcQWTkcCLPW8hqgBegEtNErgT/RzB4isxety4lUjQcM1RIyn8+jrcnM49B6GQ3743U5WgrUQA5BOZhNZHn9dx0DAC7dTdC2Fn1/LQQS8kEmWdHasH88tbRhm6DDQKIFno789ORyCU6wEaykGIB2s50pYyxQ5BPU6HA7BUNCv7xFYMoto0A+vy6nbGojaZXqsD+WqwrcMNBg1ns7zAvR1cChqazEA6WCWF6D3ZSjo0/UIbD6Z4/0fsqydhojGOAar1RQW03lOgb+OiXAAi+t55Er6VcdaCQOQDlgBtj/DIb+uA1HZA4isrK/bg4lwt2H6ASW2iihVaxjhEdg1aT8zLrIfUEswAOlgZiUDv9vJ8Qo3EA35cXmzgGqt880QN3JlpHNl9gAiS5se68eTC2nUdPge202rAOMYjGtrHopKR8cApIPZ1QwmIt2GnMRsJEMhH6o1hcRW53eBFlL1d1jcASIrOzveh4182RA/UOMsgb+hsWNdcDqE94BahAFIB7MrWxyBsQ9aLyA97gHNJxs9gBiAyMKmDXQPKJZqNEHkDtA1eV1OnOjvYgBqEQagDssUK1jaKHAExj4Mb3eD1mEHaE3rAcR3o2RdJwe6cazbY4iGiLFUDpEeL3xuVl1ez0Q4YIgdOytgAOqwuUZyn+AO0A0NNZohLuu0A3S81we/hy/GZF0igjvG+gwxEiPOCrB9mYwE8PJaFpVqTe+lmB4DUIftDEFlALqRHp8bPT6XLkdg9Qow7v6Q9U2P9WHeAINRY2k2QdyPyUgA5arCpcaoHjo8BqAOm0lk4HYKxviNvi/DIb8uR2DzyRzv/5AtTI/X7wHpWQ5fqdawvFFgE8R9mAjXX5d4D+joGIA6bDaRwcmBbric/Kvfj6Ggr+PdoDPFCtYyRYyxCSLZwG3DQXhcDl2PwZY36u0ueAR2YxPaVHjeAzoy/hTusNnEFhsgHkA05O/4EdglVoCRjXhdTrxyWN/BqNs9gLgzfkO9PjcGe72YS7AZ4lExAHVQoVzFpVQOk5wBtm/RkB/pXBn5UucGNu5MgeeLMdnD2fE+PLuo32DUeJol8AcxGQlwB6gFGIA66OW1LGqKIzAOIhqqV4ItdfAYTOsBxEvQZBfTY/0oVxW+Hd/Q5evHUzk4ZKf3F13fRDiAuUQGSunfwdvMGIA6aLsCjAFo36LBzjdDXEhmMRDwoMfn7tjXJNLTzmBUfe4BxdJ5DAX9cPNu5L5MRgLIFCtY2dS3cs/s+K+tg15ey8Ih9eZjtD96dIOe5xBUspn+bg9OhbvxpE4NEePpHIZ5/LVv2iQBNkQ8GgagDvrpN0/im790jp1OD+B40AcRdHQq/EIyx+Mvsp3psT48eUmfwaixVJ4l8AegXaNgKfzRMAB1kIgg3OPVexmm4nY6EOnxdmwHqFCuYnmjwAowsp3psX6s58q4uNbZH6rFShUrWwWM9nMHaL/CPV70+FwMQEfEAESGFw35O3YJWuuuyh0gspuzjYaInZ4LtrRegFKcAn8QIoKJcIAB6IgYgMjwoiE/ljt0BDbfGILKHSCym1MD3ejrcne8H1Cs8aZjlHeADmQywqGoR8UARIYXDfqwuJ7vSMnnApsgkk2JCM6O9XV8JAabIB7OZCSAxFYRm4Wy3ksxLQYgMrxoyI9ipYZUttT2rzWfzCLU5UawiyXwZD9nx/rx8loWa5nOlVfH03m4nYLBXl/HvqYVaJVgPAY7PAYgMrydUvj2H4PVK8C4+0P2pMdg1Fgqh2jID6dDOvY1rWCClWBHxgBEhrfdDLEDF6Hnk1mM8wI02dQrhoPwOB14qoMBKJ7OcwTGIYz2+eFxOngP6AgYgMjwtsdhtLkUvlSpYWk9zx0gsi2f24nbhns7ehE6ns6xB9AhuJwOnBzoxhx3gA6NAYgMr7/bA6/L0fYAFE/nUFPgDhDZ2vR4P74T78xg1FypgrVMiRegD2kywlL4o2AAIsMTkUYvoPbeAVrgEFQinB3rQ6law7OL7R+Musgp8EcyEe7GpVSuI2HVihiAyBSiIV/bd4Dmk/UeQDwCIzvbGYza/mMwrQSeTRAPZyISQE3tvHmjg2EAIlOIBv1tD0ALyRwCXheOdXva+nWIjGwg4MXJge6OdISOperf0xyDcTicCXY0DEBkCkMhPxJbRZSrtbZ9jfoU+C6IsByX7O3sWB+eupRue/PReDoHr8uBcIAzEg/j1EAAIgxAh8UARKYwHPJBKeByG+8BLSRz7ABNhPpk+FS2hIuN0TDtEkvVS+D5puNw/B4nhkN+zLIU/lAYgMgUdpohtucYrFKtIZbK8QI0EZoaIrb5GCyWzrEC7IgmIwGWwh+SpQKQiNwjIi+KyKyIfHCP3/9xEfmOiDwjIl8RkSk91kkHN9Rohrjcph2gpfUCKjXFHSAi1I9WQl1unF9ItfXrsAni0X3vrcfxhpvCei/DlFx6L6BVRMQJ4JMA7gYQB/CEiDyklHq+6Wn/Wyn1/zaefy+ATwC4p+OLpQPTmiEutmkHaKcCjO9GiRwOwdkTfW2tBNsslLGRL7MJ4hHdd+cJvZdgWlbaAboTwKxS6qJSqgTgQQDvbH6CUmqz6cNuAO0fL04t0eVxoa/L3bYjsIVGABof4A4QEQCcHe/DxdVs24YQx1NaDyAGINKHlQLQMIBY08fxxmNXEJGfEpE5AB8H8DMdWhu1wFDQ37YjsPlkDj63A5EeVqMQAcD0WD+A9g1G1XoAsQSe9GKlALQvSqlPKqUmAPxrAL+813NE5H0icl5Ezq+urnZ2gXRN0VD7egEtJLMYP9bNahSihleOBOF2StvuAcVSjQDEHSDSiZUC0CKA0aaPRxqPXcuDAN61128opR5QSk0rpabDYV4uM4rhkK+Nd4BYAUbUrD4YNdi2SrB4Oo9ujxOhLndbPj/RjVgpAD0B4LSInBQRD4D3Anio+Qkicrrpw38IYKaD66Mjiob82CpUsFUot/Tz1moKl1LsAUS02/RYH769uIFipfWzpuKNEnjuupJeLBOAlFIVAO8H8AiACwA+pZR6TkQ+2qj4AoD3i8hzIvIMgJ8H8M/0WS0dxlCoPaXwlzcLKFVqnAFGtMvZsX6UKu0ZjFpvgshdV9KPZcrgAUAp9TCAh3c9dn/Trz/Q8UVRyww3lcLfNNjTss/LEniivW0PRp1P42zjUnQrKKUQT+fw3RPHWvY5iQ7KMjtAZH3t6gatTVJmACK6UrjHi/FjXS3vB5TOlZEtVdkFmnTFAESmEenxwekQLK+39ghsPpmFx+nY7jZNRDvOjvXjqYXWDkbdqQDj9xzphwGITMPpEBzv9bV+B2gth9F+P5wOXsYk2m16vA/JbAkvt3AwajzNJoikPwYgMpVoG0rh5xs9gIjoatPaPaAWHoNpTRBH2ASRdMQARKbS6m7QSiksJHOsACO6holwAEG/u6X9gOLpHIJ+N3p97AFE+mEAIlOJhvxY3sijVmvNfYTVrSLy5SrGB7gVT7QXh0NwdqyvpR2hY6k8R2CQ7hiAyFSGQz6UqwprmWJLPt/8dgUYd4CIruXsWB/mVrNIt2gwaiyd4wgM0h0DEJmKVqm11KJjMK0H0DhL4ImuSesH1IrBqEopLKbzGGEFGOmMAYhMpdW9gBaSWbgcguEQX4yJruVVIyG4HNKSi9CrW0UUKzX2ACLdMQCRqQy3OADNJ3MY6fPD5eS3AtG1+D1O3DocxJMtuAekVYDxCIz0xld9MpVevwtdHieWWtQMcSGZ5f0fon2YHuvDt+JHH4y60wOIu66kLwYgMhURQTTkb8kOkFYCz/s/RDc2PdbXGIy6eaTPo3WBZhNE0hsDEJlONOTH0sbRA1A6V8ZWocIdIKJ9ODtevwj91BHvAcVSeQwEvPB7nK1YFtGhMQCR6USDvpYcgXEKPNH+RXp8ONHfdeR+QPH1HI+/yBAYgMh0oiE/1jJFFMpHu4uwsB2AuANEtB/TY3148oiDUetNEPmmg/THAESmo5XCXz5iL6D5tRxEwI60RPt0drwPa5kSFhoNRA+qWlNYWs9zCjwZAgMQmU405ANw9FL4hWQW0aAfXhfvIhDtx/RYP4DDD0a9vFlApaZ4AZoMgQGITCfaom7Q88kcZ4ARHcDpSAC9Pteh+wFpFWDcdSUjYAAi0zkebN0OEO//EO2fwyG4Y6wP5w85GX6nBxDfeJD+GIDIdHxuJwYC3iMFoI1cGelcmT2AiA5oeqwPM4kM1nMHH4waS9Xv3WnH2ER6YgAiU4qGfEc6AltIsQKM6DDONu4BPXXp4LtAsXQOx3t9vHdHhsAARKYUDR6tG/R8o4plnAGI6EBePdoYjHqIY7A4p8CTgTAAkSlp4zAO249kYa2+A3SC/UiIDsTvceLWaO+hKsHiqRyHoJJhMACRKUVDPuRKVWzmK4f68/PJ+lY82/ETHdzZsX58K7aOUqW27z9TqtSwvFnACN90kEEwAJEpac0QFw95DFavAOMLMdFhTI/3oVip4bmljX3/meWNPJTiFHgyDgYgMiUtAB32HtBCKsf7P0SHND1WH4z65AGOwWKp+vcqj8DIKBiAyJSijV5Ay4eYCp8tVrC6VcQYmyASHUqk14fRfv+BLkLH02yCSMbCAESmNBDwwu0ULB5iKrw2x2isnztARIc1PdaP8wcYjBpL5+B0CI73sgcQGQMDEJmSwyEYOmQp/M4UeO4AER3W2bE+rGWKuJTa32DUWCqPaMgHl5M/dsgY+C+RTGso6DvUEZjWA4gBiOjwpsfr94D2ewwWT+cwEuL3HBkHAxCZ1nDIj6VDHYFlMRDwoMfnbsOqiOzhpkgPenyuffcDiqXzvP9DhsIARKYVDflxebOAau1gzRDnOQSV6MgcDsEdJ/r2NRm+UK5idavICjAyFAYgMq2hkA/VmkJi62C7QAvJHI+/iFpgeqwPL61ksJErX/d521PguQNEBsIARKZ1mF5AhXIVyxsF9gAiaoGzjX5ANxqMGtNK4LkDRAbCAESmNbzdDXr/O0BaxQp3gIiO7tUnQnA6BOdvcAwWT2k9gPh9R8bBAESmNdRohniQHaD5xhBU7gARHV2Xx4Wpod4bVoLF03l4XA6EA94OrYzoxhiAyLR6fG70+FxYPkAA0pogMgARtcbZsT58K76OcvXag1Fj6RxGQn44HNLBlRFdHwMQmdpwyH+gI7D5ZBahLjeCXSyBJ2qF6fE+FMo1PLe0ec3nxNN5ToEnw2EAIlOLhg7WDbpeAcbdH6JWmR7rBwCcn7/2PaBYKscp8GQ4DEBkagftBr2QymKcF6CJWuZ40IfhkP+ak+EzxQrSuTIrwMhwGIDI1KIhP9K5MnKlyg2fW6rUsJjOcweIqMWmx/uuORhVmwLPHSAyGgYgMrXh7V5AN74HFE/nUFPAGO8iELXU9FgfVreKiKWu3o3VHmMJPBmNpQKQiNwjIi+KyKyIfHCP3/95EXleRL4tIp8TkTE91kmto5XC7+cYbLsCbIAvxEStdFa7B7RHP6CY1gOIO0BkMJYJQCLiBPBJAG8DMAXgPhGZ2vW0pwFMK6VeCeDTAD7e2VVSqx2kG/R8st4DiEdgRK118/Ee9Hhde94Diqfz8Lud6O/26LAyomuzTAACcCeAWaXURaVUCcCDAN7Z/ASl1OeVUrnGh98AMNLhNVKLHQ/6ILK/btALyRwCXheO8YWYqKWcDsGrT4T2DECxdA6j/X6IsAcQGYuVAtAwgFjTx/HGY9fyowD+pq0rorZzOx2I9Hj31QyxPgW+iy/ERG0wPdaPF1e2sJG/cjBqLJVjBRgZkpUC0L6JyA8CmAbwn67x++8TkfMicn51dbWzi6MDi4b8WNrnHSB2gCZqj+nxPigFPN00GFUphcV0nhVgZEhWCkCLAEabPh5pPHYFETkH4N8AuFcpVdzrEymlHlBKTSulpsPhcFsWS61Tb4Z4/SOwSrWGWCrHIahEbfLq0fpg1OZjsI18GVvFCivAyJCsFICeAHBaRE6KiAfAewE81PwEEbkdwH9HPfwkdFgjtUE06MPSen7PHiSapfUCKjXFHSCiNun2unBmqOeKwajxdH1ndoRHYGRAlglASqkKgPcDeATABQCfUko9JyIfFZF7G0/7TwACAP5MRJ4RkYeu8enIRKIhP4qVGlLZ0jWfs1MBxhdionaZHuvHM7GdwahaCTyPwMiIXHovoJWUUg8DeHjXY/c3/fpcxxdFbRdtaoZ4LODd8zkLjQA0PsAdIKJ2OTvWhz/42jwuLG/ilSMhxBpdoHkERkZkmR0gsq9osBGArnMRej6Zg89drxgjovaYHu8DgO1jsHg6jx6fC0G/W89lEe2JAYhMLxqqd4O+XjPEhWQW48e6WQJP1EZDQf8Vg1FZAk9GxgBEptff7YHX5bhBAGIFGFEnnB3rw/mFFJRSiKXzGO3n/R8yJgYgMj0RuW4pfK2msJBiDyCiTpge78PKZhHxdB7xdI4VYGRYDEBkCdGQ75p3gC5vFlCq1DgDjKgDzo7V7wE98txlFMo1DkElw2IAIkuIBv3XPAJjCTxR59xyvBcBrwufeabeh5YVYGRUDEBkCdGQH4mtIkqV2lW/t5Csl+IyABG1n9MhuP1ECM8ubgJgE0QyLgYgsoRoyAelgJXNq+8BzSez8DgdGApyK56oE7RjMIBNEMm4GIDIEnaaIV59DLawlsNovx9OB0vgiTpheqwfAHCs24Nur6X67ZKFMACRJWwHoD0uQs83egARUWe8+kQIDuHuDxkbAxBZwnY36F2l8EqpRg8gBiCiTgl4XXjd5ABuP9F34ycT6YR7k2QJfo8TfV3uq47AVreKyJerGB/gRUyiTvrDf34nO6+ToXEHiCyj3gzxygA0v10Bxh0gok5i+CGjYwAiyxgK+rG8ceURmNYDaJwl8ERE1IQBiCxjOOTD4q4doIVkFi6HYDjEy5hERLSDAYgsIxryY6tQwVahvP3YfDKHkT4/XE7+Uycioh38qUCWMdTY5Wk+BrvECjAiItoDAxBZxnDIBwDbx2BKqUYPIN7/ISKiKzEAkWXs7gadzpWxVahwB4iIiK7CAESWEenxwekQLDeaIXIKPBERXQsDEFmG0yE43uvb3gFa2A5A3AEiIqIrMQCRpUSbSuHn13IQAUb7WQJPRERXYgAiSxkK+rcHoi4ks4gG/fC6nDqvioiIjIYBiCwlGvLj8kYBtZrCfDLHGWBERLQnBiCylOGQD+WqwlqmiIVklvd/iIhoTwxAZClaKfyFy1tI58rsAURERHtiACJLGQrWA9DX55IAWAFGRER7YwAiS9GGnn59bg0AMM4AREREe2AAIkvp9bvQ7XHiO4sbAIAT/TwCIyKiqzEAkaWICIZCftQUcLzXB7+HJfBERHQ1BiCyHO0iNEdgEBHRtTAAkeVoU+F5/4eIiK6FAYgsR6sEG2MTRCIiugYGILKc7SOwfu4AERHR3hiAyHLuOBHCaL8ft58I6b0UIiIyKJfeCyBqtVPhAL78r96s9zKIiMjAuANEREREtsMARERERLbDAERERES2wwBEREREtsMARERERLZjqQAkIveIyIsiMisiH9zj998gIk+JSEVE/rEeayQiIiL9WSYAiYgTwCcBvA3AFID7RGRq19MuAfhhAP+7s6sjIiIiI7FSH6A7AcwqpS4CgIg8COCdAJ7XnqCUmm/8Xk2PBRIREZExWGYHCMAwgFjTx/HGY0RERERXsFIAahkReZ+InBeR86urq3ovh4iIiFrMSgFoEcBo08cjjccOTCn1gFJqWik1HQ6HW7I4IiIiMg4rBaAnAJwWkZMi4gHwXgAP6bwmIiIiMiDLBCClVAXA+wE8AuACgE8ppZ4TkY+KyL0AICKvEZE4gH8C4L+LyHP6rZiIiIj0YqUqMCilHgbw8K7H7m/69ROoH40RERGRjVlmB4iIiIhovxiAiIiIyHYYgIiIiMh2GICIiIjIdkQppfcaDE1EVgEstPBTDgBYa+Hno73x77lz+HfdGfx77gz+PQNjSinLN8FjAOowETmvlJrWex1Wx7/nzuHfdWfw77kz+PdsHzwCIyIiItthACIiIiLbYQDqvAf0XoBN8O+5c/h33Rn8e+4M/j3bBO8AERERke1wB4iIiIhshwGog0TkHhF5UURmReSDeq/HikRkVEQ+LyLPi8hzIvIBvddkZSLiFJGnReSv9F6LVYlISEQ+LSIviMgFEfluvddkVSLyc43XjWdF5E9ExKf3mqh9GIA6REScAD4J4G0ApgDcJyJT+q7KkioAfkEpNQXgtQB+in/PbfUBABf0XoTF/VcAf6uUugXAq8C/77YQkWEAPwNgWil1GwAngPfquypqJwagzrkTwKxS6qJSqgTgQQDv1HlNlqOUWlZKPdX49RbqPyyG9V2VNYnICIB/COD39F6LVYlIEMAbAPx/AKCUKiml1nVdlLW5APhFxAWgC8CSzuuhNmIA6pxhALGmj+PgD+a2EpFxALcD+KbOS7Gq/wLgXwGo6bwOKzsJYBXA7zeOGn9PRLr1XpQVKaUWAfxnAJcALAPYUEr9nb6ronZiACJLEpEAgP8D4GeVUpt6r8dqROT7ACSUUk/qvRaLcwG4A8B/U0rdDiALgPcH20BE+lDflT8JIAqgW0R+UN9VUTsxAHXOIoDRpo9HGo9Ri4mIG/Xw87+UUn+u93os6nUA7hWRedSPc98sIn+s75IsKQ4grpTSdjE/jXogotY7B+BlpdSqUqoM4M8B/AOd10RtxADUOU8AOC0iJ0XEg/rluod0XpPliIigfl/iglLqE3qvx6qUUh9SSo0opcZR/7f8uFKK75ZbTCl1GUBMRG5uPPQWAM/ruCQruwTgtSLS1XgdeQt44dzSXHovwC6UUhUReT+AR1CvLvgfSqnndF6WFb0OwA8B+I6IPNN47JeUUg/rtySiI/lpAP+r8cbpIoAf0Xk9lqSU+qaIfBrAU6hXkz4NdoW2NHaCJiIiItvhERgRERHZDgMQERER2Q4DEBEREdkOAxARERHZDgMQERER2Q4DEBEREdkOAxARERHZDgMQERER2Q4DEBEREdkOAxARERHZDgMQERER2Q4DEBEREdkOAxARERHZDgMQERER2Q4DEBEREdkOAxARERHZDgMQERER2Q4DEBEREdkOAxARERHZDgMQERER2Q4DEBEREdkOAxARERHZDgMQERER2Q4DEBEREdkOAxARERHZDgMQERER2Q4DEBEREdkOAxARERHZDgMQERER2Q4DEBEREdkOAxARERHZDgMQERER2Q4DEBEREdkOAxARERHZDgMQERER2Q4DEBEREdkOAxARERHZDgMQERER2Q4DEBEREdkOAxARERHZDgMQERER2Q4DEBEREdkOAxARERHZDgMQERER2Q4DEBEREdkOAxARERHZDgMQERER2Q4DEBEREdkOAxARERHZDgMQERER2Q4DEBEREdkOAxARERHZDgMQERER2Q4DEBEREdkOAxARERHZDgMQERER2c7/Dwm/A6IyJWnNAAAAAElFTkSuQmCC' width=576.0/>\n",
              "            </div>\n",
              "        "
            ],
            "application/vnd.jupyter.widget-view+json": {
              "version_major": 2,
              "version_minor": 0,
              "model_id": "deac95be52c547e7a92bfd244b53a3fa"
            }
          },
          "metadata": {
            "application/vnd.jupyter.widget-view+json": {
              "colab": {
                "custom_widget_manager": {
                  "url": "https://ssl.gstatic.com/colaboratory-static/widgets/colab-cdn-widget-manager/b3e629b1971e1542/manager.min.js"
                }
              }
            }
          }
        }
      ]
    },
    {
      "cell_type": "markdown",
      "source": [
        "## Most Common Events\n",
        "\n",
        "1. `KeyEvent`\n",
        "    - key_press_event\n",
        "    - key_release_event\n",
        "2. `MouseEvent`\n",
        "    - button_press_event\n",
        "    - button_release_event\n",
        "    - motion_notify_event\n",
        "    - scroll_event\n",
        "\n",
        "Both of these events are derived from the `LocationEvent` which has the following attributes:\n",
        "\n",
        "- `x`: mouse x position in pixels from (left, bottom)\n",
        "- `y`: mouse y position in pixels from (left, bottom)\n",
        "- `inaxes`: the `Axes` instance over which the mouse is, if any, else `None`\n",
        "- `xdata`: mouse x position in data coordinates if the mouse is over an axes\n",
        "- `ydata`: mouse x position in data coordinates if the mouse is over an axes"
      ],
      "metadata": {
        "id": "4wKQAf7vAzyz"
      }
    },
    {
      "cell_type": "markdown",
      "source": [
        "## Example\n",
        "\n",
        "- In this canvas, a simple line segment is created every time a mouse is pressed"
      ],
      "metadata": {
        "id": "RFbJhMdzA4_k"
      }
    },
    {
      "cell_type": "code",
      "source": [
        "# this technique is used below\n",
        "#  to get the element from the list \n",
        "#  instead of the list itself\n",
        "test, = [0]\n",
        "test"
      ],
      "metadata": {
        "colab": {
          "base_uri": "https://localhost:8080/",
          "height": 35
        },
        "id": "6q81dO3kA8Ve",
        "outputId": "6f420bfe-4316-406e-8928-0ffc8ed080b5"
      },
      "execution_count": 5,
      "outputs": [
        {
          "output_type": "execute_result",
          "data": {
            "text/plain": [
              "0"
            ]
          },
          "metadata": {},
          "execution_count": 5
        }
      ]
    },
    {
      "cell_type": "code",
      "source": [
        "class LineBuilder:\n",
        "    def __init__(self, line):\n",
        "        self.line = line\n",
        "        self.xs = list(line.get_xdata())\n",
        "        self.ys = list(line.get_ydata())\n",
        "        self.cid = line.figure.canvas.mpl_connect('button_press_event', self)\n",
        "\n",
        "    def __call__(self, event):\n",
        "        #print('click', event)\n",
        "        if event.inaxes != self.line.axes:\n",
        "            return \n",
        "        self.xs.append(event.xdata)\n",
        "        self.ys.append(event.ydata)\n",
        "        self.line.set_data(self.xs, self.ys)\n",
        "        self.line.figure.canvas.draw()\n",
        "\n",
        "        # in addition to those Location event attributes,\n",
        "        #   the MouseEvent also has access to the button attribute\n",
        "        #   and key attribute\n",
        "        print(event.button, event.key)\n",
        "\n",
        "fig = plt.figure(figsize=(8, 8))\n",
        "ax = fig.add_subplot(111)\n",
        "ax.set_title('Click to build line segments')\n",
        "line, = ax.plot([0], [0])\n",
        "linebuilder = LineBuilder(line)"
      ],
      "metadata": {
        "colab": {
          "base_uri": "https://localhost:8080/",
          "height": 665,
          "referenced_widgets": [
            "32c392c22b584313b9c0626db089e6b4",
            "420effce78ac4efd83a1343b126b8d34",
            "e9d387f608ad429abbe2dc9b2cc73bc1",
            "9df883062e894de3b246d28c5f7c3c24"
          ]
        },
        "id": "V5dEClmhBDZq",
        "outputId": "aff5235a-e58c-4fb1-86c7-37c0ed3c1303"
      },
      "execution_count": 6,
      "outputs": [
        {
          "output_type": "display_data",
          "data": {
            "text/plain": [
              "Canvas(toolbar=Toolbar(toolitems=[('Home', 'Reset original view', 'home', 'home'), ('Back', 'Back to previous …"
            ],
            "image/png": "[encoded data removed]",
            "text/html": [
              "\n",
              "            <div style=\"display: inline-block;\">\n",
              "                <div class=\"jupyter-widgets widget-label\" style=\"text-align: center;\">\n",
              "                    Figure\n",
              "                </div>\n",
              "                <img src='data:image/png;base64,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' width=576.0/>\n",
              "            </div>\n",
              "        "
            ],
            "application/vnd.jupyter.widget-view+json": {
              "version_major": 2,
              "version_minor": 0,
              "model_id": "32c392c22b584313b9c0626db089e6b4"
            }
          },
          "metadata": {
            "application/vnd.jupyter.widget-view+json": {
              "colab": {
                "custom_widget_manager": {
                  "url": "https://ssl.gstatic.com/colaboratory-static/widgets/colab-cdn-widget-manager/b3e629b1971e1542/manager.min.js"
                }
              }
            }
          }
        }
      ]
    },
    {
      "cell_type": "markdown",
      "source": [
        "## Draggable Rectangle Exercise"
      ],
      "metadata": {
        "id": "8-KodGmpBLbH"
      }
    },
    {
      "cell_type": "code",
      "source": [
        "class DraggableRectangle:\n",
        "    def __init__(self, rect):\n",
        "        self.rect = rect\n",
        "        self.press = None\n",
        "\n",
        "    def connect(self):\n",
        "        \"\"\"Connect to all events we need\"\"\"\n",
        "        self.cidpress = self.rect.figure.canvas.mpl_connect(\n",
        "            'button_press_event', self.on_press)\n",
        "        self.cidrelease = self.rect.figure.canvas.mpl_connect(\n",
        "            'button_release_event', self.on_release)\n",
        "        self.cidmotion = self.rect.figure.canvas.mpl_connect(\n",
        "            'motion_notify_event', self.on_motion)\n",
        "\n",
        "    def on_press(self, event):\n",
        "        if event.inaxes != self.rect.axes:\n",
        "            return\n",
        "        contains, attrd = self.rect.contains(event)\n",
        "        if not contains:\n",
        "            return\n",
        "        #print('event contains', self.rect.xy)\n",
        "        self.press = self.rect.xy, (event.xdata, event.ydata)\n",
        "        #print(self.press)\n",
        "\n",
        "    def on_motion(self, event): \n",
        "        \"\"\"Move the rectangle if the mouse is over us\"\"\"\n",
        "        if self.press is None or event.inaxes != self.rect.axes:\n",
        "            return \n",
        "        (x0, y0), (xpress, ypress) = self.press \n",
        "        dx = event.xdata - xpress \n",
        "        dy = event.ydata - ypress\n",
        "        self.rect.set_x(x0 + dx)\n",
        "        self.rect.set_y(y0 + dy)\n",
        "        self.rect.figure.canvas.draw()\n",
        "\n",
        "    def on_release(self, event): \n",
        "        \"\"\"Clear button press information\"\"\"\n",
        "        self.press = None \n",
        "        self.rect.figure.canvas.draw()\n",
        "\n",
        "    def disconnect(self):\n",
        "        \"\"\"Disconnect all callbacks.\"\"\"\n",
        "        self.rect.figure.canvas.mpl_disconnect(self.cidpress)\n",
        "        self.rect.figure.canvas.mpl_disconnect(self.cidrelease)\n",
        "        self.rect.figure.canvas.mpl_disconnect(self.cidmotion)\n",
        "\n",
        "fig = plt.figure(figsize=(8, 8))\n",
        "ax = fig.add_subplot(111)\n",
        "rects = ax.bar(range(10), 20 * np.random.rand(10))\n",
        "\n",
        "# Reason for `drs` variable\n",
        "# The canvas retains only weak references to instance \n",
        "# methods used as callbacks. Therefore, you need to \n",
        "# retain a reference to instances owning such methods. \n",
        "# Otherwise the instance will be garbage-collected \n",
        "# and the callback will vanish.\n",
        "# This does not affect free functions used as callbacks.\n",
        "drs = []\n",
        "for rect in rects:\n",
        "    dr = DraggableRectangle(rect)\n",
        "    dr.connect()\n",
        "    drs.append(dr)\n",
        "\n",
        "plt.show()"
      ],
      "metadata": {
        "colab": {
          "base_uri": "https://localhost:8080/",
          "height": 665,
          "referenced_widgets": [
            "68e2db14713a4a3085f9bb21c9050e99",
            "003acd28a4504731bfc09d49074947fd",
            "a64c64e0129148b6908adad76e509363",
            "802db232d38d48da9f31110d3b656131"
          ]
        },
        "id": "clCRf6mICfK1",
        "outputId": "7d0258b9-5a44-4b90-af32-495acf29c24a"
      },
      "execution_count": 7,
      "outputs": [
        {
          "output_type": "display_data",
          "data": {
            "text/plain": [
              "Canvas(toolbar=Toolbar(toolitems=[('Home', 'Reset original view', 'home', 'home'), ('Back', 'Back to previous …"
            ],
            "image/png": "[encoded data removed]",
            "text/html": [
              "\n",
              "            <div style=\"display: inline-block;\">\n",
              "                <div class=\"jupyter-widgets widget-label\" style=\"text-align: center;\">\n",
              "                    Figure\n",
              "                </div>\n",
              "                <img src='data:image/png;base64,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' width=576.0/>\n",
              "            </div>\n",
              "        "
            ],
            "application/vnd.jupyter.widget-view+json": {
              "version_major": 2,
              "version_minor": 0,
              "model_id": "68e2db14713a4a3085f9bb21c9050e99"
            }
          },
          "metadata": {
            "application/vnd.jupyter.widget-view+json": {
              "colab": {
                "custom_widget_manager": {
                  "url": "https://ssl.gstatic.com/colaboratory-static/widgets/colab-cdn-widget-manager/b3e629b1971e1542/manager.min.js"
                }
              }
            }
          }
        }
      ]
    },
    {
      "cell_type": "markdown",
      "source": [
        "## Mouse enter and leave\n",
        "\n",
        "- If you want to be notified when the mouse enters or leaves a figure or axes\n",
        "    - connect to the figure/axes enter/leave events"
      ],
      "metadata": {
        "id": "rlaDyuU2ii91"
      }
    },
    {
      "cell_type": "code",
      "source": [
        "\"\"\"\n",
        "Illustrate the figure and axes enter and leave events by changing the\n",
        "frame colors on enter and leave\n",
        "\"\"\"\n",
        "\n",
        "def enter_axes(event):\n",
        "    print('enter_axes', event.inaxes)\n",
        "    event.inaxes.patch.set_facecolor('yellow')\n",
        "    event.canvas.draw()\n",
        "\n",
        "def leave_axes(event):\n",
        "    print('eave_axes', event.inaxes)\n",
        "    event.inaxes.patch.set_facecolor('white')\n",
        "    event.canvas.draw()\n",
        "\n",
        "def enter_figure(event):\n",
        "    print('enter_figure', event.canvas.figure)\n",
        "    event.canvas.figure.patch.set_facecolor('red')\n",
        "    event.canvas.draw()\n",
        "\n",
        "def leave_figure(event):\n",
        "    print('leave_figure', event.canvas.figure)\n",
        "    event.canvas.figure.patch.set_facecolor('grey')\n",
        "    event.canvas.draw()\n",
        "\n",
        "\n",
        "\n",
        "fig1, axs = plt.subplots(2)\n",
        "fig1.suptitle(\"mouse hover over figure or axes to trigger events\")\n",
        "\n",
        "fig1.canvas.mpl_connect('figure_enter_event', enter_figure)\n",
        "fig1.canvas.mpl_connect('figure_leave_event', leave_figure)\n",
        "fig1.canvas.mpl_connect('axes_enter_event', enter_axes)\n",
        "fig1.canvas.mpl_connect('axes_leave_event', leave_axes)\n",
        "\n",
        "fig2, axs = plt.subplots(2)\n",
        "fig2.suptitle(\"mouse hover over figure or axes to trigger events\")\n",
        "\n",
        "fig2.canvas.mpl_connect('figure_enter_event', enter_figure)\n",
        "fig2.canvas.mpl_connect('figure_leave_event', leave_figure)\n",
        "fig2.canvas.mpl_connect('axes_enter_event', enter_axes)\n",
        "fig2.canvas.mpl_connect('axes_leave_event', leave_axes)\n",
        "\n",
        "plt.show()"
      ],
      "metadata": {
        "colab": {
          "base_uri": "https://localhost:8080/",
          "height": 737,
          "referenced_widgets": [
            "e112b8ae820046ce90dd45abe58968a4",
            "1ed310201a7945c09865b894794e0ae7",
            "c60b9761d4024432b34ef07f23df49f9",
            "84d727c70139432796020a43db33fed9",
            "975ad10227554491ba60da569c43f3ff",
            "8d1c9b7a491f43a4aec16c71ab85565f",
            "c842a77bfa224dab9ff03ace59cc54ae",
            "bb6617a93d6f4001b9bf940284deaf83"
          ]
        },
        "id": "tz0uk17YCf3X",
        "outputId": "b7b89a21-d982-47f7-bf88-849c226f77a5"
      },
      "execution_count": 8,
      "outputs": [
        {
          "output_type": "display_data",
          "data": {
            "text/plain": [
              "Canvas(toolbar=Toolbar(toolitems=[('Home', 'Reset original view', 'home', 'home'), ('Back', 'Back to previous …"
            ],
            "image/png": "[encoded data removed]",
            "text/html": [
              "\n",
              "            <div style=\"display: inline-block;\">\n",
              "                <div class=\"jupyter-widgets widget-label\" style=\"text-align: center;\">\n",
              "                    Figure\n",
              "                </div>\n",
              "                <img src='data:image/png;base64,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' width=432.0/>\n",
              "            </div>\n",
              "        "
            ],
            "application/vnd.jupyter.widget-view+json": {
              "version_major": 2,
              "version_minor": 0,
              "model_id": "e112b8ae820046ce90dd45abe58968a4"
            }
          },
          "metadata": {
            "application/vnd.jupyter.widget-view+json": {
              "colab": {
                "custom_widget_manager": {
                  "url": "https://ssl.gstatic.com/colaboratory-static/widgets/colab-cdn-widget-manager/b3e629b1971e1542/manager.min.js"
                }
              }
            }
          }
        },
        {
          "output_type": "display_data",
          "data": {
            "text/plain": [
              "Canvas(toolbar=Toolbar(toolitems=[('Home', 'Reset original view', 'home', 'home'), ('Back', 'Back to previous …"
            ],
            "image/png": "[encoded data removed]",
            "text/html": [
              "\n",
              "            <div style=\"display: inline-block;\">\n",
              "                <div class=\"jupyter-widgets widget-label\" style=\"text-align: center;\">\n",
              "                    Figure\n",
              "                </div>\n",
              "                <img src='data:image/png;base64,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' width=432.0/>\n",
              "            </div>\n",
              "        "
            ],
            "application/vnd.jupyter.widget-view+json": {
              "version_major": 2,
              "version_minor": 0,
              "model_id": "975ad10227554491ba60da569c43f3ff"
            }
          },
          "metadata": {
            "application/vnd.jupyter.widget-view+json": {
              "colab": {
                "custom_widget_manager": {
                  "url": "https://ssl.gstatic.com/colaboratory-static/widgets/colab-cdn-widget-manager/b3e629b1971e1542/manager.min.js"
                }
              }
            }
          }
        }
      ]
    },
    {
      "cell_type": "markdown",
      "source": [
        "## Object picking\n",
        "\n",
        "- enable picking by setting the `picker` property of an `Artist`\n",
        "    - `class matplotlib.artist.Artist`: abstract base class for objects that render into a `FigureCanvas`\n",
        "    - basically, all visible elements in a figure are subclasses of `Artist`\n",
        "- the `picker` property can be set using various types:\n",
        "    1. `None`: picking is disabled for this artist (default)\n",
        "    2. `boolean`: if `True` then picking is enabled for this artist and the artist will fire a pick evetn of the mouse event is over the artist\n",
        "    3. `callable`: if picker is a callable, it is a user supplied function which dtermins whether the arist is hit by the mouse event. \n",
        "        - the signature: `hit, props = picker(artist, mouseevent)`\n",
        "        - if the mouse event is over the artist, return `hit = True`\n",
        "        - `props` is a dictionary of properties that become additional attribues on the `PickEvent`\n",
        "- after enabling an artist for picking by setting `picker=True`, you need to connect a handler to the figure canvas pick_event to get pick callbacks on mouse press events. The handler typically looks like this:"
      ],
      "metadata": {
        "id": "PjSgHNPjQQmg"
      }
    },
    {
      "cell_type": "code",
      "source": [
        "def pick_handler(event):\n",
        "    mousevent = event.MouseEvent\n",
        "    artist = event.artist \n",
        "    # now do something with this"
      ],
      "metadata": {
        "id": "smeGL_NcZB1O"
      },
      "execution_count": 9,
      "outputs": []
    },
    {
      "cell_type": "markdown",
      "source": [
        "- the `PickEvent` passed to your callback always has the following attribues:\n",
        "    - `mouseevent`: the `MouseEvent` that generates the pick event\n",
        "    - `artist`: the `Artist`that generated the pick event"
      ],
      "metadata": {
        "id": "eXNzwehCZRZu"
      }
    },
    {
      "cell_type": "code",
      "source": [
        "fig, ax = plt.subplots()\n",
        "ax.set_title('click on points')\n",
        "\n",
        "line, = ax.plot(np.random.rand(100), 'o', picker=True, pickradius=5)\n",
        "print(tuple(zip(line.get_xdata(), line.get_ydata())))\n",
        "\n",
        "def onpick(event):\n",
        "    thisline = event.artist\n",
        "    xdata = thisline.get_xdata()\n",
        "    ydata = thisline.get_ydata()\n",
        "    ind = event.ind\n",
        "    print(ind)\n",
        "    points = tuple(zip(xdata[ind], ydata[ind]))\n",
        "    print('onpick points:', points)\n",
        "\n",
        "fig.canvas.mpl_connect('pick_event', onpick)\n",
        "\n",
        "plt.show()"
      ],
      "metadata": {
        "colab": {
          "base_uri": "https://localhost:8080/",
          "height": 415,
          "referenced_widgets": [
            "db63227cea404abfb29f6d87d5aeaa67",
            "d043c30ff8294a9f947c6ee20d650195",
            "d4f402c6035e42de8bbc0d872e6be8ed",
            "4323572f7f4f42c08b69d8bffe20c56a"
          ]
        },
        "id": "tloLPe9-XLI4",
        "outputId": "3bbf4407-f894-44e7-9628-512a8825bede"
      },
      "execution_count": 10,
      "outputs": [
        {
          "output_type": "stream",
          "name": "stdout",
          "text": [
            "((0.0, 0.310757801673916), (1.0, 0.7437824489631241), (2.0, 0.49008250600098036), (3.0, 0.79640774563851), (4.0, 0.7893043822148781), (5.0, 0.7183932703703972), (6.0, 0.056188483511901643), (7.0, 0.7162422571147763), (8.0, 0.832177414751598), (9.0, 0.8104090959985071), (10.0, 0.49999643846014474), (11.0, 0.20445210358399812), (12.0, 0.5395573894944468), (13.0, 0.4036031910129657), (14.0, 0.4715371429989649), (15.0, 0.8780059729055282), (16.0, 0.32738658622419214), (17.0, 0.34660802476209696), (18.0, 0.19788690489447502), (19.0, 0.1332292913064732), (20.0, 0.2994054064535979), (21.0, 0.11017992604671045), (22.0, 0.08706878546157337), (23.0, 0.0627832452656909), (24.0, 0.0404749805186142), (25.0, 0.6946279612221776), (26.0, 0.5418693258856507), (27.0, 0.932441822649669), (28.0, 0.4210822208653239), (29.0, 0.14741221479086553), (30.0, 0.5308002598840234), (31.0, 0.12644731382532381), (32.0, 0.8261996982363246), (33.0, 0.29262204075574694), (34.0, 0.046082463774083315), (35.0, 0.5080703939059774), (36.0, 0.3599996476807912), (37.0, 0.38901894705406215), (38.0, 0.5984829316321789), (39.0, 0.8444929170649018), (40.0, 0.5143719354140703), (41.0, 0.9031274028200204), (42.0, 0.4717774664234302), (43.0, 0.5475593253096125), (44.0, 0.367940125405657), (45.0, 0.13954345920819156), (46.0, 0.1315690525276687), (47.0, 0.937660156007764), (48.0, 0.5145040151627001), (49.0, 0.7821375205448357), (50.0, 0.13723481923279657), (51.0, 0.6528714739519416), (52.0, 0.6141762997316446), (53.0, 0.27972785653391286), (54.0, 0.3559830432290738), (55.0, 0.10611412159915345), (56.0, 0.7072567491810328), (57.0, 0.7221073604771563), (58.0, 0.23957625043329367), (59.0, 0.13064160064887265), (60.0, 0.9361608794414681), (61.0, 0.6366329981799634), (62.0, 0.18987597532501233), (63.0, 0.6601105702051275), (64.0, 0.9906672841343769), (65.0, 0.32907378601837656), (66.0, 0.660712692991767), (67.0, 0.7602259672032252), (68.0, 0.6189691109403969), (69.0, 0.2401011056658655), (70.0, 0.16030820100447163), (71.0, 0.7231437164229493), (72.0, 0.11119583702239122), (73.0, 0.054140942098266476), (74.0, 0.6844462754395931), (75.0, 0.8346950897770509), (76.0, 0.2551189489657314), (77.0, 0.16022253523994945), (78.0, 0.2426461635921413), (79.0, 0.5794354297085758), (80.0, 0.00155036253549512), (81.0, 0.9689046234244377), (82.0, 0.15367569074747534), (83.0, 0.1918631017325534), (84.0, 0.4599340355466004), (85.0, 0.3375422535087774), (86.0, 0.18354921695956206), (87.0, 0.8405945606356944), (88.0, 0.8947367109965341), (89.0, 0.7134537250319497), (90.0, 0.9368248934155924), (91.0, 0.7660377056728508), (92.0, 0.8413951635578686), (93.0, 0.8397841681013751), (94.0, 0.42014162264873534), (95.0, 0.7744495838499268), (96.0, 0.25718974565709796), (97.0, 0.9547222367494735), (98.0, 0.6293080761076494), (99.0, 0.2925498976973514))\n"
          ]
        },
        {
          "output_type": "display_data",
          "data": {
            "text/plain": [
              "Canvas(toolbar=Toolbar(toolitems=[('Home', 'Reset original view', 'home', 'home'), ('Back', 'Back to previous …"
            ],
            "image/png": "[encoded data removed]",
            "text/html": [
              "\n",
              "            <div style=\"display: inline-block;\">\n",
              "                <div class=\"jupyter-widgets widget-label\" style=\"text-align: center;\">\n",
              "                    Figure\n",
              "                </div>\n",
              "                <img src='data:image/png;base64,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' width=432.0/>\n",
              "            </div>\n",
              "        "
            ],
            "application/vnd.jupyter.widget-view+json": {
              "version_major": 2,
              "version_minor": 0,
              "model_id": "db63227cea404abfb29f6d87d5aeaa67"
            }
          },
          "metadata": {
            "application/vnd.jupyter.widget-view+json": {
              "colab": {
                "custom_widget_manager": {
                  "url": "https://ssl.gstatic.com/colaboratory-static/widgets/colab-cdn-widget-manager/b3e629b1971e1542/manager.min.js"
                }
              }
            }
          }
        }
      ]
    }
  ]
}