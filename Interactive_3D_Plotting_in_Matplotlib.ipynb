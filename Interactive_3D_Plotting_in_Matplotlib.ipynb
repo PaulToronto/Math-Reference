{
  "nbformat": 4,
  "nbformat_minor": 0,
  "metadata": {
    "colab": {
      "provenance": [],
      "toc_visible": true,
      "authorship_tag": "ABX9TyMt3zZZNmlJCp86v8I19ATB",
      "include_colab_link": true
    },
    "kernelspec": {
      "name": "python3",
      "display_name": "Python 3"
    },
    "language_info": {
      "name": "python"
    },
    "widgets": {
      "application/vnd.jupyter.widget-state+json": {
        "dd661032ffe0435490ae86718a193c90": {
          "model_module": "jupyter-matplotlib",
          "model_name": "MPLCanvasModel",
          "model_module_version": "^0.11",
          "state": {
            "_cursor": "default",
            "_data_url": "data:image/png;base64,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",
            "_dom_classes": [],
            "_figure_label": "Figure 1",
            "_image_mode": "full",
            "_message": "",
            "_model_module": "jupyter-matplotlib",
            "_model_module_version": "^0.11",
            "_model_name": "MPLCanvasModel",
            "_rubberband_height": 0,
            "_rubberband_width": 0,
            "_rubberband_x": 0,
            "_rubberband_y": 0,
            "_size": [
              576,
              576
            ],
            "_view_count": null,
            "_view_module": "jupyter-matplotlib",
            "_view_module_version": "^0.11",
            "_view_name": "MPLCanvasView",
            "capture_scroll": false,
            "footer_visible": true,
            "header_visible": true,
            "layout": "IPY_MODEL_8d3032547fd746dc8c43c2aea0331f6a",
            "pan_zoom_throttle": 33,
            "resizable": true,
            "toolbar": "IPY_MODEL_8bfdf1ed7dc642b98f0bcb1addc23d47",
            "toolbar_position": "left",
            "toolbar_visible": "fade-in-fade-out"
          }
        },
        "8d3032547fd746dc8c43c2aea0331f6a": {
          "model_module": "@jupyter-widgets/base",
          "model_name": "LayoutModel",
          "model_module_version": "1.2.0",
          "state": {
            "_model_module": "@jupyter-widgets/base",
            "_model_module_version": "1.2.0",
            "_model_name": "LayoutModel",
            "_view_count": null,
            "_view_module": "@jupyter-widgets/base",
            "_view_module_version": "1.2.0",
            "_view_name": "LayoutView",
            "align_content": null,
            "align_items": null,
            "align_self": null,
            "border": null,
            "bottom": null,
            "display": null,
            "flex": null,
            "flex_flow": null,
            "grid_area": null,
            "grid_auto_columns": null,
            "grid_auto_flow": null,
            "grid_auto_rows": null,
            "grid_column": null,
            "grid_gap": null,
            "grid_row": null,
            "grid_template_areas": null,
            "grid_template_columns": null,
            "grid_template_rows": null,
            "height": null,
            "justify_content": null,
            "justify_items": null,
            "left": null,
            "margin": null,
            "max_height": null,
            "max_width": null,
            "min_height": null,
            "min_width": null,
            "object_fit": null,
            "object_position": null,
            "order": null,
            "overflow": null,
            "overflow_x": null,
            "overflow_y": null,
            "padding": null,
            "right": null,
            "top": null,
            "visibility": null,
            "width": null
          }
        },
        "8bfdf1ed7dc642b98f0bcb1addc23d47": {
          "model_module": "jupyter-matplotlib",
          "model_name": "ToolbarModel",
          "model_module_version": "^0.11",
          "state": {
            "_current_action": "",
            "_dom_classes": [],
            "_model_module": "jupyter-matplotlib",
            "_model_module_version": "^0.11",
            "_model_name": "ToolbarModel",
            "_view_count": null,
            "_view_module": "jupyter-matplotlib",
            "_view_module_version": "^0.11",
            "_view_name": "ToolbarView",
            "button_style": "",
            "collapsed": true,
            "layout": "IPY_MODEL_9a9ad52eb23b4174a2d27df304d1f68d",
            "orientation": "vertical",
            "toolitems": [
              [
                "Home",
                "Reset original view",
                "home",
                "home"
              ],
              [
                "Back",
                "Back to previous view",
                "arrow-left",
                "back"
              ],
              [
                "Forward",
                "Forward to next view",
                "arrow-right",
                "forward"
              ],
              [
                "Pan",
                "Left button pans, Right button zooms\nx/y fixes axis, CTRL fixes aspect",
                "arrows",
                "pan"
              ],
              [
                "Zoom",
                "Zoom to rectangle\nx/y fixes axis",
                "square-o",
                "zoom"
              ],
              [
                "Download",
                "Download plot",
                "floppy-o",
                "save_figure"
              ]
            ]
          }
        },
        "9a9ad52eb23b4174a2d27df304d1f68d": {
          "model_module": "@jupyter-widgets/base",
          "model_name": "LayoutModel",
          "model_module_version": "1.2.0",
          "state": {
            "_model_module": "@jupyter-widgets/base",
            "_model_module_version": "1.2.0",
            "_model_name": "LayoutModel",
            "_view_count": null,
            "_view_module": "@jupyter-widgets/base",
            "_view_module_version": "1.2.0",
            "_view_name": "LayoutView",
            "align_content": null,
            "align_items": null,
            "align_self": null,
            "border": null,
            "bottom": null,
            "display": null,
            "flex": null,
            "flex_flow": null,
            "grid_area": null,
            "grid_auto_columns": null,
            "grid_auto_flow": null,
            "grid_auto_rows": null,
            "grid_column": null,
            "grid_gap": null,
            "grid_row": null,
            "grid_template_areas": null,
            "grid_template_columns": null,
            "grid_template_rows": null,
            "height": null,
            "justify_content": null,
            "justify_items": null,
            "left": null,
            "margin": null,
            "max_height": null,
            "max_width": null,
            "min_height": null,
            "min_width": null,
            "object_fit": null,
            "object_position": null,
            "order": null,
            "overflow": null,
            "overflow_x": null,
            "overflow_y": null,
            "padding": null,
            "right": null,
            "top": null,
            "visibility": null,
            "width": null
          }
        },
        "d87633b8a776463da3a44da180f8a6d6": {
          "model_module": "jupyter-matplotlib",
          "model_name": "MPLCanvasModel",
          "model_module_version": "^0.11",
          "state": {
            "_cursor": "default",
            "_data_url": "data:image/png;base64,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",
            "_dom_classes": [],
            "_figure_label": "Figure 2",
            "_image_mode": "full",
            "_message": "",
            "_model_module": "jupyter-matplotlib",
            "_model_module_version": "^0.11",
            "_model_name": "MPLCanvasModel",
            "_rubberband_height": 0,
            "_rubberband_width": 0,
            "_rubberband_x": 0,
            "_rubberband_y": 0,
            "_size": [
              576,
              576
            ],
            "_view_count": null,
            "_view_module": "jupyter-matplotlib",
            "_view_module_version": "^0.11",
            "_view_name": "MPLCanvasView",
            "capture_scroll": false,
            "footer_visible": true,
            "header_visible": true,
            "layout": "IPY_MODEL_f7fab36c069d41d18a9e914df09c50ff",
            "pan_zoom_throttle": 33,
            "resizable": true,
            "toolbar": "IPY_MODEL_02e0f6476efb4b1088c6c4beca2f3810",
            "toolbar_position": "left",
            "toolbar_visible": "fade-in-fade-out"
          }
        },
        "f7fab36c069d41d18a9e914df09c50ff": {
          "model_module": "@jupyter-widgets/base",
          "model_name": "LayoutModel",
          "model_module_version": "1.2.0",
          "state": {
            "_model_module": "@jupyter-widgets/base",
            "_model_module_version": "1.2.0",
            "_model_name": "LayoutModel",
            "_view_count": null,
            "_view_module": "@jupyter-widgets/base",
            "_view_module_version": "1.2.0",
            "_view_name": "LayoutView",
            "align_content": null,
            "align_items": null,
            "align_self": null,
            "border": null,
            "bottom": null,
            "display": null,
            "flex": null,
            "flex_flow": null,
            "grid_area": null,
            "grid_auto_columns": null,
            "grid_auto_flow": null,
            "grid_auto_rows": null,
            "grid_column": null,
            "grid_gap": null,
            "grid_row": null,
            "grid_template_areas": null,
            "grid_template_columns": null,
            "grid_template_rows": null,
            "height": null,
            "justify_content": null,
            "justify_items": null,
            "left": null,
            "margin": null,
            "max_height": null,
            "max_width": null,
            "min_height": null,
            "min_width": null,
            "object_fit": null,
            "object_position": null,
            "order": null,
            "overflow": null,
            "overflow_x": null,
            "overflow_y": null,
            "padding": null,
            "right": null,
            "top": null,
            "visibility": null,
            "width": null
          }
        },
        "02e0f6476efb4b1088c6c4beca2f3810": {
          "model_module": "jupyter-matplotlib",
          "model_name": "ToolbarModel",
          "model_module_version": "^0.11",
          "state": {
            "_current_action": "",
            "_dom_classes": [],
            "_model_module": "jupyter-matplotlib",
            "_model_module_version": "^0.11",
            "_model_name": "ToolbarModel",
            "_view_count": null,
            "_view_module": "jupyter-matplotlib",
            "_view_module_version": "^0.11",
            "_view_name": "ToolbarView",
            "button_style": "",
            "collapsed": true,
            "layout": "IPY_MODEL_92e8a36ba32f41438ee6b3117210d56e",
            "orientation": "vertical",
            "toolitems": [
              [
                "Home",
                "Reset original view",
                "home",
                "home"
              ],
              [
                "Back",
                "Back to previous view",
                "arrow-left",
                "back"
              ],
              [
                "Forward",
                "Forward to next view",
                "arrow-right",
                "forward"
              ],
              [
                "Pan",
                "Left button pans, Right button zooms\nx/y fixes axis, CTRL fixes aspect",
                "arrows",
                "pan"
              ],
              [
                "Zoom",
                "Zoom to rectangle\nx/y fixes axis",
                "square-o",
                "zoom"
              ],
              [
                "Download",
                "Download plot",
                "floppy-o",
                "save_figure"
              ]
            ]
          }
        },
        "92e8a36ba32f41438ee6b3117210d56e": {
          "model_module": "@jupyter-widgets/base",
          "model_name": "LayoutModel",
          "model_module_version": "1.2.0",
          "state": {
            "_model_module": "@jupyter-widgets/base",
            "_model_module_version": "1.2.0",
            "_model_name": "LayoutModel",
            "_view_count": null,
            "_view_module": "@jupyter-widgets/base",
            "_view_module_version": "1.2.0",
            "_view_name": "LayoutView",
            "align_content": null,
            "align_items": null,
            "align_self": null,
            "border": null,
            "bottom": null,
            "display": null,
            "flex": null,
            "flex_flow": null,
            "grid_area": null,
            "grid_auto_columns": null,
            "grid_auto_flow": null,
            "grid_auto_rows": null,
            "grid_column": null,
            "grid_gap": null,
            "grid_row": null,
            "grid_template_areas": null,
            "grid_template_columns": null,
            "grid_template_rows": null,
            "height": null,
            "justify_content": null,
            "justify_items": null,
            "left": null,
            "margin": null,
            "max_height": null,
            "max_width": null,
            "min_height": null,
            "min_width": null,
            "object_fit": null,
            "object_position": null,
            "order": null,
            "overflow": null,
            "overflow_x": null,
            "overflow_y": null,
            "padding": null,
            "right": null,
            "top": null,
            "visibility": null,
            "width": null
          }
        },
        "8c2b52378c6d4653a2a89695f6a15c55": {
          "model_module": "jupyter-matplotlib",
          "model_name": "MPLCanvasModel",
          "model_module_version": "^0.11",
          "state": {
            "_cursor": "default",
            "_data_url": "data:image/png;base64,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",
            "_dom_classes": [],
            "_figure_label": "Figure 3",
            "_image_mode": "full",
            "_message": "",
            "_model_module": "jupyter-matplotlib",
            "_model_module_version": "^0.11",
            "_model_name": "MPLCanvasModel",
            "_rubberband_height": 0,
            "_rubberband_width": 0,
            "_rubberband_x": 0,
            "_rubberband_y": 0,
            "_size": [
              576,
              576
            ],
            "_view_count": null,
            "_view_module": "jupyter-matplotlib",
            "_view_module_version": "^0.11",
            "_view_name": "MPLCanvasView",
            "capture_scroll": false,
            "footer_visible": true,
            "header_visible": true,
            "layout": "IPY_MODEL_eacdb76e041749099be14776ec0c61e0",
            "pan_zoom_throttle": 33,
            "resizable": true,
            "toolbar": "IPY_MODEL_ffcd20863d0145579a1461dc8adfe086",
            "toolbar_position": "left",
            "toolbar_visible": "fade-in-fade-out"
          }
        },
        "eacdb76e041749099be14776ec0c61e0": {
          "model_module": "@jupyter-widgets/base",
          "model_name": "LayoutModel",
          "model_module_version": "1.2.0",
          "state": {
            "_model_module": "@jupyter-widgets/base",
            "_model_module_version": "1.2.0",
            "_model_name": "LayoutModel",
            "_view_count": null,
            "_view_module": "@jupyter-widgets/base",
            "_view_module_version": "1.2.0",
            "_view_name": "LayoutView",
            "align_content": null,
            "align_items": null,
            "align_self": null,
            "border": null,
            "bottom": null,
            "display": null,
            "flex": null,
            "flex_flow": null,
            "grid_area": null,
            "grid_auto_columns": null,
            "grid_auto_flow": null,
            "grid_auto_rows": null,
            "grid_column": null,
            "grid_gap": null,
            "grid_row": null,
            "grid_template_areas": null,
            "grid_template_columns": null,
            "grid_template_rows": null,
            "height": null,
            "justify_content": null,
            "justify_items": null,
            "left": null,
            "margin": null,
            "max_height": null,
            "max_width": null,
            "min_height": null,
            "min_width": null,
            "object_fit": null,
            "object_position": null,
            "order": null,
            "overflow": null,
            "overflow_x": null,
            "overflow_y": null,
            "padding": null,
            "right": null,
            "top": null,
            "visibility": null,
            "width": null
          }
        },
        "ffcd20863d0145579a1461dc8adfe086": {
          "model_module": "jupyter-matplotlib",
          "model_name": "ToolbarModel",
          "model_module_version": "^0.11",
          "state": {
            "_current_action": "",
            "_dom_classes": [],
            "_model_module": "jupyter-matplotlib",
            "_model_module_version": "^0.11",
            "_model_name": "ToolbarModel",
            "_view_count": null,
            "_view_module": "jupyter-matplotlib",
            "_view_module_version": "^0.11",
            "_view_name": "ToolbarView",
            "button_style": "",
            "collapsed": true,
            "layout": "IPY_MODEL_a81e29934f0c48378ddea94031c71796",
            "orientation": "vertical",
            "toolitems": [
              [
                "Home",
                "Reset original view",
                "home",
                "home"
              ],
              [
                "Back",
                "Back to previous view",
                "arrow-left",
                "back"
              ],
              [
                "Forward",
                "Forward to next view",
                "arrow-right",
                "forward"
              ],
              [
                "Pan",
                "Left button pans, Right button zooms\nx/y fixes axis, CTRL fixes aspect",
                "arrows",
                "pan"
              ],
              [
                "Zoom",
                "Zoom to rectangle\nx/y fixes axis",
                "square-o",
                "zoom"
              ],
              [
                "Download",
                "Download plot",
                "floppy-o",
                "save_figure"
              ]
            ]
          }
        },
        "a81e29934f0c48378ddea94031c71796": {
          "model_module": "@jupyter-widgets/base",
          "model_name": "LayoutModel",
          "model_module_version": "1.2.0",
          "state": {
            "_model_module": "@jupyter-widgets/base",
            "_model_module_version": "1.2.0",
            "_model_name": "LayoutModel",
            "_view_count": null,
            "_view_module": "@jupyter-widgets/base",
            "_view_module_version": "1.2.0",
            "_view_name": "LayoutView",
            "align_content": null,
            "align_items": null,
            "align_self": null,
            "border": null,
            "bottom": null,
            "display": null,
            "flex": null,
            "flex_flow": null,
            "grid_area": null,
            "grid_auto_columns": null,
            "grid_auto_flow": null,
            "grid_auto_rows": null,
            "grid_column": null,
            "grid_gap": null,
            "grid_row": null,
            "grid_template_areas": null,
            "grid_template_columns": null,
            "grid_template_rows": null,
            "height": null,
            "justify_content": null,
            "justify_items": null,
            "left": null,
            "margin": null,
            "max_height": null,
            "max_width": null,
            "min_height": null,
            "min_width": null,
            "object_fit": null,
            "object_position": null,
            "order": null,
            "overflow": null,
            "overflow_x": null,
            "overflow_y": null,
            "padding": null,
            "right": null,
            "top": null,
            "visibility": null,
            "width": null
          }
        },
        "a91a74c0fe214075b9c80170a3936186": {
          "model_module": "jupyter-matplotlib",
          "model_name": "MPLCanvasModel",
          "model_module_version": "^0.11",
          "state": {
            "_cursor": "default",
            "_data_url": "data:image/png;base64,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",
            "_dom_classes": [],
            "_figure_label": "Figure 4",
            "_image_mode": "full",
            "_message": "",
            "_model_module": "jupyter-matplotlib",
            "_model_module_version": "^0.11",
            "_model_name": "MPLCanvasModel",
            "_rubberband_height": 0,
            "_rubberband_width": 0,
            "_rubberband_x": 0,
            "_rubberband_y": 0,
            "_size": [
              576,
              576
            ],
            "_view_count": null,
            "_view_module": "jupyter-matplotlib",
            "_view_module_version": "^0.11",
            "_view_name": "MPLCanvasView",
            "capture_scroll": false,
            "footer_visible": true,
            "header_visible": true,
            "layout": "IPY_MODEL_cb33cfc0cd9e404db264c2114902e5dd",
            "pan_zoom_throttle": 33,
            "resizable": true,
            "toolbar": "IPY_MODEL_56efa4d3b98642b8bbee7eb022ebf630",
            "toolbar_position": "left",
            "toolbar_visible": "fade-in-fade-out"
          }
        },
        "cb33cfc0cd9e404db264c2114902e5dd": {
          "model_module": "@jupyter-widgets/base",
          "model_name": "LayoutModel",
          "model_module_version": "1.2.0",
          "state": {
            "_model_module": "@jupyter-widgets/base",
            "_model_module_version": "1.2.0",
            "_model_name": "LayoutModel",
            "_view_count": null,
            "_view_module": "@jupyter-widgets/base",
            "_view_module_version": "1.2.0",
            "_view_name": "LayoutView",
            "align_content": null,
            "align_items": null,
            "align_self": null,
            "border": null,
            "bottom": null,
            "display": null,
            "flex": null,
            "flex_flow": null,
            "grid_area": null,
            "grid_auto_columns": null,
            "grid_auto_flow": null,
            "grid_auto_rows": null,
            "grid_column": null,
            "grid_gap": null,
            "grid_row": null,
            "grid_template_areas": null,
            "grid_template_columns": null,
            "grid_template_rows": null,
            "height": null,
            "justify_content": null,
            "justify_items": null,
            "left": null,
            "margin": null,
            "max_height": null,
            "max_width": null,
            "min_height": null,
            "min_width": null,
            "object_fit": null,
            "object_position": null,
            "order": null,
            "overflow": null,
            "overflow_x": null,
            "overflow_y": null,
            "padding": null,
            "right": null,
            "top": null,
            "visibility": null,
            "width": null
          }
        },
        "56efa4d3b98642b8bbee7eb022ebf630": {
          "model_module": "jupyter-matplotlib",
          "model_name": "ToolbarModel",
          "model_module_version": "^0.11",
          "state": {
            "_current_action": "",
            "_dom_classes": [],
            "_model_module": "jupyter-matplotlib",
            "_model_module_version": "^0.11",
            "_model_name": "ToolbarModel",
            "_view_count": null,
            "_view_module": "jupyter-matplotlib",
            "_view_module_version": "^0.11",
            "_view_name": "ToolbarView",
            "button_style": "",
            "collapsed": true,
            "layout": "IPY_MODEL_5455ebaad2394997bd92d3ca2b173f30",
            "orientation": "vertical",
            "toolitems": [
              [
                "Home",
                "Reset original view",
                "home",
                "home"
              ],
              [
                "Back",
                "Back to previous view",
                "arrow-left",
                "back"
              ],
              [
                "Forward",
                "Forward to next view",
                "arrow-right",
                "forward"
              ],
              [
                "Pan",
                "Left button pans, Right button zooms\nx/y fixes axis, CTRL fixes aspect",
                "arrows",
                "pan"
              ],
              [
                "Zoom",
                "Zoom to rectangle\nx/y fixes axis",
                "square-o",
                "zoom"
              ],
              [
                "Download",
                "Download plot",
                "floppy-o",
                "save_figure"
              ]
            ]
          }
        },
        "5455ebaad2394997bd92d3ca2b173f30": {
          "model_module": "@jupyter-widgets/base",
          "model_name": "LayoutModel",
          "model_module_version": "1.2.0",
          "state": {
            "_model_module": "@jupyter-widgets/base",
            "_model_module_version": "1.2.0",
            "_model_name": "LayoutModel",
            "_view_count": null,
            "_view_module": "@jupyter-widgets/base",
            "_view_module_version": "1.2.0",
            "_view_name": "LayoutView",
            "align_content": null,
            "align_items": null,
            "align_self": null,
            "border": null,
            "bottom": null,
            "display": null,
            "flex": null,
            "flex_flow": null,
            "grid_area": null,
            "grid_auto_columns": null,
            "grid_auto_flow": null,
            "grid_auto_rows": null,
            "grid_column": null,
            "grid_gap": null,
            "grid_row": null,
            "grid_template_areas": null,
            "grid_template_columns": null,
            "grid_template_rows": null,
            "height": null,
            "justify_content": null,
            "justify_items": null,
            "left": null,
            "margin": null,
            "max_height": null,
            "max_width": null,
            "min_height": null,
            "min_width": null,
            "object_fit": null,
            "object_position": null,
            "order": null,
            "overflow": null,
            "overflow_x": null,
            "overflow_y": null,
            "padding": null,
            "right": null,
            "top": null,
            "visibility": null,
            "width": null
          }
        }
      }
    }
  },
  "cells": [
    {
      "cell_type": "markdown",
      "metadata": {
        "id": "view-in-github",
        "colab_type": "text"
      },
      "source": [
        "<a href=\"https://colab.research.google.com/github/PaulToronto/Math-and-Data-Science-Reference/blob/main/Interactive_3D_Plotting_in_Matplotlib.ipynb\" target=\"_parent\"><img src=\"https://colab.research.google.com/assets/colab-badge.svg\" alt=\"Open In Colab\"/></a>"
      ]
    },
    {
      "cell_type": "markdown",
      "source": [
        "# Interactive 3D Plotting in Matplotlib"
      ],
      "metadata": {
        "id": "O--D6EOc_U8n"
      }
    },
    {
      "cell_type": "code",
      "source": [
        "!pip install -q ipympl"
      ],
      "metadata": {
        "id": "6UqGd36a__84"
      },
      "execution_count": 1,
      "outputs": []
    },
    {
      "cell_type": "code",
      "source": [
        "import numpy as np\n",
        "import matplotlib.pyplot as plt\n",
        "from mpl_toolkits import mplot3d\n",
        "from google.colab import output\n",
        "output.enable_custom_widget_manager()\n",
        "\n",
        "%matplotlib widget"
      ],
      "metadata": {
        "id": "a1NFAHab_12E"
      },
      "execution_count": 2,
      "outputs": []
    },
    {
      "cell_type": "markdown",
      "source": [
        "## Event Handling\n",
        "\n",
        "[For more details](https://matplotlib.org/stable/users/explain/event_handling.html)"
      ],
      "metadata": {
        "id": "u2p8GfXL_f0W"
      }
    },
    {
      "cell_type": "markdown",
      "source": [
        "## Event connections\n",
        "\n",
        "To receive events:\n",
        "\n",
        "1. Write a callback function\n",
        "2. Connect your function to the event manager, which is part of the `FigureCanvasBase`\n",
        "\n",
        "`mpl_connect` returns a connection id (an integer), which can be used to disconnect the callback via `fig.canvas.mpl_disconnect(cid)`"
      ],
      "metadata": {
        "id": "IIWKinTG_mv3"
      }
    },
    {
      "cell_type": "code",
      "source": [
        "fig = plt.figure(figsize=(8, 8))\n",
        "ax = fig.add_subplot(111)\n",
        "ax.plot(np.random.rand(10))\n",
        "\n",
        "def onclick(event):\n",
        "    print('%s click: button=%d, x=%d, y=%d, xdata=%f, ydata=%f' %\n",
        "          ('double' if event.dblclick else 'single',\n",
        "           event.button,\n",
        "           event.x, \n",
        "           event.y,\n",
        "           event.xdata if event.xdata else -1,\n",
        "           event.ydata if event.ydata else -1))\n",
        "    \n",
        "cid = fig.canvas.mpl_connect('button_press_event', onclick)"
      ],
      "metadata": {
        "colab": {
          "base_uri": "https://localhost:8080/",
          "height": 665,
          "referenced_widgets": [
            "dd661032ffe0435490ae86718a193c90",
            "8d3032547fd746dc8c43c2aea0331f6a",
            "8bfdf1ed7dc642b98f0bcb1addc23d47",
            "9a9ad52eb23b4174a2d27df304d1f68d"
          ]
        },
        "id": "bk0Gjzaw_rjK",
        "outputId": "43d0fa73-b96c-4679-94e9-b207229af863"
      },
      "execution_count": 3,
      "outputs": [
        {
          "output_type": "display_data",
          "data": {
            "text/plain": [
              "Canvas(toolbar=Toolbar(toolitems=[('Home', 'Reset original view', 'home', 'home'), ('Back', 'Back to previous …"
            ],
            "image/png": "[encoded data removed]",
            "text/html": [
              "\n",
              "            <div style=\"display: inline-block;\">\n",
              "                <div class=\"jupyter-widgets widget-label\" style=\"text-align: center;\">\n",
              "                    Figure\n",
              "                </div>\n",
              "                <img src='data:image/png;base64,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' width=576.0/>\n",
              "            </div>\n",
              "        "
            ],
            "application/vnd.jupyter.widget-view+json": {
              "version_major": 2,
              "version_minor": 0,
              "model_id": "dd661032ffe0435490ae86718a193c90"
            }
          },
          "metadata": {
            "application/vnd.jupyter.widget-view+json": {
              "colab": {
                "custom_widget_manager": {
                  "url": "https://ssl.gstatic.com/colaboratory-static/widgets/colab-cdn-widget-manager/b3e629b1971e1542/manager.min.js"
                }
              }
            }
          }
        }
      ]
    },
    {
      "cell_type": "markdown",
      "source": [
        "## List of Events\n",
        "\n",
        "- 'Event name': `Class`: description\n",
        "---\n",
        "\n",
        "- 'button_press_event': `MouseEvent`: mouse button is pressed\n",
        "- 'button_release_event': `MouseEvent`: mouse button is released\n",
        "- 'close_event': `CloseEvent`: figure is closed\n",
        "- 'draw_event': `DrawEvent`: canvas has been drawn (but screen widget not updated yet)\n",
        "- 'key_press_event': `KeyEvent`: key is pressed\n",
        "- 'key_release_event': `KeyEvent`: key is released\n",
        "- 'motion_notify_event': `MouseEvent`: mouse moves\n",
        "- 'pick_event': `PickEvent`: artist in the canvas is selected\n",
        "- 'resize_event': `ResizeEvent`: figure canvas is resized\n",
        "- 'scroll_event': `MouseEvent`: mouse scroll wheel is rolled\n",
        "- 'figure_enter_event': `LocationEvent`: mouse enters a new figure\n",
        "- 'figure_leave_event': `LocationEvent`: mouse leaves a figure\n",
        "- 'axes_enter_event': `LocationEvent`: mouse enters a new axes\n",
        "- 'axes_leave_event': `LocationEvent`: mouse leaves an axes"
      ],
      "metadata": {
        "id": "v7DbAt_iAi1B"
      }
    },
    {
      "cell_type": "markdown",
      "source": [
        "## Event attributes\n",
        "\n",
        "- All `matplotlib` events inherit from the base class `matplotlib.backend_bases.Event`\n",
        "- as such they have these attributrs\n",
        "    1. `name`: the event name\n",
        "    2. `canvas`: the `FigureCanvas` instance generating the event\n",
        "    3. `guiEvent`: the GUI event that triggered the `matplotlib` event"
      ],
      "metadata": {
        "id": "eJcxoUJ5AnkL"
      }
    },
    {
      "cell_type": "code",
      "source": [
        "fig = plt.figure(figsize=(8, 8))\n",
        "ax = fig.add_subplot(111)\n",
        "ax.plot(np.random.rand(10))\n",
        "\n",
        "def onclick(event):\n",
        "    print(event.name)\n",
        "    print(type(event.name))\n",
        "    print('\\n--')\n",
        "    print(event.canvas, type(event.canvas))\n",
        "    print(type(event.canvas))\n",
        "    print('\\n--')\n",
        "    print(event.guiEvent)\n",
        "    print(type(event.guiEvent))\n",
        "    print('\\n--')\n",
        "    print(event.inaxes)\n",
        "\n",
        "cid2 = fig.canvas.mpl_connect('button_press_event', onclick)"
      ],
      "metadata": {
        "colab": {
          "base_uri": "https://localhost:8080/",
          "height": 665,
          "referenced_widgets": [
            "d87633b8a776463da3a44da180f8a6d6",
            "f7fab36c069d41d18a9e914df09c50ff",
            "02e0f6476efb4b1088c6c4beca2f3810",
            "92e8a36ba32f41438ee6b3117210d56e"
          ]
        },
        "id": "eBYPsCAxAtMk",
        "outputId": "98dd5636-60aa-4979-e81b-176fd6491d14"
      },
      "execution_count": 4,
      "outputs": [
        {
          "output_type": "display_data",
          "data": {
            "text/plain": [
              "Canvas(toolbar=Toolbar(toolitems=[('Home', 'Reset original view', 'home', 'home'), ('Back', 'Back to previous …"
            ],
            "image/png": "[encoded data removed]",
            "text/html": [
              "\n",
              "            <div style=\"display: inline-block;\">\n",
              "                <div class=\"jupyter-widgets widget-label\" style=\"text-align: center;\">\n",
              "                    Figure\n",
              "                </div>\n",
              "                <img src='data:image/png;base64,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' width=576.0/>\n",
              "            </div>\n",
              "        "
            ],
            "application/vnd.jupyter.widget-view+json": {
              "version_major": 2,
              "version_minor": 0,
              "model_id": "d87633b8a776463da3a44da180f8a6d6"
            }
          },
          "metadata": {
            "application/vnd.jupyter.widget-view+json": {
              "colab": {
                "custom_widget_manager": {
                  "url": "https://ssl.gstatic.com/colaboratory-static/widgets/colab-cdn-widget-manager/b3e629b1971e1542/manager.min.js"
                }
              }
            }
          }
        }
      ]
    },
    {
      "cell_type": "markdown",
      "source": [
        "## Most Common Events\n",
        "\n",
        "1. `KeyEvent`\n",
        "    - key_press_event\n",
        "    - key_release_event\n",
        "2. `MouseEvent`\n",
        "    - button_press_event\n",
        "    - button_release_event\n",
        "    - motion_notify_event\n",
        "    - scroll_event\n",
        "\n",
        "Both of these events are derived from the `LocationEvent` which has the following attributes:\n",
        "\n",
        "- `x`: mouse x position in pixels from (left, bottom)\n",
        "- `y`: mouse y position in pixels from (left, bottom)\n",
        "- `inaxes`: the `Axes` instance over which the mouse is, if any, else `None`\n",
        "- `xdata`: mouse x position in data coordinates if the mouse is over an axes\n",
        "- `ydata`: mouse x position in data coordinates if the mouse is over an axes"
      ],
      "metadata": {
        "id": "4wKQAf7vAzyz"
      }
    },
    {
      "cell_type": "markdown",
      "source": [
        "## Example\n",
        "\n",
        "- In this canvas, a simple line segment is created every time a mouse is pressed"
      ],
      "metadata": {
        "id": "RFbJhMdzA4_k"
      }
    },
    {
      "cell_type": "code",
      "source": [
        "# this technique is used below\n",
        "#  to get the element from the list \n",
        "#  instead of the list itself\n",
        "test, = [0]\n",
        "test"
      ],
      "metadata": {
        "colab": {
          "base_uri": "https://localhost:8080/",
          "height": 35
        },
        "id": "6q81dO3kA8Ve",
        "outputId": "9731ad15-1a25-47dc-d126-cc83f98a43e0"
      },
      "execution_count": 5,
      "outputs": [
        {
          "output_type": "execute_result",
          "data": {
            "text/plain": [
              "0"
            ]
          },
          "metadata": {},
          "execution_count": 5
        }
      ]
    },
    {
      "cell_type": "code",
      "source": [
        "class LineBuilder:\n",
        "    def __init__(self, line):\n",
        "        self.line = line\n",
        "        self.xs = list(line.get_xdata())\n",
        "        self.ys = list(line.get_ydata())\n",
        "        self.cid = line.figure.canvas.mpl_connect('button_press_event', self)\n",
        "\n",
        "    def __call__(self, event):\n",
        "        #print('click', event)\n",
        "        if event.inaxes != self.line.axes:\n",
        "            return \n",
        "        self.xs.append(event.xdata)\n",
        "        self.ys.append(event.ydata)\n",
        "        self.line.set_data(self.xs, self.ys)\n",
        "        self.line.figure.canvas.draw()\n",
        "\n",
        "        # in addition to those Location event attributes,\n",
        "        #   the MouseEvent also has access to the button attribute\n",
        "        #   and key attribute\n",
        "        print(event.button, event.key)\n",
        "\n",
        "fig = plt.figure(figsize=(8, 8))\n",
        "ax = fig.add_subplot(111)\n",
        "ax.set_title('Click to build line segments')\n",
        "line, = ax.plot([0], [0])\n",
        "linebuilder = LineBuilder(line)"
      ],
      "metadata": {
        "colab": {
          "base_uri": "https://localhost:8080/",
          "height": 665,
          "referenced_widgets": [
            "8c2b52378c6d4653a2a89695f6a15c55",
            "eacdb76e041749099be14776ec0c61e0",
            "ffcd20863d0145579a1461dc8adfe086",
            "a81e29934f0c48378ddea94031c71796"
          ]
        },
        "id": "V5dEClmhBDZq",
        "outputId": "3c396a6a-07db-499c-8156-dd2a9bb4ef16"
      },
      "execution_count": 6,
      "outputs": [
        {
          "output_type": "display_data",
          "data": {
            "text/plain": [
              "Canvas(toolbar=Toolbar(toolitems=[('Home', 'Reset original view', 'home', 'home'), ('Back', 'Back to previous …"
            ],
            "image/png": "[encoded data removed]",
            "text/html": [
              "\n",
              "            <div style=\"display: inline-block;\">\n",
              "                <div class=\"jupyter-widgets widget-label\" style=\"text-align: center;\">\n",
              "                    Figure\n",
              "                </div>\n",
              "                <img src='data:image/png;base64,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' width=576.0/>\n",
              "            </div>\n",
              "        "
            ],
            "application/vnd.jupyter.widget-view+json": {
              "version_major": 2,
              "version_minor": 0,
              "model_id": "8c2b52378c6d4653a2a89695f6a15c55"
            }
          },
          "metadata": {
            "application/vnd.jupyter.widget-view+json": {
              "colab": {
                "custom_widget_manager": {
                  "url": "https://ssl.gstatic.com/colaboratory-static/widgets/colab-cdn-widget-manager/b3e629b1971e1542/manager.min.js"
                }
              }
            }
          }
        }
      ]
    },
    {
      "cell_type": "markdown",
      "source": [
        "## Draggable Rectangle Exercise"
      ],
      "metadata": {
        "id": "8-KodGmpBLbH"
      }
    },
    {
      "cell_type": "code",
      "source": [],
      "metadata": {
        "id": "yttlsPA4Cwez"
      },
      "execution_count": 6,
      "outputs": []
    },
    {
      "cell_type": "code",
      "source": [
        "class DraggableRectangle:\n",
        "    def __init__(self, rect):\n",
        "        self.rect = rect\n",
        "        self.press = None\n",
        "\n",
        "    def connect(self):\n",
        "        \"\"\"Connect to all events we need\"\"\"\n",
        "        self.cidpress = self.rect.figure.canvas.mpl_connect(\n",
        "            'button_press_event', self.on_press)\n",
        "        self.cidrelease = self.rect.figure.canvas.mpl_connect(\n",
        "            'button_release_event', self.on_release)\n",
        "        self.cidmotion = self.rect.figure.canvas.mpl_connect(\n",
        "            'motion_notify_event', self.on_motion)\n",
        "\n",
        "    def on_press(self, event):\n",
        "        if event.inaxes != self.rect.axes:\n",
        "            return\n",
        "        contains, attrd = self.rect.contains(event)\n",
        "        if not contains:\n",
        "            return\n",
        "        #print('event contains', self.rect.xy)\n",
        "        self.press = self.rect.xy, (event.xdata, event.ydata)\n",
        "        #print(self.press)\n",
        "\n",
        "    def on_motion(self, event): \n",
        "        \"\"\"Move the rectangle if the mouse is over us\"\"\"\n",
        "        if self.press is None or event.inaxes != self.rect.axes:\n",
        "            return \n",
        "        (x0, y0), (xpress, ypress) = self.press \n",
        "        dx = event.xdata - xpress \n",
        "        dy = event.ydata - ypress\n",
        "        self.rect.set_x(x0 + dx)\n",
        "        self.rect.set_y(y0 + dy)\n",
        "        self.rect.figure.canvas.draw()\n",
        "\n",
        "    def on_release(self, event): \n",
        "        \"\"\"Clear button press information\"\"\"\n",
        "        self.press = None \n",
        "        self.rect.figure.canvas.draw()\n",
        "\n",
        "    def disconnect(self):\n",
        "        \"\"\"Disconnect all callbacks.\"\"\"\n",
        "        self.rect.figure.canvas.mpl_disconnect(self.cidpress)\n",
        "        self.rect.figure.canvas.mpl_disconnect(self.cidrelease)\n",
        "        self.rect.figure.canvas.mpl_disconnect(self.cidmotion)\n",
        "\n",
        "fig = plt.figure(figsize=(8, 8))\n",
        "ax = fig.add_subplot(111)\n",
        "rects = ax.bar(range(10), 20 * np.random.rand(10))\n",
        "\n",
        "# Reason for `drs` variable\n",
        "# The canvas retains only weak references to instance \n",
        "# methods used as callbacks. Therefore, you need to \n",
        "# retain a reference to instances owning such methods. \n",
        "# Otherwise the instance will be garbage-collected \n",
        "# and the callback will vanish.\n",
        "# This does not affect free functions used as callbacks.\n",
        "drs = []\n",
        "for rect in rects:\n",
        "    dr = DraggableRectangle(rect)\n",
        "    dr.connect()\n",
        "    drs.append(dr)\n",
        "\n",
        "plt.show()"
      ],
      "metadata": {
        "colab": {
          "base_uri": "https://localhost:8080/",
          "height": 665,
          "referenced_widgets": [
            "a91a74c0fe214075b9c80170a3936186",
            "cb33cfc0cd9e404db264c2114902e5dd",
            "56efa4d3b98642b8bbee7eb022ebf630",
            "5455ebaad2394997bd92d3ca2b173f30"
          ]
        },
        "id": "clCRf6mICfK1",
        "outputId": "8a2ff705-0c0c-45f1-d6f8-0b5a47a36f7d"
      },
      "execution_count": 7,
      "outputs": [
        {
          "output_type": "display_data",
          "data": {
            "text/plain": [
              "Canvas(toolbar=Toolbar(toolitems=[('Home', 'Reset original view', 'home', 'home'), ('Back', 'Back to previous …"
            ],
            "image/png": "[encoded data removed]",
            "text/html": [
              "\n",
              "            <div style=\"display: inline-block;\">\n",
              "                <div class=\"jupyter-widgets widget-label\" style=\"text-align: center;\">\n",
              "                    Figure\n",
              "                </div>\n",
              "                <img src='data:image/png;base64,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' width=576.0/>\n",
              "            </div>\n",
              "        "
            ],
            "application/vnd.jupyter.widget-view+json": {
              "version_major": 2,
              "version_minor": 0,
              "model_id": "a91a74c0fe214075b9c80170a3936186"
            }
          },
          "metadata": {
            "application/vnd.jupyter.widget-view+json": {
              "colab": {
                "custom_widget_manager": {
                  "url": "https://ssl.gstatic.com/colaboratory-static/widgets/colab-cdn-widget-manager/b3e629b1971e1542/manager.min.js"
                }
              }
            }
          }
        }
      ]
    },
    {
      "cell_type": "markdown",
      "source": [
        "## Mouse enter and leave"
      ],
      "metadata": {
        "id": "rlaDyuU2ii91"
      }
    }
  ]
}