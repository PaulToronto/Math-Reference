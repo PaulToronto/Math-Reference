{
  "nbformat": 4,
  "nbformat_minor": 0,
  "metadata": {
    "colab": {
      "provenance": [],
      "toc_visible": true,
      "authorship_tag": "ABX9TyMo/iuvH38QMfhYVkOKMptF",
      "include_colab_link": true
    },
    "kernelspec": {
      "name": "python3",
      "display_name": "Python 3"
    },
    "language_info": {
      "name": "python"
    }
  },
  "cells": [
    {
      "cell_type": "markdown",
      "metadata": {
        "id": "view-in-github",
        "colab_type": "text"
      },
      "source": [
        "<a href=\"https://colab.research.google.com/github/PaulToronto/Math-and-Data-Science-Reference/blob/main/Python_OOP.ipynb\" target=\"_parent\"><img src=\"https://colab.research.google.com/assets/colab-badge.svg\" alt=\"Open In Colab\"/></a>"
      ]
    },
    {
      "cell_type": "markdown",
      "source": [
        "# Python OOP\n",
        "\n",
        "This notebook contains my notes from a DataCamp course:\n",
        "\n",
        "[Object-Oriented Programming in Python](https://app.datacamp.com/learn/courses/object-oriented-programming-in-python)"
      ],
      "metadata": {
        "id": "ow2gMfoXV6ai"
      }
    },
    {
      "cell_type": "markdown",
      "source": [
        "## What is OOP?\n",
        "\n",
        "- Procedural programming\n",
        "    - Code as a sequence of steps\n",
        "    - Great for data analysis\n",
        "- Object-oriented programming\n",
        "    - Code as interactions of objects\n",
        "    - Great for building frameworks and tools\n",
        "    - Maintainable and reusable code"
      ],
      "metadata": {
        "id": "WWa6faCdeOVI"
      }
    },
    {
      "cell_type": "markdown",
      "source": [
        "### Objects as data structures\n",
        "\n",
        "- Objects incorportate \n",
        "    1. state\n",
        "    2. behaviour\n",
        "- **Encapsulation** \n",
        "    - bundles state and behaviour together"
      ],
      "metadata": {
        "id": "skH5ii9JfDtN"
      }
    },
    {
      "cell_type": "markdown",
      "source": [
        "### Classes as blueprints\n",
        "\n",
        "- **Class**\n",
        "    - blueprint for objects outlining possible states and behaviour"
      ],
      "metadata": {
        "id": "WgZN8Owwfzpz"
      }
    },
    {
      "cell_type": "markdown",
      "source": [
        "### Objects in Python\n",
        "\n",
        "- Everything in Python is an object\n",
        "- Every object has a class\n",
        "- Use `type()` to find the class"
      ],
      "metadata": {
        "id": "JawQ_oyBg6ev"
      }
    },
    {
      "cell_type": "code",
      "source": [
        "import numpy as np\n",
        "a = np.array([1, 2, 3, 4])\n",
        "type(a)"
      ],
      "metadata": {
        "colab": {
          "base_uri": "https://localhost:8080/"
        },
        "id": "Gh1pH1oChOop",
        "outputId": "c024accd-8f99-421c-bce7-d56812f11782"
      },
      "execution_count": 1,
      "outputs": [
        {
          "output_type": "execute_result",
          "data": {
            "text/plain": [
              "numpy.ndarray"
            ]
          },
          "metadata": {},
          "execution_count": 1
        }
      ]
    },
    {
      "cell_type": "markdown",
      "source": [
        "### Attributes and methods\n",
        "\n",
        "- state information is contained in **attributes**\n",
        "- behaviour information is contained in **methods**"
      ],
      "metadata": {
        "id": "gEVMcI93hgPl"
      }
    },
    {
      "cell_type": "code",
      "source": [
        "# attribute\n",
        "a.shape"
      ],
      "metadata": {
        "colab": {
          "base_uri": "https://localhost:8080/"
        },
        "id": "9KhHW-cwiDJV",
        "outputId": "f17735a3-5514-4952-dda4-4fceb3ef11c0"
      },
      "execution_count": 2,
      "outputs": [
        {
          "output_type": "execute_result",
          "data": {
            "text/plain": [
              "(4,)"
            ]
          },
          "metadata": {},
          "execution_count": 2
        }
      ]
    },
    {
      "cell_type": "code",
      "source": [
        "# method\n",
        "a.reshape(2, 2)"
      ],
      "metadata": {
        "colab": {
          "base_uri": "https://localhost:8080/"
        },
        "id": "C02beGfAiTv4",
        "outputId": "e3b2857a-402d-413c-db51-60f9a47591a0"
      },
      "execution_count": 3,
      "outputs": [
        {
          "output_type": "execute_result",
          "data": {
            "text/plain": [
              "array([[1, 2],\n",
              "       [3, 4]])"
            ]
          },
          "metadata": {},
          "execution_count": 3
        }
      ]
    },
    {
      "cell_type": "markdown",
      "source": [
        "### List all the attributes of an object"
      ],
      "metadata": {
        "id": "axnwPsf1ioXS"
      }
    },
    {
      "cell_type": "code",
      "source": [
        "dir(a)"
      ],
      "metadata": {
        "colab": {
          "base_uri": "https://localhost:8080/"
        },
        "id": "L82lwkENisf9",
        "outputId": "1d53c157-db7c-4f69-f0ec-6111f488a019"
      },
      "execution_count": 4,
      "outputs": [
        {
          "output_type": "execute_result",
          "data": {
            "text/plain": [
              "['T',\n",
              " '__abs__',\n",
              " '__add__',\n",
              " '__and__',\n",
              " '__array__',\n",
              " '__array_finalize__',\n",
              " '__array_function__',\n",
              " '__array_interface__',\n",
              " '__array_prepare__',\n",
              " '__array_priority__',\n",
              " '__array_struct__',\n",
              " '__array_ufunc__',\n",
              " '__array_wrap__',\n",
              " '__bool__',\n",
              " '__class__',\n",
              " '__complex__',\n",
              " '__contains__',\n",
              " '__copy__',\n",
              " '__deepcopy__',\n",
              " '__delattr__',\n",
              " '__delitem__',\n",
              " '__dir__',\n",
              " '__divmod__',\n",
              " '__doc__',\n",
              " '__eq__',\n",
              " '__float__',\n",
              " '__floordiv__',\n",
              " '__format__',\n",
              " '__ge__',\n",
              " '__getattribute__',\n",
              " '__getitem__',\n",
              " '__gt__',\n",
              " '__hash__',\n",
              " '__iadd__',\n",
              " '__iand__',\n",
              " '__ifloordiv__',\n",
              " '__ilshift__',\n",
              " '__imatmul__',\n",
              " '__imod__',\n",
              " '__imul__',\n",
              " '__index__',\n",
              " '__init__',\n",
              " '__init_subclass__',\n",
              " '__int__',\n",
              " '__invert__',\n",
              " '__ior__',\n",
              " '__ipow__',\n",
              " '__irshift__',\n",
              " '__isub__',\n",
              " '__iter__',\n",
              " '__itruediv__',\n",
              " '__ixor__',\n",
              " '__le__',\n",
              " '__len__',\n",
              " '__lshift__',\n",
              " '__lt__',\n",
              " '__matmul__',\n",
              " '__mod__',\n",
              " '__mul__',\n",
              " '__ne__',\n",
              " '__neg__',\n",
              " '__new__',\n",
              " '__or__',\n",
              " '__pos__',\n",
              " '__pow__',\n",
              " '__radd__',\n",
              " '__rand__',\n",
              " '__rdivmod__',\n",
              " '__reduce__',\n",
              " '__reduce_ex__',\n",
              " '__repr__',\n",
              " '__rfloordiv__',\n",
              " '__rlshift__',\n",
              " '__rmatmul__',\n",
              " '__rmod__',\n",
              " '__rmul__',\n",
              " '__ror__',\n",
              " '__rpow__',\n",
              " '__rrshift__',\n",
              " '__rshift__',\n",
              " '__rsub__',\n",
              " '__rtruediv__',\n",
              " '__rxor__',\n",
              " '__setattr__',\n",
              " '__setitem__',\n",
              " '__setstate__',\n",
              " '__sizeof__',\n",
              " '__str__',\n",
              " '__sub__',\n",
              " '__subclasshook__',\n",
              " '__truediv__',\n",
              " '__xor__',\n",
              " 'all',\n",
              " 'any',\n",
              " 'argmax',\n",
              " 'argmin',\n",
              " 'argpartition',\n",
              " 'argsort',\n",
              " 'astype',\n",
              " 'base',\n",
              " 'byteswap',\n",
              " 'choose',\n",
              " 'clip',\n",
              " 'compress',\n",
              " 'conj',\n",
              " 'conjugate',\n",
              " 'copy',\n",
              " 'ctypes',\n",
              " 'cumprod',\n",
              " 'cumsum',\n",
              " 'data',\n",
              " 'diagonal',\n",
              " 'dot',\n",
              " 'dtype',\n",
              " 'dump',\n",
              " 'dumps',\n",
              " 'fill',\n",
              " 'flags',\n",
              " 'flat',\n",
              " 'flatten',\n",
              " 'getfield',\n",
              " 'imag',\n",
              " 'item',\n",
              " 'itemset',\n",
              " 'itemsize',\n",
              " 'max',\n",
              " 'mean',\n",
              " 'min',\n",
              " 'nbytes',\n",
              " 'ndim',\n",
              " 'newbyteorder',\n",
              " 'nonzero',\n",
              " 'partition',\n",
              " 'prod',\n",
              " 'ptp',\n",
              " 'put',\n",
              " 'ravel',\n",
              " 'real',\n",
              " 'repeat',\n",
              " 'reshape',\n",
              " 'resize',\n",
              " 'round',\n",
              " 'searchsorted',\n",
              " 'setfield',\n",
              " 'setflags',\n",
              " 'shape',\n",
              " 'size',\n",
              " 'sort',\n",
              " 'squeeze',\n",
              " 'std',\n",
              " 'strides',\n",
              " 'sum',\n",
              " 'swapaxes',\n",
              " 'take',\n",
              " 'tobytes',\n",
              " 'tofile',\n",
              " 'tolist',\n",
              " 'tostring',\n",
              " 'trace',\n",
              " 'transpose',\n",
              " 'var',\n",
              " 'view']"
            ]
          },
          "metadata": {},
          "execution_count": 4
        }
      ]
    },
    {
      "cell_type": "markdown",
      "source": [
        "## Class anatomy: attributes and methods"
      ],
      "metadata": {
        "id": "H1WwvygAmHRM"
      }
    },
    {
      "cell_type": "markdown",
      "source": [
        "### A basic class"
      ],
      "metadata": {
        "id": "a4-87EodmwBk"
      }
    },
    {
      "cell_type": "code",
      "source": [
        "# an empty class\n",
        "class Customer:\n",
        "    pass"
      ],
      "metadata": {
        "id": "ai9GBwYEmyvF"
      },
      "execution_count": 5,
      "outputs": []
    },
    {
      "cell_type": "code",
      "source": [
        "# we can already create objects of the calss\n",
        "c1 = Customer()\n",
        "c2 = Customer()"
      ],
      "metadata": {
        "id": "llsEUO10m3m4"
      },
      "execution_count": 6,
      "outputs": []
    },
    {
      "cell_type": "code",
      "source": [
        "type(c1)"
      ],
      "metadata": {
        "colab": {
          "base_uri": "https://localhost:8080/"
        },
        "id": "erSm0H13nCRG",
        "outputId": "b799ace1-6761-4456-8563-a782e3c3a68a"
      },
      "execution_count": 7,
      "outputs": [
        {
          "output_type": "execute_result",
          "data": {
            "text/plain": [
              "__main__.Customer"
            ]
          },
          "metadata": {},
          "execution_count": 7
        }
      ]
    },
    {
      "cell_type": "markdown",
      "source": [
        "### A class with a method\n",
        "\n",
        "- a method defintion is a function definition within class\n",
        "- use `self` as the first argument in every method definition\n",
        "    - ignore `self` when calling the method"
      ],
      "metadata": {
        "id": "sM98DTBbnkMw"
      }
    },
    {
      "cell_type": "code",
      "source": [
        "class Customer:\n",
        "\n",
        "    def identify(self, name):\n",
        "        print(\"I am customer \" + name)"
      ],
      "metadata": {
        "id": "h9Axti0anmSo"
      },
      "execution_count": 8,
      "outputs": []
    },
    {
      "cell_type": "code",
      "source": [
        "c3 = Customer()\n",
        "type(c3)"
      ],
      "metadata": {
        "colab": {
          "base_uri": "https://localhost:8080/"
        },
        "id": "g_W6zAyZnxOk",
        "outputId": "b007da45-9428-4038-9cc6-80fb6bbd2efe"
      },
      "execution_count": 9,
      "outputs": [
        {
          "output_type": "execute_result",
          "data": {
            "text/plain": [
              "__main__.Customer"
            ]
          },
          "metadata": {},
          "execution_count": 9
        }
      ]
    },
    {
      "cell_type": "code",
      "source": [
        "# ignore `self` when calling the method\n",
        "c3.identify('Paul')"
      ],
      "metadata": {
        "colab": {
          "base_uri": "https://localhost:8080/"
        },
        "id": "AmxnAne2n0Nk",
        "outputId": "f4030cff-35f9-4eeb-bf85-87170999749b"
      },
      "execution_count": 10,
      "outputs": [
        {
          "output_type": "stream",
          "name": "stdout",
          "text": [
            "I am customer Paul\n"
          ]
        }
      ]
    },
    {
      "cell_type": "markdown",
      "source": [
        "### What is `self`\n",
        "\n",
        "- Classes are templates\n",
        "    - Objects of a class don't yet exist when a class is being defined\n",
        "    - but we often need a way to refer to the data of a particular object within a class definition\n",
        "        - that is the purpose of `self`: as a stand-in for the future object\n",
        "        - we can use `self` to access attributes and call other methods from within the class definition even when no objects exist yet\n",
        "        - Python will handle `self` when the method is called from an object using dot syntax\n",
        "            - In fact using **object-dot-method** is equivalent to passing that object as an argument \n",
        "            - that's whey we don't specify it explicitly when calling the method from an existing object\n",
        "            - `cust.identify(\"Paul\")` will be interpreted as `Customer.identify(cust, \"Paul\")`"
      ],
      "metadata": {
        "id": "rZPlZgDFqYvQ"
      }
    },
    {
      "cell_type": "markdown",
      "source": [
        "### We need attributes\n",
        "\n",
        "- **Encapsulation**: bundling data with methods that operate on that data\n",
        "- **attributes** are created by assignment, `=`, in methods\n",
        "- we can access this attribute with dot syntax: `cust.name`"
      ],
      "metadata": {
        "id": "_1tBMYIBszqq"
      }
    },
    {
      "cell_type": "code",
      "source": [
        "class Customer:\n",
        "    # set the name attribute of an object\n",
        "    def set_name(self, new_name):\n",
        "        self.name = new_name \n",
        "        # will create `name` when set_name is called\n",
        "        #   `name` will not appear in the dir() list \n",
        "        #   until `set_name` is called"
      ],
      "metadata": {
        "id": "Nx7CRVFstS4w"
      },
      "execution_count": 11,
      "outputs": []
    },
    {
      "cell_type": "code",
      "source": [
        "c4 = Customer()"
      ],
      "metadata": {
        "id": "Qnu-mvXwtk5s"
      },
      "execution_count": 12,
      "outputs": []
    },
    {
      "cell_type": "code",
      "source": [
        "type(c4)"
      ],
      "metadata": {
        "colab": {
          "base_uri": "https://localhost:8080/"
        },
        "id": "brPsSHZztnO8",
        "outputId": "a3597b5b-188c-4d0b-8403-87415c3906d5"
      },
      "execution_count": 13,
      "outputs": [
        {
          "output_type": "execute_result",
          "data": {
            "text/plain": [
              "__main__.Customer"
            ]
          },
          "metadata": {},
          "execution_count": 13
        }
      ]
    },
    {
      "cell_type": "code",
      "source": [
        "c4.set_name(\"Paul\")"
      ],
      "metadata": {
        "id": "55bYXspttpHE"
      },
      "execution_count": 14,
      "outputs": []
    },
    {
      "cell_type": "code",
      "source": [
        "c4.name"
      ],
      "metadata": {
        "colab": {
          "base_uri": "https://localhost:8080/",
          "height": 36
        },
        "id": "0ILt9O_ptuJ4",
        "outputId": "183f425f-da5c-4145-c0aa-31db55d6aca4"
      },
      "execution_count": 15,
      "outputs": [
        {
          "output_type": "execute_result",
          "data": {
            "text/plain": [
              "'Paul'"
            ],
            "application/vnd.google.colaboratory.intrinsic+json": {
              "type": "string"
            }
          },
          "metadata": {},
          "execution_count": 15
        }
      ]
    },
    {
      "cell_type": "code",
      "source": [
        "class Customer:\n",
        "    def set_name(self, new_name):\n",
        "        self.name = new_name\n",
        "\n",
        "    def identify(self):\n",
        "        print(\"I am customer \" + self.name)"
      ],
      "metadata": {
        "id": "qTYhhIccv0eo"
      },
      "execution_count": 16,
      "outputs": []
    },
    {
      "cell_type": "code",
      "source": [
        "c5 = Customer()\n",
        "\n",
        "c5.set_name(\"Paul\")\n",
        "c5.identify()"
      ],
      "metadata": {
        "colab": {
          "base_uri": "https://localhost:8080/"
        },
        "id": "O632m6-cwHfc",
        "outputId": "4e353f6f-4a13-4589-d8c3-43ff53cff988"
      },
      "execution_count": 17,
      "outputs": [
        {
          "output_type": "stream",
          "name": "stdout",
          "text": [
            "I am customer Paul\n"
          ]
        }
      ]
    },
    {
      "cell_type": "code",
      "source": [
        "c5.name = \"Carlos\""
      ],
      "metadata": {
        "id": "zb85lbtd1wEJ"
      },
      "execution_count": 18,
      "outputs": []
    },
    {
      "cell_type": "code",
      "source": [
        "c5.identify()"
      ],
      "metadata": {
        "colab": {
          "base_uri": "https://localhost:8080/"
        },
        "id": "uqRvAJOH1y1a",
        "outputId": "8a5958cf-8b99-416f-b134-fcbe5b8a792e"
      },
      "execution_count": 19,
      "outputs": [
        {
          "output_type": "stream",
          "name": "stdout",
          "text": [
            "I am customer Carlos\n"
          ]
        }
      ]
    },
    {
      "cell_type": "code",
      "source": [
        "c6 = Customer()\n",
        "c6.name = \"Kim\""
      ],
      "metadata": {
        "id": "lk7_SLrk1-is"
      },
      "execution_count": 20,
      "outputs": []
    },
    {
      "cell_type": "code",
      "source": [
        "c6.identify()"
      ],
      "metadata": {
        "colab": {
          "base_uri": "https://localhost:8080/"
        },
        "id": "A-PVnrDY2Dtx",
        "outputId": "18217d6b-3c9b-4486-98f2-c22bf9f6b52b"
      },
      "execution_count": 21,
      "outputs": [
        {
          "output_type": "stream",
          "name": "stdout",
          "text": [
            "I am customer Kim\n"
          ]
        }
      ]
    },
    {
      "cell_type": "markdown",
      "source": [
        "### Create your first class"
      ],
      "metadata": {
        "id": "Vt0f-BGC2esZ"
      }
    },
    {
      "cell_type": "code",
      "source": [
        "class Employee:\n",
        "    \n",
        "    def set_name(self, new_name):\n",
        "        self.name = new_name\n",
        "\n",
        "    def set_salary(self, new_salary):\n",
        "        self.salary = new_salary\n",
        "\n",
        "    def give_raise(self, amount):\n",
        "        self.salary += amount\n",
        "\n",
        "    def monthly_salary(self):\n",
        "        return self.salary / 12\n",
        "\n",
        "emp = Employee()\n",
        "emp.set_name('Korel Rossi')\n",
        "emp.set_salary(50000)\n",
        "\n",
        "print(emp.name, emp.salary)\n",
        "\n",
        "emp.salary += 1500\n",
        "\n",
        "print(emp.salary)\n",
        "print(emp.monthly_salary())"
      ],
      "metadata": {
        "colab": {
          "base_uri": "https://localhost:8080/"
        },
        "id": "GxG-1yuM2i2q",
        "outputId": "b47c6fcb-48aa-418d-e84a-8ebc61240793"
      },
      "execution_count": 22,
      "outputs": [
        {
          "output_type": "stream",
          "name": "stdout",
          "text": [
            "Korel Rossi 50000\n",
            "51500\n",
            "4291.666666666667\n"
          ]
        }
      ]
    },
    {
      "cell_type": "markdown",
      "source": [
        "## Class anatomy: the `__init__` constructor"
      ],
      "metadata": {
        "id": "STl167cZ9bFO"
      }
    },
    {
      "cell_type": "markdown",
      "source": [
        "### Constructor\n",
        "\n",
        "- Add data to object when creating it\n",
        "- **Constructor** `__init__` method is called every time an object is created\n",
        "- the `__init__` constructor is also a good place to set default values for attributes\n",
        "- it is a best practice to define all attributes in the constructor\n",
        "    - makes code more useable and maintainable"
      ],
      "metadata": {
        "id": "UWWbskcI-22i"
      }
    },
    {
      "cell_type": "code",
      "source": [
        "class Customer:\n",
        "    def __init__(self, name):\n",
        "        self.name = name\n",
        "        print(\"The __init__ method was called\")"
      ],
      "metadata": {
        "id": "SwYu8OKKBBzR"
      },
      "execution_count": 23,
      "outputs": []
    },
    {
      "cell_type": "code",
      "source": [
        "c7 = Customer('Paul')"
      ],
      "metadata": {
        "colab": {
          "base_uri": "https://localhost:8080/"
        },
        "id": "4sqMbIoxBN4y",
        "outputId": "07d273cb-45cb-48c9-b107-87e6552bcf5f"
      },
      "execution_count": 24,
      "outputs": [
        {
          "output_type": "stream",
          "name": "stdout",
          "text": [
            "The __init__ method was called\n"
          ]
        }
      ]
    },
    {
      "cell_type": "code",
      "source": [
        "c7.name"
      ],
      "metadata": {
        "colab": {
          "base_uri": "https://localhost:8080/",
          "height": 36
        },
        "id": "Gpj9PpR1Bi9T",
        "outputId": "220226ff-ca47-491b-dff9-b4b81efb506a"
      },
      "execution_count": 25,
      "outputs": [
        {
          "output_type": "execute_result",
          "data": {
            "text/plain": [
              "'Paul'"
            ],
            "application/vnd.google.colaboratory.intrinsic+json": {
              "type": "string"
            }
          },
          "metadata": {},
          "execution_count": 25
        }
      ]
    },
    {
      "cell_type": "code",
      "source": [
        "class Customer:\n",
        "    def __init__(self, name, salary):\n",
        "        self.name = name\n",
        "        self.salary = salary\n",
        "        print(\"The __init__ method was called\")"
      ],
      "metadata": {
        "id": "Clear_PxDqb6"
      },
      "execution_count": 26,
      "outputs": []
    },
    {
      "cell_type": "code",
      "source": [
        "c8 = Customer(\"Bobby\", 100000)"
      ],
      "metadata": {
        "colab": {
          "base_uri": "https://localhost:8080/"
        },
        "id": "b7MgAcmtECCP",
        "outputId": "ee8321a2-e584-4591-bbc6-8bb0cf1f9bdf"
      },
      "execution_count": 27,
      "outputs": [
        {
          "output_type": "stream",
          "name": "stdout",
          "text": [
            "The __init__ method was called\n"
          ]
        }
      ]
    },
    {
      "cell_type": "code",
      "source": [
        "c8.name, c8.salary"
      ],
      "metadata": {
        "colab": {
          "base_uri": "https://localhost:8080/"
        },
        "id": "jPfkZy-JEevf",
        "outputId": "664258af-0548-440b-c59c-6fc470d29be2"
      },
      "execution_count": 28,
      "outputs": [
        {
          "output_type": "execute_result",
          "data": {
            "text/plain": [
              "('Bobby', 100000)"
            ]
          },
          "metadata": {},
          "execution_count": 28
        }
      ]
    },
    {
      "cell_type": "code",
      "source": [
        "# a __init__ constructor sets default value\n",
        "class Customer:\n",
        "    def __init__(self, name, balance=0):\n",
        "        self.name = name\n",
        "        self.balance = balance \n",
        "        print(\"The __init__ method was called\")"
      ],
      "metadata": {
        "id": "mP3jUlk4GMGE"
      },
      "execution_count": 29,
      "outputs": []
    },
    {
      "cell_type": "code",
      "source": [
        "c9 = Customer(\"Paul\")\n",
        "c9.name, c9.balance"
      ],
      "metadata": {
        "colab": {
          "base_uri": "https://localhost:8080/"
        },
        "id": "ZKy0cZyKHEZS",
        "outputId": "adc6d76f-1af4-4cf4-b033-320316fa70c5"
      },
      "execution_count": 30,
      "outputs": [
        {
          "output_type": "stream",
          "name": "stdout",
          "text": [
            "The __init__ method was called\n"
          ]
        },
        {
          "output_type": "execute_result",
          "data": {
            "text/plain": [
              "('Paul', 0)"
            ]
          },
          "metadata": {},
          "execution_count": 30
        }
      ]
    },
    {
      "cell_type": "code",
      "source": [
        "c10 = Customer(\"Jane\", 100)\n",
        "c10.name, c10.balance"
      ],
      "metadata": {
        "colab": {
          "base_uri": "https://localhost:8080/"
        },
        "id": "Iwkt8_cDHJER",
        "outputId": "4e1d1fc2-bebb-49e4-df79-7b1b8bc76123"
      },
      "execution_count": 31,
      "outputs": [
        {
          "output_type": "stream",
          "name": "stdout",
          "text": [
            "The __init__ method was called\n"
          ]
        },
        {
          "output_type": "execute_result",
          "data": {
            "text/plain": [
              "('Jane', 100)"
            ]
          },
          "metadata": {},
          "execution_count": 31
        }
      ]
    },
    {
      "cell_type": "markdown",
      "source": [
        "### Best Practices\n",
        "\n",
        "1. Initialize attributes in `__init__()`\n",
        "2. Naming\n",
        "    - `CamelCase` for classes\n",
        "    - `lower_snake_case` for functions and attributes\n",
        "3. Keep `self` as `self`\n",
        "    - the choice of `self` is only a convention, any other name can be used, but that would be confusing\n",
        "4. Use docstrings\n",
        "    - classes, like functions, allow for docstrings\n",
        "    - use them because they are displayed when `help()` is called in the object"
      ],
      "metadata": {
        "id": "zFmcirqTIQ_L"
      }
    },
    {
      "cell_type": "code",
      "source": [
        "class MyClass:\n",
        "    \"\"\"I am a docstring\"\"\"\n",
        "    pass"
      ],
      "metadata": {
        "id": "gaS3-TpCJhlb"
      },
      "execution_count": 32,
      "outputs": []
    }
  ]
}