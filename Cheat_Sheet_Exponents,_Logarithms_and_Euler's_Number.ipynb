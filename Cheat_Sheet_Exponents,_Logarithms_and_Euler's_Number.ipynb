{
  "nbformat": 4,
  "nbformat_minor": 0,
  "metadata": {
    "colab": {
      "provenance": [],
      "collapsed_sections": [],
      "toc_visible": true,
      "authorship_tag": "ABX9TyMvMoT4Mt3GWljiOz85zJFy",
      "include_colab_link": true
    },
    "kernelspec": {
      "name": "python3",
      "display_name": "Python 3"
    },
    "language_info": {
      "name": "python"
    }
  },
  "cells": [
    {
      "cell_type": "markdown",
      "metadata": {
        "id": "view-in-github",
        "colab_type": "text"
      },
      "source": [
        "<a href=\"https://colab.research.google.com/github/PaulToronto/Math-Reference/blob/main/Cheat_Sheet_Exponents%2C_Logarithms_and_Euler's_Number.ipynb\" target=\"_parent\"><img src=\"https://colab.research.google.com/assets/colab-badge.svg\" alt=\"Open In Colab\"/></a>"
      ]
    },
    {
      "cell_type": "markdown",
      "source": [
        "# Cheat Sheet - Exponents, Logarithms and Euler's Number"
      ],
      "metadata": {
        "id": "jzeYh80u7P6b"
      }
    },
    {
      "cell_type": "code",
      "source": [
        "import sympy as sym\n",
        "import matplotlib.pyplot as plt"
      ],
      "metadata": {
        "id": "_9QIeyHar2_8"
      },
      "execution_count": 1,
      "outputs": []
    },
    {
      "cell_type": "markdown",
      "source": [
        "## Exponents"
      ],
      "metadata": {
        "id": "02V_xIq1LnWD"
      }
    },
    {
      "cell_type": "markdown",
      "source": [
        "### Plot of Exponential Functions"
      ],
      "metadata": {
        "id": "1-9J6-EC6SEg"
      }
    },
    {
      "cell_type": "code",
      "source": [
        "x = sym.symbols('x')\n",
        "\n",
        "expr0 = sym.Rational(1, 2)**x\n",
        "expr1 = (1/sym.exp(1))**x\n",
        "expr2 = sym.Rational(1, 100)**x\n",
        "expr3 = 100**x\n",
        "expr4 = sym.exp(1)**x\n",
        "expr5 = 2**x\n",
        "\n",
        "fig = sym.plot(expr0, expr1, expr2,\n",
        "               expr3, expr4, expr5,\n",
        "               ylim=[-1, 5],\n",
        "               legend=True,\n",
        "               show=False)\n",
        "\n",
        "fig[0].line_color = 'red'\n",
        "fig[0].label = '$f(x) = ' + sym.latex(expr0) + '$'\n",
        " \n",
        "fig[1].line_color = 'green'\n",
        "fig[1].label = '$f(x) = ' + sym.latex(expr1) + '$'\n",
        "\n",
        "fig[2].line_color = 'navy'\n",
        "fig[2].label = '$f(x) = ' + sym.latex(expr2) + '$'\n",
        "\n",
        "fig[3].line_color='dodgerblue'\n",
        "fig[3].label = '$f(x) = ' + sym.latex(expr3) + '$'\n",
        "\n",
        "fig[4].line_color='lime'\n",
        "fig[4].label = '$f(x) = ' + sym.latex(expr4) + '$'\n",
        "\n",
        "fig[5].line_color='pink'\n",
        "fig[5].label = '$f(x) = ' + sym.latex(expr5) + '$'\n",
        "\n",
        "fig.show()"
      ],
      "metadata": {
        "colab": {
          "base_uri": "https://localhost:8080/",
          "height": 297
        },
        "id": "G5mlerAV11fF",
        "outputId": "d04d611b-b4ea-447c-c94e-526de6f9b0f8"
      },
      "execution_count": 2,
      "outputs": [
        {
          "output_type": "display_data",
          "data": {
            "text/plain": [
              "<Figure size 432x288 with 1 Axes>"
            ],
            "image/png": "[encoded data removed]"
          },
          "metadata": {
            "needs_background": "light"
          }
        }
      ]
    },
    {
      "cell_type": "markdown",
      "source": [
        "Negative Integer Exponents|<br>\n",
        "-|-\n",
        "$x^{-n} = \\frac{1}{x^{n}}$ | $\\frac{1}{x^{-n}} = x^{n}$"
      ],
      "metadata": {
        "id": "__f1M1DN8x_3"
      }
    },
    {
      "cell_type": "markdown",
      "source": [
        "Multiplication Rule|Division and Negative Powers\n",
        "-|-\n",
        "$x^{m}x^{n} = x^{n + m}$|$\\frac{x^{n}}{x^{m}} = x^{n - m}$"
      ],
      "metadata": {
        "id": "0r8usGXKDqcR"
      }
    },
    {
      "cell_type": "markdown",
      "source": [
        "Power to a power|&nbsp;\n",
        "-|-\n",
        "$\\left(x^{m}\\right)^{n} = x^{mn}$|&nbsp;"
      ],
      "metadata": {
        "id": "6LCyP1UQGIm_"
      }
    },
    {
      "cell_type": "markdown",
      "source": [
        "Product to a power|Fraction to a power\n",
        "-|-\n",
        "$x^{n}y^{n} = \\left(xy\\right)^{n}$|$\\frac{x^{n}}{y^{n}} = \\left(\\frac{x}{y}\\right)^{n}$ "
      ],
      "metadata": {
        "id": "iFAwBggkIMG1"
      }
    },
    {
      "cell_type": "markdown",
      "source": [
        "Fractional Exponents|&nbsp;\n",
        "-|-\n",
        "$x^{\\frac{a}{b}} = \\sqrt[b]{x^{a}}$|&nbsp;"
      ],
      "metadata": {
        "id": "iAZzysJLJfB2"
      }
    },
    {
      "cell_type": "markdown",
      "source": [
        "## Logarithms\n",
        "\n",
        "What power of $b$ is N?\n",
        "\n",
        "$b^c = N \\iff c = \\log_{b}\\left(N\\right)$\n",
        "\n",
        "- $b$ is the **base**\n",
        "- $c$ is the **exponent**\n",
        "- $N$ is the **argument**"
      ],
      "metadata": {
        "id": "Eyt6QRgkLr9E"
      }
    },
    {
      "cell_type": "markdown",
      "source": [
        "Exponential form|Logarithmic form\n",
        "-|-\n",
        "$b^c = N$|$\\log_{b}\\left(N\\right) = c$"
      ],
      "metadata": {
        "id": "aJmb3aRdNjeI"
      }
    },
    {
      "cell_type": "markdown",
      "source": [
        "### Plot of Exponential and Logarithmic Function"
      ],
      "metadata": {
        "id": "eVR2jteV7EHQ"
      }
    },
    {
      "cell_type": "code",
      "source": [
        "x = sym.symbols('x')\n",
        "p = sym.plot(10**x, \n",
        "             sym.exp(x),\n",
        "             sym.log(x),\n",
        "             sym.log(x, 10),\n",
        "             ylim=[-3, 3], \n",
        "             xlim=[-3, 3],\n",
        "             legend=True,\n",
        "             show=False)\n",
        "\n",
        "p[0].line_color='red'\n",
        "p[0].label = '$f(x) = ' + sym.latex(p[0].expr) + '$'\n",
        "\n",
        "p[1].line_color='green'\n",
        "p[1].label = '$f(x) = ' + sym.latex(p[1].expr) + '$'\n",
        "\n",
        "p[2].line_color='lime'\n",
        "p[2].label = '$f(x) = \\ln{x}$'\n",
        "\n",
        "p[3].line_color='pink'\n",
        "p[3].label = '$f(x) = \\log_{10}{x}$'\n",
        "\n",
        "p.show()"
      ],
      "metadata": {
        "colab": {
          "base_uri": "https://localhost:8080/",
          "height": 297
        },
        "id": "Zz6hhRuj7KQ3",
        "outputId": "00815b5c-c026-4b2b-a3de-becc3673cd57"
      },
      "execution_count": 3,
      "outputs": [
        {
          "output_type": "display_data",
          "data": {
            "text/plain": [
              "<Figure size 432x288 with 1 Axes>"
            ],
            "image/png": "[encoded data removed]"
          },
          "metadata": {
            "needs_background": "light"
          }
        }
      ]
    },
    {
      "cell_type": "markdown",
      "source": [
        "### Plot of Logarithmic Functions"
      ],
      "metadata": {
        "id": "muellBrU0QNx"
      }
    },
    {
      "cell_type": "code",
      "source": [
        "x = sym.symbols('x')\n",
        "\n",
        "p = sym.plot(sym.log(x, 2),\n",
        "             sym.log(x, sym.exp(1)),\n",
        "             sym.log(x, 100),\n",
        "             sym.log(x, 1/100),\n",
        "             sym.log(x, 1/sym.exp(1)),\n",
        "             sym.log(x, 1/2),\n",
        "             ylim=[-3, 3], xlim=[-3, 3],\n",
        "             legend=True, show=False)\n",
        "\n",
        "plt.rcParams['legend.loc'] = 'upper left'\n",
        "\n",
        "p[0].line_color='red'\n",
        "p[0].label = '$f(x) = \\log_{2}{x}$'\n",
        "\n",
        "p[1].line_color='green'\n",
        "p[1].label = '$f(x) = \\ln{x}$'\n",
        "\n",
        "p[2].line_color='navy'\n",
        "p[2].label = '$f(x) = \\log_{100}{x}$'\n",
        "\n",
        "p[3].line_color='dodgerblue'\n",
        "p[3].label = '$f(x) = \\log_{1/100}{x}$'\n",
        "\n",
        "p[4].line_color='lime'\n",
        "p[4].label = '$f(x) = \\log_{1/e}{x}$'\n",
        "\n",
        "p[5].line_color='pink'\n",
        "p[5].label = '$f(x) = \\log_{1/2}{x}$'\n",
        "\n",
        "\n",
        "p.show()\n",
        "\n",
        "plt.rcParams.update(plt.rcParamsDefault)"
      ],
      "metadata": {
        "colab": {
          "base_uri": "https://localhost:8080/",
          "height": 297
        },
        "id": "v6u1RVp_rmBd",
        "outputId": "f1e9554e-5b96-4d6b-e695-e24739532c89"
      },
      "execution_count": 4,
      "outputs": [
        {
          "output_type": "display_data",
          "data": {
            "text/plain": [
              "<Figure size 432x288 with 1 Axes>"
            ],
            "image/png": "[encoded data removed]"
          },
          "metadata": {
            "needs_background": "light"
          }
        }
      ]
    },
    {
      "cell_type": "markdown",
      "source": [
        "$f(x) = \\log_{\\frac{1}{100}}{x}$"
      ],
      "metadata": {
        "id": "MipUZqixyIqZ"
      }
    },
    {
      "cell_type": "markdown",
      "source": [
        "### Logarithm Properties"
      ],
      "metadata": {
        "id": "jplSP2IZP_dh"
      }
    },
    {
      "cell_type": "markdown",
      "source": [
        "Logarithms base b &nbsp;&nbsp;&nbsp;&nbsp;&nbsp;&nbsp;&nbsp;&nbsp;&nbsp;&nbsp;&nbsp;&nbsp;&nbsp;&nbsp;&nbsp;&nbsp;&nbsp;&nbsp;&nbsp;&nbsp;&nbsp;&nbsp;&nbsp;&nbsp;&nbsp;&nbsp;&nbsp;&nbsp;&nbsp;&nbsp;&nbsp;&nbsp;&nbsp;&nbsp;&nbsp;&nbsp;&nbsp;&nbsp;&nbsp;&nbsp;&nbsp;&nbsp;&nbsp;|Natural Logarithms &nbsp;&nbsp;&nbsp;&nbsp;&nbsp;&nbsp;&nbsp;&nbsp;&nbsp;&nbsp;&nbsp;&nbsp;&nbsp;&nbsp;&nbsp;&nbsp;&nbsp;&nbsp;&nbsp;&nbsp;&nbsp;&nbsp;&nbsp;&nbsp;&nbsp;&nbsp;\n",
        "-|-\n",
        "$b^{\\log_{b}N} = N$|$e^{\\ln{N}} = N$\n",
        "$\\log_{b}{b} = 1$|$\\ln{e} = 1$\n",
        "$\\log_{b}{1} = 0$|$\\ln{1} = 0$\n",
        "$\\log_{b}{b^{N}} = N$|$\\ln{e^{N}} = N$\n",
        "$\\log_{b}{MN} = \\log_{b}{M} + \\log_{b}N$|$\\ln{MN} = \\ln{M} + \\ln{N}$\n",
        "$\\log_{b}{M} + \\log_{b}N = \\log_{b}{M} - \\log_{b}{\\frac{1}{N}}$|$\\ln{M} + \\ln{N} = \\ln{M} - \\ln{\\frac{1}{N}}$\n",
        "$\\log_{b}\\frac{M}{N} = \\log_{b}{M} - \\log_{b}N$|$\\ln{\\frac{M}{N}} = \\ln{M} - \\ln{N}$\n",
        "$\\log_{b}{M^{c}} = c\\log_{b}{M}$|$\\ln{M^{c}} = c\\ln{M}$"
      ],
      "metadata": {
        "id": "KdaUkxSWQC75"
      }
    },
    {
      "cell_type": "markdown",
      "source": [
        "### Problem Solving Technique"
      ],
      "metadata": {
        "id": "t4fqvcojowE3"
      }
    },
    {
      "cell_type": "markdown",
      "source": [
        "Treat both sides of an equation as if they were exponents\n",
        "\n",
        "$\n",
        "x = y\n",
        "\\implies\n",
        "z^{x} = z^{y}\n",
        "$"
      ],
      "metadata": {
        "id": "nGngFRKypGtR"
      }
    },
    {
      "cell_type": "markdown",
      "source": [
        "$\n",
        "\\log_{2}\\left(\\frac{39x}{x-5}\\right) = 4 \\\\\n",
        "\\begin{align}\n",
        "&\\implies \n",
        "2^{\\log_{2}\\left(\\frac{39x}{x-5}\\right)} = 2^{4} \\\\\n",
        "&\\implies\n",
        "\\frac{39x}{x-5} = 16 \\\\\n",
        "&\\implies \n",
        "39x = 16x - 80 \\\\\n",
        "&\\implies\n",
        "23x = -80 \\\\\n",
        "&\\implies\n",
        "x = -\\frac{80}{23}\n",
        "\\end{align}\n",
        "$"
      ],
      "metadata": {
        "id": "OxEOErS5pN7Q"
      }
    },
    {
      "cell_type": "markdown",
      "source": [
        "### Change of Base Formula\n",
        "\n",
        "$\\log_{b_{new}}(n) = \\frac{\\log_{b_{old}}(n)}{\\log_{b_{old}}(b_{new})}$"
      ],
      "metadata": {
        "id": "83aq31HJqhPe"
      }
    },
    {
      "cell_type": "markdown",
      "source": [
        "## Euler's Number"
      ],
      "metadata": {
        "id": "4Ju7W8fsj8LF"
      }
    },
    {
      "cell_type": "markdown",
      "source": [
        "$\n",
        "e = \\lim_{n \\to \\infty}\\left(1 + \\frac{1}{n}\\right)^{n}\n",
        "$"
      ],
      "metadata": {
        "id": "msCWU6GakNT8"
      }
    },
    {
      "cell_type": "code",
      "source": [
        "n = sym.symbols('n')\n",
        "\n",
        "expr = (1 + 1/n)**n\n",
        "expr"
      ],
      "metadata": {
        "colab": {
          "base_uri": "https://localhost:8080/",
          "height": 59
        },
        "id": "hKwn4PAyWgxC",
        "outputId": "3bd67300-fa3a-4954-b4a8-661456d1526e"
      },
      "execution_count": 5,
      "outputs": [
        {
          "output_type": "execute_result",
          "data": {
            "text/plain": [
              "(1 + 1/n)**n"
            ],
            "text/latex": "$\\displaystyle \\left(1 + \\frac{1}{n}\\right)^{n}$"
          },
          "metadata": {},
          "execution_count": 5
        }
      ]
    },
    {
      "cell_type": "code",
      "source": [
        "sym.limit(expr, n, sym.oo)"
      ],
      "metadata": {
        "colab": {
          "base_uri": "https://localhost:8080/",
          "height": 39
        },
        "id": "LjDSo9zBWSIP",
        "outputId": "064d499d-bcd8-4282-c51d-f5eef6696b53"
      },
      "execution_count": 6,
      "outputs": [
        {
          "output_type": "execute_result",
          "data": {
            "text/plain": [
              "E"
            ],
            "text/latex": "$\\displaystyle e$"
          },
          "metadata": {},
          "execution_count": 6
        }
      ]
    }
  ]
}