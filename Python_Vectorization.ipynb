{
  "nbformat": 4,
  "nbformat_minor": 0,
  "metadata": {
    "colab": {
      "provenance": [],
      "toc_visible": true,
      "authorship_tag": "ABX9TyPbTQSPCz1Baxz2Knpk5Niy",
      "include_colab_link": true
    },
    "kernelspec": {
      "name": "python3",
      "display_name": "Python 3"
    },
    "language_info": {
      "name": "python"
    }
  },
  "cells": [
    {
      "cell_type": "markdown",
      "metadata": {
        "id": "view-in-github",
        "colab_type": "text"
      },
      "source": [
        "<a href=\"https://colab.research.google.com/github/PaulToronto/Math-and-Data-Science-Reference/blob/main/Python_Vectorization.ipynb\" target=\"_parent\"><img src=\"https://colab.research.google.com/assets/colab-badge.svg\" alt=\"Open In Colab\"/></a>"
      ]
    },
    {
      "cell_type": "markdown",
      "source": [
        "# Python Vectorization"
      ],
      "metadata": {
        "id": "ow2gMfoXV6ai"
      }
    },
    {
      "cell_type": "code",
      "source": [
        "import numpy as np\n",
        "import sympy as sym"
      ],
      "metadata": {
        "id": "mPe0ZmyGEohZ"
      },
      "execution_count": 1,
      "outputs": []
    },
    {
      "cell_type": "code",
      "source": [
        "w = np.array([1.0, 2.5, -3.3])\n",
        "b = 4\n",
        "x = np.array([10, 20, 30])"
      ],
      "metadata": {
        "id": "MmG6uD2zEdig"
      },
      "execution_count": 2,
      "outputs": []
    },
    {
      "cell_type": "markdown",
      "source": [
        "## Without vectorization"
      ],
      "metadata": {
        "id": "fdJVEPlvFP_F"
      }
    },
    {
      "cell_type": "markdown",
      "source": [
        "$$\n",
        "f_{\\vec{w},b} = w_1x_1 + w_2x_2 + w_3+x+3 + b\n",
        "$$"
      ],
      "metadata": {
        "id": "NFrRnl4zE6Ey"
      }
    },
    {
      "cell_type": "code",
      "source": [
        "f = w[0] * x[0] + w[1] * x[1] + w[2] * x[2] + b\n",
        "f"
      ],
      "metadata": {
        "colab": {
          "base_uri": "https://localhost:8080/"
        },
        "id": "Prs4nXkGFUM4",
        "outputId": "6f2028f7-2340-47c7-e009-698111bd27ed"
      },
      "execution_count": 3,
      "outputs": [
        {
          "output_type": "execute_result",
          "data": {
            "text/plain": [
              "-35.0"
            ]
          },
          "metadata": {},
          "execution_count": 3
        }
      ]
    },
    {
      "cell_type": "markdown",
      "source": [
        "## Without vectorization"
      ],
      "metadata": {
        "id": "4_jBupsKGvhO"
      }
    },
    {
      "cell_type": "markdown",
      "source": [
        "$$\n",
        "f_{\\vec{w},b} = \\left(\\sum_{j=1}^n{w_jx_j}\\right) + b\n",
        "$$"
      ],
      "metadata": {
        "id": "ciwA0HTQGbz9"
      }
    },
    {
      "cell_type": "code",
      "source": [
        "f = 0\n",
        "for j in range(0, 3):\n",
        "    f = f + w[j] * x[j]\n",
        "f = f + b\n",
        "f"
      ],
      "metadata": {
        "colab": {
          "base_uri": "https://localhost:8080/"
        },
        "id": "GYWtnzNCG7s_",
        "outputId": "ce8cf596-eb0b-4aff-df7d-7aa175c61b74"
      },
      "execution_count": 4,
      "outputs": [
        {
          "output_type": "execute_result",
          "data": {
            "text/plain": [
              "-35.0"
            ]
          },
          "metadata": {},
          "execution_count": 4
        }
      ]
    },
    {
      "cell_type": "markdown",
      "source": [
        "## With vectorization"
      ],
      "metadata": {
        "id": "_ZEdzpMFJfD4"
      }
    },
    {
      "cell_type": "markdown",
      "source": [
        "$$\n",
        "f_{\\vec{w},\\vec{x}}\\left(\\vec{x}\\right) = \\vec{w} \\cdot \\vec{x} + b\n",
        "$$"
      ],
      "metadata": {
        "id": "QaalHM-RJp-k"
      }
    },
    {
      "cell_type": "code",
      "source": [
        "f = np.dot(w, x) + b\n",
        "f"
      ],
      "metadata": {
        "colab": {
          "base_uri": "https://localhost:8080/"
        },
        "id": "GEz5pPaOKZDe",
        "outputId": "040c2c10-746a-4a4a-c891-e29832d48b7e"
      },
      "execution_count": 5,
      "outputs": [
        {
          "output_type": "execute_result",
          "data": {
            "text/plain": [
              "-35.0"
            ]
          },
          "metadata": {},
          "execution_count": 5
        }
      ]
    },
    {
      "cell_type": "markdown",
      "source": [
        "## Vectorization is faster: `%%timeit`"
      ],
      "metadata": {
        "id": "BdGjxN7mLjSi"
      }
    },
    {
      "cell_type": "code",
      "source": [
        "%%timeit\n",
        "f = w[0] * x[0] + w[1] * x[1] + w[2] * x[2] + b"
      ],
      "metadata": {
        "colab": {
          "base_uri": "https://localhost:8080/"
        },
        "id": "o2MJvt1lL5Qh",
        "outputId": "7577e680-b656-4c29-a1fb-2f0d22fdd6fd"
      },
      "execution_count": 6,
      "outputs": [
        {
          "output_type": "stream",
          "name": "stdout",
          "text": [
            "1.99 µs ± 804 ns per loop (mean ± std. dev. of 7 runs, 1000000 loops each)\n"
          ]
        }
      ]
    },
    {
      "cell_type": "code",
      "source": [
        "%%timeit\n",
        "f = 0\n",
        "for j in range(0, 3):\n",
        "    f = f + w[j] * x[j]\n",
        "f = f + b"
      ],
      "metadata": {
        "colab": {
          "base_uri": "https://localhost:8080/"
        },
        "id": "r3G0f5BRL9Xa",
        "outputId": "9d90ce0a-5a0e-4c64-faa4-ac92deb825eb"
      },
      "execution_count": 7,
      "outputs": [
        {
          "output_type": "stream",
          "name": "stdout",
          "text": [
            "2.15 µs ± 124 ns per loop (mean ± std. dev. of 7 runs, 100000 loops each)\n"
          ]
        }
      ]
    },
    {
      "cell_type": "code",
      "source": [
        "%%timeit\n",
        "f = np.dot(w, x) + b"
      ],
      "metadata": {
        "id": "egL1y9bIMR_n"
      },
      "execution_count": null,
      "outputs": []
    }
  ]
}