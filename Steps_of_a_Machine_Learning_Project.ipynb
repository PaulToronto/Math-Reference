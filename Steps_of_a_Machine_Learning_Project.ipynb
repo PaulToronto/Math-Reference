{
  "nbformat": 4,
  "nbformat_minor": 0,
  "metadata": {
    "colab": {
      "provenance": [],
      "authorship_tag": "ABX9TyNhJDpxr+3hCfIG33xLXX+g",
      "include_colab_link": true
    },
    "kernelspec": {
      "name": "python3",
      "display_name": "Python 3"
    },
    "language_info": {
      "name": "python"
    }
  },
  "cells": [
    {
      "cell_type": "markdown",
      "metadata": {
        "id": "view-in-github",
        "colab_type": "text"
      },
      "source": [
        "<a href=\"https://colab.research.google.com/github/PaulToronto/Math-and-Data-Science-Reference/blob/main/Steps_of_a_Machine_Learning_Project.ipynb\" target=\"_parent\"><img src=\"https://colab.research.google.com/assets/colab-badge.svg\" alt=\"Open In Colab\"/></a>"
      ]
    },
    {
      "cell_type": "markdown",
      "source": [
        "# Steps of a Machine Learning Project"
      ],
      "metadata": {
        "id": "buLhuhW0YhmL"
      }
    },
    {
      "cell_type": "markdown",
      "source": [
        "1. From the problem and look at the big picture.\n",
        "2. Get the data.\n",
        "3. Explore and visualize the data to gain insights.\n",
        "4. Prepare the data to better expose the underlying data patterns to machine learning algorithms.\n",
        "5. Explore many different models and shortlist the best ones.\n",
        "6. Fine-tune your models and combine them into a great solution.\n",
        "7. Present your solution.\n",
        "8. Launch, monitor, and maintain your system.\n",
        "\n"
      ],
      "metadata": {
        "id": "DhQT13AEYoae"
      }
    }
  ]
}