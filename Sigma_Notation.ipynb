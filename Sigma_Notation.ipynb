{
  "nbformat": 4,
  "nbformat_minor": 0,
  "metadata": {
    "colab": {
      "provenance": [],
      "toc_visible": true,
      "authorship_tag": "ABX9TyOFhPbp5YU1qNr8I1x5MUmI",
      "include_colab_link": true
    },
    "kernelspec": {
      "name": "python3",
      "display_name": "Python 3"
    },
    "language_info": {
      "name": "python"
    }
  },
  "cells": [
    {
      "cell_type": "markdown",
      "metadata": {
        "id": "view-in-github",
        "colab_type": "text"
      },
      "source": [
        "<a href=\"https://colab.research.google.com/github/PaulToronto/Math-and-Data-Science-Reference/blob/main/Sigma_Notation.ipynb\" target=\"_parent\"><img src=\"https://colab.research.google.com/assets/colab-badge.svg\" alt=\"Open In Colab\"/></a>"
      ]
    },
    {
      "cell_type": "markdown",
      "source": [
        "# Sigma Notation"
      ],
      "metadata": {
        "id": "dA74UvKiH1Tj"
      }
    },
    {
      "cell_type": "code",
      "execution_count": 1,
      "metadata": {
        "id": "zYn8OLQDDYYs"
      },
      "outputs": [],
      "source": [
        "import sympy as sym\n",
        "\n",
        "i, C, n = sym.symbols('i C n')"
      ]
    },
    {
      "cell_type": "markdown",
      "source": [
        "## Distributive Property"
      ],
      "metadata": {
        "id": "MgSsD9eZHwUS"
      }
    },
    {
      "cell_type": "markdown",
      "source": [
        "$$\n",
        "\\sum_{i=i_0}^{n}C a_i = C\\sum_{i=i_0}^{n}a_i\n",
        "$$"
      ],
      "metadata": {
        "id": "TebkNNtjIAm7"
      }
    },
    {
      "cell_type": "code",
      "source": [
        "x = sym.Sum(C * i**2, (i, 1, n))\n",
        "x"
      ],
      "metadata": {
        "colab": {
          "base_uri": "https://localhost:8080/",
          "height": 67
        },
        "id": "DaGUqvQjDjbO",
        "outputId": "6c605415-09bb-4cb1-a54b-b8f7f1de2e8e"
      },
      "execution_count": 2,
      "outputs": [
        {
          "output_type": "execute_result",
          "data": {
            "text/plain": [
              "Sum(C*i**2, (i, 1, n))"
            ],
            "text/latex": "$\\displaystyle \\sum_{i=1}^{n} C i^{2}$"
          },
          "metadata": {},
          "execution_count": 2
        }
      ]
    },
    {
      "cell_type": "code",
      "source": [
        "x.simplify()"
      ],
      "metadata": {
        "colab": {
          "base_uri": "https://localhost:8080/",
          "height": 67
        },
        "id": "plNBj-nRFkZv",
        "outputId": "4272e59d-54e5-48a2-bfb5-01b549520a29"
      },
      "execution_count": 3,
      "outputs": [
        {
          "output_type": "execute_result",
          "data": {
            "text/plain": [
              "C*Sum(i**2, (i, 1, n))"
            ],
            "text/latex": "$\\displaystyle C \\sum_{i=1}^{n} i^{2}$"
          },
          "metadata": {},
          "execution_count": 3
        }
      ]
    },
    {
      "cell_type": "markdown",
      "source": [
        "## Commutative Property"
      ],
      "metadata": {
        "id": "x4RwXNMLJ95u"
      }
    },
    {
      "cell_type": "markdown",
      "source": [
        "$$\n",
        "\\sum_{i=i_0}^{n}\\left(a_i \\pm b_i\\right) = \\sum_{i=i_0}^{n}a_i \\pm \\sum_{i=i_0}^{n}b_i\n",
        "$$"
      ],
      "metadata": {
        "id": "saiCmH_MKCxM"
      }
    },
    {
      "cell_type": "markdown",
      "source": [
        "## Summation of Constants"
      ],
      "metadata": {
        "id": "7GV1pagWLQxB"
      }
    },
    {
      "cell_type": "markdown",
      "source": [
        "$$\n",
        "\\sum_{i=1}^{n}C = n \\cdot C\n",
        "$$"
      ],
      "metadata": {
        "id": "3Y9ML3d4LWTZ"
      }
    }
  ]
}