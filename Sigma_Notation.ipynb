{
  "nbformat": 4,
  "nbformat_minor": 0,
  "metadata": {
    "colab": {
      "provenance": [],
      "toc_visible": true,
      "authorship_tag": "ABX9TyPaD0eNBHwaZ5qhE9NQAWEn",
      "include_colab_link": true
    },
    "kernelspec": {
      "name": "python3",
      "display_name": "Python 3"
    },
    "language_info": {
      "name": "python"
    }
  },
  "cells": [
    {
      "cell_type": "markdown",
      "metadata": {
        "id": "view-in-github",
        "colab_type": "text"
      },
      "source": [
        "<a href=\"https://colab.research.google.com/github/PaulToronto/Math-and-Data-Science-Reference/blob/main/Sigma_Notation.ipynb\" target=\"_parent\"><img src=\"https://colab.research.google.com/assets/colab-badge.svg\" alt=\"Open In Colab\"/></a>"
      ]
    },
    {
      "cell_type": "markdown",
      "source": [
        "# Sigma Notation"
      ],
      "metadata": {
        "id": "dA74UvKiH1Tj"
      }
    },
    {
      "cell_type": "code",
      "execution_count": 1,
      "metadata": {
        "id": "zYn8OLQDDYYs"
      },
      "outputs": [],
      "source": [
        "import sympy as sym\n",
        "\n",
        "i, C, n = sym.symbols('i C n')"
      ]
    },
    {
      "cell_type": "markdown",
      "source": [
        "## Distributive Property"
      ],
      "metadata": {
        "id": "MgSsD9eZHwUS"
      }
    },
    {
      "cell_type": "markdown",
      "source": [
        "$$\n",
        "\\sum_{i=i_0}^{n}C a_i = C\\sum_{i=i_0}^{n}a_i\n",
        "$$"
      ],
      "metadata": {
        "id": "TebkNNtjIAm7"
      }
    },
    {
      "cell_type": "code",
      "source": [
        "x = sym.Sum(C * i**2, (i, 1, 4))\n",
        "x"
      ],
      "metadata": {
        "colab": {
          "base_uri": "https://localhost:8080/",
          "height": 69
        },
        "id": "DaGUqvQjDjbO",
        "outputId": "2e985d78-cccb-4cf5-ec86-bdd3fd72f8d0"
      },
      "execution_count": 2,
      "outputs": [
        {
          "output_type": "execute_result",
          "data": {
            "text/plain": [
              "Sum(C*i**2, (i, 1, 4))"
            ],
            "text/latex": "$\\displaystyle \\sum_{i=1}^{4} C i^{2}$"
          },
          "metadata": {},
          "execution_count": 2
        }
      ]
    },
    {
      "cell_type": "code",
      "source": [
        "x.simplify()"
      ],
      "metadata": {
        "colab": {
          "base_uri": "https://localhost:8080/",
          "height": 69
        },
        "id": "plNBj-nRFkZv",
        "outputId": "db53c81a-008d-4ad1-95d0-7a53c7b50dd2"
      },
      "execution_count": 3,
      "outputs": [
        {
          "output_type": "execute_result",
          "data": {
            "text/plain": [
              "C*Sum(i**2, (i, 1, 4))"
            ],
            "text/latex": "$\\displaystyle C \\sum_{i=1}^{4} i^{2}$"
          },
          "metadata": {},
          "execution_count": 3
        }
      ]
    },
    {
      "cell_type": "markdown",
      "source": [
        "## Commutative Property"
      ],
      "metadata": {
        "id": "x4RwXNMLJ95u"
      }
    },
    {
      "cell_type": "markdown",
      "source": [
        "$$\n",
        "\\sum_{i=i_0}^{n}\\left(a_i \\pm b_i\\right) = \\sum_{i=i_0}^{n}a_i \\pm \\sum_{i=i_0}^{n}b_i\n",
        "$$"
      ],
      "metadata": {
        "id": "saiCmH_MKCxM"
      }
    },
    {
      "cell_type": "markdown",
      "source": [
        "## Summation of Constants"
      ],
      "metadata": {
        "id": "7GV1pagWLQxB"
      }
    },
    {
      "cell_type": "markdown",
      "source": [
        "$$\n",
        "\\sum_{i=1}^{n}C = n \\cdot C\n",
        "$$"
      ],
      "metadata": {
        "id": "3Y9ML3d4LWTZ"
      }
    }
  ]
}