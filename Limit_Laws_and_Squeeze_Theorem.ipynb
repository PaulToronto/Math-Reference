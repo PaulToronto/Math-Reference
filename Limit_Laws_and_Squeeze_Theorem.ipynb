{
  "nbformat": 4,
  "nbformat_minor": 0,
  "metadata": {
    "colab": {
      "provenance": [],
      "authorship_tag": "ABX9TyNUKaKwn6ZLb4ckMBrSaHs5",
      "include_colab_link": true
    },
    "kernelspec": {
      "name": "python3",
      "display_name": "Python 3"
    },
    "language_info": {
      "name": "python"
    }
  },
  "cells": [
    {
      "cell_type": "markdown",
      "metadata": {
        "id": "view-in-github",
        "colab_type": "text"
      },
      "source": [
        "<a href=\"https://colab.research.google.com/github/PaulToronto/Math-and-Data-Science-Reference/blob/main/Limit_Laws_and_Squeeze_Theorem.ipynb\" target=\"_parent\"><img src=\"https://colab.research.google.com/assets/colab-badge.svg\" alt=\"Open In Colab\"/></a>"
      ]
    },
    {
      "cell_type": "markdown",
      "source": [
        "# Limit Laws and The Squeeze Theorem"
      ],
      "metadata": {
        "id": "tFEx9yycK2qx"
      }
    },
    {
      "cell_type": "markdown",
      "source": [
        "## Limit Laws"
      ],
      "metadata": {
        "id": "DchCXlQRTAPN"
      }
    },
    {
      "cell_type": "markdown",
      "source": [
        "Let $c$ be a constant, let $n$ be an integer and let $f(x)$ and $g(x)$ be defined for all $x$ near $a$ (except possibly at $x = a$). Assume that $L$ and $M$ are real numbers such that:\n",
        "\n",
        "$$\n",
        "\\begin{align}\n",
        "&\\lim_{x \\to a} f(x) = L \\\\\n",
        "&\\lim_{x \\to a} g(x) = M\n",
        "\\end{align}\n",
        "$$\n",
        "\n",
        "Then the following statements hold:\n",
        "\n",
        "1. The limit of the sum is the sum of the limits\n",
        "    - $\\lim_{x \\to a}{\\left(f(x) + g(x)\\right)} = L + M$\n",
        "2. The limit of the difference is the difference of the limits\n",
        "    - $\\lim_{x \\to a}{\\left(f(x) - g(x)\\right)} = L - M$\n",
        "3. The limit of a product is the product of the limits\n",
        "    - $\\lim_{x \\to a}{\\left(f(x) \\cdot g(x)\\right)} = L \\cdot M$\n",
        "4. The limit of a quotient is the quotient of the limits\n",
        "    - $\\lim_{x \\to a}\\frac{f(x)}{g(x)} = \\frac{L}{M}, M \\ne 0$\n",
        "5. Constant multiple law for limits\n",
        "    - $\\lim_{x \\to a}{cf(x)} = cL$\n",
        "6. Power law for limits\n",
        "    - $\\lim_{x \\to a}{\\left(f(x)\\right)^{n}} = L^{n}$\n",
        "7. Root law for limits\n",
        "    - $\\lim_{x \\to a}{\\sqrt[n]{f(x)}} = \\sqrt[n]{L}$\n",
        "        - for all $L$ if $n$ is odd\n",
        "        - for $L \\ge 0$ if $n$ is even and $f(x) \\ge 0$\n",
        "\n"
      ],
      "metadata": {
        "id": "x8qfpBKJK8v-"
      }
    },
    {
      "cell_type": "markdown",
      "source": [
        "## The Squeeze Theorem\n",
        "\n",
        "Suppose that $f(x) \\le g(x) \\le h(x)$ for all $x$ near $a$ (except possibly at $x = a$). \n",
        "\n",
        "If\n",
        "\n",
        "$$\n",
        "\\lim_{x \\to a}{f(x)} = \\lim_{x \\to a}{h(x)} = L\n",
        "$$\n",
        "\n",
        "then\n",
        "\n",
        "$$\n",
        "\\lim_{x \\to a}{g(x)} = L\n",
        "$$\n",
        "\n",
        "also. "
      ],
      "metadata": {
        "id": "_iB8Rh2BUFcr"
      }
    }
  ]
}