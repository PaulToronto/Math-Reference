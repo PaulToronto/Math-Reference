{
  "nbformat": 4,
  "nbformat_minor": 0,
  "metadata": {
    "colab": {
      "provenance": [],
      "toc_visible": true,
      "authorship_tag": "ABX9TyPWh56ZYlQZmXEWKDYKnyYq",
      "include_colab_link": true
    },
    "kernelspec": {
      "name": "python3",
      "display_name": "Python 3"
    },
    "language_info": {
      "name": "python"
    }
  },
  "cells": [
    {
      "cell_type": "markdown",
      "metadata": {
        "id": "view-in-github",
        "colab_type": "text"
      },
      "source": [
        "<a href=\"https://colab.research.google.com/github/PaulToronto/Math-and-Data-Science-Reference/blob/main/Regular_Expressions_with_Python.ipynb\" target=\"_parent\"><img src=\"https://colab.research.google.com/assets/colab-badge.svg\" alt=\"Open In Colab\"/></a>"
      ]
    },
    {
      "cell_type": "markdown",
      "source": [
        "# Regular Expressions with Python\n",
        "\n",
        "https://www.w3schools.com/python/python_regex.asp"
      ],
      "metadata": {
        "id": "xPmfU4OgmZSy"
      }
    },
    {
      "cell_type": "code",
      "source": [
        "import re"
      ],
      "metadata": {
        "id": "PuLUQwRgGWe2"
      },
      "execution_count": 1,
      "outputs": []
    },
    {
      "cell_type": "markdown",
      "source": [
        "## What is a regular expression?\n",
        "\n",
        "REGular EXpression or regex:\n",
        "\n",
        "String containing a combination of normal characters and special metacharacters that describes patterns to find text or positions within a text"
      ],
      "metadata": {
        "id": "1l2J_xz7_pM4"
      }
    },
    {
      "cell_type": "markdown",
      "source": [
        "Example: `r'st\\d\\s\\w{3,10}'`\n",
        "\n",
        "- the `r` at the beginning indicates a raw string\n",
        "    - it is always advisable to use it\n",
        "- the **normal** characters match themselves\n",
        "    - in this example, `st` exactly matches an `s` followed by a `t`\n",
        "- the **metacharacter**, `\\`, signals a sequence of **special** characters. It can also be used to escape special characters.\n",
        "    - `\\d` matches a digit: `0-9`\n",
        "    - `\\s` matches white space: `space, tab, \\r, \\n, \\t, form feed character`\n",
        "    - `\\w` a word character: `a-z, A-Z, 0-9, _`\n",
        "- the **metacharacter**, `{}`, means *exactly the specified number of occurrences*\n",
        "    - `{3,10}` means the character immediately to the left, in this case `\\w` should appear between 3 and 10 times"
      ],
      "metadata": {
        "id": "uIZ4Gd88ADHa"
      }
    },
    {
      "cell_type": "markdown",
      "source": [
        "## Find all matches of a pattern: `re.findall(r'regex', string)`"
      ],
      "metadata": {
        "id": "vgpd5bh_AS4m"
      }
    },
    {
      "cell_type": "code",
      "source": [
        "re.findall(r\"#movies\", \"Love #movies! I had fun yesterday going to the #movies\")"
      ],
      "metadata": {
        "colab": {
          "base_uri": "https://localhost:8080/"
        },
        "id": "-0K9P3YPOlQR",
        "outputId": "783c2392-27a6-41aa-cc84-2b15846efda0"
      },
      "execution_count": 2,
      "outputs": [
        {
          "output_type": "execute_result",
          "data": {
            "text/plain": [
              "['#movies', '#movies']"
            ]
          },
          "metadata": {},
          "execution_count": 2
        }
      ]
    },
    {
      "cell_type": "markdown",
      "source": [
        "## Split string at each match: `re.split(r'regex', string)`"
      ],
      "metadata": {
        "id": "wKhh4VhUARii"
      }
    },
    {
      "cell_type": "code",
      "source": [
        "re.split(r'!', 'Nice place to eat! I\\'ll come back! Excellent meat!')"
      ],
      "metadata": {
        "colab": {
          "base_uri": "https://localhost:8080/"
        },
        "id": "YLpH4Lx5SLFA",
        "outputId": "181758f6-ec20-4d6a-bfdf-bdd0defae89f"
      },
      "execution_count": 3,
      "outputs": [
        {
          "output_type": "execute_result",
          "data": {
            "text/plain": [
              "['Nice place to eat', \" I'll come back\", ' Excellent meat', '']"
            ]
          },
          "metadata": {},
          "execution_count": 3
        }
      ]
    },
    {
      "cell_type": "markdown",
      "source": [
        "## Replace one or many matches with a string: `re.sub(r'regex', new, string)`"
      ],
      "metadata": {
        "id": "miPUG6yjWeoH"
      }
    },
    {
      "cell_type": "code",
      "source": [
        "re.sub(r\"yellow\", \n",
        "       \"nice\", \n",
        "       \"I have a yellow car and a yellow house in a yellow neighbourhood\")"
      ],
      "metadata": {
        "colab": {
          "base_uri": "https://localhost:8080/",
          "height": 35
        },
        "id": "z-4GVuzNWnV-",
        "outputId": "b30310b9-f118-4280-9619-f0ff764cd872"
      },
      "execution_count": 4,
      "outputs": [
        {
          "output_type": "execute_result",
          "data": {
            "text/plain": [
              "'I have a nice car and a nice house in a nice neighbourhood'"
            ],
            "application/vnd.google.colaboratory.intrinsic+json": {
              "type": "string"
            }
          },
          "metadata": {},
          "execution_count": 4
        }
      ]
    },
    {
      "cell_type": "code",
      "source": [
        "re.sub(r\"yellow\", \n",
        "       \"nice\", \n",
        "       \"I have a yellow car and a yellow house in a yellow neighbourhood\",\n",
        "       1)"
      ],
      "metadata": {
        "colab": {
          "base_uri": "https://localhost:8080/",
          "height": 35
        },
        "id": "TfkjQylgaD6Y",
        "outputId": "d4d44d77-4e66-4a7d-b14d-1d1ba7227516"
      },
      "execution_count": 5,
      "outputs": [
        {
          "output_type": "execute_result",
          "data": {
            "text/plain": [
              "'I have a nice car and a yellow house in a yellow neighbourhood'"
            ],
            "application/vnd.google.colaboratory.intrinsic+json": {
              "type": "string"
            }
          },
          "metadata": {},
          "execution_count": 5
        }
      ]
    },
    {
      "cell_type": "markdown",
      "source": [
        "## Supported metacharacters"
      ],
      "metadata": {
        "id": "L65B7l2MXDU3"
      }
    },
    {
      "cell_type": "markdown",
      "source": [
        "### `\\d`: digit"
      ],
      "metadata": {
        "id": "0rWCb4pxYCIn"
      }
    },
    {
      "cell_type": "code",
      "source": [
        "re.findall(r'User\\d', \"The winners are: User9, UserN, User8, User09\")"
      ],
      "metadata": {
        "colab": {
          "base_uri": "https://localhost:8080/"
        },
        "id": "rn-LqEI2XGGB",
        "outputId": "887d742f-1b07-4426-ae4d-5c57545dc543"
      },
      "execution_count": 6,
      "outputs": [
        {
          "output_type": "execute_result",
          "data": {
            "text/plain": [
              "['User9', 'User8', 'User0']"
            ]
          },
          "metadata": {},
          "execution_count": 6
        }
      ]
    },
    {
      "cell_type": "markdown",
      "source": [
        "### `\\D`: non-digit"
      ],
      "metadata": {
        "id": "OhI13ebVYXGp"
      }
    },
    {
      "cell_type": "code",
      "source": [
        "re.findall(r'User\\D', \n",
        "           \"The winners are: UserN, User8, Userm, Usermn, User_, User*\")"
      ],
      "metadata": {
        "colab": {
          "base_uri": "https://localhost:8080/"
        },
        "id": "aGvYJ7oOYZPd",
        "outputId": "941c1ccd-553d-41b6-fc2f-1bd83ca7fafd"
      },
      "execution_count": 7,
      "outputs": [
        {
          "output_type": "execute_result",
          "data": {
            "text/plain": [
              "['UserN', 'Userm', 'Userm', 'User_', 'User*']"
            ]
          },
          "metadata": {},
          "execution_count": 7
        }
      ]
    },
    {
      "cell_type": "markdown",
      "source": [
        "### `\\w`: word"
      ],
      "metadata": {
        "id": "EU4ARaVlY4n4"
      }
    },
    {
      "cell_type": "code",
      "source": [
        "re.findall(r'User\\w', \"The winners are: UserN, User8, Userm, Usermn, User_, User*\")"
      ],
      "metadata": {
        "colab": {
          "base_uri": "https://localhost:8080/"
        },
        "id": "9GbReJT1Y9V1",
        "outputId": "010a983d-3296-4fc9-f833-a00e3b3e7349"
      },
      "execution_count": 8,
      "outputs": [
        {
          "output_type": "execute_result",
          "data": {
            "text/plain": [
              "['UserN', 'User8', 'Userm', 'Userm', 'User_']"
            ]
          },
          "metadata": {},
          "execution_count": 8
        }
      ]
    },
    {
      "cell_type": "markdown",
      "source": [
        "### `\\W`: non-word"
      ],
      "metadata": {
        "id": "yeYdUmN-Z-0n"
      }
    },
    {
      "cell_type": "code",
      "source": [
        "re.findall(r'\\W\\d', 'This skirt is on sale, only $59.99 today')"
      ],
      "metadata": {
        "colab": {
          "base_uri": "https://localhost:8080/"
        },
        "id": "HF3370NQaBaT",
        "outputId": "2283692a-43fc-4469-dc56-1bda7a619525"
      },
      "execution_count": 9,
      "outputs": [
        {
          "output_type": "execute_result",
          "data": {
            "text/plain": [
              "['$5', '.9']"
            ]
          },
          "metadata": {},
          "execution_count": 9
        }
      ]
    },
    {
      "cell_type": "markdown",
      "source": [
        "### `\\s`: whitespace"
      ],
      "metadata": {
        "id": "t5U6fPeUand6"
      }
    },
    {
      "cell_type": "code",
      "source": [
        "re.findall(r'Data\\sScience', \n",
        "           'I like Data Science and Data  Science and Data\\nScience and Data\\fScience, Data\\n\\nScience')"
      ],
      "metadata": {
        "colab": {
          "base_uri": "https://localhost:8080/"
        },
        "id": "LYn63vLqamKk",
        "outputId": "85d16ec7-df77-4572-d33e-7fa46ebaf9bb"
      },
      "execution_count": 10,
      "outputs": [
        {
          "output_type": "execute_result",
          "data": {
            "text/plain": [
              "['Data Science', 'Data\\nScience', 'Data\\x0cScience']"
            ]
          },
          "metadata": {},
          "execution_count": 10
        }
      ]
    },
    {
      "cell_type": "code",
      "source": [
        "re.findall(r'\\dData\\s\\sScience', \n",
        "           'I like 1Data Science and 2Data  Science and 3Data\\nScience and 4Data\\fScience')"
      ],
      "metadata": {
        "colab": {
          "base_uri": "https://localhost:8080/"
        },
        "id": "PMMFwxkfbW4R",
        "outputId": "81edd000-41b8-471d-e4ce-179a9cc0949d"
      },
      "execution_count": 11,
      "outputs": [
        {
          "output_type": "execute_result",
          "data": {
            "text/plain": [
              "['2Data  Science']"
            ]
          },
          "metadata": {},
          "execution_count": 11
        }
      ]
    },
    {
      "cell_type": "code",
      "source": [
        "re.findall(r'\\dData\\s{2}Science', '1Data\\nScience 2Data\\n\\nScience')"
      ],
      "metadata": {
        "colab": {
          "base_uri": "https://localhost:8080/"
        },
        "id": "wX53gLHAdga6",
        "outputId": "38baead5-6464-46da-bdab-b0d28884eb26"
      },
      "execution_count": 12,
      "outputs": [
        {
          "output_type": "execute_result",
          "data": {
            "text/plain": [
              "['2Data\\n\\nScience']"
            ]
          },
          "metadata": {},
          "execution_count": 12
        }
      ]
    },
    {
      "cell_type": "code",
      "source": [
        "re.findall(r'\\dData\\s{2,4}Science', \n",
        "           '1Data\\nScience 2Data\\n\\nScience 3Data\\n\\n\\t\\nScience 4Data\\n\\n\\t\\t\\tScience')"
      ],
      "metadata": {
        "colab": {
          "base_uri": "https://localhost:8080/"
        },
        "id": "R0A0xUm6dsST",
        "outputId": "5a5e504e-2e26-4595-a46c-556e75edf251"
      },
      "execution_count": 13,
      "outputs": [
        {
          "output_type": "execute_result",
          "data": {
            "text/plain": [
              "['2Data\\n\\nScience', '3Data\\n\\n\\t\\nScience']"
            ]
          },
          "metadata": {},
          "execution_count": 13
        }
      ]
    },
    {
      "cell_type": "markdown",
      "source": [
        "### `\\S`: non-whitespace"
      ],
      "metadata": {
        "id": "_TsdffrXeMx4"
      }
    },
    {
      "cell_type": "code",
      "source": [
        "re.sub(r'ice\\Scream', 'ice cream', '1.ice-cream, 2.ice*cream, 3.ice**cream, 4.icecream, 5.ice\\tcream')"
      ],
      "metadata": {
        "colab": {
          "base_uri": "https://localhost:8080/",
          "height": 35
        },
        "id": "kt0jn-IUeRMi",
        "outputId": "640db3d9-e558-484b-ca0b-7dea7b236416"
      },
      "execution_count": 14,
      "outputs": [
        {
          "output_type": "execute_result",
          "data": {
            "text/plain": [
              "'1.ice cream, 2.ice cream, 3.ice**cream, 4.icecream, 5.ice\\tcream'"
            ],
            "application/vnd.google.colaboratory.intrinsic+json": {
              "type": "string"
            }
          },
          "metadata": {},
          "execution_count": 14
        }
      ]
    },
    {
      "cell_type": "markdown",
      "source": [
        "## Repeated characters"
      ],
      "metadata": {
        "id": "AKWaP_8rm22Y"
      }
    },
    {
      "cell_type": "markdown",
      "source": [
        "A passwords should contain 8 characters followed by 4 numbers: `password1234`"
      ],
      "metadata": {
        "id": "UFa1brPSnDYz"
      }
    },
    {
      "cell_type": "code",
      "source": [
        "password = 'passw ord1234'\n",
        "\n",
        "re.search(r'\\w\\w\\w\\w\\w\\w\\w\\w\\d\\d\\d\\d', password)"
      ],
      "metadata": {
        "id": "DA0zRG2znLoZ"
      },
      "execution_count": 15,
      "outputs": []
    },
    {
      "cell_type": "code",
      "source": [
        "password = 'password4237'\n",
        "\n",
        "re.search(r'\\w\\w\\w\\w\\w\\w\\w\\w\\d\\d\\d\\d', password)"
      ],
      "metadata": {
        "colab": {
          "base_uri": "https://localhost:8080/"
        },
        "id": "oyc7dug4onOc",
        "outputId": "df3083a6-c2e1-4ced-f719-d3868fe55e14"
      },
      "execution_count": 16,
      "outputs": [
        {
          "output_type": "execute_result",
          "data": {
            "text/plain": [
              "<re.Match object; span=(0, 12), match='password4237'>"
            ]
          },
          "metadata": {},
          "execution_count": 16
        }
      ]
    },
    {
      "cell_type": "markdown",
      "source": [
        "### Quantifiers\n",
        "\n",
        "- Quantifiers apply to ONLY the character immediately to the left"
      ],
      "metadata": {
        "id": "JQYkJK61rZL4"
      }
    },
    {
      "cell_type": "markdown",
      "source": [
        "#### `{n}` : n times"
      ],
      "metadata": {
        "id": "cUpWMtw3tkDT"
      }
    },
    {
      "cell_type": "code",
      "source": [
        "re.search(r'\\w{8}\\d{4}', password)"
      ],
      "metadata": {
        "colab": {
          "base_uri": "https://localhost:8080/"
        },
        "id": "pONRr-tOpM-9",
        "outputId": "21fcde91-e0f0-4c14-bbe5-c53664060308"
      },
      "execution_count": 17,
      "outputs": [
        {
          "output_type": "execute_result",
          "data": {
            "text/plain": [
              "<re.Match object; span=(0, 12), match='password4237'>"
            ]
          },
          "metadata": {},
          "execution_count": 17
        }
      ]
    },
    {
      "cell_type": "markdown",
      "source": [
        "#### `+` : one or more times"
      ],
      "metadata": {
        "id": "vGBfkeU9sp0v"
      }
    },
    {
      "cell_type": "code",
      "source": [
        "text = 'Date of start: 4-3. Date of registration: 10-04 and some garbage: 111-2378'\n",
        "\n",
        "re.findall(r'\\d+-\\d+', text)"
      ],
      "metadata": {
        "colab": {
          "base_uri": "https://localhost:8080/"
        },
        "id": "ENMeuvR4rreG",
        "outputId": "947bffa2-860e-4e9c-ce49-58c02c8bcdef"
      },
      "execution_count": 18,
      "outputs": [
        {
          "output_type": "execute_result",
          "data": {
            "text/plain": [
              "['4-3', '10-04', '111-2378']"
            ]
          },
          "metadata": {},
          "execution_count": 18
        }
      ]
    },
    {
      "cell_type": "markdown",
      "source": [
        "#### `*` : zero or more times"
      ],
      "metadata": {
        "id": "iSEpR6W7uILd"
      }
    },
    {
      "cell_type": "code",
      "source": [
        "my_string = 'The concert was amazing! @ameli!a @joh&&n @mary90 @carlos'\n",
        "\n",
        "regex = r'@\\w+\\W*\\w+'\n",
        "\n",
        "re.findall(regex, my_string)"
      ],
      "metadata": {
        "colab": {
          "base_uri": "https://localhost:8080/"
        },
        "id": "U7Fp2WzzumBS",
        "outputId": "2fcfcab8-0105-4fb8-9ddf-8be41228a9bd"
      },
      "execution_count": 19,
      "outputs": [
        {
          "output_type": "execute_result",
          "data": {
            "text/plain": [
              "['@ameli!a', '@joh&&n', '@mary90 @carlos']"
            ]
          },
          "metadata": {},
          "execution_count": 19
        }
      ]
    },
    {
      "cell_type": "markdown",
      "source": [
        "#### `?` : zero or once"
      ],
      "metadata": {
        "id": "pzi6DVfavfuL"
      }
    },
    {
      "cell_type": "code",
      "source": [
        "text = 'The color of this image is amazing. However, the colour blue could be brighter'\n",
        "\n",
        "regex = r'colou?r'\n",
        "\n",
        "re.findall(regex, text)"
      ],
      "metadata": {
        "colab": {
          "base_uri": "https://localhost:8080/"
        },
        "id": "_o-UIZKyvpAo",
        "outputId": "a4e90722-62be-4c9a-ece5-e882c85bb9e8"
      },
      "execution_count": 20,
      "outputs": [
        {
          "output_type": "execute_result",
          "data": {
            "text/plain": [
              "['color', 'colour']"
            ]
          },
          "metadata": {},
          "execution_count": 20
        }
      ]
    },
    {
      "cell_type": "markdown",
      "source": [
        "#### `{n,m}` : at least n times, at most m times"
      ],
      "metadata": {
        "id": "MDEqNrxAypC9"
      }
    },
    {
      "cell_type": "code",
      "source": [
        "phone_number = 'John: 1-966-847-3131 Michelle: 54-908-42-42424988'\n",
        "\n",
        "regex = r'\\d{1,2}-\\d{3}-\\d{2,3}-\\d{4,}'\n",
        "\n",
        "re.findall(regex, phone_number)"
      ],
      "metadata": {
        "colab": {
          "base_uri": "https://localhost:8080/"
        },
        "id": "ONQU0lcJy2JP",
        "outputId": "9c387222-f673-4618-dc16-244cc2e7ad93"
      },
      "execution_count": 21,
      "outputs": [
        {
          "output_type": "execute_result",
          "data": {
            "text/plain": [
              "['1-966-847-3131', '54-908-42-42424988']"
            ]
          },
          "metadata": {},
          "execution_count": 21
        }
      ]
    },
    {
      "cell_type": "markdown",
      "source": [
        "## Two options for matching: `re.search` and `re.match`\n",
        "\n",
        "- `re.search(r'regex', string)`\n",
        "- `re.match(r'regex', string)`\n",
        "    - **anchored** at the beginning of the string"
      ],
      "metadata": {
        "id": "_usZx-4aC8vd"
      }
    },
    {
      "cell_type": "code",
      "source": [
        "[re.search(r'\\d{4}', '4506 people attend the show'), \n",
        " re.search(r'\\d+', 'Yesterday I saw 3 shows')]"
      ],
      "metadata": {
        "colab": {
          "base_uri": "https://localhost:8080/"
        },
        "id": "TFAF3hQqDmqc",
        "outputId": "dbc3ff52-fc12-4e16-e748-37ac5f794980"
      },
      "execution_count": 22,
      "outputs": [
        {
          "output_type": "execute_result",
          "data": {
            "text/plain": [
              "[<re.Match object; span=(0, 4), match='4506'>,\n",
              " <re.Match object; span=(16, 17), match='3'>]"
            ]
          },
          "metadata": {},
          "execution_count": 22
        }
      ]
    },
    {
      "cell_type": "code",
      "source": [
        "[re.match(r'\\d{4}', '4506 people attend the show'), \n",
        " re.match(r'\\d+', 'Yesterday I saw 3 shows')]"
      ],
      "metadata": {
        "colab": {
          "base_uri": "https://localhost:8080/"
        },
        "id": "y_ktLuZFDxHO",
        "outputId": "42315cac-c9e0-40d5-c1e9-56a9175aa408"
      },
      "execution_count": 23,
      "outputs": [
        {
          "output_type": "execute_result",
          "data": {
            "text/plain": [
              "[<re.Match object; span=(0, 4), match='4506'>, None]"
            ]
          },
          "metadata": {},
          "execution_count": 23
        }
      ]
    },
    {
      "cell_type": "markdown",
      "source": [
        "## Special characters"
      ],
      "metadata": {
        "id": "MpJBO6DMREnB"
      }
    },
    {
      "cell_type": "markdown",
      "source": [
        "### The `.` metacharacter\n",
        "\n",
        "- matches any character except newline"
      ],
      "metadata": {
        "id": "KJUqOfnaJ4qm"
      }
    },
    {
      "cell_type": "code",
      "source": [
        "my_links = 'Just check out this link: www.amazingpics.com. It has amazing photos!'\n",
        "\n",
        "re.findall(r'www\\..+\\.com', my_links)"
      ],
      "metadata": {
        "colab": {
          "base_uri": "https://localhost:8080/"
        },
        "id": "50XuJ6j4J8ol",
        "outputId": "7f7f1aef-c8fd-412f-f489-d1b185dfe9d6"
      },
      "execution_count": 24,
      "outputs": [
        {
          "output_type": "execute_result",
          "data": {
            "text/plain": [
              "['www.amazingpics.com']"
            ]
          },
          "metadata": {},
          "execution_count": 24
        }
      ]
    },
    {
      "cell_type": "markdown",
      "source": [
        "### The `^` metacharacter\n",
        "\n",
        "- anchors the **regex** to the start of the string"
      ],
      "metadata": {
        "id": "1LYDYb90PBni"
      }
    },
    {
      "cell_type": "code",
      "source": [
        "my_string = 'the 80s music was much better than the 90s'\n",
        "\n",
        "re.findall(r'the\\s\\d+s', my_string)"
      ],
      "metadata": {
        "colab": {
          "base_uri": "https://localhost:8080/"
        },
        "id": "IkBsNodmPhrB",
        "outputId": "3d080f4e-c7ec-48f8-d769-f5df89cd0993"
      },
      "execution_count": 25,
      "outputs": [
        {
          "output_type": "execute_result",
          "data": {
            "text/plain": [
              "['the 80s', 'the 90s']"
            ]
          },
          "metadata": {},
          "execution_count": 25
        }
      ]
    },
    {
      "cell_type": "code",
      "source": [
        "re.findall(r'^the\\s\\d+s', my_string)"
      ],
      "metadata": {
        "colab": {
          "base_uri": "https://localhost:8080/"
        },
        "id": "zBam_Y9PQB5u",
        "outputId": "227795eb-99f6-4e82-9c3d-62908ae5abec"
      },
      "execution_count": 26,
      "outputs": [
        {
          "output_type": "execute_result",
          "data": {
            "text/plain": [
              "['the 80s']"
            ]
          },
          "metadata": {},
          "execution_count": 26
        }
      ]
    },
    {
      "cell_type": "markdown",
      "source": [
        "### The `$` metacharacter\n",
        "\n",
        "- anchors the **regex** to the end of the string"
      ],
      "metadata": {
        "id": "3hz4YWxhSPAo"
      }
    },
    {
      "cell_type": "code",
      "source": [
        "re.findall(r'the\\s\\d+s$', my_string)"
      ],
      "metadata": {
        "colab": {
          "base_uri": "https://localhost:8080/"
        },
        "id": "-eIhvnCsSdO0",
        "outputId": "91fc5d8c-09a9-42a2-e903-b153016f0172"
      },
      "execution_count": 27,
      "outputs": [
        {
          "output_type": "execute_result",
          "data": {
            "text/plain": [
              "['the 90s']"
            ]
          },
          "metadata": {},
          "execution_count": 27
        }
      ]
    },
    {
      "cell_type": "markdown",
      "source": [
        "### `\\` escape"
      ],
      "metadata": {
        "id": "OHBp8-iPTGHW"
      }
    },
    {
      "cell_type": "code",
      "source": [
        "my_string = 'I love the music of Mr.Go. However, the sound was too loud.'\n",
        "\n",
        "print(re.split(r'.\\s', my_string))"
      ],
      "metadata": {
        "colab": {
          "base_uri": "https://localhost:8080/"
        },
        "id": "FKNGOWkVTM7v",
        "outputId": "c1b39e8e-82a1-49f7-f2a6-0370aace1318"
      },
      "execution_count": 28,
      "outputs": [
        {
          "output_type": "stream",
          "name": "stdout",
          "text": [
            "['', 'lov', 'th', 'musi', 'o', 'Mr.Go', 'However', 'th', 'soun', 'wa', 'to', 'loud.']\n"
          ]
        }
      ]
    },
    {
      "cell_type": "code",
      "source": [
        "print(re.split(r'\\.\\s', my_string))"
      ],
      "metadata": {
        "colab": {
          "base_uri": "https://localhost:8080/"
        },
        "id": "nnKWMzqET2kP",
        "outputId": "c92f4903-5ccd-4d3a-86bd-00bee995427f"
      },
      "execution_count": 29,
      "outputs": [
        {
          "output_type": "stream",
          "name": "stdout",
          "text": [
            "['I love the music of Mr.Go', 'However, the sound was too loud.']\n"
          ]
        }
      ]
    },
    {
      "cell_type": "markdown",
      "source": [
        "### The `|` metacharacter: OR"
      ],
      "metadata": {
        "id": "oJ2dWc_RUcbO"
      }
    },
    {
      "cell_type": "code",
      "source": [
        "my_string = \"Elephants are the world's largest land animal! I would love to see an elephant one day.\"\n",
        "\n",
        "re.findall(r'Elephant|elephant', my_string)"
      ],
      "metadata": {
        "colab": {
          "base_uri": "https://localhost:8080/"
        },
        "id": "_ATAMBQJUh3T",
        "outputId": "89b894a8-8c87-490c-a4e3-ca87a3807789"
      },
      "execution_count": 30,
      "outputs": [
        {
          "output_type": "execute_result",
          "data": {
            "text/plain": [
              "['Elephant', 'elephant']"
            ]
          },
          "metadata": {},
          "execution_count": 30
        }
      ]
    },
    {
      "cell_type": "markdown",
      "source": [
        "### Set of characters `[ ]`"
      ],
      "metadata": {
        "id": "agr_286pXJWG"
      }
    },
    {
      "cell_type": "code",
      "source": [
        "re.findall(r'[Ee]lephant', my_string)"
      ],
      "metadata": {
        "colab": {
          "base_uri": "https://localhost:8080/"
        },
        "id": "n01oY6XCW7rG",
        "outputId": "83b34778-a67e-477b-f607-52c43ae1349c"
      },
      "execution_count": 31,
      "outputs": [
        {
          "output_type": "execute_result",
          "data": {
            "text/plain": [
              "['Elephant', 'elephant']"
            ]
          },
          "metadata": {},
          "execution_count": 31
        }
      ]
    },
    {
      "cell_type": "code",
      "source": [
        "my_string = 'Yesterday I spent my afternoon with my friends: MaryJohn2 Clary3'\n",
        "\n",
        "re.findall(r'[a-zA-Z]+\\d', my_string)"
      ],
      "metadata": {
        "colab": {
          "base_uri": "https://localhost:8080/"
        },
        "id": "iC5kp095XPbz",
        "outputId": "e99f05ee-291a-4bac-bf4f-9c9cef56138f"
      },
      "execution_count": 32,
      "outputs": [
        {
          "output_type": "execute_result",
          "data": {
            "text/plain": [
              "['MaryJohn2', 'Clary3']"
            ]
          },
          "metadata": {},
          "execution_count": 32
        }
      ]
    },
    {
      "cell_type": "code",
      "source": [
        "my_string = 'My&names&is#John Smith. I%live$in#London.'\n",
        "\n",
        "re.sub(r'[&#%$]', ' ', my_string)"
      ],
      "metadata": {
        "colab": {
          "base_uri": "https://localhost:8080/",
          "height": 35
        },
        "id": "dNX00tBlYwAr",
        "outputId": "1d2d34c5-4a51-4fa5-e3c8-7f9a733383b6"
      },
      "execution_count": 33,
      "outputs": [
        {
          "output_type": "execute_result",
          "data": {
            "text/plain": [
              "'My names is John Smith. I live in London.'"
            ],
            "application/vnd.google.colaboratory.intrinsic+json": {
              "type": "string"
            }
          },
          "metadata": {},
          "execution_count": 33
        }
      ]
    },
    {
      "cell_type": "markdown",
      "source": [
        "#### `^` when used inside `[ ]`\n",
        "\n",
        "- transforms the expression to negative"
      ],
      "metadata": {
        "id": "gbGmvppdbWK4"
      }
    },
    {
      "cell_type": "code",
      "source": [
        "my_links = 'Bad website: www.99.com. Favorite site: www.hola.com'\n",
        "\n",
        "re.findall(r'www[^0-9]+com', my_links)"
      ],
      "metadata": {
        "colab": {
          "base_uri": "https://localhost:8080/"
        },
        "id": "ObRq8_RQbngh",
        "outputId": "4bb3637b-bb72-4616-b909-aa78b236163f"
      },
      "execution_count": 34,
      "outputs": [
        {
          "output_type": "execute_result",
          "data": {
            "text/plain": [
              "['www.hola.com']"
            ]
          },
          "metadata": {},
          "execution_count": 34
        }
      ]
    }
  ]
}