{
  "nbformat": 4,
  "nbformat_minor": 0,
  "metadata": {
    "colab": {
      "provenance": [],
      "toc_visible": true,
      "authorship_tag": "ABX9TyMDn9piOBNPUxJ1yeHw1R1k",
      "include_colab_link": true
    },
    "kernelspec": {
      "name": "python3",
      "display_name": "Python 3"
    },
    "language_info": {
      "name": "python"
    }
  },
  "cells": [
    {
      "cell_type": "markdown",
      "metadata": {
        "id": "view-in-github",
        "colab_type": "text"
      },
      "source": [
        "<a href=\"https://colab.research.google.com/github/PaulToronto/Math-and-Data-Science-Reference/blob/main/Regular_Expressions_with_Python.ipynb\" target=\"_parent\"><img src=\"https://colab.research.google.com/assets/colab-badge.svg\" alt=\"Open In Colab\"/></a>"
      ]
    },
    {
      "cell_type": "markdown",
      "source": [
        "# Regular Expressions with Python\n",
        "\n",
        "https://www.w3schools.com/python/python_regex.asp"
      ],
      "metadata": {
        "id": "xPmfU4OgmZSy"
      }
    },
    {
      "cell_type": "code",
      "source": [
        "import re"
      ],
      "metadata": {
        "id": "PuLUQwRgGWe2"
      },
      "execution_count": 1,
      "outputs": []
    },
    {
      "cell_type": "markdown",
      "source": [
        "## What is a regular expression?\n",
        "\n",
        "REGular EXpression or regex:\n",
        "\n",
        "String containing a combination of normal characters and special metacharacters that describes patterns to find text or positions within a text"
      ],
      "metadata": {
        "id": "1l2J_xz7_pM4"
      }
    },
    {
      "cell_type": "markdown",
      "source": [
        "Example: `r'st\\d\\s\\w{3,10}'`\n",
        "\n",
        "- the `r` at the beginning indicates a raw string\n",
        "    - it is always advisable to use it\n",
        "- the **normal** characters match themselves\n",
        "    - in this example, `st` exactly matches an `s` followed by a `t`\n",
        "- the **metacharacter**, `\\`, signals a sequence of **special** characters. It can also be used to escape special characters.\n",
        "    - `\\d` matches a digit: `0-9`\n",
        "    - `\\s` matches white space: `space, tab, \\r, \\n, \\t, form feed character`\n",
        "    - `\\w` a word character: `a-z, A-Z, 0-9, _`\n",
        "- the **metacharacter**, `{}`, means *exactly the specified number of occurrences*\n",
        "    - `{3,10}` means the character immediately to the left, in this case `\\w` should appear between 3 and 10 times"
      ],
      "metadata": {
        "id": "uIZ4Gd88ADHa"
      }
    },
    {
      "cell_type": "markdown",
      "source": [
        "## Find all matches of a pattern: `re.findall(r'regex', string)`"
      ],
      "metadata": {
        "id": "vgpd5bh_AS4m"
      }
    },
    {
      "cell_type": "code",
      "source": [
        "re.findall(r\"#movies\", \"Love #movies! I had fun yesterday going to the #movies\")"
      ],
      "metadata": {
        "colab": {
          "base_uri": "https://localhost:8080/"
        },
        "id": "-0K9P3YPOlQR",
        "outputId": "732ef1a2-2fad-423d-a50c-7a85b599b75e"
      },
      "execution_count": 2,
      "outputs": [
        {
          "output_type": "execute_result",
          "data": {
            "text/plain": [
              "['#movies', '#movies']"
            ]
          },
          "metadata": {},
          "execution_count": 2
        }
      ]
    },
    {
      "cell_type": "markdown",
      "source": [
        "## Split string at each match: `re.split(r'regex', string)`"
      ],
      "metadata": {
        "id": "wKhh4VhUARii"
      }
    },
    {
      "cell_type": "code",
      "source": [
        "re.split(r'!', 'Nice place to eat! I\\'ll come back! Excellent meat!')"
      ],
      "metadata": {
        "colab": {
          "base_uri": "https://localhost:8080/"
        },
        "id": "YLpH4Lx5SLFA",
        "outputId": "277e91ff-7c21-45ac-95d7-066f8733e045"
      },
      "execution_count": 3,
      "outputs": [
        {
          "output_type": "execute_result",
          "data": {
            "text/plain": [
              "['Nice place to eat', \" I'll come back\", ' Excellent meat', '']"
            ]
          },
          "metadata": {},
          "execution_count": 3
        }
      ]
    },
    {
      "cell_type": "markdown",
      "source": [
        "## Replace one or many matches with a string: `re.sub(r'regex', new, string)`"
      ],
      "metadata": {
        "id": "miPUG6yjWeoH"
      }
    },
    {
      "cell_type": "code",
      "source": [
        "re.sub(r\"yellow\", \"nice\", \"I have a yellow car and a yellow house in a yellow neighbourhood\")"
      ],
      "metadata": {
        "colab": {
          "base_uri": "https://localhost:8080/",
          "height": 35
        },
        "id": "z-4GVuzNWnV-",
        "outputId": "7d947662-82cc-4b56-fb67-7dc2c5a846d4"
      },
      "execution_count": 4,
      "outputs": [
        {
          "output_type": "execute_result",
          "data": {
            "text/plain": [
              "'I have a nice car and a nice house in a nice neighbourhood'"
            ],
            "application/vnd.google.colaboratory.intrinsic+json": {
              "type": "string"
            }
          },
          "metadata": {},
          "execution_count": 4
        }
      ]
    },
    {
      "cell_type": "markdown",
      "source": [
        "## Suported metacharacters"
      ],
      "metadata": {
        "id": "L65B7l2MXDU3"
      }
    },
    {
      "cell_type": "markdown",
      "source": [
        "### `\\d`: digit"
      ],
      "metadata": {
        "id": "0rWCb4pxYCIn"
      }
    },
    {
      "cell_type": "code",
      "source": [
        "re.findall(r'User\\d', \"The winners are: User9, UserN, User8, User09\")"
      ],
      "metadata": {
        "colab": {
          "base_uri": "https://localhost:8080/"
        },
        "id": "rn-LqEI2XGGB",
        "outputId": "794390b3-985a-4571-fcc5-d9ddbc51d292"
      },
      "execution_count": 5,
      "outputs": [
        {
          "output_type": "execute_result",
          "data": {
            "text/plain": [
              "['User9', 'User8', 'User0']"
            ]
          },
          "metadata": {},
          "execution_count": 5
        }
      ]
    },
    {
      "cell_type": "markdown",
      "source": [
        "### `\\D`: non-digit"
      ],
      "metadata": {
        "id": "OhI13ebVYXGp"
      }
    },
    {
      "cell_type": "code",
      "source": [
        "re.findall(r'User\\D', \"The winners are: UserN, User8, Userm, Usermn, User_, User*\")"
      ],
      "metadata": {
        "colab": {
          "base_uri": "https://localhost:8080/"
        },
        "id": "aGvYJ7oOYZPd",
        "outputId": "b547163f-8aad-42d3-f87f-ba4482060675"
      },
      "execution_count": 6,
      "outputs": [
        {
          "output_type": "execute_result",
          "data": {
            "text/plain": [
              "['UserN', 'Userm', 'Userm', 'User_', 'User*']"
            ]
          },
          "metadata": {},
          "execution_count": 6
        }
      ]
    },
    {
      "cell_type": "markdown",
      "source": [
        "### `\\w`: word"
      ],
      "metadata": {
        "id": "EU4ARaVlY4n4"
      }
    },
    {
      "cell_type": "code",
      "source": [
        "re.findall(r'User\\w', \"The winners are: UserN, User8, Userm, Usermn, User_, User*\")"
      ],
      "metadata": {
        "colab": {
          "base_uri": "https://localhost:8080/"
        },
        "id": "9GbReJT1Y9V1",
        "outputId": "997aee5d-6fed-4845-eace-b6e429691499"
      },
      "execution_count": 7,
      "outputs": [
        {
          "output_type": "execute_result",
          "data": {
            "text/plain": [
              "['UserN', 'User8', 'Userm', 'Userm', 'User_']"
            ]
          },
          "metadata": {},
          "execution_count": 7
        }
      ]
    },
    {
      "cell_type": "markdown",
      "source": [
        "### `\\W`: non-word"
      ],
      "metadata": {
        "id": "yeYdUmN-Z-0n"
      }
    },
    {
      "cell_type": "code",
      "source": [
        "re.findall(r'\\W\\d', 'This skirt is on sale, only $59.99 today')"
      ],
      "metadata": {
        "colab": {
          "base_uri": "https://localhost:8080/"
        },
        "id": "HF3370NQaBaT",
        "outputId": "eba8fa51-f694-4408-b8aa-0f1bfe1b5acf"
      },
      "execution_count": 8,
      "outputs": [
        {
          "output_type": "execute_result",
          "data": {
            "text/plain": [
              "['$5', '.9']"
            ]
          },
          "metadata": {},
          "execution_count": 8
        }
      ]
    },
    {
      "cell_type": "markdown",
      "source": [
        "### `\\s`: whitespace"
      ],
      "metadata": {
        "id": "t5U6fPeUand6"
      }
    },
    {
      "cell_type": "code",
      "source": [
        "re.findall(r'Data\\sScience', 'I like Data Science and Data  Science and Data\\nScience and Data\\fScience')"
      ],
      "metadata": {
        "colab": {
          "base_uri": "https://localhost:8080/"
        },
        "id": "LYn63vLqamKk",
        "outputId": "49116cc3-139e-4616-9f18-5d8be70f91ac"
      },
      "execution_count": 9,
      "outputs": [
        {
          "output_type": "execute_result",
          "data": {
            "text/plain": [
              "['Data Science', 'Data\\nScience', 'Data\\x0cScience']"
            ]
          },
          "metadata": {},
          "execution_count": 9
        }
      ]
    },
    {
      "cell_type": "code",
      "source": [
        "re.findall(r'Data\\s\\sScience', 'I like Data Science and Data  Science and Data\\nScience and Data\\fScience')"
      ],
      "metadata": {
        "colab": {
          "base_uri": "https://localhost:8080/"
        },
        "id": "PMMFwxkfbW4R",
        "outputId": "5b88e5d9-4033-4825-ac44-3acab9174e28"
      },
      "execution_count": 10,
      "outputs": [
        {
          "output_type": "execute_result",
          "data": {
            "text/plain": [
              "['Data  Science']"
            ]
          },
          "metadata": {},
          "execution_count": 10
        }
      ]
    },
    {
      "cell_type": "code",
      "source": [
        "re.findall(r'Data\\s{2}Science', 'Data\\nScience Data\\n\\nScience')"
      ],
      "metadata": {
        "colab": {
          "base_uri": "https://localhost:8080/"
        },
        "id": "wX53gLHAdga6",
        "outputId": "3a55cd1f-e42a-42f0-d903-f91f5d52ac38"
      },
      "execution_count": 11,
      "outputs": [
        {
          "output_type": "execute_result",
          "data": {
            "text/plain": [
              "['Data\\n\\nScience']"
            ]
          },
          "metadata": {},
          "execution_count": 11
        }
      ]
    },
    {
      "cell_type": "code",
      "source": [
        "re.findall(r'Data\\s{2,4}Science', 'Data\\nScience Data\\n\\nScience Data\\n\\n\\tScience Data\\n\\n\\t\\t\\tScience')"
      ],
      "metadata": {
        "colab": {
          "base_uri": "https://localhost:8080/"
        },
        "id": "R0A0xUm6dsST",
        "outputId": "67493f15-2127-4fae-c451-2344b48e2d01"
      },
      "execution_count": 12,
      "outputs": [
        {
          "output_type": "execute_result",
          "data": {
            "text/plain": [
              "['Data\\n\\nScience', 'Data\\n\\n\\tScience']"
            ]
          },
          "metadata": {},
          "execution_count": 12
        }
      ]
    },
    {
      "cell_type": "markdown",
      "source": [
        "### `\\S`: non-whitespace"
      ],
      "metadata": {
        "id": "_TsdffrXeMx4"
      }
    },
    {
      "cell_type": "code",
      "source": [
        "re.sub(r'ice\\Scream', 'ice cream', '1.ice-cream, 2.ice*cream, 3.ice**cream, 4.icecream, 5.ice\\tcream')"
      ],
      "metadata": {
        "colab": {
          "base_uri": "https://localhost:8080/",
          "height": 35
        },
        "id": "kt0jn-IUeRMi",
        "outputId": "c755ce7a-9bc6-482d-81f8-a5bcbc4468f4"
      },
      "execution_count": 13,
      "outputs": [
        {
          "output_type": "execute_result",
          "data": {
            "text/plain": [
              "'1.ice cream, 2.ice cream, 3.ice**cream, 4.icecream, 5.ice\\tcream'"
            ],
            "application/vnd.google.colaboratory.intrinsic+json": {
              "type": "string"
            }
          },
          "metadata": {},
          "execution_count": 13
        }
      ]
    },
    {
      "cell_type": "code",
      "source": [],
      "metadata": {
        "id": "4dSWbSi3e8gv"
      },
      "execution_count": 13,
      "outputs": []
    }
  ]
}