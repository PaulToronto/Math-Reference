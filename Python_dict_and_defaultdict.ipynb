{
  "nbformat": 4,
  "nbformat_minor": 0,
  "metadata": {
    "colab": {
      "provenance": [],
      "toc_visible": true,
      "authorship_tag": "ABX9TyM3HnSyf6L3QefEGCI2Q6GF",
      "include_colab_link": true
    },
    "kernelspec": {
      "name": "python3",
      "display_name": "Python 3"
    },
    "language_info": {
      "name": "python"
    }
  },
  "cells": [
    {
      "cell_type": "markdown",
      "metadata": {
        "id": "view-in-github",
        "colab_type": "text"
      },
      "source": [
        "<a href=\"https://colab.research.google.com/github/PaulToronto/Math-and-Data-Science-Reference/blob/main/Python_dict_and_defaultdict.ipynb\" target=\"_parent\"><img src=\"https://colab.research.google.com/assets/colab-badge.svg\" alt=\"Open In Colab\"/></a>"
      ]
    },
    {
      "cell_type": "markdown",
      "source": [
        "# Python - `dict` and `defaultdict`\n",
        "\n",
        "Notes from: https://realpython.com/python-defaultdict/#handling-missing-keys-in-dictionaries"
      ],
      "metadata": {
        "id": "UuXf6kCLgNRQ"
      }
    },
    {
      "cell_type": "markdown",
      "source": [
        "## `dict`"
      ],
      "metadata": {
        "id": "-FUCovNFg0V8"
      }
    },
    {
      "cell_type": "markdown",
      "source": [
        "### Defining a `dict`"
      ],
      "metadata": {
        "id": "9lZM9oOdg32i"
      }
    },
    {
      "cell_type": "markdown",
      "source": [
        "#### With key:value pairs"
      ],
      "metadata": {
        "id": "Bi0bQ8OshX_o"
      }
    },
    {
      "cell_type": "code",
      "execution_count": 1,
      "metadata": {
        "id": "Uq2Yhuc0gILT"
      },
      "outputs": [],
      "source": [
        "MLB_team = {\n",
        "    'Colorado' : 'Rockies',\n",
        "    'Boston'   : 'Red Sox',\n",
        "    'Minnesota': 'Twins',\n",
        "    'Milwaukee': 'Brewers',\n",
        "    'Seattle'  : 'Mariners'\n",
        "}"
      ]
    },
    {
      "cell_type": "markdown",
      "source": [
        "#### With a constructor"
      ],
      "metadata": {
        "id": "CGwJAuSziaji"
      }
    },
    {
      "cell_type": "code",
      "source": [
        "MLB_team = dict([\n",
        "    ('Colorado', 'Rockies'),\n",
        "    ('Boston', 'Red Sox'),\n",
        "    ('Minnesota', 'Twins'),\n",
        "    ('Milwaukee', 'Brewers'),\n",
        "    ('Seattle', 'Mariners')\n",
        "])"
      ],
      "metadata": {
        "id": "UOUkgU8-iiLD"
      },
      "execution_count": 2,
      "outputs": []
    },
    {
      "cell_type": "markdown",
      "source": [
        "### Accessing `dict` values"
      ],
      "metadata": {
        "id": "CmwQqyQAiKDI"
      }
    },
    {
      "cell_type": "code",
      "source": [
        "MLB_team['Minnesota']"
      ],
      "metadata": {
        "colab": {
          "base_uri": "https://localhost:8080/",
          "height": 35
        },
        "id": "OSjq0tGviEZg",
        "outputId": "d1637c6c-0fee-4359-b387-01dcff4d82bb"
      },
      "execution_count": 3,
      "outputs": [
        {
          "output_type": "execute_result",
          "data": {
            "text/plain": [
              "'Twins'"
            ],
            "application/vnd.google.colaboratory.intrinsic+json": {
              "type": "string"
            }
          },
          "metadata": {},
          "execution_count": 3
        }
      ]
    },
    {
      "cell_type": "markdown",
      "source": [
        "```python\n",
        "# raises a KeyErrer exception\n",
        "MLB_team['Toronto']\n",
        "```"
      ],
      "metadata": {
        "id": "fuD75EdRi_-E"
      }
    },
    {
      "cell_type": "markdown",
      "source": [
        "### Adding and updating an entry"
      ],
      "metadata": {
        "id": "MI_5KmV4jXQM"
      }
    },
    {
      "cell_type": "code",
      "source": [
        "MLB_team['Toronto'] = 'Blue'\n",
        "\n",
        "MLB_team"
      ],
      "metadata": {
        "colab": {
          "base_uri": "https://localhost:8080/"
        },
        "id": "aeI8MvpXja0P",
        "outputId": "84edd64e-7662-4279-d6ab-95e412562527"
      },
      "execution_count": 4,
      "outputs": [
        {
          "output_type": "execute_result",
          "data": {
            "text/plain": [
              "{'Colorado': 'Rockies',\n",
              " 'Boston': 'Red Sox',\n",
              " 'Minnesota': 'Twins',\n",
              " 'Milwaukee': 'Brewers',\n",
              " 'Seattle': 'Mariners',\n",
              " 'Toronto': 'Blue'}"
            ]
          },
          "metadata": {},
          "execution_count": 4
        }
      ]
    },
    {
      "cell_type": "code",
      "source": [
        "MLB_team['Toronto'] = 'Blue Jays'\n",
        "\n",
        "MLB_team"
      ],
      "metadata": {
        "colab": {
          "base_uri": "https://localhost:8080/"
        },
        "id": "R5SaR-GNkaAN",
        "outputId": "84e17473-97d7-413b-dd55-7035b8914965"
      },
      "execution_count": 5,
      "outputs": [
        {
          "output_type": "execute_result",
          "data": {
            "text/plain": [
              "{'Colorado': 'Rockies',\n",
              " 'Boston': 'Red Sox',\n",
              " 'Minnesota': 'Twins',\n",
              " 'Milwaukee': 'Brewers',\n",
              " 'Seattle': 'Mariners',\n",
              " 'Toronto': 'Blue Jays'}"
            ]
          },
          "metadata": {},
          "execution_count": 5
        }
      ]
    },
    {
      "cell_type": "markdown",
      "source": [
        "### Deleting an entry\n",
        "\n",
        "```\n",
        "# This is formatted as code\n",
        "```\n",
        "\n"
      ],
      "metadata": {
        "id": "05sBC-xNkrRw"
      }
    },
    {
      "cell_type": "code",
      "source": [
        "del MLB_team['Toronto']\n",
        "\n",
        "MLB_team"
      ],
      "metadata": {
        "colab": {
          "base_uri": "https://localhost:8080/"
        },
        "id": "Yp6QeQ3Skneb",
        "outputId": "9a859c29-da89-433b-9ca8-f1eaa3082fac"
      },
      "execution_count": 6,
      "outputs": [
        {
          "output_type": "execute_result",
          "data": {
            "text/plain": [
              "{'Colorado': 'Rockies',\n",
              " 'Boston': 'Red Sox',\n",
              " 'Minnesota': 'Twins',\n",
              " 'Milwaukee': 'Brewers',\n",
              " 'Seattle': 'Mariners'}"
            ]
          },
          "metadata": {},
          "execution_count": 6
        }
      ]
    },
    {
      "cell_type": "markdown",
      "source": [
        "### Operators and Built-in Functions"
      ],
      "metadata": {
        "id": "3M5vDFHrnUYu"
      }
    },
    {
      "cell_type": "code",
      "source": [
        "'Milwaukee' in MLB_team, 'Toronto' in MLB_team, 'Toronto' not in MLB_team"
      ],
      "metadata": {
        "colab": {
          "base_uri": "https://localhost:8080/"
        },
        "id": "FJABN1fynbxg",
        "outputId": "f42e3cf8-d289-4d0d-a973-923b707dd605"
      },
      "execution_count": 7,
      "outputs": [
        {
          "output_type": "execute_result",
          "data": {
            "text/plain": [
              "(True, False, True)"
            ]
          },
          "metadata": {},
          "execution_count": 7
        }
      ]
    },
    {
      "cell_type": "code",
      "source": [
        "len(MLB_team)"
      ],
      "metadata": {
        "colab": {
          "base_uri": "https://localhost:8080/"
        },
        "id": "EDw7sZx8oHeC",
        "outputId": "b3d4020e-0418-4036-88cd-a6d4c66b1227"
      },
      "execution_count": 8,
      "outputs": [
        {
          "output_type": "execute_result",
          "data": {
            "text/plain": [
              "5"
            ]
          },
          "metadata": {},
          "execution_count": 8
        }
      ]
    },
    {
      "cell_type": "markdown",
      "source": [
        "#### Using short-curcuit evalution to avoid raising an error"
      ],
      "metadata": {
        "id": "8ot7bPjbntzK"
      }
    },
    {
      "cell_type": "code",
      "source": [
        "'Toronto' in MLB_team and MLB_team['Toronto']"
      ],
      "metadata": {
        "colab": {
          "base_uri": "https://localhost:8080/"
        },
        "id": "TTxAiZ4An0bq",
        "outputId": "b56626a0-f88f-4242-d3de-70f01395605e"
      },
      "execution_count": 9,
      "outputs": [
        {
          "output_type": "execute_result",
          "data": {
            "text/plain": [
              "False"
            ]
          },
          "metadata": {},
          "execution_count": 9
        }
      ]
    },
    {
      "cell_type": "markdown",
      "source": [
        "### Built-in Methods"
      ],
      "metadata": {
        "id": "AMEoodBhmyFF"
      }
    },
    {
      "cell_type": "markdown",
      "source": [
        "#### `d.clear()`"
      ],
      "metadata": {
        "id": "rWllt_mDm5iJ"
      }
    },
    {
      "cell_type": "code",
      "source": [
        "d = {'a': 10, 'b': 20, 'c': 30}\n",
        "d"
      ],
      "metadata": {
        "colab": {
          "base_uri": "https://localhost:8080/"
        },
        "id": "uYNJj7unnCgs",
        "outputId": "f3b557a0-f0be-4d4c-e9bb-560ab979a3d2"
      },
      "execution_count": 10,
      "outputs": [
        {
          "output_type": "execute_result",
          "data": {
            "text/plain": [
              "{'a': 10, 'b': 20, 'c': 30}"
            ]
          },
          "metadata": {},
          "execution_count": 10
        }
      ]
    },
    {
      "cell_type": "code",
      "source": [
        "d.clear()\n",
        "d"
      ],
      "metadata": {
        "colab": {
          "base_uri": "https://localhost:8080/"
        },
        "id": "jcQ7GxuUnHO0",
        "outputId": "422952d2-e19f-44e6-888c-4d8c4e2b1f89"
      },
      "execution_count": 11,
      "outputs": [
        {
          "output_type": "execute_result",
          "data": {
            "text/plain": [
              "{}"
            ]
          },
          "metadata": {},
          "execution_count": 11
        }
      ]
    },
    {
      "cell_type": "markdown",
      "source": [
        "#### `d.get(<key>[, <default>])`"
      ],
      "metadata": {
        "id": "sZiTUPSJnfp0"
      }
    },
    {
      "cell_type": "code",
      "source": [
        "d = {'a': 10, 'b': 20, 'c': 30}\n",
        "d"
      ],
      "metadata": {
        "colab": {
          "base_uri": "https://localhost:8080/"
        },
        "id": "6C7MeiyinnOI",
        "outputId": "c59220f9-05ea-402f-a1d4-4c3da5330de2"
      },
      "execution_count": 12,
      "outputs": [
        {
          "output_type": "execute_result",
          "data": {
            "text/plain": [
              "{'a': 10, 'b': 20, 'c': 30}"
            ]
          },
          "metadata": {},
          "execution_count": 12
        }
      ]
    },
    {
      "cell_type": "code",
      "source": [
        "d.get('b')"
      ],
      "metadata": {
        "colab": {
          "base_uri": "https://localhost:8080/"
        },
        "id": "TkyNw07dntcE",
        "outputId": "59f77a48-2149-4723-f92d-be90d52645ca"
      },
      "execution_count": 13,
      "outputs": [
        {
          "output_type": "execute_result",
          "data": {
            "text/plain": [
              "20"
            ]
          },
          "metadata": {},
          "execution_count": 13
        }
      ]
    },
    {
      "cell_type": "code",
      "source": [
        "d.get('z')"
      ],
      "metadata": {
        "id": "i0PkOYPHnwTn"
      },
      "execution_count": 14,
      "outputs": []
    },
    {
      "cell_type": "code",
      "source": [
        "d.get('z', -1)"
      ],
      "metadata": {
        "colab": {
          "base_uri": "https://localhost:8080/"
        },
        "id": "W5e6Q022oAAU",
        "outputId": "6d1f3259-6b81-469e-e506-1f145792f480"
      },
      "execution_count": 15,
      "outputs": [
        {
          "output_type": "execute_result",
          "data": {
            "text/plain": [
              "-1"
            ]
          },
          "metadata": {},
          "execution_count": 15
        }
      ]
    },
    {
      "cell_type": "markdown",
      "source": [
        "#### `d.items()`, `d.keys()`, and `d.values()`"
      ],
      "metadata": {
        "id": "j_To5HW3oGg6"
      }
    },
    {
      "cell_type": "code",
      "source": [
        "d.items()"
      ],
      "metadata": {
        "colab": {
          "base_uri": "https://localhost:8080/"
        },
        "id": "lf23v_aEoI8h",
        "outputId": "b2d1034a-fba2-4487-d583-274694cca84c"
      },
      "execution_count": 16,
      "outputs": [
        {
          "output_type": "execute_result",
          "data": {
            "text/plain": [
              "dict_items([('a', 10), ('b', 20), ('c', 30)])"
            ]
          },
          "metadata": {},
          "execution_count": 16
        }
      ]
    },
    {
      "cell_type": "code",
      "source": [
        "for k, v in d.items():\n",
        "    print(k, v)"
      ],
      "metadata": {
        "colab": {
          "base_uri": "https://localhost:8080/"
        },
        "id": "7Vs63dbCoi2Q",
        "outputId": "c7e53167-291d-4ea4-955f-4bb0ae315af3"
      },
      "execution_count": 17,
      "outputs": [
        {
          "output_type": "stream",
          "name": "stdout",
          "text": [
            "a 10\n",
            "b 20\n",
            "c 30\n"
          ]
        }
      ]
    },
    {
      "cell_type": "code",
      "source": [
        "d.keys()"
      ],
      "metadata": {
        "colab": {
          "base_uri": "https://localhost:8080/"
        },
        "id": "oXMfPZqeoXlA",
        "outputId": "dee34954-78dd-4181-cf05-4a78f4aae2ac"
      },
      "execution_count": 18,
      "outputs": [
        {
          "output_type": "execute_result",
          "data": {
            "text/plain": [
              "dict_keys(['a', 'b', 'c'])"
            ]
          },
          "metadata": {},
          "execution_count": 18
        }
      ]
    },
    {
      "cell_type": "code",
      "source": [
        "for v in d.values():\n",
        "    print(v)"
      ],
      "metadata": {
        "colab": {
          "base_uri": "https://localhost:8080/"
        },
        "id": "lfOX1FP_ocLx",
        "outputId": "3bb06980-69a8-4050-8315-d7d01d866962"
      },
      "execution_count": 19,
      "outputs": [
        {
          "output_type": "stream",
          "name": "stdout",
          "text": [
            "10\n",
            "20\n",
            "30\n"
          ]
        }
      ]
    },
    {
      "cell_type": "markdown",
      "source": [
        "#### `d.pop(<key>[, <default>])`"
      ],
      "metadata": {
        "id": "jmdY8Si6pbba"
      }
    },
    {
      "cell_type": "code",
      "source": [
        "d"
      ],
      "metadata": {
        "colab": {
          "base_uri": "https://localhost:8080/"
        },
        "id": "BLa9gCt-pglw",
        "outputId": "9042af32-6a13-42cb-c9d7-ecff901d24fc"
      },
      "execution_count": 20,
      "outputs": [
        {
          "output_type": "execute_result",
          "data": {
            "text/plain": [
              "{'a': 10, 'b': 20, 'c': 30}"
            ]
          },
          "metadata": {},
          "execution_count": 20
        }
      ]
    },
    {
      "cell_type": "code",
      "source": [
        "d.pop('b')"
      ],
      "metadata": {
        "colab": {
          "base_uri": "https://localhost:8080/"
        },
        "id": "B1l_Z-trpitq",
        "outputId": "b7d1bbb0-15c4-4eba-cd4a-4bffd9bd1a08"
      },
      "execution_count": 21,
      "outputs": [
        {
          "output_type": "execute_result",
          "data": {
            "text/plain": [
              "20"
            ]
          },
          "metadata": {},
          "execution_count": 21
        }
      ]
    },
    {
      "cell_type": "code",
      "source": [
        "d"
      ],
      "metadata": {
        "colab": {
          "base_uri": "https://localhost:8080/"
        },
        "id": "IWw1u7OPppo2",
        "outputId": "a2595a67-de3c-4cbe-ab2a-d071087f43c8"
      },
      "execution_count": 22,
      "outputs": [
        {
          "output_type": "execute_result",
          "data": {
            "text/plain": [
              "{'a': 10, 'c': 30}"
            ]
          },
          "metadata": {},
          "execution_count": 22
        }
      ]
    },
    {
      "cell_type": "code",
      "source": [
        "d.pop('z', -1)"
      ],
      "metadata": {
        "colab": {
          "base_uri": "https://localhost:8080/"
        },
        "id": "NrMcXUjbpryb",
        "outputId": "a4a2968f-43b0-4b9e-cdb8-eb00707e4732"
      },
      "execution_count": 23,
      "outputs": [
        {
          "output_type": "execute_result",
          "data": {
            "text/plain": [
              "-1"
            ]
          },
          "metadata": {},
          "execution_count": 23
        }
      ]
    },
    {
      "cell_type": "code",
      "source": [
        "d"
      ],
      "metadata": {
        "colab": {
          "base_uri": "https://localhost:8080/"
        },
        "id": "T16knU7bpwqk",
        "outputId": "dc6528a3-02ae-44de-deef-b9ad52d71b92"
      },
      "execution_count": 24,
      "outputs": [
        {
          "output_type": "execute_result",
          "data": {
            "text/plain": [
              "{'a': 10, 'c': 30}"
            ]
          },
          "metadata": {},
          "execution_count": 24
        }
      ]
    },
    {
      "cell_type": "markdown",
      "source": [
        "#### `d.popitem()`"
      ],
      "metadata": {
        "id": "OLvHDG0Kp09j"
      }
    },
    {
      "cell_type": "code",
      "source": [
        "d = {'a': 10, 'b': 20, 'c': 30}"
      ],
      "metadata": {
        "id": "g8sbTG6Lp5X-"
      },
      "execution_count": 25,
      "outputs": []
    },
    {
      "cell_type": "code",
      "source": [
        "d.popitem()"
      ],
      "metadata": {
        "colab": {
          "base_uri": "https://localhost:8080/"
        },
        "id": "uOVOoGa8qcMN",
        "outputId": "043ebd16-363f-42ae-f1f0-c9de6a47e5e4"
      },
      "execution_count": 26,
      "outputs": [
        {
          "output_type": "execute_result",
          "data": {
            "text/plain": [
              "('c', 30)"
            ]
          },
          "metadata": {},
          "execution_count": 26
        }
      ]
    },
    {
      "cell_type": "code",
      "source": [
        "d"
      ],
      "metadata": {
        "colab": {
          "base_uri": "https://localhost:8080/"
        },
        "id": "gtF71jBDqfuG",
        "outputId": "2b0be8bf-b737-4233-cfaf-50b533e81c3d"
      },
      "execution_count": 27,
      "outputs": [
        {
          "output_type": "execute_result",
          "data": {
            "text/plain": [
              "{'a': 10, 'b': 20}"
            ]
          },
          "metadata": {},
          "execution_count": 27
        }
      ]
    },
    {
      "cell_type": "markdown",
      "source": [
        "```python\n",
        "# raise a KeyError except\n",
        "d = {}\n",
        "d.popitem()\n",
        "````"
      ],
      "metadata": {
        "id": "uve5EJCGq6IJ"
      }
    },
    {
      "cell_type": "markdown",
      "source": [
        "#### `d.update(<obj>)`"
      ],
      "metadata": {
        "id": "L51tw5IdrKNU"
      }
    },
    {
      "cell_type": "code",
      "source": [
        "d1 = {'a': 10, 'b': 20, 'c': 30}\n",
        "d2 = {'b': 200, 'd': 400}\n",
        "\n",
        "# notice what happens to `b`\n",
        "d1.update(d2)\n",
        "\n",
        "# happens in place\n",
        "d1"
      ],
      "metadata": {
        "colab": {
          "base_uri": "https://localhost:8080/"
        },
        "id": "OcLiF1Voqyur",
        "outputId": "bf56bee6-1cf5-4744-89e4-c1f8226491c6"
      },
      "execution_count": 28,
      "outputs": [
        {
          "output_type": "execute_result",
          "data": {
            "text/plain": [
              "{'a': 10, 'b': 200, 'c': 30, 'd': 400}"
            ]
          },
          "metadata": {},
          "execution_count": 28
        }
      ]
    },
    {
      "cell_type": "code",
      "source": [
        "d1 = {'a': 10, 'b': 20, 'c': 30}\n",
        "d2 = {'b': 200, 'd': 400}\n",
        "\n",
        "# notice what happens to `b`\n",
        "new_dict = d1.update(d2)\n",
        "\n",
        "# happens in place\n",
        "d1"
      ],
      "metadata": {
        "colab": {
          "base_uri": "https://localhost:8080/"
        },
        "id": "sB5jHaJzrixw",
        "outputId": "539da675-95f9-447e-cafc-b23b79447444"
      },
      "execution_count": 29,
      "outputs": [
        {
          "output_type": "execute_result",
          "data": {
            "text/plain": [
              "{'a': 10, 'b': 200, 'c': 30, 'd': 400}"
            ]
          },
          "metadata": {},
          "execution_count": 29
        }
      ]
    },
    {
      "cell_type": "code",
      "source": [
        "# update returns None\n",
        "new_dict, type(new_dict)"
      ],
      "metadata": {
        "colab": {
          "base_uri": "https://localhost:8080/"
        },
        "id": "Rg8bG-P0r66l",
        "outputId": "69ea2548-e197-4376-e386-38ec5357ac4a"
      },
      "execution_count": 30,
      "outputs": [
        {
          "output_type": "execute_result",
          "data": {
            "text/plain": [
              "(None, NoneType)"
            ]
          },
          "metadata": {},
          "execution_count": 30
        }
      ]
    },
    {
      "cell_type": "code",
      "source": [
        "# `<obj>` can alse a be sequence of key-value pair\n",
        "d1 = {'a': 10, 'b': 20, 'c': 30}\n",
        "d1.update([('b', 2000), ('d', 4000)])\n",
        "d1"
      ],
      "metadata": {
        "colab": {
          "base_uri": "https://localhost:8080/"
        },
        "id": "OSWr6-WcsMtv",
        "outputId": "7b0b5e61-1694-47d0-f35b-239549143f18"
      },
      "execution_count": 31,
      "outputs": [
        {
          "output_type": "execute_result",
          "data": {
            "text/plain": [
              "{'a': 10, 'b': 2000, 'c': 30, 'd': 4000}"
            ]
          },
          "metadata": {},
          "execution_count": 31
        }
      ]
    },
    {
      "cell_type": "code",
      "source": [
        "# `<obj>` can alse be a list of keyward arguments\n",
        "d1 = {'a': 10, 'b': 20, 'c': 30}\n",
        "d1.update(b = 20000, d = 40000)\n",
        "d1"
      ],
      "metadata": {
        "colab": {
          "base_uri": "https://localhost:8080/"
        },
        "id": "ClFa7v8AszKa",
        "outputId": "055de1b5-d2f2-44e6-accf-b4acb2720e5b"
      },
      "execution_count": 32,
      "outputs": [
        {
          "output_type": "execute_result",
          "data": {
            "text/plain": [
              "{'a': 10, 'b': 20000, 'c': 30, 'd': 40000}"
            ]
          },
          "metadata": {},
          "execution_count": 32
        }
      ]
    },
    {
      "cell_type": "markdown",
      "source": [
        "### Handling Missing Keys in `dict`\n",
        "\n",
        "#### For ways:\n",
        "\n",
        "1. `.setdefault()`\n",
        "2. `.get()`\n",
        "3. Use `key in a_dict` idiom\n",
        "4. `try ... except` block"
      ],
      "metadata": {
        "id": "WqfgK08EtTTV"
      }
    },
    {
      "cell_type": "markdown",
      "source": [
        "#### `.setdefault()`"
      ],
      "metadata": {
        "id": "s62rZDNmtWP3"
      }
    },
    {
      "cell_type": "code",
      "source": [
        "a_dict = {}\n",
        "\n",
        "# a_dict['missing_key'] ## KeyError\n",
        "\n",
        "a_dict.setdefault('missing_key', 'default value')\n",
        "a_dict['missing_key']"
      ],
      "metadata": {
        "colab": {
          "base_uri": "https://localhost:8080/",
          "height": 35
        },
        "id": "XHWrLWXAvS-O",
        "outputId": "ca29f655-33e0-4d91-b11c-4bf4e84e0f21"
      },
      "execution_count": 33,
      "outputs": [
        {
          "output_type": "execute_result",
          "data": {
            "text/plain": [
              "'default value'"
            ],
            "application/vnd.google.colaboratory.intrinsic+json": {
              "type": "string"
            }
          },
          "metadata": {},
          "execution_count": 33
        }
      ]
    },
    {
      "cell_type": "markdown",
      "source": [
        "```python\n",
        "# doesn't work, only works for 'missing_key'\n",
        "a_dict['another_missing_key'] # KeyError\n",
        "```"
      ],
      "metadata": {
        "id": "HMmj0I2Nv-ZT"
      }
    },
    {
      "cell_type": "code",
      "source": [
        "# not3 that an entry was added\n",
        "a_dict"
      ],
      "metadata": {
        "colab": {
          "base_uri": "https://localhost:8080/"
        },
        "id": "HM_ii6QgwaN2",
        "outputId": "edc08a21-2636-4be9-a6dc-c797bd696cb6"
      },
      "execution_count": 34,
      "outputs": [
        {
          "output_type": "execute_result",
          "data": {
            "text/plain": [
              "{'missing_key': 'default value'}"
            ]
          },
          "metadata": {},
          "execution_count": 34
        }
      ]
    },
    {
      "cell_type": "markdown",
      "source": [
        "#### `.get()`"
      ],
      "metadata": {
        "id": "iW3w9MUcw_Uu"
      }
    },
    {
      "cell_type": "code",
      "source": [
        "a_dict = {}\n",
        "\n",
        "print(type(a_dict.get('a')))\n",
        "print(a_dict.get('a', 'can provide a default here'))"
      ],
      "metadata": {
        "colab": {
          "base_uri": "https://localhost:8080/"
        },
        "id": "kTVHtw8mw-eK",
        "outputId": "4682782e-924e-4583-9741-ae68ebe5c122"
      },
      "execution_count": 35,
      "outputs": [
        {
          "output_type": "stream",
          "name": "stdout",
          "text": [
            "<class 'NoneType'>\n",
            "can provide a default here\n"
          ]
        }
      ]
    },
    {
      "cell_type": "markdown",
      "source": [
        "#### Use `key in a_dict` idiom"
      ],
      "metadata": {
        "id": "PP3H9ggsxv7k"
      }
    },
    {
      "cell_type": "code",
      "source": [
        "a_dict = {}\n",
        "\n",
        "if 'key' in a_dict:\n",
        "    print(a_dict['key'])\n",
        "else:\n",
        "    a_dict['key'] = 'missing'\n",
        "    print(a_dict['key'])"
      ],
      "metadata": {
        "colab": {
          "base_uri": "https://localhost:8080/"
        },
        "id": "kP3XmDsqxNM3",
        "outputId": "9eeb891d-cbdf-413d-97e5-ea41dd1c362d"
      },
      "execution_count": 36,
      "outputs": [
        {
          "output_type": "stream",
          "name": "stdout",
          "text": [
            "missing\n"
          ]
        }
      ]
    },
    {
      "cell_type": "markdown",
      "source": [
        "#### `try ... except` block"
      ],
      "metadata": {
        "id": "-V5JGERowDxc"
      }
    },
    {
      "cell_type": "code",
      "source": [
        "a_dict = {}\n",
        "\n",
        "try:\n",
        "    print(a_dict['key'])\n",
        "except KeyError:\n",
        "    print(\"error\")"
      ],
      "metadata": {
        "colab": {
          "base_uri": "https://localhost:8080/"
        },
        "id": "xdm8k5HIysBc",
        "outputId": "bc2f4949-0763-411b-eeae-9951e0f6d627"
      },
      "execution_count": 37,
      "outputs": [
        {
          "output_type": "stream",
          "name": "stdout",
          "text": [
            "error\n"
          ]
        }
      ]
    },
    {
      "cell_type": "markdown",
      "source": [
        "## `defaultdict`\n",
        "\n",
        "Does two things that a `dict` does not:\n",
        "\n",
        "1. It overrides `.__missing__()`\n",
        "2. It adds `.default_factory`, a writable instance variable that needs to be provided at the time of instantiation\n",
        "    - must be a \"callable\" or `None`"
      ],
      "metadata": {
        "id": "0IWxx8Dp0EUs"
      }
    },
    {
      "cell_type": "code",
      "source": [
        "from collections import defaultdict\n",
        "\n",
        "issubclass(defaultdict, dict)"
      ],
      "metadata": {
        "colab": {
          "base_uri": "https://localhost:8080/"
        },
        "id": "mFfbDWIC054i",
        "outputId": "5e9578b5-36d0-41d7-de32-fe02f22b95a5"
      },
      "execution_count": 38,
      "outputs": [
        {
          "output_type": "execute_result",
          "data": {
            "text/plain": [
              "True"
            ]
          },
          "metadata": {},
          "execution_count": 38
        }
      ]
    },
    {
      "cell_type": "markdown",
      "source": [
        "### Example: using `list` as `.default_factory` "
      ],
      "metadata": {
        "id": "XlQHGbf_0shH"
      }
    },
    {
      "cell_type": "code",
      "source": [
        "def_dict = defaultdict(list)\n",
        "\n",
        "def_dict\n",
        "def_dict['one'] = 1 # add an item\n",
        "def_dict['two'] # this adds an item with an empty list as the value\n",
        "def_dict['three'].append(4) # this adds an item with list as the value and appends a 4\n",
        "\n",
        "def_dict"
      ],
      "metadata": {
        "colab": {
          "base_uri": "https://localhost:8080/"
        },
        "id": "jbceExRD0GcG",
        "outputId": "b08f5346-cbe4-4b33-b491-6f335695524f"
      },
      "execution_count": 39,
      "outputs": [
        {
          "output_type": "execute_result",
          "data": {
            "text/plain": [
              "defaultdict(list, {'one': 1, 'two': [], 'three': [4]})"
            ]
          },
          "metadata": {},
          "execution_count": 39
        }
      ]
    },
    {
      "cell_type": "code",
      "source": [
        "def_dict['one'], def_dict['tww'], def_dict['three']"
      ],
      "metadata": {
        "colab": {
          "base_uri": "https://localhost:8080/"
        },
        "id": "z26fz5Vq2PiV",
        "outputId": "8edacaa0-9406-4e10-c487-2ba39b20ffb3"
      },
      "execution_count": 40,
      "outputs": [
        {
          "output_type": "execute_result",
          "data": {
            "text/plain": [
              "(1, [], [4])"
            ]
          },
          "metadata": {},
          "execution_count": 40
        }
      ]
    },
    {
      "cell_type": "markdown",
      "source": [
        "### Grouping with `defaultdict`"
      ],
      "metadata": {
        "id": "ExAxhTME5ZuR"
      }
    },
    {
      "cell_type": "code",
      "source": [
        "dd = defaultdict(list)\n",
        "\n",
        "dd['a'].append(1)\n",
        "dd['a'].append(2)\n",
        "dd['a'].append(3)\n",
        "\n",
        "dd"
      ],
      "metadata": {
        "colab": {
          "base_uri": "https://localhost:8080/"
        },
        "id": "nxLF2W7r5dOW",
        "outputId": "dd68280c-cde1-4e5a-9f4d-1a72d1a15941"
      },
      "execution_count": 41,
      "outputs": [
        {
          "output_type": "execute_result",
          "data": {
            "text/plain": [
              "defaultdict(list, {'a': [1, 2, 3]})"
            ]
          },
          "metadata": {},
          "execution_count": 41
        }
      ]
    },
    {
      "cell_type": "code",
      "source": [
        "dep = [('Sales', 'John Doe'),\n",
        "       ('Sales', 'Martin Smith'),\n",
        "       ('Accounting', 'Jane Doe'),\n",
        "       ('Marketing', 'Elizabeth Smith'),\n",
        "       ('Marketing', 'Adam Doe')]\n",
        "\n",
        "dep"
      ],
      "metadata": {
        "colab": {
          "base_uri": "https://localhost:8080/"
        },
        "id": "gpVuvCL56XSc",
        "outputId": "306e7512-e809-446c-beef-5183deca5c7d"
      },
      "execution_count": 42,
      "outputs": [
        {
          "output_type": "execute_result",
          "data": {
            "text/plain": [
              "[('Sales', 'John Doe'),\n",
              " ('Sales', 'Martin Smith'),\n",
              " ('Accounting', 'Jane Doe'),\n",
              " ('Marketing', 'Elizabeth Smith'),\n",
              " ('Marketing', 'Adam Doe')]"
            ]
          },
          "metadata": {},
          "execution_count": 42
        }
      ]
    },
    {
      "cell_type": "code",
      "source": [
        "dep_dd = defaultdict(list)\n",
        "\n",
        "for department, employee in dep:\n",
        "    dep_dd[department].append(employee)\n",
        "\n",
        "dep_dd"
      ],
      "metadata": {
        "colab": {
          "base_uri": "https://localhost:8080/"
        },
        "id": "y8PETzii6fPB",
        "outputId": "ddff5a3e-07c6-4b77-f5cd-d6a65059981a"
      },
      "execution_count": 43,
      "outputs": [
        {
          "output_type": "execute_result",
          "data": {
            "text/plain": [
              "defaultdict(list,\n",
              "            {'Sales': ['John Doe', 'Martin Smith'],\n",
              "             'Accounting': ['Jane Doe'],\n",
              "             'Marketing': ['Elizabeth Smith', 'Adam Doe']})"
            ]
          },
          "metadata": {},
          "execution_count": 43
        }
      ]
    },
    {
      "cell_type": "code",
      "source": [
        "# can also be done with a `dict`\n",
        "dep_d = dict()\n",
        "for department, employee in dep:\n",
        "    dep_d.setdefault(department, []).append(employee)\n",
        "\n",
        "dep_d"
      ],
      "metadata": {
        "colab": {
          "base_uri": "https://localhost:8080/"
        },
        "id": "OPUgI-lO7ULv",
        "outputId": "0336ac59-8525-4eda-91a3-884f2f228451"
      },
      "execution_count": 44,
      "outputs": [
        {
          "output_type": "execute_result",
          "data": {
            "text/plain": [
              "{'Sales': ['John Doe', 'Martin Smith'],\n",
              " 'Accounting': ['Jane Doe'],\n",
              " 'Marketing': ['Elizabeth Smith', 'Adam Doe']}"
            ]
          },
          "metadata": {},
          "execution_count": 44
        }
      ]
    },
    {
      "cell_type": "markdown",
      "source": [
        "### Grouping Unique Items: using `set` as `.default_factory` "
      ],
      "metadata": {
        "id": "Ej18UVW08HF8"
      }
    },
    {
      "cell_type": "code",
      "source": [
        "dep = [('Sales', 'John Doe'),\n",
        "       ('Sales', 'Martin Smith'),\n",
        "       ('Accounting', 'Jane Doe'),\n",
        "       ('Marketing', 'Elizabeth Smith'),\n",
        "       ('Marketing', 'Elizabeth Smith'),\n",
        "       ('Marketing', 'Adam Doe'),\n",
        "       ('Marketing', 'Adam Doe'),\n",
        "       ('Marketing', 'Adam Doe')]\n",
        "\n",
        "dep_dd = defaultdict(set)\n",
        "\n",
        "for department, employee in dep:\n",
        "    dep_dd[department].add(employee)\n",
        "\n",
        "dep_dd"
      ],
      "metadata": {
        "colab": {
          "base_uri": "https://localhost:8080/"
        },
        "id": "Xm97Hfii8Jze",
        "outputId": "3a6a6ae1-0232-410f-ae18-194591f9b53d"
      },
      "execution_count": 45,
      "outputs": [
        {
          "output_type": "execute_result",
          "data": {
            "text/plain": [
              "defaultdict(set,\n",
              "            {'Sales': {'John Doe', 'Martin Smith'},\n",
              "             'Accounting': {'Jane Doe'},\n",
              "             'Marketing': {'Adam Doe', 'Elizabeth Smith'}})"
            ]
          },
          "metadata": {},
          "execution_count": 45
        }
      ]
    },
    {
      "cell_type": "markdown",
      "source": [
        "### Counting Items:  using `int` as `.default_factory` "
      ],
      "metadata": {
        "id": "VvxqIGQL8-Mg"
      }
    },
    {
      "cell_type": "code",
      "source": [
        "a_dd = defaultdict(int)\n",
        "\n",
        "a_dd['test'] # this will be 0\n",
        "\n",
        "a_dd "
      ],
      "metadata": {
        "colab": {
          "base_uri": "https://localhost:8080/"
        },
        "id": "9exBL42B-DVp",
        "outputId": "543bc297-3517-4ed2-a732-b2ebd043086c"
      },
      "execution_count": 46,
      "outputs": [
        {
          "output_type": "execute_result",
          "data": {
            "text/plain": [
              "defaultdict(int, {'test': 0})"
            ]
          },
          "metadata": {},
          "execution_count": 46
        }
      ]
    },
    {
      "cell_type": "code",
      "source": [
        "dep = [('Sales', 'John Doe'),\n",
        "       ('Sales', 'Martin Smith'),\n",
        "       ('Accounting', 'Jane Doe'),\n",
        "       ('Marketing', 'Elizabeth Smith'),\n",
        "       ('Marketing', 'Adam Doe')]\n",
        "\n",
        "dd = defaultdict(int)\n",
        "\n",
        "for department, _ in dep:\n",
        "    dd[department] += 1\n",
        "\n",
        "dd"
      ],
      "metadata": {
        "colab": {
          "base_uri": "https://localhost:8080/"
        },
        "id": "l95w76zk9IXh",
        "outputId": "1d19c596-ac23-413c-c344-aeb614d05bad"
      },
      "execution_count": 47,
      "outputs": [
        {
          "output_type": "execute_result",
          "data": {
            "text/plain": [
              "defaultdict(int, {'Sales': 2, 'Accounting': 1, 'Marketing': 2})"
            ]
          },
          "metadata": {},
          "execution_count": 47
        }
      ]
    },
    {
      "cell_type": "code",
      "source": [
        "s = 'mississippi'\n",
        "\n",
        "dd = defaultdict(int)\n",
        "\n",
        "for letter in s:\n",
        "    dd[letter] += 1\n",
        "\n",
        "dd"
      ],
      "metadata": {
        "colab": {
          "base_uri": "https://localhost:8080/"
        },
        "id": "KJ_binFM-Yz_",
        "outputId": "d87b8d38-60f6-4840-f0fb-958028294a5c"
      },
      "execution_count": 48,
      "outputs": [
        {
          "output_type": "execute_result",
          "data": {
            "text/plain": [
              "defaultdict(int, {'m': 1, 'i': 4, 's': 4, 'p': 2})"
            ]
          },
          "metadata": {},
          "execution_count": 48
        }
      ]
    },
    {
      "cell_type": "code",
      "source": [
        "from collections import Counter\n",
        "\n",
        "s = 'mississippi'\n",
        "Counter(s)"
      ],
      "metadata": {
        "colab": {
          "base_uri": "https://localhost:8080/"
        },
        "id": "MzdDRZLz-vMa",
        "outputId": "ad029a84-a05b-4253-9669-55c909518cfb"
      },
      "execution_count": 49,
      "outputs": [
        {
          "output_type": "execute_result",
          "data": {
            "text/plain": [
              "Counter({'m': 1, 'i': 4, 's': 4, 'p': 2})"
            ]
          },
          "metadata": {},
          "execution_count": 49
        }
      ]
    },
    {
      "cell_type": "markdown",
      "source": [
        "### Accumulating Values"
      ],
      "metadata": {
        "id": "MAW6jLpy_oEZ"
      }
    },
    {
      "cell_type": "code",
      "source": [
        "incomes = [('Books', 1250.00),\n",
        "           ('Books', 1300.00),\n",
        "           ('Books', 1420.00),\n",
        "           ('Tutorials', 560.00),\n",
        "           ('Tutorials', 630.00),\n",
        "           ('Tutorials', 750.00),\n",
        "           ('Courses', 2500.00),\n",
        "           ('Courses', 2430.00),\n",
        "           ('Courses', 2750.00),]\n",
        "\n",
        "incomes"
      ],
      "metadata": {
        "colab": {
          "base_uri": "https://localhost:8080/"
        },
        "id": "GBgA-QFN_qnd",
        "outputId": "4b8b5919-f552-4cd6-8c36-7f3837e28fc7"
      },
      "execution_count": 50,
      "outputs": [
        {
          "output_type": "execute_result",
          "data": {
            "text/plain": [
              "[('Books', 1250.0),\n",
              " ('Books', 1300.0),\n",
              " ('Books', 1420.0),\n",
              " ('Tutorials', 560.0),\n",
              " ('Tutorials', 630.0),\n",
              " ('Tutorials', 750.0),\n",
              " ('Courses', 2500.0),\n",
              " ('Courses', 2430.0),\n",
              " ('Courses', 2750.0)]"
            ]
          },
          "metadata": {},
          "execution_count": 50
        }
      ]
    },
    {
      "cell_type": "code",
      "source": [
        "dd = defaultdict(float)\n",
        "\n",
        "for product, income in incomes:\n",
        "    dd[product] += income\n",
        "\n",
        "dd"
      ],
      "metadata": {
        "colab": {
          "base_uri": "https://localhost:8080/"
        },
        "id": "dJb6-kpz_0Ub",
        "outputId": "6d304f31-651c-4f93-962e-26f212b848dd"
      },
      "execution_count": 51,
      "outputs": [
        {
          "output_type": "execute_result",
          "data": {
            "text/plain": [
              "defaultdict(float, {'Books': 3970.0, 'Tutorials': 1940.0, 'Courses': 7680.0})"
            ]
          },
          "metadata": {},
          "execution_count": 51
        }
      ]
    },
    {
      "cell_type": "code",
      "source": [
        "for product, income in dd.items():\n",
        "    print(f'Total income for {product}: ${income:,.2f}')"
      ],
      "metadata": {
        "colab": {
          "base_uri": "https://localhost:8080/"
        },
        "id": "C-0JXRku_9-H",
        "outputId": "ab675bfa-ba43-4ee0-ea1b-9805074543f7"
      },
      "execution_count": 52,
      "outputs": [
        {
          "output_type": "stream",
          "name": "stdout",
          "text": [
            "Total income for Books: $3,970.00\n",
            "Total income for Tutorials: $1,940.00\n",
            "Total income for Courses: $7,680.00\n"
          ]
        }
      ]
    }
  ]
}