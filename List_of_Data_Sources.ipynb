{
  "nbformat": 4,
  "nbformat_minor": 0,
  "metadata": {
    "colab": {
      "provenance": [],
      "authorship_tag": "ABX9TyOTkKuIm0A/xHEwL3Wk/FLM",
      "include_colab_link": true
    },
    "kernelspec": {
      "name": "python3",
      "display_name": "Python 3"
    },
    "language_info": {
      "name": "python"
    }
  },
  "cells": [
    {
      "cell_type": "markdown",
      "metadata": {
        "id": "view-in-github",
        "colab_type": "text"
      },
      "source": [
        "<a href=\"https://colab.research.google.com/github/PaulToronto/Math-and-Data-Science-Reference/blob/main/List_of_Data_Sources.ipynb\" target=\"_parent\"><img src=\"https://colab.research.google.com/assets/colab-badge.svg\" alt=\"Open In Colab\"/></a>"
      ]
    },
    {
      "cell_type": "markdown",
      "source": [
        "# List of Data Sources"
      ],
      "metadata": {
        "id": "FSQ94q1CZOt4"
      }
    },
    {
      "cell_type": "markdown",
      "source": [
        "- [OpenML.org](https://www.openml.org/)\n",
        "- [Kaggle.com](https://www.kaggle.com/datasets)\n",
        "- [PapersWithCode.com](https://paperswithcode.com/datasets)\n",
        "- [UC Irvine ML Repository](https://archive.ics.uci.edu/ml/index.php)\n",
        "- [Amazon's AWS datasets](https://registry.opendata.aws/)\n",
        "- [TensorFlow datasets](https://www.tensorflow.org/datasets)\n",
        "- [DataPortals.org](https://dataportals.org/)\n",
        "- [OpenDataMonitor.eu](https://opendatamonitor.eu/frontend/web/index.php?r=dashboard%2Findex)\n",
        "- [Wikipedia's list of ML datasets](https://en.wikipedia.org/wiki/List_of_datasets_for_machine-learning_research)\n",
        "- [Quora.com](https://www.quora.com/Where-can-I-find-large-datasets-open-to-the-public)\n",
        "- [The datasets of subreddit](https://www.reddit.com/r/datasets/)"
      ],
      "metadata": {
        "id": "tvCkOuRuZVj_"
      }
    }
  ]
}