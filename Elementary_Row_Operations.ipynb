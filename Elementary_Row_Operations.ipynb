{
  "nbformat": 4,
  "nbformat_minor": 0,
  "metadata": {
    "colab": {
      "provenance": [],
      "authorship_tag": "ABX9TyMPdhhbOQ+19vylZUkIdRGN",
      "include_colab_link": true
    },
    "kernelspec": {
      "name": "python3",
      "display_name": "Python 3"
    },
    "language_info": {
      "name": "python"
    }
  },
  "cells": [
    {
      "cell_type": "markdown",
      "metadata": {
        "id": "view-in-github",
        "colab_type": "text"
      },
      "source": [
        "<a href=\"https://colab.research.google.com/github/PaulToronto/Math-and-Data-Science-Reference/blob/main/Elementary_Row_Operations.ipynb\" target=\"_parent\"><img src=\"https://colab.research.google.com/assets/colab-badge.svg\" alt=\"Open In Colab\"/></a>"
      ]
    },
    {
      "cell_type": "markdown",
      "source": [
        "# Elementary Row Operations"
      ],
      "metadata": {
        "id": "8Q6H_G55f1Qa"
      }
    },
    {
      "cell_type": "code",
      "source": [
        "import numpy as np\n",
        "import sympy as sym"
      ],
      "metadata": {
        "id": "0yJp-LTTgA68"
      },
      "execution_count": 1,
      "outputs": []
    },
    {
      "cell_type": "markdown",
      "source": [
        "## Elementary Row Operations\n",
        "\n",
        "1. Add $k$ times row $j$ to row $i$\n",
        "2. Multiply row $i$ by scalar $k$\n",
        "3. Switch rows $i$ and $j$"
      ],
      "metadata": {
        "id": "DMTaOfITfy9s"
      }
    },
    {
      "cell_type": "code",
      "source": [
        "a_11, a_12, a_13, a_14 = sym.symbols('a_{11} a_{12} a_{13} a_{14}')\n",
        "a_21, a_22, a_23, a_24 = sym.symbols('a_{21} a_{22} a_{23} a_{24}')\n",
        "a_31, a_32, a_33, a_34 = sym.symbols('a_{31} a_{32} a_{33} a_{34}')\n",
        "k = sym.symbols('k')\n",
        "vline = sym.symbols('|')\n",
        "\n",
        "M22 = sym.Matrix([[a_11, a_12],\n",
        "                  [a_21, a_22]])\n",
        "\n",
        "M23 = sym.Matrix([[a_11, a_12, a_13],\n",
        "                  [a_21, a_22, a_23]])\n",
        "\n",
        "M33 = sym.Matrix([[a_11, a_12, a_13],\n",
        "                  [a_21, a_22, a_23],\n",
        "                  [a_31, a_32, a_33]])\n",
        "\n",
        "M34 = sym.Matrix([[a_11, a_12, a_13, a_14],\n",
        "                  [a_21, a_22, a_23, a_24],\n",
        "                  [a_31, a_32, a_33, a_34]])"
      ],
      "metadata": {
        "id": "MdsBvoI__hZj"
      },
      "execution_count": 2,
      "outputs": []
    },
    {
      "cell_type": "code",
      "source": [
        "def add_row(A, k, change_row, row, display_input=False):\n",
        "    'Add k times row to change_row in matrix A'\n",
        "    i = change_row - 1\n",
        "    j = row - 1\n",
        "    n = A.shape[0]\n",
        "    E = sym.eye(n)\n",
        "    d = sym.Matrix(n, 1, [vline] * n)\n",
        "    \n",
        "    if i == j:\n",
        "        E[i, i] = k + 1\n",
        "    else:\n",
        "        E[i, j] = k\n",
        "\n",
        "    if display_input:\n",
        "        return E.row_join(d).row_join(A).row_join(d).row_join(E * A)\n",
        "    else:\n",
        "        return E * A"
      ],
      "metadata": {
        "id": "E5UJuXPF9ROE"
      },
      "execution_count": 3,
      "outputs": []
    },
    {
      "cell_type": "code",
      "source": [
        "add_row(M22, k, 2, 1, True)"
      ],
      "metadata": {
        "colab": {
          "base_uri": "https://localhost:8080/",
          "height": 58
        },
        "id": "jeMiarRo43R6",
        "outputId": "e605c5fd-55a4-435b-b473-80757631901c"
      },
      "execution_count": 4,
      "outputs": [
        {
          "output_type": "execute_result",
          "data": {
            "text/plain": [
              "Matrix([\n",
              "[1, 0, |, a_{11}, a_{12}, |,            a_{11},            a_{12}],\n",
              "[k, 1, |, a_{21}, a_{22}, |, a_{11}*k + a_{21}, a_{12}*k + a_{22}]])"
            ],
            "text/latex": "$\\displaystyle \\left[\\begin{matrix}1 & 0 & | & a_{11} & a_{12} & | & a_{11} & a_{12}\\\\k & 1 & | & a_{21} & a_{22} & | & a_{11} k + a_{21} & a_{12} k + a_{22}\\end{matrix}\\right]$"
          },
          "metadata": {},
          "execution_count": 4
        }
      ]
    },
    {
      "cell_type": "code",
      "source": [
        "add_row(M23, k, 1, 2, True)"
      ],
      "metadata": {
        "colab": {
          "base_uri": "https://localhost:8080/",
          "height": 58
        },
        "id": "0P0vRReK5PEz",
        "outputId": "9c3d63ea-8611-426b-f613-4834142c7620"
      },
      "execution_count": 5,
      "outputs": [
        {
          "output_type": "execute_result",
          "data": {
            "text/plain": [
              "Matrix([\n",
              "[1, k, |, a_{11}, a_{12}, a_{13}, |, a_{11} + a_{21}*k, a_{12} + a_{22}*k, a_{13} + a_{23}*k],\n",
              "[0, 1, |, a_{21}, a_{22}, a_{23}, |,            a_{21},            a_{22},            a_{23}]])"
            ],
            "text/latex": "$\\displaystyle \\left[\\begin{matrix}1 & k & | & a_{11} & a_{12} & a_{13} & | & a_{11} + a_{21} k & a_{12} + a_{22} k & a_{13} + a_{23} k\\\\0 & 1 & | & a_{21} & a_{22} & a_{23} & | & a_{21} & a_{22} & a_{23}\\end{matrix}\\right]$"
          },
          "metadata": {},
          "execution_count": 5
        }
      ]
    },
    {
      "cell_type": "code",
      "source": [
        "add_row(M34, k, 3, 1, True)"
      ],
      "metadata": {
        "colab": {
          "base_uri": "https://localhost:8080/",
          "height": 78
        },
        "id": "6VInWt0Z58LA",
        "outputId": "4d25ea50-b262-42f7-feb6-a9c06f0ab1d7"
      },
      "execution_count": 6,
      "outputs": [
        {
          "output_type": "execute_result",
          "data": {
            "text/plain": [
              "Matrix([\n",
              "[1, 0, 0, |, a_{11}, a_{12}, a_{13}, a_{14}, |,            a_{11},            a_{12},            a_{13},            a_{14}],\n",
              "[0, 1, 0, |, a_{21}, a_{22}, a_{23}, a_{24}, |,            a_{21},            a_{22},            a_{23},            a_{24}],\n",
              "[k, 0, 1, |, a_{31}, a_{32}, a_{33}, a_{34}, |, a_{11}*k + a_{31}, a_{12}*k + a_{32}, a_{13}*k + a_{33}, a_{14}*k + a_{34}]])"
            ],
            "text/latex": "$\\displaystyle \\left[\\begin{array}{ccccccccccccc}1 & 0 & 0 & | & a_{11} & a_{12} & a_{13} & a_{14} & | & a_{11} & a_{12} & a_{13} & a_{14}\\\\0 & 1 & 0 & | & a_{21} & a_{22} & a_{23} & a_{24} & | & a_{21} & a_{22} & a_{23} & a_{24}\\\\k & 0 & 1 & | & a_{31} & a_{32} & a_{33} & a_{34} & | & a_{11} k + a_{31} & a_{12} k + a_{32} & a_{13} k + a_{33} & a_{14} k + a_{34}\\end{array}\\right]$"
          },
          "metadata": {},
          "execution_count": 6
        }
      ]
    },
    {
      "cell_type": "code",
      "source": [
        "def scale_row(A, k, row_to_scale, display_input=False):\n",
        "    'Multiply row_to_scale by k'\n",
        "    i = row_to_scale - 1\n",
        "    n = A.shape[0]\n",
        "    E = sym.eye(n)\n",
        "    d = sym.Matrix(n, 1, [vline] * n)\n",
        "    \n",
        "    E[i, i] = k\n",
        "\n",
        "    if display_input:\n",
        "        return E.row_join(d).row_join(A).row_join(d).row_join(E * A)\n",
        "    else:\n",
        "        return E * A"
      ],
      "metadata": {
        "id": "_nCQ9nKjPXcC"
      },
      "execution_count": 7,
      "outputs": []
    },
    {
      "cell_type": "code",
      "source": [
        "scale_row(M34, k, 2, True)"
      ],
      "metadata": {
        "colab": {
          "base_uri": "https://localhost:8080/",
          "height": 78
        },
        "id": "veAS78ZL6oEF",
        "outputId": "4507308e-e9c8-4d15-abcf-8bfd2e04f475"
      },
      "execution_count": 8,
      "outputs": [
        {
          "output_type": "execute_result",
          "data": {
            "text/plain": [
              "Matrix([\n",
              "[1, 0, 0, |, a_{11}, a_{12}, a_{13}, a_{14}, |,   a_{11},   a_{12},   a_{13},   a_{14}],\n",
              "[0, k, 0, |, a_{21}, a_{22}, a_{23}, a_{24}, |, a_{21}*k, a_{22}*k, a_{23}*k, a_{24}*k],\n",
              "[0, 0, 1, |, a_{31}, a_{32}, a_{33}, a_{34}, |,   a_{31},   a_{32},   a_{33},   a_{34}]])"
            ],
            "text/latex": "$\\displaystyle \\left[\\begin{array}{ccccccccccccc}1 & 0 & 0 & | & a_{11} & a_{12} & a_{13} & a_{14} & | & a_{11} & a_{12} & a_{13} & a_{14}\\\\0 & k & 0 & | & a_{21} & a_{22} & a_{23} & a_{24} & | & a_{21} k & a_{22} k & a_{23} k & a_{24} k\\\\0 & 0 & 1 & | & a_{31} & a_{32} & a_{33} & a_{34} & | & a_{31} & a_{32} & a_{33} & a_{34}\\end{array}\\right]$"
          },
          "metadata": {},
          "execution_count": 8
        }
      ]
    },
    {
      "cell_type": "code",
      "source": [
        "def switch_rows(A, row1, row2, display_input=False):\n",
        "    \n",
        "    'Switch row1 and row2 in matrix A'\n",
        "    i = row1 - 1\n",
        "    j = row2 - 1\n",
        "    n = A.shape[0]\n",
        "    E = sym.eye(n)\n",
        "    d = sym.Matrix(n, 1, [vline] * n)\n",
        "\n",
        "    E[i, i] = 0\n",
        "    E[j, j] = 0\n",
        "    E[i, j] = 1\n",
        "    E[j, i] = 1\n",
        "\n",
        "    if display_input:\n",
        "        return E.row_join(d).row_join(A).row_join(d).row_join(E * A)\n",
        "    else:\n",
        "        return E * A"
      ],
      "metadata": {
        "id": "PnXmldv1fRfT"
      },
      "execution_count": 9,
      "outputs": []
    },
    {
      "cell_type": "code",
      "source": [
        "switch_rows(M34, 2, 3, True)"
      ],
      "metadata": {
        "colab": {
          "base_uri": "https://localhost:8080/",
          "height": 78
        },
        "id": "QPrHiIhq6xj4",
        "outputId": "af4dd761-d984-42b0-8d95-f43a311313ba"
      },
      "execution_count": 10,
      "outputs": [
        {
          "output_type": "execute_result",
          "data": {
            "text/plain": [
              "Matrix([\n",
              "[1, 0, 0, |, a_{11}, a_{12}, a_{13}, a_{14}, |, a_{11}, a_{12}, a_{13}, a_{14}],\n",
              "[0, 0, 1, |, a_{21}, a_{22}, a_{23}, a_{24}, |, a_{31}, a_{32}, a_{33}, a_{34}],\n",
              "[0, 1, 0, |, a_{31}, a_{32}, a_{33}, a_{34}, |, a_{21}, a_{22}, a_{23}, a_{24}]])"
            ],
            "text/latex": "$\\displaystyle \\left[\\begin{array}{ccccccccccccc}1 & 0 & 0 & | & a_{11} & a_{12} & a_{13} & a_{14} & | & a_{11} & a_{12} & a_{13} & a_{14}\\\\0 & 0 & 1 & | & a_{21} & a_{22} & a_{23} & a_{24} & | & a_{31} & a_{32} & a_{33} & a_{34}\\\\0 & 1 & 0 & | & a_{31} & a_{32} & a_{33} & a_{34} & | & a_{21} & a_{22} & a_{23} & a_{24}\\end{array}\\right]$"
          },
          "metadata": {},
          "execution_count": 10
        }
      ]
    }
  ]
}