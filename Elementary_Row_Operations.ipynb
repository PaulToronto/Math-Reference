{
  "nbformat": 4,
  "nbformat_minor": 0,
  "metadata": {
    "colab": {
      "provenance": [],
      "authorship_tag": "ABX9TyM4mARtkmoSuGIPPINyzA0e",
      "include_colab_link": true
    },
    "kernelspec": {
      "name": "python3",
      "display_name": "Python 3"
    },
    "language_info": {
      "name": "python"
    }
  },
  "cells": [
    {
      "cell_type": "markdown",
      "metadata": {
        "id": "view-in-github",
        "colab_type": "text"
      },
      "source": [
        "<a href=\"https://colab.research.google.com/github/PaulToronto/Math-and-Data-Science-Reference/blob/main/Elementary_Row_Operations.ipynb\" target=\"_parent\"><img src=\"https://colab.research.google.com/assets/colab-badge.svg\" alt=\"Open In Colab\"/></a>"
      ]
    },
    {
      "cell_type": "markdown",
      "source": [
        "# Elementary Row Operations"
      ],
      "metadata": {
        "id": "8Q6H_G55f1Qa"
      }
    },
    {
      "cell_type": "code",
      "source": [
        "import numpy as np\n",
        "import sympy as sym"
      ],
      "metadata": {
        "id": "0yJp-LTTgA68"
      },
      "execution_count": 1,
      "outputs": []
    },
    {
      "cell_type": "markdown",
      "source": [
        "## Elementary Row Operations\n",
        "\n",
        "1. Add $k$ times row $j$ to row $i$\n",
        "2. Multiply row $i$ by scalar $k$\n",
        "3. Switch rows $i$ and $j$"
      ],
      "metadata": {
        "id": "DMTaOfITfy9s"
      }
    },
    {
      "cell_type": "code",
      "source": [
        "a_11, a_12, a_13, a_14 = sym.symbols('a_{11} a_{12} a_{13} a{14}')\n",
        "a_21, a_22, a_23, a_24 = sym.symbols('a_{21} a_{22} a_{23} a{24}')\n",
        "a_31, a_32, a_33, a_34 = sym.symbols('a_{31} a_{32} a_{33} a{34}')\n",
        "k = sym.symbols('k')\n",
        "vline = sym.symbols('|')\n",
        "\n",
        "M22 = sym.Matrix([[a_11, a_12],\n",
        "                  [a_21, a_22]])\n",
        "\n",
        "M23 = sym.Matrix([[a_11, a_12, a_13],\n",
        "                  [a_21, a_22, a_23]])\n",
        "\n",
        "M33 = sym.Matrix([[a_11, a_12, a_13],\n",
        "                  [a_21, a_22, a_23],\n",
        "                  [a_31, a_32, a_33]])\n",
        "\n",
        "M34 = sym.Matrix([[a_11, a_12, a_13, a_14],\n",
        "                  [a_21, a_22, a_23, a_24],\n",
        "                  [a_31, a_32, a_33, a_34]])"
      ],
      "metadata": {
        "id": "MdsBvoI__hZj"
      },
      "execution_count": 2,
      "outputs": []
    },
    {
      "cell_type": "code",
      "source": [
        "def add_row(A, k, change_row, row, display_input=False):\n",
        "    'Add k times row to change_row in matrix A'\n",
        "    i = change_row - 1\n",
        "    j = row - 1\n",
        "    n = A.shape[0]\n",
        "    E = sym.eye(n)\n",
        "    d = sym.Matrix(n, 1, [vline] * n)\n",
        "    \n",
        "    if i == j:\n",
        "        E[i, i] = k + 1\n",
        "    else:\n",
        "        E[i, j] = k\n",
        "\n",
        "    if display_input:\n",
        "        return E.row_join(d).row_join(A).row_join(d).row_join(E * A)\n",
        "    else:\n",
        "        return E * A"
      ],
      "metadata": {
        "id": "E5UJuXPF9ROE"
      },
      "execution_count": 3,
      "outputs": []
    },
    {
      "cell_type": "code",
      "source": [
        "def scale_row(A, k, row_to_scale, display_input=False):\n",
        "    'Multiply row_to_scale by k'\n",
        "    i = row_to_scale - 1\n",
        "    n = A.shape[0]\n",
        "    E = sym.eye(n)\n",
        "    d = sym.Matrix(n, 1, [vline] * n)\n",
        "    \n",
        "    E[i, i] = k\n",
        "\n",
        "    if display_input:\n",
        "        return E.row_join(d).row_join(A).row_join(d).row_join(E * A)\n",
        "    else:\n",
        "        return E * A"
      ],
      "metadata": {
        "id": "_nCQ9nKjPXcC"
      },
      "execution_count": 4,
      "outputs": []
    },
    {
      "cell_type": "code",
      "source": [
        "def switch_rows_old(A, row1, row2, display_input=False):\n",
        "    \n",
        "    'Switch row1 and row2 in matrix A'\n",
        "    i = row1 - 1\n",
        "    j = row2 - 1\n",
        "    n = A.shape[0]\n",
        "    E = sym.eye(n)\n",
        "    d = sym.Matrix(n, 1, [vline] * n)\n",
        "\n",
        "    E[i, i] = 0\n",
        "    E[j, j] = 0\n",
        "    E[i, j] = 1\n",
        "    E[j, i] = 1\n",
        "\n",
        "    if display_input:\n",
        "        return E.row_join(d).row_join(A).row_join(d).row_join(E * A)\n",
        "    else:\n",
        "        return E * A"
      ],
      "metadata": {
        "id": "PnXmldv1fRfT"
      },
      "execution_count": 5,
      "outputs": []
    }
  ]
}