{
  "nbformat": 4,
  "nbformat_minor": 0,
  "metadata": {
    "colab": {
      "provenance": [],
      "toc_visible": true,
      "authorship_tag": "ABX9TyMoeAAVe/ev2tgimBLcj1Ws",
      "include_colab_link": true
    },
    "kernelspec": {
      "name": "python3",
      "display_name": "Python 3"
    },
    "language_info": {
      "name": "python"
    }
  },
  "cells": [
    {
      "cell_type": "markdown",
      "metadata": {
        "id": "view-in-github",
        "colab_type": "text"
      },
      "source": [
        "<a href=\"https://colab.research.google.com/github/PaulToronto/Math-and-Data-Science-Reference/blob/main/Scikit_learn_Estimators_Transformers_Predictors.ipynb\" target=\"_parent\"><img src=\"https://colab.research.google.com/assets/colab-badge.svg\" alt=\"Open In Colab\"/></a>"
      ]
    },
    {
      "cell_type": "markdown",
      "source": [
        "# Scikit-learn - Estimators, Transformers and Predictors\n",
        "\n",
        "https://scikit-learn.org/stable/developers/develop.html"
      ],
      "metadata": {
        "id": "bZv1osuM6GR1"
      }
    },
    {
      "cell_type": "markdown",
      "source": [
        "- **IMPORTANT**: never use `.fit()` or `.fit_transform()` on anything other than the training set\n",
        "    - that includes the validation set, the test set and new data\n",
        "- Note that while the training set values will alweays be scaled to the specified range, if new data contains outliers, these may end up being scaled outside the range\n",
        "    - to avoid this set the `clip` hyperparamter to `True`"
      ],
      "metadata": {
        "id": "ZpHys07BZl_b"
      }
    },
    {
      "cell_type": "markdown",
      "source": [
        "## Estimators\n",
        "\n",
        "- Any object that can estimate some parameters based on a dataset is called an **estimator**\n",
        "    - They all have a `.fit()` method\n",
        "        - It takes 2 paramters for supervised learning algorithms\n",
        "            - `estimator = estimator.fit(data, targets)`\n",
        "        - It always has at least one parameter\n",
        "            - `estimator = estimator.fit(data)`\n",
        "        - All other parameters are considered **hyperparameters** and they are set as an instance variable, generally via a constructor"
      ],
      "metadata": {
        "id": "4KlZWrL_6q3_"
      }
    },
    {
      "cell_type": "markdown",
      "source": [
        "## Transfomers\n",
        "\n",
        "- Some estimators can also transform a dataset. These are called **transformers**\n",
        "    - They have a `.transform()` method\n",
        "        - `new_data = transformer.transform(data)`\n",
        "    - They return the transformed dataset\n",
        "    - The transformer generally relies on the learned parameters\n",
        "    - All transfomers have a convenience method, `fit_transform()` which is equivalent to calling `fit()` followed by `transform()`, but sometimes `fit_transform()` is optimized and runs much faster\n",
        "        - `new_data = transformer.fit_transform(data)`"
      ],
      "metadata": {
        "id": "GktKoACr8tW4"
      }
    },
    {
      "cell_type": "markdown",
      "source": [
        "## Predictors\n",
        "\n",
        "- Some estimators are capable of making predictions. These are called **predictors**. \n",
        "    - They have a `.predict()` method that takes a dataset of new instances and returns a dataset of corresponding predictions\n",
        "        - `prediction = predictor.predict(data)`\n",
        "    - They also have a `.score()` method that measures the quality of the predictions, given a test set and the corresponding labels, in the case of supervised learning algorithmds\n",
        "    - Classification algorithms usually offer a way to quantify certainty of a prediction using `decision_function` or `predict_proba`\n",
        "        - `probability = predictor.predict_proba(data)`"
      ],
      "metadata": {
        "id": "ZfYAy7MWANqM"
      }
    },
    {
      "cell_type": "markdown",
      "source": [
        "## Inspection\n",
        "\n",
        "- All the estimator's hyperparameters are accessible directly via public instances variables\n",
        "    - example: `imputer.strategy`\n",
        "- All the estimator's learned parameters are accessible vial public instance variables with an underscore suffix:\n",
        "    - example: `imputer.statistics_`"
      ],
      "metadata": {
        "id": "G_nbocaJBG1E"
      }
    },
    {
      "cell_type": "markdown",
      "source": [
        "## Output of Transformers\n",
        "\n",
        "- Scikit-learn transformers output Numpy arrays (or sometimes SciPy sparse matrices) evne when the are fed Pandas DataFrames as input. \n",
        "- It is not too difficult to wrap that output into a DataFrame:\n",
        "\n",
        "```python\n",
        "X = imputer.transform(housing_num)\n",
        "housing_tr = pd.DataFrame(X,\n",
        "                          columns = housing_num.columns,\n",
        "                          index = housing_num.index)\n",
        "```"
      ],
      "metadata": {
        "id": "QHdnKDwnC3LC"
      }
    }
  ]
}